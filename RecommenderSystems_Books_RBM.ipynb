{
  "nbformat": 4,
  "nbformat_minor": 0,
  "metadata": {
    "colab": {
      "name": "ML0120EN-4.2-Review-CollaborativeFilteringwithRBM.ipynb",
      "version": "0.3.2",
      "provenance": [],
      "toc_visible": true
    },
    "kernelspec": {
      "display_name": "Python 3",
      "language": "python",
      "name": "python3"
    }
  },
  "cells": [
    {
      "metadata": {
        "id": "E7HQniy0UCjW",
        "colab_type": "text"
      },
      "cell_type": "markdown",
      "source": [
        "# Book Recommender System"
      ]
    },
    {
      "metadata": {
        "id": "aIyxCUO3VeG8",
        "colab_type": "text"
      },
      "cell_type": "markdown",
      "source": [
        "Book-Crossings is a book ratings dataset compiled by Cai-Nicolas Ziegler. It contains 1.1 million ratings of 270,000 books by 90,000 users. The ratings are on a scale from 1 to 10.\n",
        "\n",
        "The data consists of three tables: ratings, books info, and users info."
      ]
    },
    {
      "metadata": {
        "id": "VoYrRIgSWaBT",
        "colab_type": "text"
      },
      "cell_type": "markdown",
      "source": [
        "# Acquiring Data"
      ]
    },
    {
      "metadata": {
        "id": "6u9PzxPaUGtb",
        "colab_type": "code",
        "outputId": "ebecc619-ecf0-416c-bcd8-46577f8d1eaf",
        "colab": {
          "base_uri": "https://localhost:8080/",
          "height": 310
        }
      },
      "cell_type": "code",
      "source": [
        "!wget -O BX-CSV_Dump.zip http://www2.informatik.uni-freiburg.de/~cziegler/BX/BX-CSV-Dump.zip\n",
        "!unzip -o BX-CSV_Dump.zip -d data"
      ],
      "execution_count": 0,
      "outputs": [
        {
          "output_type": "stream",
          "text": [
            "--2018-10-16 04:52:50--  http://www2.informatik.uni-freiburg.de/~cziegler/BX/BX-CSV-Dump.zip\n",
            "Resolving www2.informatik.uni-freiburg.de (www2.informatik.uni-freiburg.de)... 132.230.105.133\n",
            "Connecting to www2.informatik.uni-freiburg.de (www2.informatik.uni-freiburg.de)|132.230.105.133|:80... connected.\n",
            "HTTP request sent, awaiting response... 200 OK\n",
            "Length: 26085508 (25M) [application/zip]\n",
            "Saving to: ‘BX-CSV_Dump.zip’\n",
            "\n",
            "BX-CSV_Dump.zip     100%[===================>]  24.88M  10.1MB/s    in 2.5s    \n",
            "\n",
            "2018-10-16 04:52:53 (10.1 MB/s) - ‘BX-CSV_Dump.zip’ saved [26085508/26085508]\n",
            "\n",
            "Archive:  BX-CSV_Dump.zip\n",
            "  inflating: data/BX-Book-Ratings.csv  \n",
            "  inflating: data/BX-Books.csv       \n",
            "  inflating: data/BX-Users.csv       \n"
          ],
          "name": "stdout"
        }
      ]
    },
    {
      "metadata": {
        "id": "NccN9i8EV9tX",
        "colab_type": "code",
        "colab": {}
      },
      "cell_type": "code",
      "source": [
        "import pandas as pd\n",
        "import numpy as np\n",
        "import matplotlib.pyplot as plt"
      ],
      "execution_count": 0,
      "outputs": []
    },
    {
      "metadata": {
        "id": "jEC69TweQ4pQ",
        "colab_type": "code",
        "outputId": "32700432-e4a1-453a-f382-1ca258f0f81e",
        "colab": {
          "base_uri": "https://localhost:8080/",
          "height": 146
        }
      },
      "cell_type": "code",
      "source": [
        "rbmbookdf = pd.read_csv('data/BX-Books.csv', sep=';', error_bad_lines=False, encoding=\"latin-1\")\n",
        "rbmbookdf.columns = ['ISBN', 'bookTitle', 'bookAuthor', 'yearOfPublication', 'publisher', 'imageUrlS', 'imageUrlM', 'imageUrlL']\n",
        "rbmuserdf = pd.read_csv('data/BX-Users.csv', sep=';', error_bad_lines=False, encoding=\"latin-1\")\n",
        "rbmuserdf.columns = ['userID', 'Location', 'Age']\n",
        "rbmratingdf = pd.read_csv('data/BX-Book-Ratings.csv', sep=';', error_bad_lines=False, encoding=\"latin-1\")\n",
        "rbmratingdf.columns = ['userID', 'ISBN', 'bookRating']"
      ],
      "execution_count": 0,
      "outputs": [
        {
          "output_type": "stream",
          "text": [
            "b'Skipping line 6452: expected 8 fields, saw 9\\nSkipping line 43667: expected 8 fields, saw 10\\nSkipping line 51751: expected 8 fields, saw 9\\n'\n",
            "b'Skipping line 92038: expected 8 fields, saw 9\\nSkipping line 104319: expected 8 fields, saw 9\\nSkipping line 121768: expected 8 fields, saw 9\\n'\n",
            "b'Skipping line 144058: expected 8 fields, saw 9\\nSkipping line 150789: expected 8 fields, saw 9\\nSkipping line 157128: expected 8 fields, saw 9\\nSkipping line 180189: expected 8 fields, saw 9\\nSkipping line 185738: expected 8 fields, saw 9\\n'\n",
            "b'Skipping line 209388: expected 8 fields, saw 9\\nSkipping line 220626: expected 8 fields, saw 9\\nSkipping line 227933: expected 8 fields, saw 11\\nSkipping line 228957: expected 8 fields, saw 10\\nSkipping line 245933: expected 8 fields, saw 9\\nSkipping line 251296: expected 8 fields, saw 9\\nSkipping line 259941: expected 8 fields, saw 9\\nSkipping line 261529: expected 8 fields, saw 9\\n'\n",
            "/usr/local/lib/python3.6/dist-packages/IPython/core/interactiveshell.py:2718: DtypeWarning: Columns (3) have mixed types. Specify dtype option on import or set low_memory=False.\n",
            "  interactivity=interactivity, compiler=compiler, result=result)\n"
          ],
          "name": "stderr"
        }
      ]
    },
    {
      "metadata": {
        "id": "rHcxlFw8lMBR",
        "colab_type": "code",
        "outputId": "0866547d-b983-42c5-f8cf-272980c95765",
        "colab": {
          "base_uri": "https://localhost:8080/",
          "height": 72
        }
      },
      "cell_type": "code",
      "source": [
        "print(len(rbmbookdf))\n",
        "print(len(rbmuserdf))\n",
        "print(len(rbmratingdf))"
      ],
      "execution_count": 0,
      "outputs": [
        {
          "output_type": "stream",
          "text": [
            "271360\n",
            "278858\n",
            "1149780\n"
          ],
          "name": "stdout"
        }
      ]
    },
    {
      "metadata": {
        "id": "kirxmyY4kVbz",
        "colab_type": "text"
      },
      "cell_type": "markdown",
      "source": [
        "Since the dataset is huge, we will filter the books with maximum number of rating and make the dataset with close to 100k ratings"
      ]
    },
    {
      "metadata": {
        "id": "BNZT0vPCi2s_",
        "colab_type": "code",
        "outputId": "a3aee7e2-a53c-44a2-af05-7e23757baaa4",
        "colab": {
          "base_uri": "https://localhost:8080/",
          "height": 198
        }
      },
      "cell_type": "code",
      "source": [
        "#filter books and ratings dataset for most rated books\n",
        "merged_df = pd.merge(rbmratingdf, rbmbookdf, on='ISBN')\n",
        "temp_Countdf = (merged_df.\n",
        "     groupby(by = ['ISBN'])['bookRating'].\n",
        "     count().\n",
        "     reset_index().\n",
        "     rename(columns = {'bookRating': 'totalRatingCount'})\n",
        "    \n",
        "    )\n",
        "temp_Countdf.head()\n"
      ],
      "execution_count": 0,
      "outputs": [
        {
          "output_type": "execute_result",
          "data": {
            "text/html": [
              "<div>\n",
              "<style scoped>\n",
              "    .dataframe tbody tr th:only-of-type {\n",
              "        vertical-align: middle;\n",
              "    }\n",
              "\n",
              "    .dataframe tbody tr th {\n",
              "        vertical-align: top;\n",
              "    }\n",
              "\n",
              "    .dataframe thead th {\n",
              "        text-align: right;\n",
              "    }\n",
              "</style>\n",
              "<table border=\"1\" class=\"dataframe\">\n",
              "  <thead>\n",
              "    <tr style=\"text-align: right;\">\n",
              "      <th></th>\n",
              "      <th>ISBN</th>\n",
              "      <th>totalRatingCount</th>\n",
              "    </tr>\n",
              "  </thead>\n",
              "  <tbody>\n",
              "    <tr>\n",
              "      <th>0</th>\n",
              "      <td>0000913154</td>\n",
              "      <td>1</td>\n",
              "    </tr>\n",
              "    <tr>\n",
              "      <th>1</th>\n",
              "      <td>0001010565</td>\n",
              "      <td>2</td>\n",
              "    </tr>\n",
              "    <tr>\n",
              "      <th>2</th>\n",
              "      <td>0001046438</td>\n",
              "      <td>1</td>\n",
              "    </tr>\n",
              "    <tr>\n",
              "      <th>3</th>\n",
              "      <td>0001046713</td>\n",
              "      <td>1</td>\n",
              "    </tr>\n",
              "    <tr>\n",
              "      <th>4</th>\n",
              "      <td>000104687X</td>\n",
              "      <td>1</td>\n",
              "    </tr>\n",
              "  </tbody>\n",
              "</table>\n",
              "</div>"
            ],
            "text/plain": [
              "         ISBN  totalRatingCount\n",
              "0  0000913154                 1\n",
              "1  0001010565                 2\n",
              "2  0001046438                 1\n",
              "3  0001046713                 1\n",
              "4  000104687X                 1"
            ]
          },
          "metadata": {
            "tags": []
          },
          "execution_count": 37
        }
      ]
    },
    {
      "metadata": {
        "id": "4NMYODM8jr5Q",
        "colab_type": "code",
        "outputId": "7972b7a0-616e-476c-bc40-19f0c7fd0f7c",
        "colab": {
          "base_uri": "https://localhost:8080/",
          "height": 198
        }
      },
      "cell_type": "code",
      "source": [
        "#from previous model set popularity threshhold\n",
        "#filter books with totalRatingCount >100\n",
        "popularity_threshold = 100\n",
        "temp_Countdf = temp_Countdf.query('totalRatingCount >= @popularity_threshold')\n",
        "temp_Countdf.head()"
      ],
      "execution_count": 0,
      "outputs": [
        {
          "output_type": "execute_result",
          "data": {
            "text/html": [
              "<div>\n",
              "<style scoped>\n",
              "    .dataframe tbody tr th:only-of-type {\n",
              "        vertical-align: middle;\n",
              "    }\n",
              "\n",
              "    .dataframe tbody tr th {\n",
              "        vertical-align: top;\n",
              "    }\n",
              "\n",
              "    .dataframe thead th {\n",
              "        text-align: right;\n",
              "    }\n",
              "</style>\n",
              "<table border=\"1\" class=\"dataframe\">\n",
              "  <thead>\n",
              "    <tr style=\"text-align: right;\">\n",
              "      <th></th>\n",
              "      <th>ISBN</th>\n",
              "      <th>totalRatingCount</th>\n",
              "    </tr>\n",
              "  </thead>\n",
              "  <tbody>\n",
              "    <tr>\n",
              "      <th>803</th>\n",
              "      <td>000649840X</td>\n",
              "      <td>89</td>\n",
              "    </tr>\n",
              "    <tr>\n",
              "      <th>1104</th>\n",
              "      <td>0007110928</td>\n",
              "      <td>50</td>\n",
              "    </tr>\n",
              "    <tr>\n",
              "      <th>1189</th>\n",
              "      <td>0007154615</td>\n",
              "      <td>46</td>\n",
              "    </tr>\n",
              "    <tr>\n",
              "      <th>1281</th>\n",
              "      <td>0020198906</td>\n",
              "      <td>44</td>\n",
              "    </tr>\n",
              "    <tr>\n",
              "      <th>1289</th>\n",
              "      <td>0020199600</td>\n",
              "      <td>42</td>\n",
              "    </tr>\n",
              "  </tbody>\n",
              "</table>\n",
              "</div>"
            ],
            "text/plain": [
              "            ISBN  totalRatingCount\n",
              "803   000649840X                89\n",
              "1104  0007110928                50\n",
              "1189  0007154615                46\n",
              "1281  0020198906                44\n",
              "1289  0020199600                42"
            ]
          },
          "metadata": {
            "tags": []
          },
          "execution_count": 38
        }
      ]
    },
    {
      "metadata": {
        "id": "EsuHb_NGRFB7",
        "colab_type": "code",
        "outputId": "99e3571f-a029-4814-9640-aa7a57bd6db2",
        "colab": {
          "base_uri": "https://localhost:8080/",
          "height": 54
        }
      },
      "cell_type": "code",
      "source": [
        "print(len(rbmbookdf))\n",
        "filteredbookdf = rbmbookdf.loc[rbmbookdf['ISBN'].isin(temp_Countdf.ISBN)]\n",
        "print(len(filteredbookdf))"
      ],
      "execution_count": 0,
      "outputs": [
        {
          "output_type": "stream",
          "text": [
            "271360\n",
            "2915\n"
          ],
          "name": "stdout"
        }
      ]
    },
    {
      "metadata": {
        "id": "cJ3U5B99kgE-",
        "colab_type": "code",
        "outputId": "55dcc0b3-ed7f-4d36-85f4-21cac500c13e",
        "colab": {
          "base_uri": "https://localhost:8080/",
          "height": 54
        }
      },
      "cell_type": "code",
      "source": [
        "print(len(rbmratingdf))\n",
        "filteredRatingDf = rbmratingdf.loc[rbmratingdf['ISBN'].isin(temp_Countdf.ISBN)]\n",
        "print(len(filteredRatingDf))"
      ],
      "execution_count": 0,
      "outputs": [
        {
          "output_type": "stream",
          "text": [
            "1149780\n",
            "268141\n"
          ],
          "name": "stdout"
        }
      ]
    },
    {
      "metadata": {
        "id": "f6XK3LYERKdI",
        "colab_type": "code",
        "outputId": "1fff3997-4880-4de1-b3e2-8890ce11b06c",
        "colab": {
          "base_uri": "https://localhost:8080/",
          "height": 339
        }
      },
      "cell_type": "code",
      "source": [
        "#index movies list\n",
        "filteredbookdf = filteredbookdf.reset_index(drop=True)\n",
        "filteredbookdf['BookIndex'] = filteredbookdf.index\n",
        "filteredbookdf.head()"
      ],
      "execution_count": 0,
      "outputs": [
        {
          "output_type": "execute_result",
          "data": {
            "text/html": [
              "<div>\n",
              "<style scoped>\n",
              "    .dataframe tbody tr th:only-of-type {\n",
              "        vertical-align: middle;\n",
              "    }\n",
              "\n",
              "    .dataframe tbody tr th {\n",
              "        vertical-align: top;\n",
              "    }\n",
              "\n",
              "    .dataframe thead th {\n",
              "        text-align: right;\n",
              "    }\n",
              "</style>\n",
              "<table border=\"1\" class=\"dataframe\">\n",
              "  <thead>\n",
              "    <tr style=\"text-align: right;\">\n",
              "      <th></th>\n",
              "      <th>ISBN</th>\n",
              "      <th>bookTitle</th>\n",
              "      <th>bookAuthor</th>\n",
              "      <th>yearOfPublication</th>\n",
              "      <th>publisher</th>\n",
              "      <th>imageUrlS</th>\n",
              "      <th>imageUrlM</th>\n",
              "      <th>imageUrlL</th>\n",
              "      <th>BookIndex</th>\n",
              "    </tr>\n",
              "  </thead>\n",
              "  <tbody>\n",
              "    <tr>\n",
              "      <th>0</th>\n",
              "      <td>0440234743</td>\n",
              "      <td>The Testament</td>\n",
              "      <td>John Grisham</td>\n",
              "      <td>1999</td>\n",
              "      <td>Dell</td>\n",
              "      <td>http://images.amazon.com/images/P/0440234743.0...</td>\n",
              "      <td>http://images.amazon.com/images/P/0440234743.0...</td>\n",
              "      <td>http://images.amazon.com/images/P/0440234743.0...</td>\n",
              "      <td>0</td>\n",
              "    </tr>\n",
              "    <tr>\n",
              "      <th>1</th>\n",
              "      <td>0452264464</td>\n",
              "      <td>Beloved (Plume Contemporary Fiction)</td>\n",
              "      <td>Toni Morrison</td>\n",
              "      <td>1994</td>\n",
              "      <td>Plume</td>\n",
              "      <td>http://images.amazon.com/images/P/0452264464.0...</td>\n",
              "      <td>http://images.amazon.com/images/P/0452264464.0...</td>\n",
              "      <td>http://images.amazon.com/images/P/0452264464.0...</td>\n",
              "      <td>1</td>\n",
              "    </tr>\n",
              "    <tr>\n",
              "      <th>2</th>\n",
              "      <td>0971880107</td>\n",
              "      <td>Wild Animus</td>\n",
              "      <td>Rich Shapero</td>\n",
              "      <td>2004</td>\n",
              "      <td>Too Far</td>\n",
              "      <td>http://images.amazon.com/images/P/0971880107.0...</td>\n",
              "      <td>http://images.amazon.com/images/P/0971880107.0...</td>\n",
              "      <td>http://images.amazon.com/images/P/0971880107.0...</td>\n",
              "      <td>2</td>\n",
              "    </tr>\n",
              "    <tr>\n",
              "      <th>3</th>\n",
              "      <td>0345402871</td>\n",
              "      <td>Airframe</td>\n",
              "      <td>Michael Crichton</td>\n",
              "      <td>1997</td>\n",
              "      <td>Ballantine Books</td>\n",
              "      <td>http://images.amazon.com/images/P/0345402871.0...</td>\n",
              "      <td>http://images.amazon.com/images/P/0345402871.0...</td>\n",
              "      <td>http://images.amazon.com/images/P/0345402871.0...</td>\n",
              "      <td>3</td>\n",
              "    </tr>\n",
              "    <tr>\n",
              "      <th>4</th>\n",
              "      <td>0345417623</td>\n",
              "      <td>Timeline</td>\n",
              "      <td>MICHAEL CRICHTON</td>\n",
              "      <td>2000</td>\n",
              "      <td>Ballantine Books</td>\n",
              "      <td>http://images.amazon.com/images/P/0345417623.0...</td>\n",
              "      <td>http://images.amazon.com/images/P/0345417623.0...</td>\n",
              "      <td>http://images.amazon.com/images/P/0345417623.0...</td>\n",
              "      <td>4</td>\n",
              "    </tr>\n",
              "  </tbody>\n",
              "</table>\n",
              "</div>"
            ],
            "text/plain": [
              "         ISBN                             bookTitle        bookAuthor  \\\n",
              "0  0440234743                         The Testament      John Grisham   \n",
              "1  0452264464  Beloved (Plume Contemporary Fiction)     Toni Morrison   \n",
              "2  0971880107                           Wild Animus      Rich Shapero   \n",
              "3  0345402871                              Airframe  Michael Crichton   \n",
              "4  0345417623                              Timeline  MICHAEL CRICHTON   \n",
              "\n",
              "  yearOfPublication         publisher  \\\n",
              "0              1999              Dell   \n",
              "1              1994             Plume   \n",
              "2              2004           Too Far   \n",
              "3              1997  Ballantine Books   \n",
              "4              2000  Ballantine Books   \n",
              "\n",
              "                                           imageUrlS  \\\n",
              "0  http://images.amazon.com/images/P/0440234743.0...   \n",
              "1  http://images.amazon.com/images/P/0452264464.0...   \n",
              "2  http://images.amazon.com/images/P/0971880107.0...   \n",
              "3  http://images.amazon.com/images/P/0345402871.0...   \n",
              "4  http://images.amazon.com/images/P/0345417623.0...   \n",
              "\n",
              "                                           imageUrlM  \\\n",
              "0  http://images.amazon.com/images/P/0440234743.0...   \n",
              "1  http://images.amazon.com/images/P/0452264464.0...   \n",
              "2  http://images.amazon.com/images/P/0971880107.0...   \n",
              "3  http://images.amazon.com/images/P/0345402871.0...   \n",
              "4  http://images.amazon.com/images/P/0345417623.0...   \n",
              "\n",
              "                                           imageUrlL  BookIndex  \n",
              "0  http://images.amazon.com/images/P/0440234743.0...          0  \n",
              "1  http://images.amazon.com/images/P/0452264464.0...          1  \n",
              "2  http://images.amazon.com/images/P/0971880107.0...          2  \n",
              "3  http://images.amazon.com/images/P/0345402871.0...          3  \n",
              "4  http://images.amazon.com/images/P/0345417623.0...          4  "
            ]
          },
          "metadata": {
            "tags": []
          },
          "execution_count": 41
        }
      ]
    },
    {
      "metadata": {
        "id": "umQXiAGVRcig",
        "colab_type": "code",
        "outputId": "50f3446a-6200-4f9b-c84b-56702aed658c",
        "colab": {
          "base_uri": "https://localhost:8080/",
          "height": 391
        }
      },
      "cell_type": "code",
      "source": [
        "#Merging rbmbookdf with ratings_df by ISBN\n",
        "merged_book_rating = pd.merge(filteredRatingDf, filteredbookdf, on='ISBN')\n",
        "\n",
        "merged_book_rating.head()"
      ],
      "execution_count": 0,
      "outputs": [
        {
          "output_type": "execute_result",
          "data": {
            "text/html": [
              "<div>\n",
              "<style scoped>\n",
              "    .dataframe tbody tr th:only-of-type {\n",
              "        vertical-align: middle;\n",
              "    }\n",
              "\n",
              "    .dataframe tbody tr th {\n",
              "        vertical-align: top;\n",
              "    }\n",
              "\n",
              "    .dataframe thead th {\n",
              "        text-align: right;\n",
              "    }\n",
              "</style>\n",
              "<table border=\"1\" class=\"dataframe\">\n",
              "  <thead>\n",
              "    <tr style=\"text-align: right;\">\n",
              "      <th></th>\n",
              "      <th>userID</th>\n",
              "      <th>ISBN</th>\n",
              "      <th>bookRating</th>\n",
              "      <th>bookTitle</th>\n",
              "      <th>bookAuthor</th>\n",
              "      <th>yearOfPublication</th>\n",
              "      <th>publisher</th>\n",
              "      <th>imageUrlS</th>\n",
              "      <th>imageUrlM</th>\n",
              "      <th>imageUrlL</th>\n",
              "      <th>BookIndex</th>\n",
              "    </tr>\n",
              "  </thead>\n",
              "  <tbody>\n",
              "    <tr>\n",
              "      <th>0</th>\n",
              "      <td>276725</td>\n",
              "      <td>034545104X</td>\n",
              "      <td>0</td>\n",
              "      <td>Flesh Tones: A Novel</td>\n",
              "      <td>M. J. Rose</td>\n",
              "      <td>2002</td>\n",
              "      <td>Ballantine Books</td>\n",
              "      <td>http://images.amazon.com/images/P/034545104X.0...</td>\n",
              "      <td>http://images.amazon.com/images/P/034545104X.0...</td>\n",
              "      <td>http://images.amazon.com/images/P/034545104X.0...</td>\n",
              "      <td>711</td>\n",
              "    </tr>\n",
              "    <tr>\n",
              "      <th>1</th>\n",
              "      <td>2313</td>\n",
              "      <td>034545104X</td>\n",
              "      <td>5</td>\n",
              "      <td>Flesh Tones: A Novel</td>\n",
              "      <td>M. J. Rose</td>\n",
              "      <td>2002</td>\n",
              "      <td>Ballantine Books</td>\n",
              "      <td>http://images.amazon.com/images/P/034545104X.0...</td>\n",
              "      <td>http://images.amazon.com/images/P/034545104X.0...</td>\n",
              "      <td>http://images.amazon.com/images/P/034545104X.0...</td>\n",
              "      <td>711</td>\n",
              "    </tr>\n",
              "    <tr>\n",
              "      <th>2</th>\n",
              "      <td>6543</td>\n",
              "      <td>034545104X</td>\n",
              "      <td>0</td>\n",
              "      <td>Flesh Tones: A Novel</td>\n",
              "      <td>M. J. Rose</td>\n",
              "      <td>2002</td>\n",
              "      <td>Ballantine Books</td>\n",
              "      <td>http://images.amazon.com/images/P/034545104X.0...</td>\n",
              "      <td>http://images.amazon.com/images/P/034545104X.0...</td>\n",
              "      <td>http://images.amazon.com/images/P/034545104X.0...</td>\n",
              "      <td>711</td>\n",
              "    </tr>\n",
              "    <tr>\n",
              "      <th>3</th>\n",
              "      <td>8680</td>\n",
              "      <td>034545104X</td>\n",
              "      <td>5</td>\n",
              "      <td>Flesh Tones: A Novel</td>\n",
              "      <td>M. J. Rose</td>\n",
              "      <td>2002</td>\n",
              "      <td>Ballantine Books</td>\n",
              "      <td>http://images.amazon.com/images/P/034545104X.0...</td>\n",
              "      <td>http://images.amazon.com/images/P/034545104X.0...</td>\n",
              "      <td>http://images.amazon.com/images/P/034545104X.0...</td>\n",
              "      <td>711</td>\n",
              "    </tr>\n",
              "    <tr>\n",
              "      <th>4</th>\n",
              "      <td>10314</td>\n",
              "      <td>034545104X</td>\n",
              "      <td>9</td>\n",
              "      <td>Flesh Tones: A Novel</td>\n",
              "      <td>M. J. Rose</td>\n",
              "      <td>2002</td>\n",
              "      <td>Ballantine Books</td>\n",
              "      <td>http://images.amazon.com/images/P/034545104X.0...</td>\n",
              "      <td>http://images.amazon.com/images/P/034545104X.0...</td>\n",
              "      <td>http://images.amazon.com/images/P/034545104X.0...</td>\n",
              "      <td>711</td>\n",
              "    </tr>\n",
              "  </tbody>\n",
              "</table>\n",
              "</div>"
            ],
            "text/plain": [
              "   userID        ISBN  bookRating             bookTitle  bookAuthor  \\\n",
              "0  276725  034545104X           0  Flesh Tones: A Novel  M. J. Rose   \n",
              "1    2313  034545104X           5  Flesh Tones: A Novel  M. J. Rose   \n",
              "2    6543  034545104X           0  Flesh Tones: A Novel  M. J. Rose   \n",
              "3    8680  034545104X           5  Flesh Tones: A Novel  M. J. Rose   \n",
              "4   10314  034545104X           9  Flesh Tones: A Novel  M. J. Rose   \n",
              "\n",
              "  yearOfPublication         publisher  \\\n",
              "0              2002  Ballantine Books   \n",
              "1              2002  Ballantine Books   \n",
              "2              2002  Ballantine Books   \n",
              "3              2002  Ballantine Books   \n",
              "4              2002  Ballantine Books   \n",
              "\n",
              "                                           imageUrlS  \\\n",
              "0  http://images.amazon.com/images/P/034545104X.0...   \n",
              "1  http://images.amazon.com/images/P/034545104X.0...   \n",
              "2  http://images.amazon.com/images/P/034545104X.0...   \n",
              "3  http://images.amazon.com/images/P/034545104X.0...   \n",
              "4  http://images.amazon.com/images/P/034545104X.0...   \n",
              "\n",
              "                                           imageUrlM  \\\n",
              "0  http://images.amazon.com/images/P/034545104X.0...   \n",
              "1  http://images.amazon.com/images/P/034545104X.0...   \n",
              "2  http://images.amazon.com/images/P/034545104X.0...   \n",
              "3  http://images.amazon.com/images/P/034545104X.0...   \n",
              "4  http://images.amazon.com/images/P/034545104X.0...   \n",
              "\n",
              "                                           imageUrlL  BookIndex  \n",
              "0  http://images.amazon.com/images/P/034545104X.0...        711  \n",
              "1  http://images.amazon.com/images/P/034545104X.0...        711  \n",
              "2  http://images.amazon.com/images/P/034545104X.0...        711  \n",
              "3  http://images.amazon.com/images/P/034545104X.0...        711  \n",
              "4  http://images.amazon.com/images/P/034545104X.0...        711  "
            ]
          },
          "metadata": {
            "tags": []
          },
          "execution_count": 42
        }
      ]
    },
    {
      "metadata": {
        "id": "n47Pp80fSRgs",
        "colab_type": "code",
        "outputId": "c5fa4a23-08f6-426c-85d9-dc9bab1be8da",
        "colab": {
          "base_uri": "https://localhost:8080/",
          "height": 198
        }
      },
      "cell_type": "code",
      "source": [
        "#Dropping unecessary columns\n",
        "merged_book_rating = merged_book_rating.drop('bookTitle', axis=1).drop('bookAuthor', axis=1).drop('yearOfPublication', axis=1).drop('publisher', axis=1)\n",
        "merged_book_rating = merged_book_rating.drop('imageUrlS', axis=1).drop('imageUrlM', axis=1).drop('imageUrlL', axis=1)\n",
        "#Displaying the result\n",
        "merged_book_rating.head()"
      ],
      "execution_count": 0,
      "outputs": [
        {
          "output_type": "execute_result",
          "data": {
            "text/html": [
              "<div>\n",
              "<style scoped>\n",
              "    .dataframe tbody tr th:only-of-type {\n",
              "        vertical-align: middle;\n",
              "    }\n",
              "\n",
              "    .dataframe tbody tr th {\n",
              "        vertical-align: top;\n",
              "    }\n",
              "\n",
              "    .dataframe thead th {\n",
              "        text-align: right;\n",
              "    }\n",
              "</style>\n",
              "<table border=\"1\" class=\"dataframe\">\n",
              "  <thead>\n",
              "    <tr style=\"text-align: right;\">\n",
              "      <th></th>\n",
              "      <th>userID</th>\n",
              "      <th>ISBN</th>\n",
              "      <th>bookRating</th>\n",
              "      <th>BookIndex</th>\n",
              "    </tr>\n",
              "  </thead>\n",
              "  <tbody>\n",
              "    <tr>\n",
              "      <th>0</th>\n",
              "      <td>276725</td>\n",
              "      <td>034545104X</td>\n",
              "      <td>0</td>\n",
              "      <td>711</td>\n",
              "    </tr>\n",
              "    <tr>\n",
              "      <th>1</th>\n",
              "      <td>2313</td>\n",
              "      <td>034545104X</td>\n",
              "      <td>5</td>\n",
              "      <td>711</td>\n",
              "    </tr>\n",
              "    <tr>\n",
              "      <th>2</th>\n",
              "      <td>6543</td>\n",
              "      <td>034545104X</td>\n",
              "      <td>0</td>\n",
              "      <td>711</td>\n",
              "    </tr>\n",
              "    <tr>\n",
              "      <th>3</th>\n",
              "      <td>8680</td>\n",
              "      <td>034545104X</td>\n",
              "      <td>5</td>\n",
              "      <td>711</td>\n",
              "    </tr>\n",
              "    <tr>\n",
              "      <th>4</th>\n",
              "      <td>10314</td>\n",
              "      <td>034545104X</td>\n",
              "      <td>9</td>\n",
              "      <td>711</td>\n",
              "    </tr>\n",
              "  </tbody>\n",
              "</table>\n",
              "</div>"
            ],
            "text/plain": [
              "   userID        ISBN  bookRating  BookIndex\n",
              "0  276725  034545104X           0        711\n",
              "1    2313  034545104X           5        711\n",
              "2    6543  034545104X           0        711\n",
              "3    8680  034545104X           5        711\n",
              "4   10314  034545104X           9        711"
            ]
          },
          "metadata": {
            "tags": []
          },
          "execution_count": 43
        }
      ]
    },
    {
      "metadata": {
        "id": "T5cpe0LOTGvC",
        "colab_type": "code",
        "outputId": "c1c48d7d-c7fa-4193-8fd3-c009f7189705",
        "colab": {
          "base_uri": "https://localhost:8080/",
          "height": 228
        }
      },
      "cell_type": "code",
      "source": [
        "#Group up by UserID\n",
        "userGroup = merged_book_rating.groupby('userID')\n",
        "userGroup.first().head()"
      ],
      "execution_count": 0,
      "outputs": [
        {
          "output_type": "execute_result",
          "data": {
            "text/html": [
              "<div>\n",
              "<style scoped>\n",
              "    .dataframe tbody tr th:only-of-type {\n",
              "        vertical-align: middle;\n",
              "    }\n",
              "\n",
              "    .dataframe tbody tr th {\n",
              "        vertical-align: top;\n",
              "    }\n",
              "\n",
              "    .dataframe thead th {\n",
              "        text-align: right;\n",
              "    }\n",
              "</style>\n",
              "<table border=\"1\" class=\"dataframe\">\n",
              "  <thead>\n",
              "    <tr style=\"text-align: right;\">\n",
              "      <th></th>\n",
              "      <th>ISBN</th>\n",
              "      <th>bookRating</th>\n",
              "      <th>BookIndex</th>\n",
              "    </tr>\n",
              "    <tr>\n",
              "      <th>userID</th>\n",
              "      <th></th>\n",
              "      <th></th>\n",
              "      <th></th>\n",
              "    </tr>\n",
              "  </thead>\n",
              "  <tbody>\n",
              "    <tr>\n",
              "      <th>9</th>\n",
              "      <td>0440234743</td>\n",
              "      <td>0</td>\n",
              "      <td>0</td>\n",
              "    </tr>\n",
              "    <tr>\n",
              "      <th>14</th>\n",
              "      <td>0971880107</td>\n",
              "      <td>0</td>\n",
              "      <td>2</td>\n",
              "    </tr>\n",
              "    <tr>\n",
              "      <th>16</th>\n",
              "      <td>0345402871</td>\n",
              "      <td>9</td>\n",
              "      <td>3</td>\n",
              "    </tr>\n",
              "    <tr>\n",
              "      <th>17</th>\n",
              "      <td>0891075275</td>\n",
              "      <td>6</td>\n",
              "      <td>2700</td>\n",
              "    </tr>\n",
              "    <tr>\n",
              "      <th>26</th>\n",
              "      <td>0446310786</td>\n",
              "      <td>10</td>\n",
              "      <td>5</td>\n",
              "    </tr>\n",
              "  </tbody>\n",
              "</table>\n",
              "</div>"
            ],
            "text/plain": [
              "              ISBN  bookRating  BookIndex\n",
              "userID                                   \n",
              "9       0440234743           0          0\n",
              "14      0971880107           0          2\n",
              "16      0345402871           9          3\n",
              "17      0891075275           6       2700\n",
              "26      0446310786          10          5"
            ]
          },
          "metadata": {
            "tags": []
          },
          "execution_count": 52
        }
      ]
    },
    {
      "metadata": {
        "id": "5RhdfSqRRJoG",
        "colab_type": "text"
      },
      "cell_type": "markdown",
      "source": [
        "Create training dataset"
      ]
    },
    {
      "metadata": {
        "id": "EUYksVi6Txll",
        "colab_type": "code",
        "colab": {}
      },
      "cell_type": "code",
      "source": [
        "#Amount of users used for training\n",
        "amountOfUsedUsers = 1000\n",
        "#Creating the training list\n",
        "trX = []\n",
        "#For each user in the group\n",
        "for userID, curUser in userGroup:\n",
        "    #Create a temp that stores every book's rating\n",
        "    temp = [0]*len(filteredbookdf)\n",
        "    #For each book in curUser's movie list\n",
        "    for num, book in curUser.iterrows():\n",
        "        #Divide the rating by 10 and store it\n",
        "        temp[book['BookIndex']] = book['bookRating']/10.0\n",
        "    #Now add the list of ratings into the training list\n",
        "    trX.append(temp)\n",
        "    #Check to see if we finished adding in the amount of users for training\n",
        "    if amountOfUsedUsers == 0:\n",
        "        break\n",
        "    amountOfUsedUsers -= 1"
      ],
      "execution_count": 0,
      "outputs": []
    },
    {
      "metadata": {
        "id": "UuYWMCnQnYQq",
        "colab_type": "text"
      },
      "cell_type": "markdown",
      "source": [
        "# Recommendation System with a Restricted Boltzmann Machine"
      ]
    },
    {
      "metadata": {
        "id": "P1siaiFSkLdj",
        "colab_type": "text"
      },
      "cell_type": "markdown",
      "source": [
        "The Restricted Boltzmann Machine model has two layers of neurons, one of which is what we call a visible input layer and the other is called a hidden layer. The hidden layer is used to learn features from the information fed through the input layer. For our model, the input is going to contain X neurons, where X is the amount of movies in our dataset. Each of these neurons will possess a normalized rating value varying from 0 to 1 -- 0 meaning that a user has not watched that movie and the closer the value is to 1, the more the user likes the movie that neuron's representing. These normalized values, of course, will be extracted and normalized from the ratings dataset.\n",
        "\n",
        "After passing in the input, we train the RBM on it and have the hidden layer learn its features. These features are what we use to reconstruct the input, which in our case, will predict the ratings for movies that the input hasn't watched, which is exactly what we can use to recommend movies!\n",
        "\n",
        "We will now begin to format our dataset to follow the model's expected input."
      ]
    },
    {
      "metadata": {
        "id": "ViI8XLrDUWaV",
        "colab_type": "text"
      },
      "cell_type": "markdown",
      "source": [
        "**Set Model parameters**\n",
        "\n",
        "Next, let's start building our RBM with Tensorflow. We'll begin by first determining the amount of hidden layers and then creating placeholder variables for storing our visible layer biases, hidden layer biases and weights that connect the hidden layer with the visible one. We will be arbitrarily setting the amount of hidden layers to 20. You can freely set this value to any number you want since each neuron in the hidden layer will end up learning a feature."
      ]
    },
    {
      "metadata": {
        "id": "5lJHgS-3UZ0l",
        "colab_type": "code",
        "colab": {}
      },
      "cell_type": "code",
      "source": [
        "import tensorflow as tf\n",
        "\n",
        "hiddenUnits = 64\n",
        "visibleUnits = len(filteredbookdf)\n",
        "vb = tf.placeholder(\"float\", [visibleUnits]) #Number of unique books\n",
        "hb = tf.placeholder(\"float\", [hiddenUnits]) #Number of features we're going to learn\n",
        "W = tf.placeholder(\"float\", [visibleUnits, hiddenUnits])"
      ],
      "execution_count": 0,
      "outputs": []
    },
    {
      "metadata": {
        "id": "4RssBFlBpcNh",
        "colab_type": "text"
      },
      "cell_type": "markdown",
      "source": [
        "We then move on to creating the visible and hidden layer units and setting their activation functions. In this case, we will be using the tf.sigmoid and tf.relu functions as nonlinear activations since it's what is usually used in RBM's."
      ]
    },
    {
      "metadata": {
        "id": "kaFnv9rTUiDi",
        "colab_type": "code",
        "colab": {}
      },
      "cell_type": "code",
      "source": [
        "#Phase 1: Input Processing\n",
        "v0 = tf.placeholder(\"float\", [None, visibleUnits])\n",
        "_h0= tf.nn.sigmoid(tf.matmul(v0, W) + hb)\n",
        "h0 = tf.nn.relu(tf.sign(_h0 - tf.random_uniform(tf.shape(_h0))))\n",
        "#Phase 2: Reconstruction\n",
        "_v1 = tf.nn.sigmoid(tf.matmul(h0, tf.transpose(W)) + vb) \n",
        "v1 = tf.nn.relu(tf.sign(_v1 - tf.random_uniform(tf.shape(_v1))))\n",
        "h1 = tf.nn.sigmoid(tf.matmul(v1, W) + hb)"
      ],
      "execution_count": 0,
      "outputs": []
    },
    {
      "metadata": {
        "id": "itGvlrTrpgil",
        "colab_type": "text"
      },
      "cell_type": "markdown",
      "source": [
        "Now we set the RBM training parameters and functions."
      ]
    },
    {
      "metadata": {
        "id": "Jw50bUmlVXr_",
        "colab_type": "code",
        "colab": {}
      },
      "cell_type": "code",
      "source": [
        "#Learning rate\n",
        "alpha = 0.5\n",
        "#Create the gradients\n",
        "w_pos_grad = tf.matmul(tf.transpose(v0), h0)\n",
        "w_neg_grad = tf.matmul(tf.transpose(v1), h1)\n",
        "#Calculate the Contrastive Divergence to maximize\n",
        "CD = (w_pos_grad - w_neg_grad) / tf.to_float(tf.shape(v0)[0])\n",
        "#Create methods to update the weights and biases\n",
        "update_w = W + alpha * CD\n",
        "update_vb = vb + alpha * tf.reduce_mean(v0 - v1, 0)\n",
        "update_hb = hb + alpha * tf.reduce_mean(h0 - h1, 0)"
      ],
      "execution_count": 0,
      "outputs": []
    },
    {
      "metadata": {
        "id": "6LEdNOSGpjzu",
        "colab_type": "text"
      },
      "cell_type": "markdown",
      "source": [
        "And set the error function, which in this case will be the Mean Absolute Error Function."
      ]
    },
    {
      "metadata": {
        "id": "prQOUBk_U7NK",
        "colab_type": "code",
        "colab": {}
      },
      "cell_type": "code",
      "source": [
        "err = v0 - v1\n",
        "err_sum = tf.reduce_mean(err * err)"
      ],
      "execution_count": 0,
      "outputs": []
    },
    {
      "metadata": {
        "id": "drUphRgKpkrz",
        "colab_type": "text"
      },
      "cell_type": "markdown",
      "source": [
        "We also have to initialize our variables. "
      ]
    },
    {
      "metadata": {
        "id": "VchRt1QtU-hf",
        "colab_type": "code",
        "colab": {}
      },
      "cell_type": "code",
      "source": [
        "#Current weight\n",
        "cur_w = np.zeros([visibleUnits, hiddenUnits], np.float32)\n",
        "#Current visible unit biases\n",
        "cur_vb = np.zeros([visibleUnits], np.float32)\n",
        "#Current hidden unit biases\n",
        "cur_hb = np.zeros([hiddenUnits], np.float32)\n",
        "#Previous weight\n",
        "prv_w = np.zeros([visibleUnits, hiddenUnits], np.float32)\n",
        "#Previous visible unit biases\n",
        "prv_vb = np.zeros([visibleUnits], np.float32)\n",
        "#Previous hidden unit biases\n",
        "prv_hb = np.zeros([hiddenUnits], np.float32)\n",
        "sess = tf.Session()\n",
        "sess.run(tf.global_variables_initializer())"
      ],
      "execution_count": 0,
      "outputs": []
    },
    {
      "metadata": {
        "id": "zuWGgd51pq8q",
        "colab_type": "text"
      },
      "cell_type": "markdown",
      "source": [
        "Now we train the RBM with 25 epochs with each epoch using 10 batches with size 100. After training, we print out a graph with the error by epoch."
      ]
    },
    {
      "metadata": {
        "id": "_eZi6x1RVB6U",
        "colab_type": "code",
        "outputId": "b4a4f766-9a5c-4c4f-abc7-80536ea595ce",
        "colab": {
          "base_uri": "https://localhost:8080/",
          "height": 815
        }
      },
      "cell_type": "code",
      "source": [
        "epochs = 25\n",
        "batchsize = 100\n",
        "errors = []\n",
        "for i in range(epochs):\n",
        "    for start, end in zip( range(0, len(trX), batchsize), range(batchsize, len(trX), batchsize)):\n",
        "        batch = trX[start:end]\n",
        "        cur_w = sess.run(update_w, feed_dict={v0: batch, W: prv_w, vb: prv_vb, hb: prv_hb})\n",
        "        cur_vb = sess.run(update_vb, feed_dict={v0: batch, W: prv_w, vb: prv_vb, hb: prv_hb})\n",
        "        cur_nb = sess.run(update_hb, feed_dict={v0: batch, W: prv_w, vb: prv_vb, hb: prv_hb})\n",
        "        prv_w = cur_w\n",
        "        prv_vb = cur_vb\n",
        "        prv_hb = cur_nb\n",
        "    err = sess.run(err_sum, feed_dict={v0: trX, W: cur_w, vb: cur_vb, hb: cur_nb})\n",
        "    print('Epoch {:.0f} :: Error={:.5f}'.format(i, err))\n",
        "    errors.append(err)\n",
        "plt.plot(errors)\n",
        "plt.ylabel('Error')\n",
        "plt.xlabel('Epoch')\n",
        "plt.show()"
      ],
      "execution_count": 0,
      "outputs": [
        {
          "output_type": "stream",
          "text": [
            "Epoch 0 :: Error=0.00551\n",
            "Epoch 1 :: Error=0.00440\n",
            "Epoch 2 :: Error=0.00388\n",
            "Epoch 3 :: Error=0.00354\n",
            "Epoch 4 :: Error=0.00340\n",
            "Epoch 5 :: Error=0.00318\n",
            "Epoch 6 :: Error=0.00319\n",
            "Epoch 7 :: Error=0.00332\n",
            "Epoch 8 :: Error=0.00306\n",
            "Epoch 9 :: Error=0.00310\n",
            "Epoch 10 :: Error=0.00281\n",
            "Epoch 11 :: Error=0.00255\n",
            "Epoch 12 :: Error=0.00279\n",
            "Epoch 13 :: Error=0.00285\n",
            "Epoch 14 :: Error=0.00279\n",
            "Epoch 15 :: Error=0.00298\n",
            "Epoch 16 :: Error=0.00272\n",
            "Epoch 17 :: Error=0.00303\n",
            "Epoch 18 :: Error=0.00255\n",
            "Epoch 19 :: Error=0.00266\n",
            "Epoch 20 :: Error=0.00270\n",
            "Epoch 21 :: Error=0.00265\n",
            "Epoch 22 :: Error=0.00261\n",
            "Epoch 23 :: Error=0.00283\n",
            "Epoch 24 :: Error=0.00249\n"
          ],
          "name": "stdout"
        },
        {
          "output_type": "display_data",
          "data": {
            "image/png": "[encoded data removed]",
            "text/plain": [
              "<matplotlib.figure.Figure at 0x7fd6542d50b8>"
            ]
          },
          "metadata": {
            "tags": []
          }
        }
      ]
    }
  ]
}