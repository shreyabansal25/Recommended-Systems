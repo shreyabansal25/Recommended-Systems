{
  "nbformat": 4,
  "nbformat_minor": 0,
  "metadata": {
    "colab": {
      "name": "i-CDAE_recommender.ipynb",
      "version": "0.3.2",
      "provenance": [],
      "toc_visible": true
    },
    "kernelspec": {
      "display_name": "Python 3",
      "language": "python",
      "name": "python3"
    }
  },
  "cells": [
    {
      "metadata": {
        "id": "j-P74WxixReJ",
        "colab_type": "text"
      },
      "cell_type": "markdown",
      "source": [
        "#Word Embeddings in Python with Gensim"
      ]
    },
    {
      "metadata": {
        "id": "9qrpgHuK5m0-",
        "colab_type": "text"
      },
      "cell_type": "markdown",
      "source": [
        "A **word embedding** is an approach to provide a dense vector representation of words that capture something about their meaning.\n",
        "\n",
        "Word embeddings work by using an algorithm to train a set of fixed-length dense and continuous-valued vectors based on a large corpus of text. Each word is represented by a point in the embedding space and these points are learned and moved around based on the words that surround the target word.\n",
        "\n",
        "Simply put, word embeddings allow us to represent words in the form of vectors. But these are not just any vectors. The aim is to represent words via vectors so that similar words or words used in a similar context are close to each other while antonyms are far apart in the vector space.\n",
        "There are a few techniques to determine if these embeddings are trained on a large enough corpus (i.e., Wikipedia), the most prevalent being word2vec and GloVe. We will go over both below\n"
      ]
    },
    {
      "metadata": {
        "id": "FRo9oi7u5u4G",
        "colab_type": "text"
      },
      "cell_type": "markdown",
      "source": [
        "**Gensim** is an open source Python library for natural language processing, with a focus on topic modeling.\n",
        "\n",
        "It is not an everything-including-the-kitchen-sink NLP research library (like NLTK); instead, Gensim is a mature, focused, and efficient suite of NLP tools for topic modeling. Most notably for this tutorial, it supports an implementation of the Word2Vec word embedding for learning new word vectors from text.\n",
        "\n",
        "It also provides tools for loading pre-trained word embeddings in a few formats and for making use and querying a loaded embedding."
      ]
    },
    {
      "metadata": {
        "id": "fEShqgiy5K3-",
        "colab_type": "text"
      },
      "cell_type": "markdown",
      "source": [
        "##Word2Vec"
      ]
    },
    {
      "metadata": {
        "id": "VFRIjc_h5-Ov",
        "colab_type": "text"
      },
      "cell_type": "markdown",
      "source": [
        "[Word2vec](https://en.wikipedia.org/wiki/Word2vec) is one algorithm for learning a word embedding from a text corpus."
      ]
    },
    {
      "metadata": {
        "id": "Y8Ogwe0xxSjO",
        "colab_type": "code",
        "colab": {
          "base_uri": "https://localhost:8080/",
          "height": 274
        },
        "outputId": "1169934d-c601-407f-c31a-4c9bbd0d4644"
      },
      "cell_type": "code",
      "source": [
        "!pip install Word2Vec"
      ],
      "execution_count": 8,
      "outputs": [
        {
          "output_type": "stream",
          "text": [
            "Collecting Word2Vec\n",
            "  Using cached https://files.pythonhosted.org/packages/ce/51/5e2782b204015c8aef0ac830297c2f2735143ec90f592b9b3b909bb89757/word2vec-0.10.2.tar.gz\n",
            "Requirement already satisfied: six in /usr/local/lib/python3.6/dist-packages (from Word2Vec) (1.11.0)\n",
            "Requirement already satisfied: cython in /usr/local/lib/python3.6/dist-packages (from Word2Vec) (0.29)\n",
            "Requirement already satisfied: numpy>=1.9.2 in /usr/local/lib/python3.6/dist-packages (from Word2Vec) (1.14.6)\n",
            "Requirement already satisfied: scipy in /usr/local/lib/python3.6/dist-packages (from Word2Vec) (0.19.1)\n",
            "Requirement already satisfied: scikit-learn in /usr/local/lib/python3.6/dist-packages (from Word2Vec) (0.19.2)\n",
            "Building wheels for collected packages: Word2Vec\n",
            "  Running setup.py bdist_wheel for Word2Vec ... \u001b[?25l-\b \b\\\b \b|\b \b/\b \b-\b \b\\\b \b|\b \b/\b \b-\b \bdone\n",
            "\u001b[?25h  Stored in directory: /root/.cache/pip/wheels/ef/9f/06/aec42532c9c37e05f936d4d586b15cfdfc9f2ffb62bd7fed1c\n",
            "Successfully built Word2Vec\n",
            "Installing collected packages: Word2Vec\n",
            "Successfully installed Word2Vec-0.10.2\n"
          ],
          "name": "stdout"
        }
      ]
    },
    {
      "metadata": {
        "id": "II-WxqlMxiSu",
        "colab_type": "code",
        "colab": {}
      },
      "cell_type": "code",
      "source": [
        "from gensim.models import Word2Vec"
      ],
      "execution_count": 0,
      "outputs": []
    },
    {
      "metadata": {
        "id": "nZ45y_fdyLhw",
        "colab_type": "code",
        "colab": {
          "base_uri": "https://localhost:8080/",
          "height": 583
        },
        "outputId": "1ce6e545-9646-4354-9469-4d5c0bd91358"
      },
      "cell_type": "code",
      "source": [
        "# define training data\n",
        "sentences = [['this', 'is', 'the', 'first', 'sentence', 'for', 'word2vec'],\n",
        "\t\t\t['this', 'is', 'the', 'second', 'sentence'],\n",
        "\t\t\t['yet', 'another', 'sentence'],\n",
        "\t\t\t['one', 'more', 'sentence'],\n",
        "\t\t\t['and', 'the', 'final', 'sentence']]\n",
        "# train model\n",
        "model = Word2Vec(sentences, min_count=1)\n",
        "# summarize the loaded model\n",
        "print(model)\n",
        "# summarize vocabulary\n",
        "words = list(model.wv.vocab)\n",
        "print(words)\n",
        "# access vector for one word\n",
        "print(model['sentence'])\n",
        "# save model\n",
        "model.save('model.bin')\n",
        "# load model\n",
        "new_model = Word2Vec.load('model.bin')\n",
        "print(new_model)"
      ],
      "execution_count": 12,
      "outputs": [
        {
          "output_type": "stream",
          "text": [
            "Word2Vec(vocab=14, size=100, alpha=0.025)\n",
            "['this', 'is', 'the', 'first', 'sentence', 'for', 'word2vec', 'second', 'yet', 'another', 'one', 'more', 'and', 'final']\n",
            "[ 3.9451299e-04 -3.7790255e-03  8.1294501e-04  5.4770755e-04\n",
            "  2.4536564e-03 -1.1561071e-03 -3.2281302e-04 -4.1743895e-04\n",
            "  4.2376732e-03 -7.6546828e-04  2.0439010e-04 -1.9744283e-03\n",
            " -1.0982477e-03 -1.9072240e-03  2.9987271e-03  4.4687451e-03\n",
            " -1.3305889e-03 -1.6804198e-04  3.1064541e-04  1.6751086e-03\n",
            "  3.3429998e-03 -4.9521746e-03 -3.0029097e-04 -1.7354003e-03\n",
            " -3.9196061e-03  9.9007424e-04 -2.8638544e-03  1.4776015e-03\n",
            " -2.2481759e-03 -4.7226651e-03  3.2622511e-03 -3.7531096e-03\n",
            " -1.1150147e-03 -3.3788111e-03 -1.1935713e-03 -3.5729338e-03\n",
            "  1.5615475e-03 -4.1010147e-03  3.5409722e-03  1.7059098e-04\n",
            " -4.5995153e-03 -4.3750461e-03  1.4902499e-04 -4.0227305e-03\n",
            " -1.7743728e-03 -3.8863514e-03 -1.0474695e-04  4.4295187e-03\n",
            " -8.1229972e-04  4.3542483e-03  2.7379461e-03 -8.8155916e-04\n",
            "  4.1617397e-03  3.8128751e-03 -2.5061010e-03 -2.7686630e-03\n",
            "  4.9935472e-03 -7.6851773e-04 -4.5670820e-03 -3.4722823e-03\n",
            "  3.2745297e-03 -4.9379451e-05  7.7262451e-04  2.8128747e-03\n",
            " -2.9599369e-03 -1.7380661e-03  3.4024956e-04  3.0394439e-03\n",
            "  3.3436387e-03 -3.3801587e-03  4.9333093e-03  9.3127025e-04\n",
            "  1.1600734e-03  4.4499626e-03  2.3922243e-03 -4.9585733e-03\n",
            " -2.9730082e-03  7.0218707e-04  7.4301491e-04  1.2122507e-03\n",
            "  7.1156937e-05 -3.4189243e-03  2.0556543e-03  1.0229244e-03\n",
            "  2.8960842e-03 -2.8125092e-03 -2.7767566e-03 -1.6752608e-03\n",
            " -4.1375323e-03 -1.7068133e-03 -2.3460581e-03  1.0535495e-03\n",
            " -5.7196703e-05 -2.2073973e-03  4.1003660e-03 -7.0961099e-04\n",
            "  1.8319520e-03  1.0036590e-04 -1.6619707e-03  2.4857309e-03]\n",
            "Word2Vec(vocab=14, size=100, alpha=0.025)\n"
          ],
          "name": "stdout"
        },
        {
          "output_type": "stream",
          "text": [
            "/usr/local/lib/python3.6/dist-packages/ipykernel_launcher.py:14: DeprecationWarning: Call to deprecated `__getitem__` (Method will be removed in 4.0.0, use self.wv.__getitem__() instead).\n",
            "  \n"
          ],
          "name": "stderr"
        }
      ]
    },
    {
      "metadata": {
        "id": "GFiJvE-GyXKA",
        "colab_type": "code",
        "colab": {
          "base_uri": "https://localhost:8080/",
          "height": 404
        },
        "outputId": "5b64f2af-859e-40b3-9414-b39634bcdf78"
      },
      "cell_type": "code",
      "source": [
        "from gensim.models import Word2Vec\n",
        "from sklearn.decomposition import PCA\n",
        "from matplotlib import pyplot\n",
        "# define training data\n",
        "sentences = [['king', 'is', 'opposite', 'of', 'queen'],\n",
        "\t\t\t['man', 'is', 'the', 'opposite', 'of', 'woman'],\n",
        "\t\t\t['delhi', 'is', 'capital','of', 'india'],\n",
        "\t\t\t['paris', 'is', 'capital','of', 'france']]\n",
        "# train model\n",
        "model = Word2Vec(sentences, min_count=1)\n",
        "# fit a 2d PCA model to the vectors\n",
        "X = model[model.wv.vocab]\n",
        "pca = PCA(n_components=2)\n",
        "result = pca.fit_transform(X)\n",
        "# create a scatter plot of the projection\n",
        "pyplot.scatter(result[:, 0], result[:, 1])\n",
        "words = list(model.wv.vocab)\n",
        "for i, word in enumerate(words):\n",
        "\tpyplot.annotate(word, xy=(result[i, 0], result[i, 1]))\n",
        "pyplot.show()\n",
        "\n"
      ],
      "execution_count": 19,
      "outputs": [
        {
          "output_type": "stream",
          "text": [
            "/usr/local/lib/python3.6/dist-packages/ipykernel_launcher.py:14: DeprecationWarning: Call to deprecated `__getitem__` (Method will be removed in 4.0.0, use self.wv.__getitem__() instead).\n",
            "  \n"
          ],
          "name": "stderr"
        },
        {
          "output_type": "display_data",
          "data": {
            "image/png": "[encoded data removed]",
            "text/plain": [
              "<matplotlib.figure.Figure at 0x7f8f39acfba8>"
            ]
          },
          "metadata": {
            "tags": []
          }
        }
      ]
    },
    {
      "metadata": {
        "id": "vCXrpU6s5Pou",
        "colab_type": "text"
      },
      "cell_type": "markdown",
      "source": [
        "##GloVe"
      ]
    },
    {
      "metadata": {
        "id": "J_5IASUV49xw",
        "colab_type": "text"
      },
      "cell_type": "markdown",
      "source": [
        "**Global Vectors for Word Representation**"
      ]
    },
    {
      "metadata": {
        "id": "LuxlHl-D6K_O",
        "colab_type": "text"
      },
      "cell_type": "markdown",
      "source": [
        "A pre-trained model is nothing more than a file containing tokens and their associated word vectors. The pre-trained Google word2vec model was trained on Google news data (about 100 billion words); it contains 3 million words and phrases and was fit using 300-dimensional word vectors.\n",
        "\n",
        "More about GloVe [here](https://nlp.stanford.edu/projects/glove/)"
      ]
    },
    {
      "metadata": {
        "id": "1KJ9xCM90vkd",
        "colab_type": "code",
        "colab": {
          "base_uri": "https://localhost:8080/",
          "height": 401
        },
        "outputId": "13ced9e6-6d31-4a5a-b52a-9c551765298b"
      },
      "cell_type": "code",
      "source": [
        "!wget -O glove.zip http://nlp.stanford.edu/data/glove.6B.zip\n",
        "!unzip -o glove.zip -d data"
      ],
      "execution_count": 22,
      "outputs": [
        {
          "output_type": "stream",
          "text": [
            "--2018-10-23 07:30:18--  http://nlp.stanford.edu/data/glove.6B.zip\n",
            "Resolving nlp.stanford.edu (nlp.stanford.edu)... 171.64.67.140\n",
            "Connecting to nlp.stanford.edu (nlp.stanford.edu)|171.64.67.140|:80... connected.\n",
            "HTTP request sent, awaiting response... 302 Found\n",
            "Location: https://nlp.stanford.edu/data/glove.6B.zip [following]\n",
            "--2018-10-23 07:30:18--  https://nlp.stanford.edu/data/glove.6B.zip\n",
            "Connecting to nlp.stanford.edu (nlp.stanford.edu)|171.64.67.140|:443... connected.\n",
            "HTTP request sent, awaiting response... 200 OK\n",
            "Length: 862182613 (822M) [application/zip]\n",
            "Saving to: ‘glove.zip’\n",
            "\n",
            "glove.zip           100%[===================>] 822.24M  1.40MB/s    in 8m 35s  \n",
            "\n",
            "2018-10-23 07:38:54 (1.60 MB/s) - ‘glove.zip’ saved [862182613/862182613]\n",
            "\n",
            "Archive:  glove.zip\n",
            "  inflating: data/glove.6B.50d.txt   \n",
            "  inflating: data/glove.6B.100d.txt  \n",
            "  inflating: data/glove.6B.200d.txt  \n",
            "  inflating: data/glove.6B.300d.txt  \n"
          ],
          "name": "stdout"
        }
      ]
    },
    {
      "metadata": {
        "id": "5kHOsHzJ1YX5",
        "colab_type": "code",
        "colab": {
          "base_uri": "https://localhost:8080/",
          "height": 35
        },
        "outputId": "b2e2711b-fe16-49cd-e317-05c6aeea9de1"
      },
      "cell_type": "code",
      "source": [
        "from gensim.scripts.glove2word2vec import glove2word2vec\n",
        "glove_input_file = 'data/glove.6B.100d.txt'\n",
        "word2vec_output_file = 'data/glove.6B.100d.txt.word2vec'\n",
        "glove2word2vec(glove_input_file, word2vec_output_file)"
      ],
      "execution_count": 23,
      "outputs": [
        {
          "output_type": "execute_result",
          "data": {
            "text/plain": [
              "(400000, 100)"
            ]
          },
          "metadata": {
            "tags": []
          },
          "execution_count": 23
        }
      ]
    },
    {
      "metadata": {
        "id": "Jw9FeUE31opX",
        "colab_type": "code",
        "colab": {
          "base_uri": "https://localhost:8080/",
          "height": 110
        },
        "outputId": "cde2500e-22c0-4208-9760-912018c5ab1f"
      },
      "cell_type": "code",
      "source": [
        "from gensim.models import KeyedVectors\n",
        "# load the Stanford GloVe model\n",
        "filename = 'data/glove.6B.100d.txt.word2vec'\n",
        "model = KeyedVectors.load_word2vec_format(filename, binary=False)\n",
        "# calculate: (king - man) + woman = ?\n",
        "result1 = model.most_similar(positive=['woman', 'king'], negative=['man'], topn=1)\n",
        "# calculate: (boy - man) + woman = ?\n",
        "result2 = model.most_similar(positive=['woman', 'boy'], negative=['man'], topn=1)\n",
        "print(result1)\n",
        "print(result2)"
      ],
      "execution_count": 28,
      "outputs": [
        {
          "output_type": "stream",
          "text": [
            "[('queen', 0.7698541283607483)]\n",
            "[('girl', 0.9095937013626099)]\n"
          ],
          "name": "stdout"
        },
        {
          "output_type": "stream",
          "text": [
            "/usr/local/lib/python3.6/dist-packages/gensim/matutils.py:737: FutureWarning: Conversion of the second argument of issubdtype from `int` to `np.signedinteger` is deprecated. In future, it will be treated as `np.int64 == np.dtype(int).type`.\n",
            "  if np.issubdtype(vec.dtype, np.int):\n"
          ],
          "name": "stderr"
        }
      ]
    },
    {
      "metadata": {
        "id": "AgcB5ZwXGCKW",
        "colab_type": "code",
        "colab": {
          "base_uri": "https://localhost:8080/",
          "height": 255
        },
        "outputId": "0981094e-aadc-4821-db0e-f03e7976e7be"
      },
      "cell_type": "code",
      "source": [
        "model.most_similar(\"girl\")"
      ],
      "execution_count": 31,
      "outputs": [
        {
          "output_type": "stream",
          "text": [
            "/usr/local/lib/python3.6/dist-packages/gensim/matutils.py:737: FutureWarning: Conversion of the second argument of issubdtype from `int` to `np.signedinteger` is deprecated. In future, it will be treated as `np.int64 == np.dtype(int).type`.\n",
            "  if np.issubdtype(vec.dtype, np.int):\n"
          ],
          "name": "stderr"
        },
        {
          "output_type": "execute_result",
          "data": {
            "text/plain": [
              "[('boy', 0.9175729155540466),\n",
              " ('woman', 0.847267210483551),\n",
              " ('girls', 0.7953022718429565),\n",
              " ('mother', 0.78807133436203),\n",
              " ('child', 0.7634811997413635),\n",
              " ('teen', 0.7468993663787842),\n",
              " ('girlfriend', 0.7443794012069702),\n",
              " ('teenager', 0.7436219453811646),\n",
              " ('baby', 0.7423103451728821),\n",
              " ('teenage', 0.7407196760177612)]"
            ]
          },
          "metadata": {
            "tags": []
          },
          "execution_count": 31
        }
      ]
    },
    {
      "metadata": {
        "id": "EMjH6ZqQd2tb",
        "colab_type": "text"
      },
      "cell_type": "markdown",
      "source": [
        "# References"
      ]
    },
    {
      "metadata": {
        "id": "SBikiGUhd8i8",
        "colab_type": "text"
      },
      "cell_type": "markdown",
      "source": [
        "https://machinelearningmastery.com/develop-word-embeddings-python-gensim/\n",
        "\n",
        "https://medium.com/explore-artificial-intelligence/word2vec-a-baby-step-in-deep-learning-but-a-giant-leap-towards-natural-language-processing-40fe4e8602ba"
      ]
    },
    {
      "metadata": {
        "id": "sqH3NZuQG2A-",
        "colab_type": "text"
      },
      "cell_type": "markdown",
      "source": [
        "http://kavita-ganesan.com/gensim-word2vec-tutorial-starter-code/#.W87etVUza1t"
      ]
    },
    {
      "metadata": {
        "id": "On-F3PqtMsgE",
        "colab_type": "text"
      },
      "cell_type": "markdown",
      "source": [
        "https://github.com/kavgan/nlp-text-mining-working-examples/blob/master/word2vec/Word2Vec.ipynb"
      ]
    }
  ]
}