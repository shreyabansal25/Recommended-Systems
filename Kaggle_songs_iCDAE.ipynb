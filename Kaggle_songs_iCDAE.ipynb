{
  "nbformat": 4,
  "nbformat_minor": 0,
  "metadata": {
    "colab": {
      "name": "i-CDAE_recommender.ipynb",
      "version": "0.3.2",
      "provenance": [],
      "toc_visible": true
    },
    "kernelspec": {
      "display_name": "Python 3",
      "language": "python",
      "name": "python3"
    }
  },
  "cells": [
    {
      "metadata": {
        "id": "JBYfsU0VqhQ2",
        "colab_type": "text"
      },
      "cell_type": "markdown",
      "source": [
        "# Collaborative Denoising Auto-Encoder (CDAE)\n",
        "\n",
        "We present a new model-based collaborative filtering (CF) method for top-N recommendation called Collaborative Denoising Auto-Encoder (CDAE). CDAE assumes that whatever\n",
        "user-item interactions are observed are a corrupted version of the user’s full preference set. The model learns latent representations\n",
        "of corrupted user-item preferences that can best reconstruct the full\n",
        "input.\n",
        "In other words, during training, we feed the model a subset\n",
        "of a user’s item set and train the model to recover the whole\n",
        "item set; at prediction time, the model recommends new items to\n",
        "the user given the existing preference set as input. Training on corrupted\n",
        "data effectively recovers co-preference patterns. We show\n",
        "that this is an effective approach for collaborative filtering."
      ]
    },
    {
      "metadata": {
        "id": "DbcO6e2opJFY",
        "colab_type": "text"
      },
      "cell_type": "markdown",
      "source": [
        "# Acquire Data from Kaggle"
      ]
    },
    {
      "metadata": {
        "colab_type": "code",
        "id": "bIzJ8_II-hlC",
        "colab": {}
      },
      "cell_type": "code",
      "source": [
        "import matplotlib.pyplot as plt\n",
        "import argparse\n",
        "import tensorflow as tf\n",
        "import sys\n",
        "import os.path\n",
        "import tensorflow as tf\n",
        "import time\n",
        "import numpy as np\n",
        "import math\n",
        "import pandas as pd\n",
        "from sklearn.model_selection import train_test_split\n",
        "from scipy.sparse import csr_matrix"
      ],
      "execution_count": 0,
      "outputs": []
    },
    {
      "metadata": {
        "id": "RS9pTUzgw3or",
        "colab_type": "code",
        "colab": {
          "base_uri": "https://localhost:8080/",
          "height": 474
        },
        "outputId": "1017bd24-8433-4b29-bf75-655a64ea8c0f"
      },
      "cell_type": "code",
      "source": [
        "!pip install kaggle"
      ],
      "execution_count": 4,
      "outputs": [
        {
          "output_type": "stream",
          "text": [
            "Collecting kaggle\n",
            "\u001b[?25l  Downloading https://files.pythonhosted.org/packages/c6/78/832b9a9ec6b3baf8ec566e1f0a695f2fd08d2c94a6797257a106304bfc3c/kaggle-1.4.7.1.tar.gz (52kB)\n",
            "\u001b[K    100% |████████████████████████████████| 61kB 2.3MB/s \n",
            "\u001b[?25hRequirement already satisfied: urllib3<1.23.0,>=1.15 in /usr/local/lib/python3.6/dist-packages (from kaggle) (1.22)\n",
            "Requirement already satisfied: six>=1.10 in /usr/local/lib/python3.6/dist-packages (from kaggle) (1.11.0)\n",
            "Requirement already satisfied: certifi in /usr/local/lib/python3.6/dist-packages (from kaggle) (2018.10.15)\n",
            "Requirement already satisfied: python-dateutil in /usr/local/lib/python3.6/dist-packages (from kaggle) (2.5.3)\n",
            "Requirement already satisfied: requests in /usr/local/lib/python3.6/dist-packages (from kaggle) (2.18.4)\n",
            "Requirement already satisfied: tqdm in /usr/local/lib/python3.6/dist-packages (from kaggle) (4.27.0)\n",
            "Collecting python-slugify (from kaggle)\n",
            "  Downloading https://files.pythonhosted.org/packages/00/ad/c778a6df614b6217c30fe80045b365bfa08b5dd3cb02e8b37a6d25126781/python-slugify-1.2.6.tar.gz\n",
            "Requirement already satisfied: chardet<3.1.0,>=3.0.2 in /usr/local/lib/python3.6/dist-packages (from requests->kaggle) (3.0.4)\n",
            "Requirement already satisfied: idna<2.7,>=2.5 in /usr/local/lib/python3.6/dist-packages (from requests->kaggle) (2.6)\n",
            "Collecting Unidecode>=0.04.16 (from python-slugify->kaggle)\n",
            "\u001b[?25l  Downloading https://files.pythonhosted.org/packages/59/ef/67085e30e8bbcdd76e2f0a4ad8151c13a2c5bce77c85f8cad6e1f16fb141/Unidecode-1.0.22-py2.py3-none-any.whl (235kB)\n",
            "\u001b[K    100% |████████████████████████████████| 235kB 5.2MB/s \n",
            "\u001b[?25hBuilding wheels for collected packages: kaggle, python-slugify\n",
            "  Running setup.py bdist_wheel for kaggle ... \u001b[?25l-\b \b\\\b \bdone\n",
            "\u001b[?25h  Stored in directory: /root/.cache/pip/wheels/44/2c/df/22a6eeb780c36c28190faef6252b739fdc47145fd87a6642d4\n",
            "  Running setup.py bdist_wheel for python-slugify ... \u001b[?25l-\b \bdone\n",
            "\u001b[?25h  Stored in directory: /root/.cache/pip/wheels/e3/65/da/2045deea3098ed7471eca0e2460cfbd3fdfe8c1d6fa6fcac92\n",
            "Successfully built kaggle python-slugify\n",
            "Installing collected packages: Unidecode, python-slugify, kaggle\n",
            "Successfully installed Unidecode-1.0.22 kaggle-1.4.7.1 python-slugify-1.2.6\n"
          ],
          "name": "stdout"
        }
      ]
    },
    {
      "metadata": {
        "id": "XBFCQH5C2hNa",
        "colab_type": "code",
        "colab": {
          "resources": {
            "http://localhost:8080/nbextensions/google.colab/files.js": {
              "data": "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",
              "ok": true,
              "headers": [
                [
                  "content-type",
                  "application/javascript"
                ]
              ],
              "status": 200,
              "status_text": ""
            }
          },
          "base_uri": "https://localhost:8080/",
          "height": 111
        },
        "outputId": "0ca16c26-c662-41db-be16-c03c9f47618a"
      },
      "cell_type": "code",
      "source": [
        "from google.colab import files\n",
        "files.upload()"
      ],
      "execution_count": 5,
      "outputs": [
        {
          "output_type": "display_data",
          "data": {
            "text/html": [
              "\n",
              "     <input type=\"file\" id=\"files-f3f356a7-f1c0-46a3-9b0d-ddef9ab4f83d\" name=\"files[]\" multiple disabled />\n",
              "     <output id=\"result-f3f356a7-f1c0-46a3-9b0d-ddef9ab4f83d\">\n",
              "      Upload widget is only available when the cell has been executed in the\n",
              "      current browser session. Please rerun this cell to enable.\n",
              "      </output>\n",
              "      <script src=\"/nbextensions/google.colab/files.js\"></script> "
            ],
            "text/plain": [
              "<IPython.core.display.HTML object>"
            ]
          },
          "metadata": {
            "tags": []
          }
        },
        {
          "output_type": "stream",
          "text": [
            "Saving kaggle.json to kaggle.json\n"
          ],
          "name": "stdout"
        },
        {
          "output_type": "execute_result",
          "data": {
            "text/plain": [
              "{'kaggle.json': b'{\"username\":\"shreyabansal25\",\"key\":\"4e6e23c44e5d70e6aa448bcdde326c03\"}'}"
            ]
          },
          "metadata": {
            "tags": []
          },
          "execution_count": 5
        }
      ]
    },
    {
      "metadata": {
        "id": "T_Ql_gVK4jK8",
        "colab_type": "code",
        "colab": {}
      },
      "cell_type": "code",
      "source": [
        "!mkdir -p ~/.kaggle\n",
        "!cp kaggle.json ~/.kaggle/"
      ],
      "execution_count": 0,
      "outputs": []
    },
    {
      "metadata": {
        "id": "9WFYBbst6F3w",
        "colab_type": "code",
        "colab": {
          "base_uri": "https://localhost:8080/",
          "height": 455
        },
        "outputId": "89369e6a-9c12-4e99-b815-320dc615ff10"
      },
      "cell_type": "code",
      "source": [
        "!kaggle datasets list"
      ],
      "execution_count": 7,
      "outputs": [
        {
          "output_type": "stream",
          "text": [
            "Warning: Your Kaggle API key is readable by otherusers on this system! To fix this, you can run'chmod 600 /root/.kaggle/kaggle.json'\n",
            "ref                                                      title                                               size  lastUpdated          downloadCount  \n",
            "-------------------------------------------------------  -------------------------------------------------  -----  -------------------  -------------  \n",
            "xvivancos/transactions-from-a-bakery                     Transactions from a bakery                         113KB  2018-09-05 23:42:32           1845  \n",
            "olistbr/brazilian-ecommerce                              Brazilian E-Commerce Public Dataset by Olist        25MB  2018-10-09 01:52:17           1030  \n",
            "lava18/google-play-store-apps                            Google Play Store Apps                               2MB  2018-09-18 20:49:49          10266  \n",
            "jacobbaruch/nba-player-of-the-week                       NBA player of the week                              16KB  2018-08-18 20:41:30            827  \n",
            "census/census-bureau-usa                                 United States Census                               161MB  2018-04-17 18:52:46              0  \n",
            "san-francisco/sf-police-calls-for-service-and-incidents  SF Police Calls for Service and Incidents          164MB  2018-10-16 09:38:21           1310  \n",
            "center-for-policing-equity/data-science-for-good         Data Science for Good: Center for Policing Equity    6MB  2018-10-07 16:57:28           1641  \n",
            "kmader/colorectal-histology-mnist                        Colorectal Histology MNIST                         991MB  2018-09-19 14:20:49            132  \n",
            "jenny18/honey-bee-annotated-images                       Annotated Honey Bee Images                          50MB  2018-09-16 23:42:12            887  \n",
            "chicago/chicago-red-light-and-speed-camera-data          Chicago Red Light and Speed Camera Data             22MB  2018-10-02 16:41:44            785  \n",
            "martinellis/nhl-game-data                                NHL Game Data                                      120MB  2018-09-26 19:11:47            507  \n",
            "fmena14/volcanoesvenus                                   Volcanoes on Venus                                 109MB  2018-08-25 01:37:34            561  \n",
            "kmader/skin-cancer-mnist-ham10000                        Skin Cancer MNIST: HAM10000                          3GB  2018-09-20 20:36:13            579  \n",
            "kmader/nih-deeplesion-subset                             NIH DeepLesion Subset                                8GB  2018-07-22 18:58:32            316  \n",
            "dansbecker/cityscapes-image-pairs                        Cityscapes Image Pairs                             101MB  2018-04-20 13:55:20            215  \n",
            "census/family-households-with-married-couples-data       Family Households with Married Couples Data          2KB  2018-10-16 09:41:14            543  \n",
            "census/total-business-inventories-and-sales-data         Total Business Inventories and Sales Data           21KB  2018-10-16 09:32:26            886  \n",
            "theworldbank/education-statistics                        Education Statistics                                75MB  2018-10-15 20:12:54           6712  \n",
            "census/total-construction-spending-data-collection       Total Construction Spending Data Collection         33KB  2018-10-16 09:33:43            458  \n",
            "crawford/boston-public-schools                           Boston Public Schools                               21KB  2018-09-18 21:49:50            589  \n"
          ],
          "name": "stdout"
        }
      ]
    },
    {
      "metadata": {
        "id": "YS3K4yhV4Up-",
        "colab_type": "code",
        "colab": {
          "base_uri": "https://localhost:8080/",
          "height": 383
        },
        "outputId": "d45b32aa-e696-4023-b6ad-0ea901a8dcd3"
      },
      "cell_type": "code",
      "source": [
        "!kaggle competitions download -c kkbox-music-recommendation-challenge"
      ],
      "execution_count": 8,
      "outputs": [
        {
          "output_type": "stream",
          "text": [
            "Warning: Your Kaggle API key is readable by otherusers on this system! To fix this, you can run'chmod 600 /root/.kaggle/kaggle.json'\n",
            "Downloading sample_submission.csv.7z to /content\n",
            "  0% 0.00/453k [00:00<?, ?B/s]\n",
            "100% 453k/453k [00:00<00:00, 82.5MB/s]\n",
            "Downloading members.csv.7z to /content\n",
            "  0% 0.00/1.29M [00:00<?, ?B/s]\n",
            "100% 1.29M/1.29M [00:00<00:00, 158MB/s]\n",
            "Downloading test.csv.7z to /content\n",
            " 91% 38.0M/41.9M [00:00<00:00, 40.0MB/s]\n",
            "100% 41.9M/41.9M [00:00<00:00, 90.9MB/s]\n",
            "Downloading songs.csv.7z to /content\n",
            " 90% 91.0M/101M [00:00<00:00, 69.0MB/s]\n",
            "100% 101M/101M [00:00<00:00, 109MB/s]  \n",
            "Downloading train.csv.7z to /content\n",
            " 96% 97.0M/101M [00:01<00:00, 72.0MB/s]\n",
            "100% 101M/101M [00:01<00:00, 93.9MB/s] \n",
            "Downloading song_extra_info.csv.7z to /content\n",
            " 95% 94.0M/98.8M [00:01<00:00, 39.9MB/s]\n",
            "100% 98.8M/98.8M [00:01<00:00, 60.3MB/s]\n"
          ],
          "name": "stdout"
        }
      ]
    },
    {
      "metadata": {
        "id": "EwO41ltA7RT6",
        "colab_type": "code",
        "colab": {
          "base_uri": "https://localhost:8080/",
          "height": 419
        },
        "outputId": "34214108-a768-4dd5-dd68-92dab7ef2d63"
      },
      "cell_type": "code",
      "source": [
        "#unzip training data file\n",
        "!7z e train.csv.7z\n"
      ],
      "execution_count": 9,
      "outputs": [
        {
          "output_type": "stream",
          "text": [
            "\n",
            "7-Zip [64] 16.02 : Copyright (c) 1999-2016 Igor Pavlov : 2016-05-21\n",
            "p7zip Version 16.02 (locale=en_US.UTF-8,Utf16=on,HugeFiles=on,64 bits,2 CPUs Intel(R) Xeon(R) CPU @ 2.30GHz (306F0),ASM,AES-NI)\n",
            "\n",
            "Scanning the drive for archives:\n",
            "  0M Scan\b\b\b\b\b\b\b\b\b         \b\b\b\b\b\b\b\b\b1 file, 106420688 bytes (102 MiB)\n",
            "\n",
            "Extracting archive: train.csv.7z\n",
            "--\n",
            "Path = train.csv.7z\n",
            "Type = 7z\n",
            "Physical Size = 106420688\n",
            "Headers Size = 122\n",
            "Method = LZMA2:24\n",
            "Solid = -\n",
            "Blocks = 1\n",
            "\n",
            "  0%\b\b\b\b    \b\b\b\b  1% - train.csv\b\b\b\b\b\b\b\b\b\b\b\b\b\b\b\b                \b\b\b\b\b\b\b\b\b\b\b\b\b\b\b\b  4% - train.csv\b\b\b\b\b\b\b\b\b\b\b\b\b\b\b\b                \b\b\b\b\b\b\b\b\b\b\b\b\b\b\b\b  6% - train.csv\b\b\b\b\b\b\b\b\b\b\b\b\b\b\b\b                \b\b\b\b\b\b\b\b\b\b\b\b\b\b\b\b  8% - train.csv\b\b\b\b\b\b\b\b\b\b\b\b\b\b\b\b                \b\b\b\b\b\b\b\b\b\b\b\b\b\b\b\b 10% - train.csv\b\b\b\b\b\b\b\b\b\b\b\b\b\b\b\b                \b\b\b\b\b\b\b\b\b\b\b\b\b\b\b\b 12% - train.csv\b\b\b\b\b\b\b\b\b\b\b\b\b\b\b\b                \b\b\b\b\b\b\b\b\b\b\b\b\b\b\b\b 14% - train.csv\b\b\b\b\b\b\b\b\b\b\b\b\b\b\b\b                \b\b\b\b\b\b\b\b\b\b\b\b\b\b\b\b 17% - train.csv\b\b\b\b\b\b\b\b\b\b\b\b\b\b\b\b                \b\b\b\b\b\b\b\b\b\b\b\b\b\b\b\b 19% - train.csv\b\b\b\b\b\b\b\b\b\b\b\b\b\b\b\b                \b\b\b\b\b\b\b\b\b\b\b\b\b\b\b\b 21% - train.csv\b\b\b\b\b\b\b\b\b\b\b\b\b\b\b\b                \b\b\b\b\b\b\b\b\b\b\b\b\b\b\b\b 22% - train.csv\b\b\b\b\b\b\b\b\b\b\b\b\b\b\b\b                \b\b\b\b\b\b\b\b\b\b\b\b\b\b\b\b 24% - train.csv\b\b\b\b\b\b\b\b\b\b\b\b\b\b\b\b                \b\b\b\b\b\b\b\b\b\b\b\b\b\b\b\b 26% - train.csv\b\b\b\b\b\b\b\b\b\b\b\b\b\b\b\b                \b\b\b\b\b\b\b\b\b\b\b\b\b\b\b\b 28% - train.csv\b\b\b\b\b\b\b\b\b\b\b\b\b\b\b\b                \b\b\b\b\b\b\b\b\b\b\b\b\b\b\b\b 31% - train.csv\b\b\b\b\b\b\b\b\b\b\b\b\b\b\b\b                \b\b\b\b\b\b\b\b\b\b\b\b\b\b\b\b 33% - train.csv\b\b\b\b\b\b\b\b\b\b\b\b\b\b\b\b                \b\b\b\b\b\b\b\b\b\b\b\b\b\b\b\b 35% - train.csv\b\b\b\b\b\b\b\b\b\b\b\b\b\b\b\b                \b\b\b\b\b\b\b\b\b\b\b\b\b\b\b\b 37% - train.csv\b\b\b\b\b\b\b\b\b\b\b\b\b\b\b\b                \b\b\b\b\b\b\b\b\b\b\b\b\b\b\b\b 39% - train.csv\b\b\b\b\b\b\b\b\b\b\b\b\b\b\b\b                \b\b\b\b\b\b\b\b\b\b\b\b\b\b\b\b 41% - train.csv\b\b\b\b\b\b\b\b\b\b\b\b\b\b\b\b                \b\b\b\b\b\b\b\b\b\b\b\b\b\b\b\b 43% - train.csv\b\b\b\b\b\b\b\b\b\b\b\b\b\b\b\b                \b\b\b\b\b\b\b\b\b\b\b\b\b\b\b\b 45% - train.csv\b\b\b\b\b\b\b\b\b\b\b\b\b\b\b\b                \b\b\b\b\b\b\b\b\b\b\b\b\b\b\b\b 47% - train.csv\b\b\b\b\b\b\b\b\b\b\b\b\b\b\b\b                \b\b\b\b\b\b\b\b\b\b\b\b\b\b\b\b 49% - train.csv\b\b\b\b\b\b\b\b\b\b\b\b\b\b\b\b                \b\b\b\b\b\b\b\b\b\b\b\b\b\b\b\b 51% - train.csv\b\b\b\b\b\b\b\b\b\b\b\b\b\b\b\b                \b\b\b\b\b\b\b\b\b\b\b\b\b\b\b\b 53% - train.csv\b\b\b\b\b\b\b\b\b\b\b\b\b\b\b\b                \b\b\b\b\b\b\b\b\b\b\b\b\b\b\b\b 55% - train.csv\b\b\b\b\b\b\b\b\b\b\b\b\b\b\b\b                \b\b\b\b\b\b\b\b\b\b\b\b\b\b\b\b 57% - train.csv\b\b\b\b\b\b\b\b\b\b\b\b\b\b\b\b                \b\b\b\b\b\b\b\b\b\b\b\b\b\b\b\b 60% - train.csv\b\b\b\b\b\b\b\b\b\b\b\b\b\b\b\b                \b\b\b\b\b\b\b\b\b\b\b\b\b\b\b\b 62% - train.csv\b\b\b\b\b\b\b\b\b\b\b\b\b\b\b\b                \b\b\b\b\b\b\b\b\b\b\b\b\b\b\b\b 63% - train.csv\b\b\b\b\b\b\b\b\b\b\b\b\b\b\b\b                \b\b\b\b\b\b\b\b\b\b\b\b\b\b\b\b 66% - train.csv\b\b\b\b\b\b\b\b\b\b\b\b\b\b\b\b                \b\b\b\b\b\b\b\b\b\b\b\b\b\b\b\b 68% - train.csv\b\b\b\b\b\b\b\b\b\b\b\b\b\b\b\b                \b\b\b\b\b\b\b\b\b\b\b\b\b\b\b\b 69% - train.csv\b\b\b\b\b\b\b\b\b\b\b\b\b\b\b\b                \b\b\b\b\b\b\b\b\b\b\b\b\b\b\b\b 71% - train.csv\b\b\b\b\b\b\b\b\b\b\b\b\b\b\b\b                \b\b\b\b\b\b\b\b\b\b\b\b\b\b\b\b 73% - train.csv\b\b\b\b\b\b\b\b\b\b\b\b\b\b\b\b                \b\b\b\b\b\b\b\b\b\b\b\b\b\b\b\b 75% - train.csv\b\b\b\b\b\b\b\b\b\b\b\b\b\b\b\b                \b\b\b\b\b\b\b\b\b\b\b\b\b\b\b\b 76% - train.csv\b\b\b\b\b\b\b\b\b\b\b\b\b\b\b\b                \b\b\b\b\b\b\b\b\b\b\b\b\b\b\b\b 78% - train.csv\b\b\b\b\b\b\b\b\b\b\b\b\b\b\b\b                \b\b\b\b\b\b\b\b\b\b\b\b\b\b\b\b 81% - train.csv\b\b\b\b\b\b\b\b\b\b\b\b\b\b\b\b                \b\b\b\b\b\b\b\b\b\b\b\b\b\b\b\b 82% - train.csv\b\b\b\b\b\b\b\b\b\b\b\b\b\b\b\b                \b\b\b\b\b\b\b\b\b\b\b\b\b\b\b\b 84% - train.csv\b\b\b\b\b\b\b\b\b\b\b\b\b\b\b\b                \b\b\b\b\b\b\b\b\b\b\b\b\b\b\b\b 86% - train.csv\b\b\b\b\b\b\b\b\b\b\b\b\b\b\b\b                \b\b\b\b\b\b\b\b\b\b\b\b\b\b\b\b 88% - train.csv\b\b\b\b\b\b\b\b\b\b\b\b\b\b\b\b                \b\b\b\b\b\b\b\b\b\b\b\b\b\b\b\b 90% - train.csv\b\b\b\b\b\b\b\b\b\b\b\b\b\b\b\b                \b\b\b\b\b\b\b\b\b\b\b\b\b\b\b\b 93% - train.csv\b\b\b\b\b\b\b\b\b\b\b\b\b\b\b\b                \b\b\b\b\b\b\b\b\b\b\b\b\b\b\b\b 95% - train.csv\b\b\b\b\b\b\b\b\b\b\b\b\b\b\b\b                \b\b\b\b\b\b\b\b\b\b\b\b\b\b\b\b 97% - train.csv\b\b\b\b\b\b\b\b\b\b\b\b\b\b\b\b                \b\b\b\b\b\b\b\b\b\b\b\b\b\b\b\b 98% - train.csv\b\b\b\b\b\b\b\b\b\b\b\b\b\b\b\b                \b\b\b\b\b\b\b\b\b\b\b\b\b\b\b\bEverything is Ok\n",
            "\n",
            "Size:       971675848\n",
            "Compressed: 106420688\n"
          ],
          "name": "stdout"
        }
      ]
    },
    {
      "metadata": {
        "id": "1B09MoEhpua8",
        "colab_type": "code",
        "colab": {}
      },
      "cell_type": "code",
      "source": [
        "df = pd.read_csv('train.csv', sep=',', error_bad_lines=False, encoding=\"latin-1\", nrows=10000)"
      ],
      "execution_count": 0,
      "outputs": []
    },
    {
      "metadata": {
        "id": "Qpe_1DNd8w38",
        "colab_type": "code",
        "outputId": "e0fdfb36-cb72-4939-c6ef-8d71ceb02b74",
        "colab": {
          "base_uri": "https://localhost:8080/",
          "height": 35
        }
      },
      "cell_type": "code",
      "source": [
        "df.shape"
      ],
      "execution_count": 4,
      "outputs": [
        {
          "output_type": "execute_result",
          "data": {
            "text/plain": [
              "(10000, 6)"
            ]
          },
          "metadata": {
            "tags": []
          },
          "execution_count": 4
        }
      ]
    },
    {
      "metadata": {
        "id": "BtRD_EGW9LGu",
        "colab_type": "code",
        "outputId": "01a5d4b4-d445-4448-ed74-d6fd5ab47335",
        "colab": {
          "base_uri": "https://localhost:8080/",
          "height": 35
        }
      },
      "cell_type": "code",
      "source": [
        "df = df.drop('source_screen_name', axis=1).drop('source_type', axis=1).drop('source_system_tab', axis=1)\n",
        "df.shape"
      ],
      "execution_count": 5,
      "outputs": [
        {
          "output_type": "execute_result",
          "data": {
            "text/plain": [
              "(10000, 3)"
            ]
          },
          "metadata": {
            "tags": []
          },
          "execution_count": 5
        }
      ]
    },
    {
      "metadata": {
        "id": "vZ6kFt89-isJ",
        "colab_type": "code",
        "outputId": "da589aff-96b4-401e-9243-8b45cda89247",
        "colab": {
          "base_uri": "https://localhost:8080/",
          "height": 198
        }
      },
      "cell_type": "code",
      "source": [
        "#index users\n",
        "users = df.msno.unique()\n",
        "usersdf = pd.DataFrame(users)\n",
        "usersdf.head()"
      ],
      "execution_count": 6,
      "outputs": [
        {
          "output_type": "execute_result",
          "data": {
            "text/html": [
              "<div>\n",
              "<style scoped>\n",
              "    .dataframe tbody tr th:only-of-type {\n",
              "        vertical-align: middle;\n",
              "    }\n",
              "\n",
              "    .dataframe tbody tr th {\n",
              "        vertical-align: top;\n",
              "    }\n",
              "\n",
              "    .dataframe thead th {\n",
              "        text-align: right;\n",
              "    }\n",
              "</style>\n",
              "<table border=\"1\" class=\"dataframe\">\n",
              "  <thead>\n",
              "    <tr style=\"text-align: right;\">\n",
              "      <th></th>\n",
              "      <th>0</th>\n",
              "    </tr>\n",
              "  </thead>\n",
              "  <tbody>\n",
              "    <tr>\n",
              "      <th>0</th>\n",
              "      <td>FGtllVqz18RPiwJj/edr2gV78zirAiY/9SmYvia+kCg=</td>\n",
              "    </tr>\n",
              "    <tr>\n",
              "      <th>1</th>\n",
              "      <td>Xumu+NIjS6QYVxDS4/t3SawvJ7viT9hPKXmf0RtLNx8=</td>\n",
              "    </tr>\n",
              "    <tr>\n",
              "      <th>2</th>\n",
              "      <td>uHqAtShXTRXju5GE8ri3ITsVFepPf8jUoCF7ffNOuqE=</td>\n",
              "    </tr>\n",
              "    <tr>\n",
              "      <th>3</th>\n",
              "      <td>TJU0Gfvy7FB+r89bWovPKXTjuApTCiv3xg/tt5shR78=</td>\n",
              "    </tr>\n",
              "    <tr>\n",
              "      <th>4</th>\n",
              "      <td>3g0bC24RD7QUeALY1IF/e8L6X3fHG298ZFIsCEG9T9Y=</td>\n",
              "    </tr>\n",
              "  </tbody>\n",
              "</table>\n",
              "</div>"
            ],
            "text/plain": [
              "                                              0\n",
              "0  FGtllVqz18RPiwJj/edr2gV78zirAiY/9SmYvia+kCg=\n",
              "1  Xumu+NIjS6QYVxDS4/t3SawvJ7viT9hPKXmf0RtLNx8=\n",
              "2  uHqAtShXTRXju5GE8ri3ITsVFepPf8jUoCF7ffNOuqE=\n",
              "3  TJU0Gfvy7FB+r89bWovPKXTjuApTCiv3xg/tt5shR78=\n",
              "4  3g0bC24RD7QUeALY1IF/e8L6X3fHG298ZFIsCEG9T9Y="
            ]
          },
          "metadata": {
            "tags": []
          },
          "execution_count": 6
        }
      ]
    },
    {
      "metadata": {
        "id": "9FWB7WEh-_fW",
        "colab_type": "code",
        "outputId": "a9aada7c-c178-4fe0-f3b0-fc63bda32991",
        "colab": {
          "base_uri": "https://localhost:8080/",
          "height": 198
        }
      },
      "cell_type": "code",
      "source": [
        "usersdf['user_id'] = usersdf.index +1\n",
        "usersdf.columns = [\"msno\",\"user_id\"]\n",
        "usersdf.head()\n"
      ],
      "execution_count": 7,
      "outputs": [
        {
          "output_type": "execute_result",
          "data": {
            "text/html": [
              "<div>\n",
              "<style scoped>\n",
              "    .dataframe tbody tr th:only-of-type {\n",
              "        vertical-align: middle;\n",
              "    }\n",
              "\n",
              "    .dataframe tbody tr th {\n",
              "        vertical-align: top;\n",
              "    }\n",
              "\n",
              "    .dataframe thead th {\n",
              "        text-align: right;\n",
              "    }\n",
              "</style>\n",
              "<table border=\"1\" class=\"dataframe\">\n",
              "  <thead>\n",
              "    <tr style=\"text-align: right;\">\n",
              "      <th></th>\n",
              "      <th>msno</th>\n",
              "      <th>user_id</th>\n",
              "    </tr>\n",
              "  </thead>\n",
              "  <tbody>\n",
              "    <tr>\n",
              "      <th>0</th>\n",
              "      <td>FGtllVqz18RPiwJj/edr2gV78zirAiY/9SmYvia+kCg=</td>\n",
              "      <td>1</td>\n",
              "    </tr>\n",
              "    <tr>\n",
              "      <th>1</th>\n",
              "      <td>Xumu+NIjS6QYVxDS4/t3SawvJ7viT9hPKXmf0RtLNx8=</td>\n",
              "      <td>2</td>\n",
              "    </tr>\n",
              "    <tr>\n",
              "      <th>2</th>\n",
              "      <td>uHqAtShXTRXju5GE8ri3ITsVFepPf8jUoCF7ffNOuqE=</td>\n",
              "      <td>3</td>\n",
              "    </tr>\n",
              "    <tr>\n",
              "      <th>3</th>\n",
              "      <td>TJU0Gfvy7FB+r89bWovPKXTjuApTCiv3xg/tt5shR78=</td>\n",
              "      <td>4</td>\n",
              "    </tr>\n",
              "    <tr>\n",
              "      <th>4</th>\n",
              "      <td>3g0bC24RD7QUeALY1IF/e8L6X3fHG298ZFIsCEG9T9Y=</td>\n",
              "      <td>5</td>\n",
              "    </tr>\n",
              "  </tbody>\n",
              "</table>\n",
              "</div>"
            ],
            "text/plain": [
              "                                           msno  user_id\n",
              "0  FGtllVqz18RPiwJj/edr2gV78zirAiY/9SmYvia+kCg=        1\n",
              "1  Xumu+NIjS6QYVxDS4/t3SawvJ7viT9hPKXmf0RtLNx8=        2\n",
              "2  uHqAtShXTRXju5GE8ri3ITsVFepPf8jUoCF7ffNOuqE=        3\n",
              "3  TJU0Gfvy7FB+r89bWovPKXTjuApTCiv3xg/tt5shR78=        4\n",
              "4  3g0bC24RD7QUeALY1IF/e8L6X3fHG298ZFIsCEG9T9Y=        5"
            ]
          },
          "metadata": {
            "tags": []
          },
          "execution_count": 7
        }
      ]
    },
    {
      "metadata": {
        "id": "LPq6y8BLCZJ7",
        "colab_type": "code",
        "outputId": "b299898b-8653-4055-b180-c477c975a904",
        "colab": {
          "base_uri": "https://localhost:8080/",
          "height": 198
        }
      },
      "cell_type": "code",
      "source": [
        "#index songs\n",
        "songs = df.song_id.unique()\n",
        "songsdf = pd.DataFrame(songs)\n",
        "songsdf['songid'] = songsdf.index +1\n",
        "songsdf.columns = [\"song_id\",\"songid\"]\n",
        "songsdf.head()"
      ],
      "execution_count": 8,
      "outputs": [
        {
          "output_type": "execute_result",
          "data": {
            "text/html": [
              "<div>\n",
              "<style scoped>\n",
              "    .dataframe tbody tr th:only-of-type {\n",
              "        vertical-align: middle;\n",
              "    }\n",
              "\n",
              "    .dataframe tbody tr th {\n",
              "        vertical-align: top;\n",
              "    }\n",
              "\n",
              "    .dataframe thead th {\n",
              "        text-align: right;\n",
              "    }\n",
              "</style>\n",
              "<table border=\"1\" class=\"dataframe\">\n",
              "  <thead>\n",
              "    <tr style=\"text-align: right;\">\n",
              "      <th></th>\n",
              "      <th>song_id</th>\n",
              "      <th>songid</th>\n",
              "    </tr>\n",
              "  </thead>\n",
              "  <tbody>\n",
              "    <tr>\n",
              "      <th>0</th>\n",
              "      <td>BBzumQNXUHKdEBOB7mAJuzok+IJA1c2Ryg/yzTF6tik=</td>\n",
              "      <td>1</td>\n",
              "    </tr>\n",
              "    <tr>\n",
              "      <th>1</th>\n",
              "      <td>bhp/MpSNoqoxOIB+/l8WPqu6jldth4DIpCm3ayXnJqM=</td>\n",
              "      <td>2</td>\n",
              "    </tr>\n",
              "    <tr>\n",
              "      <th>2</th>\n",
              "      <td>JNWfrrC7zNN7BdMpsISKa4Mw+xVJYNnxXh3/Epw7QgY=</td>\n",
              "      <td>3</td>\n",
              "    </tr>\n",
              "    <tr>\n",
              "      <th>3</th>\n",
              "      <td>2A87tzfnJTSWqD7gIZHisolhe4DMdzkbd6LzO1KHjNs=</td>\n",
              "      <td>4</td>\n",
              "    </tr>\n",
              "    <tr>\n",
              "      <th>4</th>\n",
              "      <td>3qm6XTZ6MOCU11x8FIVbAGH5l5uMkT3/ZalWG1oo2Gc=</td>\n",
              "      <td>5</td>\n",
              "    </tr>\n",
              "  </tbody>\n",
              "</table>\n",
              "</div>"
            ],
            "text/plain": [
              "                                        song_id  songid\n",
              "0  BBzumQNXUHKdEBOB7mAJuzok+IJA1c2Ryg/yzTF6tik=       1\n",
              "1  bhp/MpSNoqoxOIB+/l8WPqu6jldth4DIpCm3ayXnJqM=       2\n",
              "2  JNWfrrC7zNN7BdMpsISKa4Mw+xVJYNnxXh3/Epw7QgY=       3\n",
              "3  2A87tzfnJTSWqD7gIZHisolhe4DMdzkbd6LzO1KHjNs=       4\n",
              "4  3qm6XTZ6MOCU11x8FIVbAGH5l5uMkT3/ZalWG1oo2Gc=       5"
            ]
          },
          "metadata": {
            "tags": []
          },
          "execution_count": 8
        }
      ]
    },
    {
      "metadata": {
        "id": "ladvQbgMCljl",
        "colab_type": "code",
        "outputId": "2883894f-2e0a-4e70-884f-df5e471c0fe1",
        "colab": {
          "base_uri": "https://localhost:8080/",
          "height": 218
        }
      },
      "cell_type": "code",
      "source": [
        "df = pd.merge(df, usersdf, on='msno')\n",
        "df = pd.merge(df, songsdf, on='song_id')\n",
        "df.head()"
      ],
      "execution_count": 9,
      "outputs": [
        {
          "output_type": "execute_result",
          "data": {
            "text/html": [
              "<div>\n",
              "<style scoped>\n",
              "    .dataframe tbody tr th:only-of-type {\n",
              "        vertical-align: middle;\n",
              "    }\n",
              "\n",
              "    .dataframe tbody tr th {\n",
              "        vertical-align: top;\n",
              "    }\n",
              "\n",
              "    .dataframe thead th {\n",
              "        text-align: right;\n",
              "    }\n",
              "</style>\n",
              "<table border=\"1\" class=\"dataframe\">\n",
              "  <thead>\n",
              "    <tr style=\"text-align: right;\">\n",
              "      <th></th>\n",
              "      <th>msno</th>\n",
              "      <th>song_id</th>\n",
              "      <th>target</th>\n",
              "      <th>user_id</th>\n",
              "      <th>songid</th>\n",
              "    </tr>\n",
              "  </thead>\n",
              "  <tbody>\n",
              "    <tr>\n",
              "      <th>0</th>\n",
              "      <td>FGtllVqz18RPiwJj/edr2gV78zirAiY/9SmYvia+kCg=</td>\n",
              "      <td>BBzumQNXUHKdEBOB7mAJuzok+IJA1c2Ryg/yzTF6tik=</td>\n",
              "      <td>1</td>\n",
              "      <td>1</td>\n",
              "      <td>1</td>\n",
              "    </tr>\n",
              "    <tr>\n",
              "      <th>1</th>\n",
              "      <td>FGtllVqz18RPiwJj/edr2gV78zirAiY/9SmYvia+kCg=</td>\n",
              "      <td>3qm6XTZ6MOCU11x8FIVbAGH5l5uMkT3/ZalWG1oo2Gc=</td>\n",
              "      <td>1</td>\n",
              "      <td>1</td>\n",
              "      <td>5</td>\n",
              "    </tr>\n",
              "    <tr>\n",
              "      <th>2</th>\n",
              "      <td>FGtllVqz18RPiwJj/edr2gV78zirAiY/9SmYvia+kCg=</td>\n",
              "      <td>3Hg5kugV1S0wzEVLAEfqjIV5UHzb7bCrdBRQlGygLvU=</td>\n",
              "      <td>1</td>\n",
              "      <td>1</td>\n",
              "      <td>6</td>\n",
              "    </tr>\n",
              "    <tr>\n",
              "      <th>3</th>\n",
              "      <td>FGtllVqz18RPiwJj/edr2gV78zirAiY/9SmYvia+kCg=</td>\n",
              "      <td>bPIvRTzfHxH5LgHrStll+tYwSQNVV8PySgA3M1PfTgc=</td>\n",
              "      <td>1</td>\n",
              "      <td>1</td>\n",
              "      <td>8</td>\n",
              "    </tr>\n",
              "    <tr>\n",
              "      <th>4</th>\n",
              "      <td>FGtllVqz18RPiwJj/edr2gV78zirAiY/9SmYvia+kCg=</td>\n",
              "      <td>XUz4Z4wPPChz+OIwkwj7HJ8teIjW3rEMdEATM80rDxM=</td>\n",
              "      <td>1</td>\n",
              "      <td>1</td>\n",
              "      <td>326</td>\n",
              "    </tr>\n",
              "  </tbody>\n",
              "</table>\n",
              "</div>"
            ],
            "text/plain": [
              "                                           msno  \\\n",
              "0  FGtllVqz18RPiwJj/edr2gV78zirAiY/9SmYvia+kCg=   \n",
              "1  FGtllVqz18RPiwJj/edr2gV78zirAiY/9SmYvia+kCg=   \n",
              "2  FGtllVqz18RPiwJj/edr2gV78zirAiY/9SmYvia+kCg=   \n",
              "3  FGtllVqz18RPiwJj/edr2gV78zirAiY/9SmYvia+kCg=   \n",
              "4  FGtllVqz18RPiwJj/edr2gV78zirAiY/9SmYvia+kCg=   \n",
              "\n",
              "                                        song_id  target  user_id  songid  \n",
              "0  BBzumQNXUHKdEBOB7mAJuzok+IJA1c2Ryg/yzTF6tik=       1        1       1  \n",
              "1  3qm6XTZ6MOCU11x8FIVbAGH5l5uMkT3/ZalWG1oo2Gc=       1        1       5  \n",
              "2  3Hg5kugV1S0wzEVLAEfqjIV5UHzb7bCrdBRQlGygLvU=       1        1       6  \n",
              "3  bPIvRTzfHxH5LgHrStll+tYwSQNVV8PySgA3M1PfTgc=       1        1       8  \n",
              "4  XUz4Z4wPPChz+OIwkwj7HJ8teIjW3rEMdEATM80rDxM=       1        1     326  "
            ]
          },
          "metadata": {
            "tags": []
          },
          "execution_count": 9
        }
      ]
    },
    {
      "metadata": {
        "id": "e5-C5NocDQL1",
        "colab_type": "code",
        "outputId": "41ac3e35-5af3-42da-da88-93564bc0ac4a",
        "colab": {
          "base_uri": "https://localhost:8080/",
          "height": 198
        }
      },
      "cell_type": "code",
      "source": [
        "df = df.drop(\"msno\", axis=1).drop(\"song_id\", axis=1)\n",
        "df.head()"
      ],
      "execution_count": 10,
      "outputs": [
        {
          "output_type": "execute_result",
          "data": {
            "text/html": [
              "<div>\n",
              "<style scoped>\n",
              "    .dataframe tbody tr th:only-of-type {\n",
              "        vertical-align: middle;\n",
              "    }\n",
              "\n",
              "    .dataframe tbody tr th {\n",
              "        vertical-align: top;\n",
              "    }\n",
              "\n",
              "    .dataframe thead th {\n",
              "        text-align: right;\n",
              "    }\n",
              "</style>\n",
              "<table border=\"1\" class=\"dataframe\">\n",
              "  <thead>\n",
              "    <tr style=\"text-align: right;\">\n",
              "      <th></th>\n",
              "      <th>target</th>\n",
              "      <th>user_id</th>\n",
              "      <th>songid</th>\n",
              "    </tr>\n",
              "  </thead>\n",
              "  <tbody>\n",
              "    <tr>\n",
              "      <th>0</th>\n",
              "      <td>1</td>\n",
              "      <td>1</td>\n",
              "      <td>1</td>\n",
              "    </tr>\n",
              "    <tr>\n",
              "      <th>1</th>\n",
              "      <td>1</td>\n",
              "      <td>1</td>\n",
              "      <td>5</td>\n",
              "    </tr>\n",
              "    <tr>\n",
              "      <th>2</th>\n",
              "      <td>1</td>\n",
              "      <td>1</td>\n",
              "      <td>6</td>\n",
              "    </tr>\n",
              "    <tr>\n",
              "      <th>3</th>\n",
              "      <td>1</td>\n",
              "      <td>1</td>\n",
              "      <td>8</td>\n",
              "    </tr>\n",
              "    <tr>\n",
              "      <th>4</th>\n",
              "      <td>1</td>\n",
              "      <td>1</td>\n",
              "      <td>326</td>\n",
              "    </tr>\n",
              "  </tbody>\n",
              "</table>\n",
              "</div>"
            ],
            "text/plain": [
              "   target  user_id  songid\n",
              "0       1        1       1\n",
              "1       1        1       5\n",
              "2       1        1       6\n",
              "3       1        1       8\n",
              "4       1        1     326"
            ]
          },
          "metadata": {
            "tags": []
          },
          "execution_count": 10
        }
      ]
    },
    {
      "metadata": {
        "id": "RkWCxSL4DnFk",
        "colab_type": "code",
        "outputId": "d65f0397-e2d8-4bdb-ee46-42d1bc2e1042",
        "colab": {
          "base_uri": "https://localhost:8080/",
          "height": 198
        }
      },
      "cell_type": "code",
      "source": [
        "df = df[['user_id', 'songid', 'target']]\n",
        "df.head()"
      ],
      "execution_count": 11,
      "outputs": [
        {
          "output_type": "execute_result",
          "data": {
            "text/html": [
              "<div>\n",
              "<style scoped>\n",
              "    .dataframe tbody tr th:only-of-type {\n",
              "        vertical-align: middle;\n",
              "    }\n",
              "\n",
              "    .dataframe tbody tr th {\n",
              "        vertical-align: top;\n",
              "    }\n",
              "\n",
              "    .dataframe thead th {\n",
              "        text-align: right;\n",
              "    }\n",
              "</style>\n",
              "<table border=\"1\" class=\"dataframe\">\n",
              "  <thead>\n",
              "    <tr style=\"text-align: right;\">\n",
              "      <th></th>\n",
              "      <th>user_id</th>\n",
              "      <th>songid</th>\n",
              "      <th>target</th>\n",
              "    </tr>\n",
              "  </thead>\n",
              "  <tbody>\n",
              "    <tr>\n",
              "      <th>0</th>\n",
              "      <td>1</td>\n",
              "      <td>1</td>\n",
              "      <td>1</td>\n",
              "    </tr>\n",
              "    <tr>\n",
              "      <th>1</th>\n",
              "      <td>1</td>\n",
              "      <td>5</td>\n",
              "      <td>1</td>\n",
              "    </tr>\n",
              "    <tr>\n",
              "      <th>2</th>\n",
              "      <td>1</td>\n",
              "      <td>6</td>\n",
              "      <td>1</td>\n",
              "    </tr>\n",
              "    <tr>\n",
              "      <th>3</th>\n",
              "      <td>1</td>\n",
              "      <td>8</td>\n",
              "      <td>1</td>\n",
              "    </tr>\n",
              "    <tr>\n",
              "      <th>4</th>\n",
              "      <td>1</td>\n",
              "      <td>326</td>\n",
              "      <td>1</td>\n",
              "    </tr>\n",
              "  </tbody>\n",
              "</table>\n",
              "</div>"
            ],
            "text/plain": [
              "   user_id  songid  target\n",
              "0        1       1       1\n",
              "1        1       5       1\n",
              "2        1       6       1\n",
              "3        1       8       1\n",
              "4        1     326       1"
            ]
          },
          "metadata": {
            "tags": []
          },
          "execution_count": 11
        }
      ]
    },
    {
      "metadata": {
        "id": "aqkFeDcUPu_R",
        "colab_type": "code",
        "outputId": "e72114e9-90d6-4ae2-a5c6-f4491cb63fe9",
        "colab": {
          "base_uri": "https://localhost:8080/",
          "height": 35
        }
      },
      "cell_type": "code",
      "source": [
        "df.shape"
      ],
      "execution_count": 12,
      "outputs": [
        {
          "output_type": "execute_result",
          "data": {
            "text/plain": [
              "(10000, 3)"
            ]
          },
          "metadata": {
            "tags": []
          },
          "execution_count": 12
        }
      ]
    },
    {
      "metadata": {
        "id": "EKKdeQJ9vbwb",
        "colab_type": "text"
      },
      "cell_type": "markdown",
      "source": [
        "# Model"
      ]
    },
    {
      "metadata": {
        "id": "-9WCyUVsq-jq",
        "colab_type": "text"
      },
      "cell_type": "markdown",
      "source": [
        "\n",
        "Similar to the standard Denoising Auto-Encoder, CDAE is also\n",
        "represented as a one-hidden-layer neural network. The key difference\n",
        "is that the input also encodes a latent vector for the user, which\n",
        "allows CDAE to be a much better recommender model. Figure  shows a sample structure of CDAE. CDAE\n",
        "consists of 3 layers, including the input layer, the hidden layer and\n",
        "the output layer"
      ]
    },
    {
      "metadata": {
        "id": "aecq7F9qrQsl",
        "colab_type": "text"
      },
      "cell_type": "markdown",
      "source": [
        "![alt text](https://github.com/shreyabansal25/Recommended-Systems/blob/master/CDAE.PNG?raw=true)"
      ]
    },
    {
      "metadata": {
        "colab_type": "code",
        "id": "7TSo5WwM-hlW",
        "colab": {}
      },
      "cell_type": "code",
      "source": [
        "# efficient version\n",
        "def precision_recall_ndcg_at_k(k, rankedlist, test_matrix):\n",
        "    idcg_k = 0\n",
        "    dcg_k = 0\n",
        "    n_k = k if len(test_matrix) > k else len(test_matrix)\n",
        "    for i in range(n_k):\n",
        "        idcg_k += 1 / math.log(i + 2, 2)\n",
        "\n",
        "    b1 = rankedlist\n",
        "    b2 = test_matrix\n",
        "    s2 = set(b2)\n",
        "    hits = [(idx, val) for idx, val in enumerate(b1) if val in s2]\n",
        "    count = len(hits)\n",
        "\n",
        "    for c in range(count):\n",
        "        dcg_k += 1 / math.log(hits[c][0] + 2, 2)\n",
        "\n",
        "    return float(count / k), float(count / len(test_matrix)), float(dcg_k / idcg_k)\n",
        "\n",
        "\n",
        "def map_mrr_ndcg(rankedlist, test_matrix):\n",
        "    ap = 0\n",
        "    map = 0\n",
        "    dcg = 0\n",
        "    idcg = 0\n",
        "    mrr = 0\n",
        "    for i in range(len(test_matrix)):\n",
        "        idcg += 1 / math.log(i + 2, 2)\n",
        "\n",
        "    b1 = rankedlist\n",
        "    b2 = test_matrix\n",
        "    s2 = set(b2)\n",
        "    hits = [(idx, val) for idx, val in enumerate(b1) if val in s2]\n",
        "    count = len(hits)\n",
        "\n",
        "    for c in range(count):\n",
        "        ap += (c + 1) / (hits[c][0] + 1)\n",
        "        dcg += 1 / math.log(hits[c][0] + 2, 2)\n",
        "\n",
        "    if count != 0:\n",
        "        mrr = 1 / (hits[0][0] + 1)\n",
        "\n",
        "    if count != 0:\n",
        "        map = ap / count\n",
        "\n",
        "    return map, mrr, float(dcg / idcg)\n",
        "\n",
        "\n",
        "def evaluate(self):\n",
        "    \n",
        "    pred_ratings_10 = {}\n",
        "    pred_ratings_5 = {}\n",
        "    pred_ratings = {}\n",
        "    ranked_list = {}\n",
        "    p_at_5 = []\n",
        "    p_at_10 = []\n",
        "    r_at_5 = []\n",
        "    r_at_10 = []\n",
        "    map = []\n",
        "    mrr = []\n",
        "    ndcg = []\n",
        "    ndcg_at_5 = []\n",
        "    ndcg_at_10 = []\n",
        "    for u in self.test_users:\n",
        "        user_ids = []\n",
        "        user_neg_items = self.neg_items[u]\n",
        "        item_ids = []\n",
        "        # scores = []\n",
        "        for j in user_neg_items:\n",
        "            item_ids.append(j)\n",
        "            user_ids.append(u)\n",
        "\n",
        "        scores = self.predict(user_ids, item_ids)\n",
        "        # print(type(scores))\n",
        "        # print(scores)\n",
        "        # print(np.shape(scores))\n",
        "        # print(ratings)\n",
        "        neg_item_index = list(zip(item_ids, scores))\n",
        "\n",
        "        ranked_list[u] = sorted(neg_item_index, key=lambda tup: tup[1], reverse=True)\n",
        "        pred_ratings[u] = [r[0] for r in ranked_list[u]]\n",
        "        pred_ratings_5[u] = pred_ratings[u][:5]\n",
        "        pred_ratings_10[u] = pred_ratings[u][:10]\n",
        "\n",
        "        p_5, r_5, ndcg_5 = precision_recall_ndcg_at_k(5, pred_ratings_5[u], self.test_data[u])\n",
        "        p_at_5.append(p_5)\n",
        "        r_at_5.append(r_5)\n",
        "        ndcg_at_5.append(ndcg_5)\n",
        "        p_10, r_10, ndcg_10 = precision_recall_ndcg_at_k(10, pred_ratings_10[u], self.test_data[u])\n",
        "        p_at_10.append(p_10)\n",
        "        r_at_10.append(r_10)\n",
        "        ndcg_at_10.append(ndcg_10)\n",
        "        map_u, mrr_u, ndcg_u = map_mrr_ndcg(pred_ratings[u], self.test_data[u])\n",
        "        map.append(map_u)\n",
        "        mrr.append(mrr_u)\n",
        "        ndcg.append(ndcg_u)\n",
        "\n",
        "    print(\"-----------------------------------------------------\")\n",
        "    #print(\"precision@10: \" + str(np.mean(p_at_10)))\n",
        "    #print(\"recall@10: \" + str(np.mean(r_at_10)))\n",
        "    #print(\"precision@5: \" + str(np.mean(p_at_5)))\n",
        "    #print(\"recall@5: \" + str(np.mean(r_at_5)))\n",
        "    #print(\"map: \" + str(np.mean(map)))\n",
        "    #print(\"mrr: \" + str(np.mean(mrr)))\n",
        "    #print(\"ndcg: \" + str(np.mean(ndcg)))\n",
        "    #print(\"ndcg@5: \" + str(np.mean(ndcg_at_5)))\n",
        "    #print(\"ndcg@10: \" + str(np.mean(ndcg_at_10)))\n",
        "    \n",
        "    return np.mean(p_at_5), np.mean(r_at_5)"
      ],
      "execution_count": 0,
      "outputs": []
    },
    {
      "metadata": {
        "colab_type": "code",
        "id": "4yUEfuGY-hla",
        "colab": {}
      },
      "cell_type": "code",
      "source": [
        "class ICDAE():\n",
        "    '''\n",
        "    Based on CDAE and I-AutoRec, I designed the following item based CDAE, it seems to perform better than CDAE slightly.\n",
        "    '''\n",
        "\n",
        "    def __init__(self, sess, num_user, num_item, learning_rate=1e-3, reg_rate=0.1, epoch=25, batch_size=1000,\n",
        "                 verbose=False, T=1, display_step=10):\n",
        "        self.learning_rate = learning_rate\n",
        "        self.epochs = epoch\n",
        "        self.batch_size = batch_size\n",
        "        self.reg_rate = reg_rate\n",
        "        self.sess = sess\n",
        "        self.num_user = num_user\n",
        "        self.num_item = num_item\n",
        "        self.verbose = verbose\n",
        "        self.T = T\n",
        "        self.display_step = display_step\n",
        "        print(\"Item based CDAE.\")\n",
        "\n",
        "    def build_network(self, hidden_neuron=500, corruption_level=0):\n",
        "        self.corrupted_interact_matrix = tf.placeholder(dtype=tf.float32, shape=[None, self.num_user])\n",
        "        self.interact_matrix = tf.placeholder(dtype=tf.float32, shape=[None, self.num_user])\n",
        "        self.item_id = tf.placeholder(dtype=tf.int32, shape=[None])\n",
        "        self.corruption_level = corruption_level\n",
        "\n",
        "        W = tf.Variable(tf.random_normal([self.num_user, hidden_neuron], stddev=0.01))\n",
        "        W_prime = tf.Variable(tf.random_normal([hidden_neuron, self.num_user], stddev=0.01))\n",
        "        V = tf.Variable(tf.random_normal([self.num_item, hidden_neuron], stddev=0.01))\n",
        "\n",
        "        b = tf.Variable(tf.random_normal([hidden_neuron], stddev=0.01))\n",
        "        b_prime = tf.Variable(tf.random_normal([self.num_user], stddev=0.01))\n",
        "        # print(np.shape(tf.matmul(self.corrupted_interact_matrix, W)))\n",
        "        # print(np.shape( tf.nn.embedding_lookup(V, self.item_id)))\n",
        "        layer_1 = tf.sigmoid(tf.matmul(self.corrupted_interact_matrix, W) + b)\n",
        "        self.layer_2 = tf.sigmoid(tf.matmul(layer_1, W_prime) + b_prime)\n",
        "\n",
        "        self.loss = - tf.reduce_sum(\n",
        "            self.interact_matrix * tf.log(self.layer_2) + (1 - self.interact_matrix) * tf.log(1 - self.layer_2)) \\\n",
        "                    + self.reg_rate * (\n",
        "        tf.nn.l2_loss(W) + tf.nn.l2_loss(W_prime) + tf.nn.l2_loss(b) + tf.nn.l2_loss(b_prime))\n",
        "\n",
        "        self.optimizer = tf.train.AdamOptimizer(learning_rate=self.learning_rate).minimize(self.loss)\n",
        "\n",
        "    def prepare_data(self, train_data, test_data):\n",
        "        self.train_data = self._data_process(train_data).transpose()\n",
        "        self.neg_items = self._get_neg_items(train_data)\n",
        "        self.num_training = self.num_item\n",
        "        self.total_batch = int(self.num_training / self.batch_size)\n",
        "        self.test_data = test_data\n",
        "        self.test_users = set([u for u in self.test_data.keys() if len(self.test_data[u]) > 0])\n",
        "        print(\"data preparation finished.\")\n",
        "\n",
        "    def train(self):\n",
        "\n",
        "        idxs = np.random.permutation(self.num_training)  # shuffled ordering\n",
        "\n",
        "        for i in range(self.total_batch):\n",
        "            start_time = time.time()\n",
        "            if i == self.total_batch - 1:\n",
        "                batch_set_idx = idxs[i * self.batch_size:]\n",
        "            elif i < self.total_batch - 1:\n",
        "                batch_set_idx = idxs[i * self.batch_size: (i + 1) * self.batch_size]\n",
        "\n",
        "            _, loss = self.sess.run([self.optimizer, self.loss], feed_dict={\n",
        "                self.corrupted_interact_matrix: self._get_corrupted_input(self.train_data[batch_set_idx, :],\n",
        "                                                                          self.corruption_level),\n",
        "                self.interact_matrix: self.train_data[batch_set_idx, :],\n",
        "                self.item_id: batch_set_idx\n",
        "                })\n",
        "            if self.verbose and i % self.display_step == 0:\n",
        "                print(\"Index: %04d; cost= %.9f\" % (i + 1, np.mean(loss)))\n",
        "                if self.verbose:\n",
        "                    print(\"one iteration: %s seconds.\" % (time.time() - start_time))\n",
        "\n",
        "    def test(self):\n",
        "        self.reconstruction = self.sess.run(self.layer_2, feed_dict={self.corrupted_interact_matrix: self.train_data,\n",
        "                                                                     self.item_id: range(self.num_item)}).transpose()\n",
        "        \n",
        "        precision, recall = evaluate(self)\n",
        "        return precision, recall, self.reconstruction\n",
        "\n",
        "    def execute(self, train_data, test_data):\n",
        "        self.prepare_data(train_data, test_data)\n",
        "        init = tf.global_variables_initializer()\n",
        "        self.sess.run(init)\n",
        "        precision =[]\n",
        "        recall =[]\n",
        "        error =[]\n",
        "        for epoch in range(self.epochs):\n",
        "            self.train()\n",
        "            if (epoch) % self.T == 0:\n",
        "                prec, rec , err= self.test()\n",
        "                print(\"Epoch: %04d; \" % (epoch), end='')\n",
        "                precision.append(prec)\n",
        "                recall.append(rec)\n",
        "                error.append(np.mean(err))\n",
        "        return precision, recall, error\n",
        "\n",
        "    def save(self, path):\n",
        "        saver = tf.train.Saver()\n",
        "        saver.save(self.sess, path)\n",
        "\n",
        "    def predict(self, user_id, item_id):\n",
        "        return np.array(self.reconstruction[np.array(user_id), np.array(item_id)])\n",
        "\n",
        "    def _data_process(self, data):\n",
        "        return np.asmatrix(data)\n",
        "\n",
        "    def _get_neg_items(self, data):\n",
        "        neg_items = {}\n",
        "        for u in range(self.num_user):\n",
        "            neg_items[u] = [k for k, i in enumerate(data[u]) if data[u][k] == 0]\n",
        "            # print(neg_items[u])\n",
        "\n",
        "        return neg_items\n",
        "\n",
        "    def _get_corrupted_input(self, input, corruption_level):\n",
        "        return np.random.binomial(n=1, p=1 - corruption_level) * input\n"
      ],
      "execution_count": 0,
      "outputs": []
    },
    {
      "metadata": {
        "colab_type": "code",
        "id": "kLWYzJZp-hlg",
        "colab": {}
      },
      "cell_type": "code",
      "source": [
        "def load_data_all(test_size=0.2, sep=\"\\t\"):\n",
        "  \n",
        "    n_users = df.user_id.unique().shape[0]\n",
        "    n_items = df.songid.unique().shape[0]\n",
        "    \n",
        "    print(\"Number of users:\", n_users, \"Number of items:\", n_items)\n",
        "    train_data, test_data = train_test_split(df, test_size=test_size)\n",
        "    train_data = pd.DataFrame(train_data)\n",
        "    test_data = pd.DataFrame(test_data)\n",
        "    \n",
        "    \n",
        "    train_row = []\n",
        "    train_col = []\n",
        "    train_rating = []\n",
        "\n",
        "    train_dict = {}\n",
        "    for line in train_data.itertuples():\n",
        "        u = line[1] - 1\n",
        "        i = line[2] - 1\n",
        "        train_dict[(u, i)] = 1\n",
        "    print(\"train_dict done\")\n",
        "    \n",
        "    for u in range(n_users):\n",
        "        for i in range(n_items):\n",
        "            train_row.append(u)\n",
        "            train_col.append(i)\n",
        "            if (u, i) in train_dict.keys():\n",
        "                train_rating.append(1)\n",
        "            else:\n",
        "                train_rating.append(0)\n",
        "    train_matrix = csr_matrix((train_rating, (train_row, train_col)), shape=(n_users, n_items))\n",
        "    all_items = set(np.arange(n_items))\n",
        "    print(\"train_matrix done\")\n",
        "    \n",
        "    neg_items = {}\n",
        "    train_interaction_matrix = []\n",
        "    for u in range(n_users):\n",
        "        neg_items[u] = list(all_items - set(train_matrix.getrow(u).nonzero()[1]))\n",
        "        train_interaction_matrix.append(list(train_matrix.getrow(u).toarray()[0]))\n",
        "\n",
        "    test_row = []\n",
        "    test_col = []\n",
        "    test_rating = []\n",
        "    for line in test_data.itertuples():\n",
        "        test_row.append(line[1] - 1)\n",
        "        test_col.append(line[2] - 1)\n",
        "        test_rating.append(1)\n",
        "    test_matrix = csr_matrix((test_rating, (test_row, test_col)), shape=(n_users, n_items))\n",
        "    print(\"test_matrix done\")\n",
        "    \n",
        "    test_dict = {}\n",
        "    for u in range(n_users):\n",
        "        test_dict[u] = test_matrix.getrow(u).nonzero()[1]\n",
        "\n",
        "  \n",
        "\n",
        "    return train_interaction_matrix, test_dict, n_users, n_items\n",
        "\n"
      ],
      "execution_count": 0,
      "outputs": []
    },
    {
      "metadata": {
        "colab_type": "code",
        "id": "fVwZSkUt-hll",
        "outputId": "34489218-63a3-4f52-b54d-ae6a215b552c",
        "colab": {
          "base_uri": "https://localhost:8080/",
          "height": 599
        }
      },
      "cell_type": "code",
      "source": [
        "import matplotlib.pyplot as plt\n",
        "\n",
        "model ='CDAE'\n",
        "epochs = 25\n",
        "num_factors = 10\n",
        "display_step = 10\n",
        "batch_size = 100  # 128 for unlimpair\n",
        "learning_rate = 1e-3  # 1e-4 for unlimpair\n",
        "reg_rate = 0.1  # 0.01 for unlimpair\n",
        "train_data, test_data, n_user, n_item = load_data_all(test_size=0.2, sep=\"\\t\")\n",
        "\n",
        "config = tf.ConfigProto()\n",
        "config.gpu_options.allow_growth = True\n",
        "\n",
        "with tf.Session(config=config) as sess:\n",
        "    model = ICDAE(sess, n_user, n_item)\n",
        "    model.build_network()\n",
        "    precision, recall, error = model.execute(train_data, test_data)\n",
        "    \n",
        "print('Done!!!')\n",
        "    \n",
        "    \n"
      ],
      "execution_count": 20,
      "outputs": [
        {
          "output_type": "stream",
          "text": [
            "Number of users: 1622 Number of items: 5772\n",
            "train_dict done\n",
            "train_matrix done\n",
            "test_matrix done\n",
            "Item based CDAE.\n",
            "data preparation finished.\n",
            "-----------------------------------------------------\n",
            "Epoch: 0000; -----------------------------------------------------\n",
            "Epoch: 0001; -----------------------------------------------------\n",
            "Epoch: 0002; -----------------------------------------------------\n",
            "Epoch: 0003; -----------------------------------------------------\n",
            "Epoch: 0004; -----------------------------------------------------\n",
            "Epoch: 0005; -----------------------------------------------------\n",
            "Epoch: 0006; -----------------------------------------------------\n",
            "Epoch: 0007; -----------------------------------------------------\n",
            "Epoch: 0008; -----------------------------------------------------\n",
            "Epoch: 0009; -----------------------------------------------------\n",
            "Epoch: 0010; -----------------------------------------------------\n",
            "Epoch: 0011; -----------------------------------------------------\n",
            "Epoch: 0012; -----------------------------------------------------\n",
            "Epoch: 0013; -----------------------------------------------------\n",
            "Epoch: 0014; -----------------------------------------------------\n",
            "Epoch: 0015; -----------------------------------------------------\n",
            "Epoch: 0016; -----------------------------------------------------\n",
            "Epoch: 0017; -----------------------------------------------------\n",
            "Epoch: 0018; -----------------------------------------------------\n",
            "Epoch: 0019; -----------------------------------------------------\n",
            "Epoch: 0020; -----------------------------------------------------\n",
            "Epoch: 0021; -----------------------------------------------------\n",
            "Epoch: 0022; -----------------------------------------------------\n",
            "Epoch: 0023; -----------------------------------------------------\n",
            "Epoch: 0024; Done!!!\n"
          ],
          "name": "stdout"
        }
      ]
    },
    {
      "metadata": {
        "colab_type": "text",
        "id": "SwKY-Q0PXKob"
      },
      "cell_type": "markdown",
      "source": [
        "**Precision**"
      ]
    },
    {
      "metadata": {
        "colab_type": "code",
        "id": "Q64gaxNnXMp6",
        "outputId": "3ff58c6a-9b82-4319-9b40-463d1347d450",
        "colab": {
          "base_uri": "https://localhost:8080/",
          "height": 361
        }
      },
      "cell_type": "code",
      "source": [
        "plt.plot(precision)\n",
        "plt.ylabel('precision')\n",
        "plt.xlabel('Epoch')\n",
        "plt.show()\n",
        "    "
      ],
      "execution_count": 21,
      "outputs": [
        {
          "output_type": "display_data",
          "data": {
            "image/png": "[encoded data removed]",
            "text/plain": [
              "<matplotlib.figure.Figure at 0x7f9470bb81d0>"
            ]
          },
          "metadata": {
            "tags": []
          }
        }
      ]
    },
    {
      "metadata": {
        "colab_type": "text",
        "id": "QHV8ydQ0XYvp"
      },
      "cell_type": "markdown",
      "source": [
        "**Error**"
      ]
    },
    {
      "metadata": {
        "colab_type": "code",
        "id": "HV7ijM8-XZ9y",
        "outputId": "bfaeb305-1944-4805-ad36-74b6029a7ee2",
        "colab": {
          "base_uri": "https://localhost:8080/",
          "height": 361
        }
      },
      "cell_type": "code",
      "source": [
        "plt.plot(error)\n",
        "plt.ylabel('Error')\n",
        "plt.xlabel('Epoch')\n",
        "plt.show()"
      ],
      "execution_count": 22,
      "outputs": [
        {
          "output_type": "display_data",
          "data": {
            "image/png": "[encoded data removed]",
            "text/plain": [
              "<matplotlib.figure.Figure at 0x7f9470ebfdd8>"
            ]
          },
          "metadata": {
            "tags": []
          }
        }
      ]
    }
  ]
}