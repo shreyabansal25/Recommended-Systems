{
  "nbformat": 4,
  "nbformat_minor": 0,
  "metadata": {
    "colab": {
      "name": "ML0120EN-4.2-Review-CollaborativeFilteringwithRBM.ipynb",
      "version": "0.3.2",
      "provenance": [],
      "toc_visible": true
    },
    "kernelspec": {
      "display_name": "Python 3",
      "language": "python",
      "name": "python3"
    }
  },
  "cells": [
    {
      "metadata": {
        "id": "E7HQniy0UCjW",
        "colab_type": "text"
      },
      "cell_type": "markdown",
      "source": [
        "# Book Recommender System"
      ]
    },
    {
      "metadata": {
        "id": "aIyxCUO3VeG8",
        "colab_type": "text"
      },
      "cell_type": "markdown",
      "source": [
        "Book-Crossings is a book ratings dataset compiled by Cai-Nicolas Ziegler. It contains 1.1 million ratings of 270,000 books by 90,000 users. The ratings are on a scale from 1 to 10.\n",
        "\n",
        "The data consists of three tables: ratings, books info, and users info."
      ]
    },
    {
      "metadata": {
        "id": "VoYrRIgSWaBT",
        "colab_type": "text"
      },
      "cell_type": "markdown",
      "source": [
        "# Acquiring Data"
      ]
    },
    {
      "metadata": {
        "id": "6u9PzxPaUGtb",
        "colab_type": "code",
        "colab": {
          "base_uri": "https://localhost:8080/",
          "height": 310
        },
        "outputId": "ebecc619-ecf0-416c-bcd8-46577f8d1eaf"
      },
      "cell_type": "code",
      "source": [
        "!wget -O BX-CSV_Dump.zip http://www2.informatik.uni-freiburg.de/~cziegler/BX/BX-CSV-Dump.zip\n",
        "!unzip -o BX-CSV_Dump.zip -d data"
      ],
      "execution_count": 0,
      "outputs": [
        {
          "output_type": "stream",
          "text": [
            "--2018-10-16 04:52:50--  http://www2.informatik.uni-freiburg.de/~cziegler/BX/BX-CSV-Dump.zip\n",
            "Resolving www2.informatik.uni-freiburg.de (www2.informatik.uni-freiburg.de)... 132.230.105.133\n",
            "Connecting to www2.informatik.uni-freiburg.de (www2.informatik.uni-freiburg.de)|132.230.105.133|:80... connected.\n",
            "HTTP request sent, awaiting response... 200 OK\n",
            "Length: 26085508 (25M) [application/zip]\n",
            "Saving to: ‘BX-CSV_Dump.zip’\n",
            "\n",
            "BX-CSV_Dump.zip     100%[===================>]  24.88M  10.1MB/s    in 2.5s    \n",
            "\n",
            "2018-10-16 04:52:53 (10.1 MB/s) - ‘BX-CSV_Dump.zip’ saved [26085508/26085508]\n",
            "\n",
            "Archive:  BX-CSV_Dump.zip\n",
            "  inflating: data/BX-Book-Ratings.csv  \n",
            "  inflating: data/BX-Books.csv       \n",
            "  inflating: data/BX-Users.csv       \n"
          ],
          "name": "stdout"
        }
      ]
    },
    {
      "metadata": {
        "id": "NccN9i8EV9tX",
        "colab_type": "code",
        "colab": {}
      },
      "cell_type": "code",
      "source": [
        "import pandas as pd\n",
        "import numpy as np\n",
        "import matplotlib.pyplot as plt"
      ],
      "execution_count": 0,
      "outputs": []
    },
    {
      "metadata": {
        "id": "-imGNRXvVslY",
        "colab_type": "code",
        "colab": {
          "base_uri": "https://localhost:8080/",
          "height": 146
        },
        "outputId": "40288fbd-7626-4076-bbc9-8bd64c49ff79"
      },
      "cell_type": "code",
      "source": [
        "books = pd.read_csv('data/BX-Books.csv', sep=';', error_bad_lines=False, encoding=\"latin-1\")\n",
        "books.columns = ['ISBN', 'bookTitle', 'bookAuthor', 'yearOfPublication', 'publisher', 'imageUrlS', 'imageUrlM', 'imageUrlL']\n",
        "users = pd.read_csv('data/BX-Users.csv', sep=';', error_bad_lines=False, encoding=\"latin-1\")\n",
        "users.columns = ['userID', 'Location', 'Age']\n",
        "ratings = pd.read_csv('data/BX-Book-Ratings.csv', sep=';', error_bad_lines=False, encoding=\"latin-1\")\n",
        "ratings.columns = ['userID', 'ISBN', 'bookRating']"
      ],
      "execution_count": 0,
      "outputs": [
        {
          "output_type": "stream",
          "text": [
            "b'Skipping line 6452: expected 8 fields, saw 9\\nSkipping line 43667: expected 8 fields, saw 10\\nSkipping line 51751: expected 8 fields, saw 9\\n'\n",
            "b'Skipping line 92038: expected 8 fields, saw 9\\nSkipping line 104319: expected 8 fields, saw 9\\nSkipping line 121768: expected 8 fields, saw 9\\n'\n",
            "b'Skipping line 144058: expected 8 fields, saw 9\\nSkipping line 150789: expected 8 fields, saw 9\\nSkipping line 157128: expected 8 fields, saw 9\\nSkipping line 180189: expected 8 fields, saw 9\\nSkipping line 185738: expected 8 fields, saw 9\\n'\n",
            "b'Skipping line 209388: expected 8 fields, saw 9\\nSkipping line 220626: expected 8 fields, saw 9\\nSkipping line 227933: expected 8 fields, saw 11\\nSkipping line 228957: expected 8 fields, saw 10\\nSkipping line 245933: expected 8 fields, saw 9\\nSkipping line 251296: expected 8 fields, saw 9\\nSkipping line 259941: expected 8 fields, saw 9\\nSkipping line 261529: expected 8 fields, saw 9\\n'\n",
            "/usr/local/lib/python3.6/dist-packages/IPython/core/interactiveshell.py:2718: DtypeWarning: Columns (3) have mixed types. Specify dtype option on import or set low_memory=False.\n",
            "  interactivity=interactivity, compiler=compiler, result=result)\n"
          ],
          "name": "stderr"
        }
      ]
    },
    {
      "metadata": {
        "id": "hqW781CqWisl",
        "colab_type": "text"
      },
      "cell_type": "markdown",
      "source": [
        "# Analyzing Data"
      ]
    },
    {
      "metadata": {
        "id": "uPhxbMt6Wm8H",
        "colab_type": "text"
      },
      "cell_type": "markdown",
      "source": [
        "**Ratings Dataset**\n",
        "The ratings data set provides a list of ratings that users have given to books. It includes 1,149,780 records and 3 fields: userID, ISBN, and bookRating."
      ]
    },
    {
      "metadata": {
        "id": "YOwo5Z4nWER_",
        "colab_type": "code",
        "colab": {
          "base_uri": "https://localhost:8080/",
          "height": 54
        },
        "outputId": "ad559613-ae3b-4966-8f0c-7ed00e3943a0"
      },
      "cell_type": "code",
      "source": [
        "print(ratings.shape)\n",
        "print(list(ratings.columns))"
      ],
      "execution_count": 0,
      "outputs": [
        {
          "output_type": "stream",
          "text": [
            "(1149780, 3)\n",
            "['userID', 'ISBN', 'bookRating']\n"
          ],
          "name": "stdout"
        }
      ]
    },
    {
      "metadata": {
        "id": "nWTVT2SeWHf_",
        "colab_type": "code",
        "colab": {
          "base_uri": "https://localhost:8080/",
          "height": 198
        },
        "outputId": "dc8fbb95-c4ae-4c30-f57f-dcbee4799181"
      },
      "cell_type": "code",
      "source": [
        "ratings.head()"
      ],
      "execution_count": 0,
      "outputs": [
        {
          "output_type": "execute_result",
          "data": {
            "text/html": [
              "<div>\n",
              "<style scoped>\n",
              "    .dataframe tbody tr th:only-of-type {\n",
              "        vertical-align: middle;\n",
              "    }\n",
              "\n",
              "    .dataframe tbody tr th {\n",
              "        vertical-align: top;\n",
              "    }\n",
              "\n",
              "    .dataframe thead th {\n",
              "        text-align: right;\n",
              "    }\n",
              "</style>\n",
              "<table border=\"1\" class=\"dataframe\">\n",
              "  <thead>\n",
              "    <tr style=\"text-align: right;\">\n",
              "      <th></th>\n",
              "      <th>userID</th>\n",
              "      <th>ISBN</th>\n",
              "      <th>bookRating</th>\n",
              "    </tr>\n",
              "  </thead>\n",
              "  <tbody>\n",
              "    <tr>\n",
              "      <th>0</th>\n",
              "      <td>276725</td>\n",
              "      <td>034545104X</td>\n",
              "      <td>0</td>\n",
              "    </tr>\n",
              "    <tr>\n",
              "      <th>1</th>\n",
              "      <td>276726</td>\n",
              "      <td>0155061224</td>\n",
              "      <td>5</td>\n",
              "    </tr>\n",
              "    <tr>\n",
              "      <th>2</th>\n",
              "      <td>276727</td>\n",
              "      <td>0446520802</td>\n",
              "      <td>0</td>\n",
              "    </tr>\n",
              "    <tr>\n",
              "      <th>3</th>\n",
              "      <td>276729</td>\n",
              "      <td>052165615X</td>\n",
              "      <td>3</td>\n",
              "    </tr>\n",
              "    <tr>\n",
              "      <th>4</th>\n",
              "      <td>276729</td>\n",
              "      <td>0521795028</td>\n",
              "      <td>6</td>\n",
              "    </tr>\n",
              "  </tbody>\n",
              "</table>\n",
              "</div>"
            ],
            "text/plain": [
              "   userID        ISBN  bookRating\n",
              "0  276725  034545104X           0\n",
              "1  276726  0155061224           5\n",
              "2  276727  0446520802           0\n",
              "3  276729  052165615X           3\n",
              "4  276729  0521795028           6"
            ]
          },
          "metadata": {
            "tags": []
          },
          "execution_count": 5
        }
      ]
    },
    {
      "metadata": {
        "id": "8Ag1j66KWNYT",
        "colab_type": "code",
        "colab": {
          "base_uri": "https://localhost:8080/",
          "height": 391
        },
        "outputId": "ba96b000-40ea-4f44-92b5-74c1aff6f7da"
      },
      "cell_type": "code",
      "source": [
        "plt.rc(\"font\", size=15)\n",
        "ratings.bookRating.value_counts(sort=False).plot(kind='bar')\n",
        "plt.title('Rating Distribution\\n')\n",
        "plt.xlabel('Rating')\n",
        "plt.ylabel('Count')\n",
        "plt.show()"
      ],
      "execution_count": 0,
      "outputs": [
        {
          "output_type": "display_data",
          "data": {
            "image/png": "[encoded data removed]",
            "text/plain": [
              "<matplotlib.figure.Figure at 0x7fd68a9e0f28>"
            ]
          },
          "metadata": {
            "tags": []
          }
        }
      ]
    },
    {
      "metadata": {
        "id": "aL18ylTLWyzo",
        "colab_type": "text"
      },
      "cell_type": "markdown",
      "source": [
        "**Books Data**\n",
        "The books data set provides book details. It includes 271,360 records and 8 fields: ISBN, book title, book author, publisher and so on."
      ]
    },
    {
      "metadata": {
        "id": "hRp86hPVW9Y3",
        "colab_type": "code",
        "colab": {
          "base_uri": "https://localhost:8080/",
          "height": 74
        },
        "outputId": "c60ffd23-f8f7-42cf-bd7d-f12207c0b21b"
      },
      "cell_type": "code",
      "source": [
        "print(books.shape)\n",
        "print(list(books.columns))"
      ],
      "execution_count": 0,
      "outputs": [
        {
          "output_type": "stream",
          "text": [
            "(271360, 8)\n",
            "['ISBN', 'bookTitle', 'bookAuthor', 'yearOfPublication', 'publisher', 'imageUrlS', 'imageUrlM', 'imageUrlL']\n"
          ],
          "name": "stdout"
        }
      ]
    },
    {
      "metadata": {
        "id": "2gai-WbIXB0A",
        "colab_type": "code",
        "colab": {
          "base_uri": "https://localhost:8080/",
          "height": 391
        },
        "outputId": "838d3782-b871-449a-f69b-56a5bb044c7f"
      },
      "cell_type": "code",
      "source": [
        "books.head()"
      ],
      "execution_count": 0,
      "outputs": [
        {
          "output_type": "execute_result",
          "data": {
            "text/html": [
              "<div>\n",
              "<style scoped>\n",
              "    .dataframe tbody tr th:only-of-type {\n",
              "        vertical-align: middle;\n",
              "    }\n",
              "\n",
              "    .dataframe tbody tr th {\n",
              "        vertical-align: top;\n",
              "    }\n",
              "\n",
              "    .dataframe thead th {\n",
              "        text-align: right;\n",
              "    }\n",
              "</style>\n",
              "<table border=\"1\" class=\"dataframe\">\n",
              "  <thead>\n",
              "    <tr style=\"text-align: right;\">\n",
              "      <th></th>\n",
              "      <th>ISBN</th>\n",
              "      <th>bookTitle</th>\n",
              "      <th>bookAuthor</th>\n",
              "      <th>yearOfPublication</th>\n",
              "      <th>publisher</th>\n",
              "      <th>imageUrlS</th>\n",
              "      <th>imageUrlM</th>\n",
              "      <th>imageUrlL</th>\n",
              "    </tr>\n",
              "  </thead>\n",
              "  <tbody>\n",
              "    <tr>\n",
              "      <th>0</th>\n",
              "      <td>0195153448</td>\n",
              "      <td>Classical Mythology</td>\n",
              "      <td>Mark P. O. Morford</td>\n",
              "      <td>2002</td>\n",
              "      <td>Oxford University Press</td>\n",
              "      <td>http://images.amazon.com/images/P/0195153448.0...</td>\n",
              "      <td>http://images.amazon.com/images/P/0195153448.0...</td>\n",
              "      <td>http://images.amazon.com/images/P/0195153448.0...</td>\n",
              "    </tr>\n",
              "    <tr>\n",
              "      <th>1</th>\n",
              "      <td>0002005018</td>\n",
              "      <td>Clara Callan</td>\n",
              "      <td>Richard Bruce Wright</td>\n",
              "      <td>2001</td>\n",
              "      <td>HarperFlamingo Canada</td>\n",
              "      <td>http://images.amazon.com/images/P/0002005018.0...</td>\n",
              "      <td>http://images.amazon.com/images/P/0002005018.0...</td>\n",
              "      <td>http://images.amazon.com/images/P/0002005018.0...</td>\n",
              "    </tr>\n",
              "    <tr>\n",
              "      <th>2</th>\n",
              "      <td>0060973129</td>\n",
              "      <td>Decision in Normandy</td>\n",
              "      <td>Carlo D'Este</td>\n",
              "      <td>1991</td>\n",
              "      <td>HarperPerennial</td>\n",
              "      <td>http://images.amazon.com/images/P/0060973129.0...</td>\n",
              "      <td>http://images.amazon.com/images/P/0060973129.0...</td>\n",
              "      <td>http://images.amazon.com/images/P/0060973129.0...</td>\n",
              "    </tr>\n",
              "    <tr>\n",
              "      <th>3</th>\n",
              "      <td>0374157065</td>\n",
              "      <td>Flu: The Story of the Great Influenza Pandemic...</td>\n",
              "      <td>Gina Bari Kolata</td>\n",
              "      <td>1999</td>\n",
              "      <td>Farrar Straus Giroux</td>\n",
              "      <td>http://images.amazon.com/images/P/0374157065.0...</td>\n",
              "      <td>http://images.amazon.com/images/P/0374157065.0...</td>\n",
              "      <td>http://images.amazon.com/images/P/0374157065.0...</td>\n",
              "    </tr>\n",
              "    <tr>\n",
              "      <th>4</th>\n",
              "      <td>0393045218</td>\n",
              "      <td>The Mummies of Urumchi</td>\n",
              "      <td>E. J. W. Barber</td>\n",
              "      <td>1999</td>\n",
              "      <td>W. W. Norton &amp;amp; Company</td>\n",
              "      <td>http://images.amazon.com/images/P/0393045218.0...</td>\n",
              "      <td>http://images.amazon.com/images/P/0393045218.0...</td>\n",
              "      <td>http://images.amazon.com/images/P/0393045218.0...</td>\n",
              "    </tr>\n",
              "  </tbody>\n",
              "</table>\n",
              "</div>"
            ],
            "text/plain": [
              "         ISBN                                          bookTitle  \\\n",
              "0  0195153448                                Classical Mythology   \n",
              "1  0002005018                                       Clara Callan   \n",
              "2  0060973129                               Decision in Normandy   \n",
              "3  0374157065  Flu: The Story of the Great Influenza Pandemic...   \n",
              "4  0393045218                             The Mummies of Urumchi   \n",
              "\n",
              "             bookAuthor yearOfPublication                   publisher  \\\n",
              "0    Mark P. O. Morford              2002     Oxford University Press   \n",
              "1  Richard Bruce Wright              2001       HarperFlamingo Canada   \n",
              "2          Carlo D'Este              1991             HarperPerennial   \n",
              "3      Gina Bari Kolata              1999        Farrar Straus Giroux   \n",
              "4       E. J. W. Barber              1999  W. W. Norton &amp; Company   \n",
              "\n",
              "                                           imageUrlS  \\\n",
              "0  http://images.amazon.com/images/P/0195153448.0...   \n",
              "1  http://images.amazon.com/images/P/0002005018.0...   \n",
              "2  http://images.amazon.com/images/P/0060973129.0...   \n",
              "3  http://images.amazon.com/images/P/0374157065.0...   \n",
              "4  http://images.amazon.com/images/P/0393045218.0...   \n",
              "\n",
              "                                           imageUrlM  \\\n",
              "0  http://images.amazon.com/images/P/0195153448.0...   \n",
              "1  http://images.amazon.com/images/P/0002005018.0...   \n",
              "2  http://images.amazon.com/images/P/0060973129.0...   \n",
              "3  http://images.amazon.com/images/P/0374157065.0...   \n",
              "4  http://images.amazon.com/images/P/0393045218.0...   \n",
              "\n",
              "                                           imageUrlL  \n",
              "0  http://images.amazon.com/images/P/0195153448.0...  \n",
              "1  http://images.amazon.com/images/P/0002005018.0...  \n",
              "2  http://images.amazon.com/images/P/0060973129.0...  \n",
              "3  http://images.amazon.com/images/P/0374157065.0...  \n",
              "4  http://images.amazon.com/images/P/0393045218.0...  "
            ]
          },
          "metadata": {
            "tags": []
          },
          "execution_count": 8
        }
      ]
    },
    {
      "metadata": {
        "id": "wrnOmJ7dXNE-",
        "colab_type": "text"
      },
      "cell_type": "markdown",
      "source": [
        "**Users Data** This dataset provides the user demographic information. It includes 278,858 records and 3 fields: user id, location and age."
      ]
    },
    {
      "metadata": {
        "id": "ucgwQ8TGXQ1o",
        "colab_type": "code",
        "colab": {
          "base_uri": "https://localhost:8080/",
          "height": 54
        },
        "outputId": "48b99d55-ce17-4c9c-da4d-d9b2849bd769"
      },
      "cell_type": "code",
      "source": [
        "print(users.shape)\n",
        "print(list(users.columns))"
      ],
      "execution_count": 0,
      "outputs": [
        {
          "output_type": "stream",
          "text": [
            "(278858, 3)\n",
            "['userID', 'Location', 'Age']\n"
          ],
          "name": "stdout"
        }
      ]
    },
    {
      "metadata": {
        "id": "gYwdIWraXUWT",
        "colab_type": "code",
        "colab": {
          "base_uri": "https://localhost:8080/",
          "height": 198
        },
        "outputId": "7083859f-04fa-459f-91fc-cfe68cf8c088"
      },
      "cell_type": "code",
      "source": [
        "users.head()"
      ],
      "execution_count": 0,
      "outputs": [
        {
          "output_type": "execute_result",
          "data": {
            "text/html": [
              "<div>\n",
              "<style scoped>\n",
              "    .dataframe tbody tr th:only-of-type {\n",
              "        vertical-align: middle;\n",
              "    }\n",
              "\n",
              "    .dataframe tbody tr th {\n",
              "        vertical-align: top;\n",
              "    }\n",
              "\n",
              "    .dataframe thead th {\n",
              "        text-align: right;\n",
              "    }\n",
              "</style>\n",
              "<table border=\"1\" class=\"dataframe\">\n",
              "  <thead>\n",
              "    <tr style=\"text-align: right;\">\n",
              "      <th></th>\n",
              "      <th>userID</th>\n",
              "      <th>Location</th>\n",
              "      <th>Age</th>\n",
              "    </tr>\n",
              "  </thead>\n",
              "  <tbody>\n",
              "    <tr>\n",
              "      <th>0</th>\n",
              "      <td>1</td>\n",
              "      <td>nyc, new york, usa</td>\n",
              "      <td>NaN</td>\n",
              "    </tr>\n",
              "    <tr>\n",
              "      <th>1</th>\n",
              "      <td>2</td>\n",
              "      <td>stockton, california, usa</td>\n",
              "      <td>18.0</td>\n",
              "    </tr>\n",
              "    <tr>\n",
              "      <th>2</th>\n",
              "      <td>3</td>\n",
              "      <td>moscow, yukon territory, russia</td>\n",
              "      <td>NaN</td>\n",
              "    </tr>\n",
              "    <tr>\n",
              "      <th>3</th>\n",
              "      <td>4</td>\n",
              "      <td>porto, v.n.gaia, portugal</td>\n",
              "      <td>17.0</td>\n",
              "    </tr>\n",
              "    <tr>\n",
              "      <th>4</th>\n",
              "      <td>5</td>\n",
              "      <td>farnborough, hants, united kingdom</td>\n",
              "      <td>NaN</td>\n",
              "    </tr>\n",
              "  </tbody>\n",
              "</table>\n",
              "</div>"
            ],
            "text/plain": [
              "   userID                            Location   Age\n",
              "0       1                  nyc, new york, usa   NaN\n",
              "1       2           stockton, california, usa  18.0\n",
              "2       3     moscow, yukon territory, russia   NaN\n",
              "3       4           porto, v.n.gaia, portugal  17.0\n",
              "4       5  farnborough, hants, united kingdom   NaN"
            ]
          },
          "metadata": {
            "tags": []
          },
          "execution_count": 10
        }
      ]
    },
    {
      "metadata": {
        "id": "-BueqRSiXYJW",
        "colab_type": "code",
        "colab": {
          "base_uri": "https://localhost:8080/",
          "height": 390
        },
        "outputId": "da3a9ef8-cc0e-4846-b894-811c3bd5af9f"
      },
      "cell_type": "code",
      "source": [
        "users.Age.hist(bins=[0, 10, 20, 30, 40, 50, 100])\n",
        "plt.title('Age Distribution\\n')\n",
        "plt.xlabel('Age')\n",
        "plt.ylabel('Count')\n",
        "plt.show()"
      ],
      "execution_count": 0,
      "outputs": [
        {
          "output_type": "display_data",
          "data": {
            "image/png": "[encoded data removed]",
            "text/plain": [
              "<matplotlib.figure.Figure at 0x7fd68a9e0438>"
            ]
          },
          "metadata": {
            "tags": []
          }
        }
      ]
    },
    {
      "metadata": {
        "id": "nYdVcCe7XnGe",
        "colab_type": "text"
      },
      "cell_type": "markdown",
      "source": [
        "# Recommendation Models"
      ]
    },
    {
      "metadata": {
        "id": "-twcCSdVmpfd",
        "colab_type": "text"
      },
      "cell_type": "markdown",
      "source": [
        "#  Recommendations based on rating counts"
      ]
    },
    {
      "metadata": {
        "id": "suk984wiX7i4",
        "colab_type": "code",
        "colab": {
          "base_uri": "https://localhost:8080/",
          "height": 228
        },
        "outputId": "754b7505-ba11-4ec6-ef6b-0c5889d82384"
      },
      "cell_type": "code",
      "source": [
        "rating_count = pd.DataFrame(ratings.groupby('ISBN')['bookRating'].count())\n",
        "rating_count.sort_values('bookRating', ascending=False).head()"
      ],
      "execution_count": 0,
      "outputs": [
        {
          "output_type": "execute_result",
          "data": {
            "text/html": [
              "<div>\n",
              "<style scoped>\n",
              "    .dataframe tbody tr th:only-of-type {\n",
              "        vertical-align: middle;\n",
              "    }\n",
              "\n",
              "    .dataframe tbody tr th {\n",
              "        vertical-align: top;\n",
              "    }\n",
              "\n",
              "    .dataframe thead th {\n",
              "        text-align: right;\n",
              "    }\n",
              "</style>\n",
              "<table border=\"1\" class=\"dataframe\">\n",
              "  <thead>\n",
              "    <tr style=\"text-align: right;\">\n",
              "      <th></th>\n",
              "      <th>bookRating</th>\n",
              "    </tr>\n",
              "    <tr>\n",
              "      <th>ISBN</th>\n",
              "      <th></th>\n",
              "    </tr>\n",
              "  </thead>\n",
              "  <tbody>\n",
              "    <tr>\n",
              "      <th>0971880107</th>\n",
              "      <td>2502</td>\n",
              "    </tr>\n",
              "    <tr>\n",
              "      <th>0316666343</th>\n",
              "      <td>1295</td>\n",
              "    </tr>\n",
              "    <tr>\n",
              "      <th>0385504209</th>\n",
              "      <td>883</td>\n",
              "    </tr>\n",
              "    <tr>\n",
              "      <th>0060928336</th>\n",
              "      <td>732</td>\n",
              "    </tr>\n",
              "    <tr>\n",
              "      <th>0312195516</th>\n",
              "      <td>723</td>\n",
              "    </tr>\n",
              "  </tbody>\n",
              "</table>\n",
              "</div>"
            ],
            "text/plain": [
              "            bookRating\n",
              "ISBN                  \n",
              "0971880107        2502\n",
              "0316666343        1295\n",
              "0385504209         883\n",
              "0060928336         732\n",
              "0312195516         723"
            ]
          },
          "metadata": {
            "tags": []
          },
          "execution_count": 12
        }
      ]
    },
    {
      "metadata": {
        "id": "cGDl_2DyYJvJ",
        "colab_type": "code",
        "colab": {
          "base_uri": "https://localhost:8080/",
          "height": 408
        },
        "outputId": "b2301c3a-961d-41b3-d7f5-955beb7b1f9a"
      },
      "cell_type": "code",
      "source": [
        "most_rated_books = pd.DataFrame(['0971880107', '0316666343', '0385504209', '0060928336', '0312195516'], index=np.arange(5), columns = ['ISBN'])\n",
        "most_rated_books_summary = pd.merge(most_rated_books, books, on='ISBN')\n",
        "most_rated_books_summary"
      ],
      "execution_count": 0,
      "outputs": [
        {
          "output_type": "execute_result",
          "data": {
            "text/html": [
              "<div>\n",
              "<style scoped>\n",
              "    .dataframe tbody tr th:only-of-type {\n",
              "        vertical-align: middle;\n",
              "    }\n",
              "\n",
              "    .dataframe tbody tr th {\n",
              "        vertical-align: top;\n",
              "    }\n",
              "\n",
              "    .dataframe thead th {\n",
              "        text-align: right;\n",
              "    }\n",
              "</style>\n",
              "<table border=\"1\" class=\"dataframe\">\n",
              "  <thead>\n",
              "    <tr style=\"text-align: right;\">\n",
              "      <th></th>\n",
              "      <th>ISBN</th>\n",
              "      <th>bookTitle</th>\n",
              "      <th>bookAuthor</th>\n",
              "      <th>yearOfPublication</th>\n",
              "      <th>publisher</th>\n",
              "      <th>imageUrlS</th>\n",
              "      <th>imageUrlM</th>\n",
              "      <th>imageUrlL</th>\n",
              "    </tr>\n",
              "  </thead>\n",
              "  <tbody>\n",
              "    <tr>\n",
              "      <th>0</th>\n",
              "      <td>0971880107</td>\n",
              "      <td>Wild Animus</td>\n",
              "      <td>Rich Shapero</td>\n",
              "      <td>2004</td>\n",
              "      <td>Too Far</td>\n",
              "      <td>http://images.amazon.com/images/P/0971880107.0...</td>\n",
              "      <td>http://images.amazon.com/images/P/0971880107.0...</td>\n",
              "      <td>http://images.amazon.com/images/P/0971880107.0...</td>\n",
              "    </tr>\n",
              "    <tr>\n",
              "      <th>1</th>\n",
              "      <td>0316666343</td>\n",
              "      <td>The Lovely Bones: A Novel</td>\n",
              "      <td>Alice Sebold</td>\n",
              "      <td>2002</td>\n",
              "      <td>Little, Brown</td>\n",
              "      <td>http://images.amazon.com/images/P/0316666343.0...</td>\n",
              "      <td>http://images.amazon.com/images/P/0316666343.0...</td>\n",
              "      <td>http://images.amazon.com/images/P/0316666343.0...</td>\n",
              "    </tr>\n",
              "    <tr>\n",
              "      <th>2</th>\n",
              "      <td>0385504209</td>\n",
              "      <td>The Da Vinci Code</td>\n",
              "      <td>Dan Brown</td>\n",
              "      <td>2003</td>\n",
              "      <td>Doubleday</td>\n",
              "      <td>http://images.amazon.com/images/P/0385504209.0...</td>\n",
              "      <td>http://images.amazon.com/images/P/0385504209.0...</td>\n",
              "      <td>http://images.amazon.com/images/P/0385504209.0...</td>\n",
              "    </tr>\n",
              "    <tr>\n",
              "      <th>3</th>\n",
              "      <td>0060928336</td>\n",
              "      <td>Divine Secrets of the Ya-Ya Sisterhood: A Novel</td>\n",
              "      <td>Rebecca Wells</td>\n",
              "      <td>1997</td>\n",
              "      <td>Perennial</td>\n",
              "      <td>http://images.amazon.com/images/P/0060928336.0...</td>\n",
              "      <td>http://images.amazon.com/images/P/0060928336.0...</td>\n",
              "      <td>http://images.amazon.com/images/P/0060928336.0...</td>\n",
              "    </tr>\n",
              "    <tr>\n",
              "      <th>4</th>\n",
              "      <td>0312195516</td>\n",
              "      <td>The Red Tent (Bestselling Backlist)</td>\n",
              "      <td>Anita Diamant</td>\n",
              "      <td>1998</td>\n",
              "      <td>Picador USA</td>\n",
              "      <td>http://images.amazon.com/images/P/0312195516.0...</td>\n",
              "      <td>http://images.amazon.com/images/P/0312195516.0...</td>\n",
              "      <td>http://images.amazon.com/images/P/0312195516.0...</td>\n",
              "    </tr>\n",
              "  </tbody>\n",
              "</table>\n",
              "</div>"
            ],
            "text/plain": [
              "         ISBN                                        bookTitle     bookAuthor  \\\n",
              "0  0971880107                                      Wild Animus   Rich Shapero   \n",
              "1  0316666343                        The Lovely Bones: A Novel   Alice Sebold   \n",
              "2  0385504209                                The Da Vinci Code      Dan Brown   \n",
              "3  0060928336  Divine Secrets of the Ya-Ya Sisterhood: A Novel  Rebecca Wells   \n",
              "4  0312195516              The Red Tent (Bestselling Backlist)  Anita Diamant   \n",
              "\n",
              "  yearOfPublication      publisher  \\\n",
              "0              2004        Too Far   \n",
              "1              2002  Little, Brown   \n",
              "2              2003      Doubleday   \n",
              "3              1997      Perennial   \n",
              "4              1998    Picador USA   \n",
              "\n",
              "                                           imageUrlS  \\\n",
              "0  http://images.amazon.com/images/P/0971880107.0...   \n",
              "1  http://images.amazon.com/images/P/0316666343.0...   \n",
              "2  http://images.amazon.com/images/P/0385504209.0...   \n",
              "3  http://images.amazon.com/images/P/0060928336.0...   \n",
              "4  http://images.amazon.com/images/P/0312195516.0...   \n",
              "\n",
              "                                           imageUrlM  \\\n",
              "0  http://images.amazon.com/images/P/0971880107.0...   \n",
              "1  http://images.amazon.com/images/P/0316666343.0...   \n",
              "2  http://images.amazon.com/images/P/0385504209.0...   \n",
              "3  http://images.amazon.com/images/P/0060928336.0...   \n",
              "4  http://images.amazon.com/images/P/0312195516.0...   \n",
              "\n",
              "                                           imageUrlL  \n",
              "0  http://images.amazon.com/images/P/0971880107.0...  \n",
              "1  http://images.amazon.com/images/P/0316666343.0...  \n",
              "2  http://images.amazon.com/images/P/0385504209.0...  \n",
              "3  http://images.amazon.com/images/P/0060928336.0...  \n",
              "4  http://images.amazon.com/images/P/0312195516.0...  "
            ]
          },
          "metadata": {
            "tags": []
          },
          "execution_count": 13
        }
      ]
    },
    {
      "metadata": {
        "id": "mCzBwiFTYaRc",
        "colab_type": "text"
      },
      "cell_type": "markdown",
      "source": [
        "This gives us the top 5 rated books. Based on user ratings books can be recommended to the users. If some user likes Wild Animus, the the recommender system suggests that we can recommend 'The Lovely Bones' to the same user. "
      ]
    },
    {
      "metadata": {
        "id": "SQoIF_BCmzvR",
        "colab_type": "text"
      },
      "cell_type": "markdown",
      "source": [
        "# Recommendations based on correlations"
      ]
    },
    {
      "metadata": {
        "id": "FX-ZH6rIYzTP",
        "colab_type": "text"
      },
      "cell_type": "markdown",
      "source": [
        "**Recommendations based on correlations**\n",
        "\n",
        "We use Pearsons’R correlation coefficient to measure linear correlation between two variables, in our case, the ratings for two books."
      ]
    },
    {
      "metadata": {
        "id": "_F66_ULYY-3H",
        "colab_type": "text"
      },
      "cell_type": "markdown",
      "source": [
        "Find out the average rating and the number of ratings each book received"
      ]
    },
    {
      "metadata": {
        "id": "PwRf3YgZZC1J",
        "colab_type": "code",
        "colab": {
          "base_uri": "https://localhost:8080/",
          "height": 228
        },
        "outputId": "6e924e56-8d83-46cc-8585-4976c1212a66"
      },
      "cell_type": "code",
      "source": [
        "average_rating = pd.DataFrame(ratings.groupby('ISBN')['bookRating'].mean())\n",
        "average_rating['ratingCount'] = pd.DataFrame(ratings.groupby('ISBN')['bookRating'].count())\n",
        "average_rating.sort_values('ratingCount', ascending=False).head()"
      ],
      "execution_count": 0,
      "outputs": [
        {
          "output_type": "execute_result",
          "data": {
            "text/html": [
              "<div>\n",
              "<style scoped>\n",
              "    .dataframe tbody tr th:only-of-type {\n",
              "        vertical-align: middle;\n",
              "    }\n",
              "\n",
              "    .dataframe tbody tr th {\n",
              "        vertical-align: top;\n",
              "    }\n",
              "\n",
              "    .dataframe thead th {\n",
              "        text-align: right;\n",
              "    }\n",
              "</style>\n",
              "<table border=\"1\" class=\"dataframe\">\n",
              "  <thead>\n",
              "    <tr style=\"text-align: right;\">\n",
              "      <th></th>\n",
              "      <th>bookRating</th>\n",
              "      <th>ratingCount</th>\n",
              "    </tr>\n",
              "    <tr>\n",
              "      <th>ISBN</th>\n",
              "      <th></th>\n",
              "      <th></th>\n",
              "    </tr>\n",
              "  </thead>\n",
              "  <tbody>\n",
              "    <tr>\n",
              "      <th>0971880107</th>\n",
              "      <td>1.019584</td>\n",
              "      <td>2502</td>\n",
              "    </tr>\n",
              "    <tr>\n",
              "      <th>0316666343</th>\n",
              "      <td>4.468726</td>\n",
              "      <td>1295</td>\n",
              "    </tr>\n",
              "    <tr>\n",
              "      <th>0385504209</th>\n",
              "      <td>4.652322</td>\n",
              "      <td>883</td>\n",
              "    </tr>\n",
              "    <tr>\n",
              "      <th>0060928336</th>\n",
              "      <td>3.448087</td>\n",
              "      <td>732</td>\n",
              "    </tr>\n",
              "    <tr>\n",
              "      <th>0312195516</th>\n",
              "      <td>4.334716</td>\n",
              "      <td>723</td>\n",
              "    </tr>\n",
              "  </tbody>\n",
              "</table>\n",
              "</div>"
            ],
            "text/plain": [
              "            bookRating  ratingCount\n",
              "ISBN                               \n",
              "0971880107    1.019584         2502\n",
              "0316666343    4.468726         1295\n",
              "0385504209    4.652322          883\n",
              "0060928336    3.448087          732\n",
              "0312195516    4.334716          723"
            ]
          },
          "metadata": {
            "tags": []
          },
          "execution_count": 14
        }
      ]
    },
    {
      "metadata": {
        "id": "2gthZX96ZOeU",
        "colab_type": "text"
      },
      "cell_type": "markdown",
      "source": [
        "**Observation**\n",
        "In this data set, the book that received the most rating counts was not highly rated at all. As a result, if we were to use recommendations based on rating counts, we would definitely make mistakes here. So, we need to have a better system.\n",
        "\n",
        "To ensure statistical significance, users with less than 200 ratings, and books with less than 100 ratings are excluded."
      ]
    },
    {
      "metadata": {
        "id": "bMLh0e7dZfQM",
        "colab_type": "code",
        "colab": {}
      },
      "cell_type": "code",
      "source": [
        "counts1 = ratings['userID'].value_counts()\n",
        "ratings = ratings[ratings['userID'].isin(counts1[counts1 >= 200].index)]\n",
        "counts = ratings['bookRating'].value_counts()\n",
        "ratings = ratings[ratings['bookRating'].isin(counts[counts >= 100].index)]"
      ],
      "execution_count": 0,
      "outputs": []
    },
    {
      "metadata": {
        "id": "2TTFKvcKZu8B",
        "colab_type": "text"
      },
      "cell_type": "markdown",
      "source": [
        "**Rating matrix**\n",
        "\n",
        "We convert the ratings table to a 2D matrix. The matrix will be sparse because not every user rated every book."
      ]
    },
    {
      "metadata": {
        "id": "_ZnEokr-ZxuI",
        "colab_type": "code",
        "colab": {
          "base_uri": "https://localhost:8080/",
          "height": 295
        },
        "outputId": "37deb7f5-121f-4230-e654-dace6abc6ffc"
      },
      "cell_type": "code",
      "source": [
        "ratings_pivot = ratings.pivot(index='userID', columns='ISBN').bookRating\n",
        "userID = ratings_pivot.index\n",
        "ISBN = ratings_pivot.columns\n",
        "print(ratings_pivot.shape)\n",
        "ratings_pivot.head()"
      ],
      "execution_count": 0,
      "outputs": [
        {
          "output_type": "stream",
          "text": [
            "(905, 207699)\n"
          ],
          "name": "stdout"
        },
        {
          "output_type": "execute_result",
          "data": {
            "text/html": [
              "<div>\n",
              "<style scoped>\n",
              "    .dataframe tbody tr th:only-of-type {\n",
              "        vertical-align: middle;\n",
              "    }\n",
              "\n",
              "    .dataframe tbody tr th {\n",
              "        vertical-align: top;\n",
              "    }\n",
              "\n",
              "    .dataframe thead th {\n",
              "        text-align: right;\n",
              "    }\n",
              "</style>\n",
              "<table border=\"1\" class=\"dataframe\">\n",
              "  <thead>\n",
              "    <tr style=\"text-align: right;\">\n",
              "      <th>ISBN</th>\n",
              "      <th>0330299891</th>\n",
              "      <th>0375404120</th>\n",
              "      <th>0586045007</th>\n",
              "      <th>9022906116</th>\n",
              "      <th>9032803328</th>\n",
              "      <th>9044922564</th>\n",
              "      <th>9044922572</th>\n",
              "      <th>9044922718</th>\n",
              "      <th>9044923161</th>\n",
              "      <th>904492401X</th>\n",
              "      <th>...</th>\n",
              "      <th>UNGRANDHOMMED</th>\n",
              "      <th>X000000000</th>\n",
              "      <th>YOUTELLEM,AND</th>\n",
              "      <th>ZR903CX0003</th>\n",
              "      <th>\\0432534220\\\"\"</th>\n",
              "      <th>\\2842053052\\\"\"</th>\n",
              "      <th>b00005wz75</th>\n",
              "      <th>cn108465</th>\n",
              "      <th>cn113107</th>\n",
              "      <th>Ô½crosoft</th>\n",
              "    </tr>\n",
              "    <tr>\n",
              "      <th>userID</th>\n",
              "      <th></th>\n",
              "      <th></th>\n",
              "      <th></th>\n",
              "      <th></th>\n",
              "      <th></th>\n",
              "      <th></th>\n",
              "      <th></th>\n",
              "      <th></th>\n",
              "      <th></th>\n",
              "      <th></th>\n",
              "      <th></th>\n",
              "      <th></th>\n",
              "      <th></th>\n",
              "      <th></th>\n",
              "      <th></th>\n",
              "      <th></th>\n",
              "      <th></th>\n",
              "      <th></th>\n",
              "      <th></th>\n",
              "      <th></th>\n",
              "      <th></th>\n",
              "    </tr>\n",
              "  </thead>\n",
              "  <tbody>\n",
              "    <tr>\n",
              "      <th>254</th>\n",
              "      <td>NaN</td>\n",
              "      <td>NaN</td>\n",
              "      <td>NaN</td>\n",
              "      <td>NaN</td>\n",
              "      <td>NaN</td>\n",
              "      <td>NaN</td>\n",
              "      <td>NaN</td>\n",
              "      <td>NaN</td>\n",
              "      <td>NaN</td>\n",
              "      <td>NaN</td>\n",
              "      <td>...</td>\n",
              "      <td>NaN</td>\n",
              "      <td>NaN</td>\n",
              "      <td>NaN</td>\n",
              "      <td>NaN</td>\n",
              "      <td>NaN</td>\n",
              "      <td>NaN</td>\n",
              "      <td>NaN</td>\n",
              "      <td>NaN</td>\n",
              "      <td>NaN</td>\n",
              "      <td>NaN</td>\n",
              "    </tr>\n",
              "    <tr>\n",
              "      <th>2276</th>\n",
              "      <td>NaN</td>\n",
              "      <td>NaN</td>\n",
              "      <td>NaN</td>\n",
              "      <td>NaN</td>\n",
              "      <td>NaN</td>\n",
              "      <td>NaN</td>\n",
              "      <td>NaN</td>\n",
              "      <td>NaN</td>\n",
              "      <td>NaN</td>\n",
              "      <td>NaN</td>\n",
              "      <td>...</td>\n",
              "      <td>NaN</td>\n",
              "      <td>NaN</td>\n",
              "      <td>NaN</td>\n",
              "      <td>NaN</td>\n",
              "      <td>NaN</td>\n",
              "      <td>NaN</td>\n",
              "      <td>NaN</td>\n",
              "      <td>NaN</td>\n",
              "      <td>NaN</td>\n",
              "      <td>NaN</td>\n",
              "    </tr>\n",
              "    <tr>\n",
              "      <th>2766</th>\n",
              "      <td>NaN</td>\n",
              "      <td>NaN</td>\n",
              "      <td>NaN</td>\n",
              "      <td>NaN</td>\n",
              "      <td>NaN</td>\n",
              "      <td>NaN</td>\n",
              "      <td>NaN</td>\n",
              "      <td>NaN</td>\n",
              "      <td>NaN</td>\n",
              "      <td>NaN</td>\n",
              "      <td>...</td>\n",
              "      <td>NaN</td>\n",
              "      <td>NaN</td>\n",
              "      <td>NaN</td>\n",
              "      <td>NaN</td>\n",
              "      <td>NaN</td>\n",
              "      <td>NaN</td>\n",
              "      <td>NaN</td>\n",
              "      <td>NaN</td>\n",
              "      <td>NaN</td>\n",
              "      <td>NaN</td>\n",
              "    </tr>\n",
              "    <tr>\n",
              "      <th>2977</th>\n",
              "      <td>NaN</td>\n",
              "      <td>NaN</td>\n",
              "      <td>NaN</td>\n",
              "      <td>NaN</td>\n",
              "      <td>NaN</td>\n",
              "      <td>NaN</td>\n",
              "      <td>NaN</td>\n",
              "      <td>NaN</td>\n",
              "      <td>NaN</td>\n",
              "      <td>NaN</td>\n",
              "      <td>...</td>\n",
              "      <td>NaN</td>\n",
              "      <td>NaN</td>\n",
              "      <td>NaN</td>\n",
              "      <td>NaN</td>\n",
              "      <td>NaN</td>\n",
              "      <td>NaN</td>\n",
              "      <td>NaN</td>\n",
              "      <td>NaN</td>\n",
              "      <td>NaN</td>\n",
              "      <td>NaN</td>\n",
              "    </tr>\n",
              "    <tr>\n",
              "      <th>3363</th>\n",
              "      <td>NaN</td>\n",
              "      <td>NaN</td>\n",
              "      <td>NaN</td>\n",
              "      <td>NaN</td>\n",
              "      <td>NaN</td>\n",
              "      <td>NaN</td>\n",
              "      <td>NaN</td>\n",
              "      <td>NaN</td>\n",
              "      <td>NaN</td>\n",
              "      <td>NaN</td>\n",
              "      <td>...</td>\n",
              "      <td>NaN</td>\n",
              "      <td>NaN</td>\n",
              "      <td>NaN</td>\n",
              "      <td>NaN</td>\n",
              "      <td>NaN</td>\n",
              "      <td>NaN</td>\n",
              "      <td>NaN</td>\n",
              "      <td>NaN</td>\n",
              "      <td>NaN</td>\n",
              "      <td>NaN</td>\n",
              "    </tr>\n",
              "  </tbody>\n",
              "</table>\n",
              "<p>5 rows × 207699 columns</p>\n",
              "</div>"
            ],
            "text/plain": [
              "ISBN     0330299891   0375404120   0586045007   9022906116   9032803328  \\\n",
              "userID                                                                    \n",
              "254             NaN          NaN          NaN          NaN          NaN   \n",
              "2276            NaN          NaN          NaN          NaN          NaN   \n",
              "2766            NaN          NaN          NaN          NaN          NaN   \n",
              "2977            NaN          NaN          NaN          NaN          NaN   \n",
              "3363            NaN          NaN          NaN          NaN          NaN   \n",
              "\n",
              "ISBN     9044922564   9044922572   9044922718   9044923161   904492401X  \\\n",
              "userID                                                                    \n",
              "254             NaN          NaN          NaN          NaN          NaN   \n",
              "2276            NaN          NaN          NaN          NaN          NaN   \n",
              "2766            NaN          NaN          NaN          NaN          NaN   \n",
              "2977            NaN          NaN          NaN          NaN          NaN   \n",
              "3363            NaN          NaN          NaN          NaN          NaN   \n",
              "\n",
              "ISBN      ...      UNGRANDHOMMED  X000000000  YOUTELLEM,AND  ZR903CX0003  \\\n",
              "userID    ...                                                              \n",
              "254       ...                NaN         NaN            NaN          NaN   \n",
              "2276      ...                NaN         NaN            NaN          NaN   \n",
              "2766      ...                NaN         NaN            NaN          NaN   \n",
              "2977      ...                NaN         NaN            NaN          NaN   \n",
              "3363      ...                NaN         NaN            NaN          NaN   \n",
              "\n",
              "ISBN    \\0432534220\\\"\"  \\2842053052\\\"\"  b00005wz75  cn108465  cn113107  \\\n",
              "userID                                                                   \n",
              "254                NaN             NaN         NaN       NaN       NaN   \n",
              "2276               NaN             NaN         NaN       NaN       NaN   \n",
              "2766               NaN             NaN         NaN       NaN       NaN   \n",
              "2977               NaN             NaN         NaN       NaN       NaN   \n",
              "3363               NaN             NaN         NaN       NaN       NaN   \n",
              "\n",
              "ISBN    Ô½crosoft  \n",
              "userID             \n",
              "254           NaN  \n",
              "2276          NaN  \n",
              "2766          NaN  \n",
              "2977          NaN  \n",
              "3363          NaN  \n",
              "\n",
              "[5 rows x 207699 columns]"
            ]
          },
          "metadata": {
            "tags": []
          },
          "execution_count": 16
        }
      ]
    },
    {
      "metadata": {
        "id": "7LM08VFNaG8L",
        "colab_type": "text"
      },
      "cell_type": "markdown",
      "source": [
        "Find out which books are correlated with the 2nd most rated book “The Lovely Bones: A Novel”."
      ]
    },
    {
      "metadata": {
        "id": "cfmQMcpwaIoP",
        "colab_type": "code",
        "colab": {
          "base_uri": "https://localhost:8080/",
          "height": 471
        },
        "outputId": "0d22add9-cb34-46c1-e039-1b687b126ab8"
      },
      "cell_type": "code",
      "source": [
        "bones_ratings = ratings_pivot['0385504209']\n",
        "similar_to_bones = ratings_pivot.corrwith(bones_ratings)\n",
        "corr_bones = pd.DataFrame(similar_to_bones, columns=['pearsonR'])\n",
        "corr_bones.dropna(inplace=True)\n",
        "corr_summary = corr_bones.join(average_rating['ratingCount'])\n",
        "corr_summary[corr_summary['ratingCount']>=300].sort_values('pearsonR', ascending=False).head(10)"
      ],
      "execution_count": 0,
      "outputs": [
        {
          "output_type": "stream",
          "text": [
            "/usr/local/lib/python3.6/dist-packages/numpy/lib/function_base.py:3175: RuntimeWarning: Degrees of freedom <= 0 for slice\n",
            "  c = cov(x, y, rowvar)\n",
            "/usr/local/lib/python3.6/dist-packages/numpy/lib/function_base.py:3109: RuntimeWarning: divide by zero encountered in double_scalars\n",
            "  c *= 1. / np.float64(fact)\n"
          ],
          "name": "stderr"
        },
        {
          "output_type": "execute_result",
          "data": {
            "text/html": [
              "<div>\n",
              "<style scoped>\n",
              "    .dataframe tbody tr th:only-of-type {\n",
              "        vertical-align: middle;\n",
              "    }\n",
              "\n",
              "    .dataframe tbody tr th {\n",
              "        vertical-align: top;\n",
              "    }\n",
              "\n",
              "    .dataframe thead th {\n",
              "        text-align: right;\n",
              "    }\n",
              "</style>\n",
              "<table border=\"1\" class=\"dataframe\">\n",
              "  <thead>\n",
              "    <tr style=\"text-align: right;\">\n",
              "      <th></th>\n",
              "      <th>pearsonR</th>\n",
              "      <th>ratingCount</th>\n",
              "    </tr>\n",
              "    <tr>\n",
              "      <th>ISBN</th>\n",
              "      <th></th>\n",
              "      <th></th>\n",
              "    </tr>\n",
              "  </thead>\n",
              "  <tbody>\n",
              "    <tr>\n",
              "      <th>0385504209</th>\n",
              "      <td>1.000000</td>\n",
              "      <td>883</td>\n",
              "    </tr>\n",
              "    <tr>\n",
              "      <th>044651652X</th>\n",
              "      <td>0.524773</td>\n",
              "      <td>368</td>\n",
              "    </tr>\n",
              "    <tr>\n",
              "      <th>044022165X</th>\n",
              "      <td>0.434780</td>\n",
              "      <td>386</td>\n",
              "    </tr>\n",
              "    <tr>\n",
              "      <th>006101351X</th>\n",
              "      <td>0.368629</td>\n",
              "      <td>364</td>\n",
              "    </tr>\n",
              "    <tr>\n",
              "      <th>0312278586</th>\n",
              "      <td>0.367703</td>\n",
              "      <td>474</td>\n",
              "    </tr>\n",
              "    <tr>\n",
              "      <th>0440222656</th>\n",
              "      <td>0.350079</td>\n",
              "      <td>420</td>\n",
              "    </tr>\n",
              "    <tr>\n",
              "      <th>0060987103</th>\n",
              "      <td>0.349445</td>\n",
              "      <td>326</td>\n",
              "    </tr>\n",
              "    <tr>\n",
              "      <th>0439064872</th>\n",
              "      <td>0.346980</td>\n",
              "      <td>351</td>\n",
              "    </tr>\n",
              "    <tr>\n",
              "      <th>0671021001</th>\n",
              "      <td>0.329035</td>\n",
              "      <td>468</td>\n",
              "    </tr>\n",
              "    <tr>\n",
              "      <th>0345370775</th>\n",
              "      <td>0.320799</td>\n",
              "      <td>466</td>\n",
              "    </tr>\n",
              "  </tbody>\n",
              "</table>\n",
              "</div>"
            ],
            "text/plain": [
              "            pearsonR  ratingCount\n",
              "ISBN                             \n",
              "0385504209  1.000000          883\n",
              "044651652X  0.524773          368\n",
              "044022165X  0.434780          386\n",
              "006101351X  0.368629          364\n",
              "0312278586  0.367703          474\n",
              "0440222656  0.350079          420\n",
              "0060987103  0.349445          326\n",
              "0439064872  0.346980          351\n",
              "0671021001  0.329035          468\n",
              "0345370775  0.320799          466"
            ]
          },
          "metadata": {
            "tags": []
          },
          "execution_count": 17
        }
      ]
    },
    {
      "metadata": {
        "id": "_W9F0kVSaaoj",
        "colab_type": "text"
      },
      "cell_type": "markdown",
      "source": [
        "Find out the names of the books"
      ]
    },
    {
      "metadata": {
        "id": "ekeYtwiOacmE",
        "colab_type": "code",
        "colab": {
          "base_uri": "https://localhost:8080/",
          "height": 805
        },
        "outputId": "eee02512-b4de-4773-dd73-2f979929bd2f"
      },
      "cell_type": "code",
      "source": [
        "books_corr_to_bones = pd.DataFrame(['0385504209', '044651652X', '044022165X', '006101351X', '0312278586', '0440222656', '0060987103', '0439064872', '0671021001'], \n",
        "                                  index=np.arange(9), columns=['ISBN'])\n",
        "corr_books = pd.merge(books_corr_to_bones, books, on='ISBN')\n",
        "corr_books"
      ],
      "execution_count": 0,
      "outputs": [
        {
          "output_type": "execute_result",
          "data": {
            "text/html": [
              "<div>\n",
              "<style scoped>\n",
              "    .dataframe tbody tr th:only-of-type {\n",
              "        vertical-align: middle;\n",
              "    }\n",
              "\n",
              "    .dataframe tbody tr th {\n",
              "        vertical-align: top;\n",
              "    }\n",
              "\n",
              "    .dataframe thead th {\n",
              "        text-align: right;\n",
              "    }\n",
              "</style>\n",
              "<table border=\"1\" class=\"dataframe\">\n",
              "  <thead>\n",
              "    <tr style=\"text-align: right;\">\n",
              "      <th></th>\n",
              "      <th>ISBN</th>\n",
              "      <th>bookTitle</th>\n",
              "      <th>bookAuthor</th>\n",
              "      <th>yearOfPublication</th>\n",
              "      <th>publisher</th>\n",
              "      <th>imageUrlS</th>\n",
              "      <th>imageUrlM</th>\n",
              "      <th>imageUrlL</th>\n",
              "    </tr>\n",
              "  </thead>\n",
              "  <tbody>\n",
              "    <tr>\n",
              "      <th>0</th>\n",
              "      <td>0385504209</td>\n",
              "      <td>The Da Vinci Code</td>\n",
              "      <td>Dan Brown</td>\n",
              "      <td>2003</td>\n",
              "      <td>Doubleday</td>\n",
              "      <td>http://images.amazon.com/images/P/0385504209.0...</td>\n",
              "      <td>http://images.amazon.com/images/P/0385504209.0...</td>\n",
              "      <td>http://images.amazon.com/images/P/0385504209.0...</td>\n",
              "    </tr>\n",
              "    <tr>\n",
              "      <th>1</th>\n",
              "      <td>044651652X</td>\n",
              "      <td>The Bridges of Madison County</td>\n",
              "      <td>Robert James Waller</td>\n",
              "      <td>1992</td>\n",
              "      <td>Warner Books</td>\n",
              "      <td>http://images.amazon.com/images/P/044651652X.0...</td>\n",
              "      <td>http://images.amazon.com/images/P/044651652X.0...</td>\n",
              "      <td>http://images.amazon.com/images/P/044651652X.0...</td>\n",
              "    </tr>\n",
              "    <tr>\n",
              "      <th>2</th>\n",
              "      <td>044022165X</td>\n",
              "      <td>The Rainmaker</td>\n",
              "      <td>JOHN GRISHAM</td>\n",
              "      <td>1996</td>\n",
              "      <td>Dell</td>\n",
              "      <td>http://images.amazon.com/images/P/044022165X.0...</td>\n",
              "      <td>http://images.amazon.com/images/P/044022165X.0...</td>\n",
              "      <td>http://images.amazon.com/images/P/044022165X.0...</td>\n",
              "    </tr>\n",
              "    <tr>\n",
              "      <th>3</th>\n",
              "      <td>006101351X</td>\n",
              "      <td>The Perfect Storm : A True Story of Men Agains...</td>\n",
              "      <td>Sebastian Junger</td>\n",
              "      <td>1998</td>\n",
              "      <td>HarperTorch</td>\n",
              "      <td>http://images.amazon.com/images/P/006101351X.0...</td>\n",
              "      <td>http://images.amazon.com/images/P/006101351X.0...</td>\n",
              "      <td>http://images.amazon.com/images/P/006101351X.0...</td>\n",
              "    </tr>\n",
              "    <tr>\n",
              "      <th>4</th>\n",
              "      <td>0312278586</td>\n",
              "      <td>The Nanny Diaries: A Novel</td>\n",
              "      <td>Emma McLaughlin</td>\n",
              "      <td>2002</td>\n",
              "      <td>St. Martin's Press</td>\n",
              "      <td>http://images.amazon.com/images/P/0312278586.0...</td>\n",
              "      <td>http://images.amazon.com/images/P/0312278586.0...</td>\n",
              "      <td>http://images.amazon.com/images/P/0312278586.0...</td>\n",
              "    </tr>\n",
              "    <tr>\n",
              "      <th>5</th>\n",
              "      <td>0440222656</td>\n",
              "      <td>The Horse Whisperer</td>\n",
              "      <td>Nicholas Evans</td>\n",
              "      <td>1996</td>\n",
              "      <td>Dell</td>\n",
              "      <td>http://images.amazon.com/images/P/0440222656.0...</td>\n",
              "      <td>http://images.amazon.com/images/P/0440222656.0...</td>\n",
              "      <td>http://images.amazon.com/images/P/0440222656.0...</td>\n",
              "    </tr>\n",
              "    <tr>\n",
              "      <th>6</th>\n",
              "      <td>0060987103</td>\n",
              "      <td>Wicked: The Life and Times of the Wicked Witch...</td>\n",
              "      <td>Gregory Maguire</td>\n",
              "      <td>1996</td>\n",
              "      <td>Regan Books</td>\n",
              "      <td>http://images.amazon.com/images/P/0060987103.0...</td>\n",
              "      <td>http://images.amazon.com/images/P/0060987103.0...</td>\n",
              "      <td>http://images.amazon.com/images/P/0060987103.0...</td>\n",
              "    </tr>\n",
              "    <tr>\n",
              "      <th>7</th>\n",
              "      <td>0439064872</td>\n",
              "      <td>Harry Potter and the Chamber of Secrets (Book 2)</td>\n",
              "      <td>J. K. Rowling</td>\n",
              "      <td>2000</td>\n",
              "      <td>Scholastic</td>\n",
              "      <td>http://images.amazon.com/images/P/0439064872.0...</td>\n",
              "      <td>http://images.amazon.com/images/P/0439064872.0...</td>\n",
              "      <td>http://images.amazon.com/images/P/0439064872.0...</td>\n",
              "    </tr>\n",
              "    <tr>\n",
              "      <th>8</th>\n",
              "      <td>0671021001</td>\n",
              "      <td>She's Come Undone (Oprah's Book Club)</td>\n",
              "      <td>Wally Lamb</td>\n",
              "      <td>1998</td>\n",
              "      <td>Pocket</td>\n",
              "      <td>http://images.amazon.com/images/P/0671021001.0...</td>\n",
              "      <td>http://images.amazon.com/images/P/0671021001.0...</td>\n",
              "      <td>http://images.amazon.com/images/P/0671021001.0...</td>\n",
              "    </tr>\n",
              "  </tbody>\n",
              "</table>\n",
              "</div>"
            ],
            "text/plain": [
              "         ISBN                                          bookTitle  \\\n",
              "0  0385504209                                  The Da Vinci Code   \n",
              "1  044651652X                      The Bridges of Madison County   \n",
              "2  044022165X                                      The Rainmaker   \n",
              "3  006101351X  The Perfect Storm : A True Story of Men Agains...   \n",
              "4  0312278586                         The Nanny Diaries: A Novel   \n",
              "5  0440222656                                The Horse Whisperer   \n",
              "6  0060987103  Wicked: The Life and Times of the Wicked Witch...   \n",
              "7  0439064872   Harry Potter and the Chamber of Secrets (Book 2)   \n",
              "8  0671021001              She's Come Undone (Oprah's Book Club)   \n",
              "\n",
              "            bookAuthor yearOfPublication           publisher  \\\n",
              "0            Dan Brown              2003           Doubleday   \n",
              "1  Robert James Waller              1992        Warner Books   \n",
              "2         JOHN GRISHAM              1996                Dell   \n",
              "3     Sebastian Junger              1998         HarperTorch   \n",
              "4      Emma McLaughlin              2002  St. Martin's Press   \n",
              "5       Nicholas Evans              1996                Dell   \n",
              "6      Gregory Maguire              1996         Regan Books   \n",
              "7        J. K. Rowling              2000          Scholastic   \n",
              "8           Wally Lamb              1998              Pocket   \n",
              "\n",
              "                                           imageUrlS  \\\n",
              "0  http://images.amazon.com/images/P/0385504209.0...   \n",
              "1  http://images.amazon.com/images/P/044651652X.0...   \n",
              "2  http://images.amazon.com/images/P/044022165X.0...   \n",
              "3  http://images.amazon.com/images/P/006101351X.0...   \n",
              "4  http://images.amazon.com/images/P/0312278586.0...   \n",
              "5  http://images.amazon.com/images/P/0440222656.0...   \n",
              "6  http://images.amazon.com/images/P/0060987103.0...   \n",
              "7  http://images.amazon.com/images/P/0439064872.0...   \n",
              "8  http://images.amazon.com/images/P/0671021001.0...   \n",
              "\n",
              "                                           imageUrlM  \\\n",
              "0  http://images.amazon.com/images/P/0385504209.0...   \n",
              "1  http://images.amazon.com/images/P/044651652X.0...   \n",
              "2  http://images.amazon.com/images/P/044022165X.0...   \n",
              "3  http://images.amazon.com/images/P/006101351X.0...   \n",
              "4  http://images.amazon.com/images/P/0312278586.0...   \n",
              "5  http://images.amazon.com/images/P/0440222656.0...   \n",
              "6  http://images.amazon.com/images/P/0060987103.0...   \n",
              "7  http://images.amazon.com/images/P/0439064872.0...   \n",
              "8  http://images.amazon.com/images/P/0671021001.0...   \n",
              "\n",
              "                                           imageUrlL  \n",
              "0  http://images.amazon.com/images/P/0385504209.0...  \n",
              "1  http://images.amazon.com/images/P/044651652X.0...  \n",
              "2  http://images.amazon.com/images/P/044022165X.0...  \n",
              "3  http://images.amazon.com/images/P/006101351X.0...  \n",
              "4  http://images.amazon.com/images/P/0312278586.0...  \n",
              "5  http://images.amazon.com/images/P/0440222656.0...  \n",
              "6  http://images.amazon.com/images/P/0060987103.0...  \n",
              "7  http://images.amazon.com/images/P/0439064872.0...  \n",
              "8  http://images.amazon.com/images/P/0671021001.0...  "
            ]
          },
          "metadata": {
            "tags": []
          },
          "execution_count": 19
        }
      ]
    },
    {
      "metadata": {
        "id": "meV9ZHfgnKDJ",
        "colab_type": "text"
      },
      "cell_type": "markdown",
      "source": [
        "# Collaborative Filtering Using k-Nearest Neighbors (kNN)"
      ]
    },
    {
      "metadata": {
        "id": "7RyMY2JD70nM",
        "colab_type": "text"
      },
      "cell_type": "markdown",
      "source": [
        "**Collaborative Filtering Using k-Nearest Neighbors (kNN)**\n",
        "\n",
        "kNN is a machine learning algorithm to find clusters of similar users based on common book ratings, and make predictions using the average rating of top-k nearest neighbors. For example, we first present ratings in a matrix, with the matrix having one row for each item (book) and one column for each user"
      ]
    },
    {
      "metadata": {
        "id": "FhcPkHc88WgC",
        "colab_type": "code",
        "colab": {
          "base_uri": "https://localhost:8080/",
          "height": 146
        },
        "outputId": "cc410e18-9be1-4949-bcec-167129965c0e"
      },
      "cell_type": "code",
      "source": [
        "bookdf = pd.read_csv('data/BX-Books.csv', sep=';', error_bad_lines=False, encoding=\"latin-1\")\n",
        "bookdf.columns = ['ISBN', 'bookTitle', 'bookAuthor', 'yearOfPublication', 'publisher', 'imageUrlS', 'imageUrlM', 'imageUrlL']\n",
        "userdf = pd.read_csv('data/BX-Users.csv', sep=';', error_bad_lines=False, encoding=\"latin-1\")\n",
        "userdf.columns = ['userID', 'Location', 'Age']\n",
        "ratingdf = pd.read_csv('data/BX-Book-Ratings.csv', sep=';', error_bad_lines=False, encoding=\"latin-1\")\n",
        "ratingdf.columns = ['userID', 'ISBN', 'bookRating']"
      ],
      "execution_count": 0,
      "outputs": [
        {
          "output_type": "stream",
          "text": [
            "b'Skipping line 6452: expected 8 fields, saw 9\\nSkipping line 43667: expected 8 fields, saw 10\\nSkipping line 51751: expected 8 fields, saw 9\\n'\n",
            "b'Skipping line 92038: expected 8 fields, saw 9\\nSkipping line 104319: expected 8 fields, saw 9\\nSkipping line 121768: expected 8 fields, saw 9\\n'\n",
            "b'Skipping line 144058: expected 8 fields, saw 9\\nSkipping line 150789: expected 8 fields, saw 9\\nSkipping line 157128: expected 8 fields, saw 9\\nSkipping line 180189: expected 8 fields, saw 9\\nSkipping line 185738: expected 8 fields, saw 9\\n'\n",
            "b'Skipping line 209388: expected 8 fields, saw 9\\nSkipping line 220626: expected 8 fields, saw 9\\nSkipping line 227933: expected 8 fields, saw 11\\nSkipping line 228957: expected 8 fields, saw 10\\nSkipping line 245933: expected 8 fields, saw 9\\nSkipping line 251296: expected 8 fields, saw 9\\nSkipping line 259941: expected 8 fields, saw 9\\nSkipping line 261529: expected 8 fields, saw 9\\n'\n",
            "/usr/local/lib/python3.6/dist-packages/IPython/core/interactiveshell.py:2718: DtypeWarning: Columns (3) have mixed types. Specify dtype option on import or set low_memory=False.\n",
            "  interactivity=interactivity, compiler=compiler, result=result)\n"
          ],
          "name": "stderr"
        }
      ]
    },
    {
      "metadata": {
        "id": "X5Xi0OXv8k6W",
        "colab_type": "text"
      },
      "cell_type": "markdown",
      "source": [
        "In order to find out which books are popular, we need to combine book data with rating data."
      ]
    },
    {
      "metadata": {
        "id": "3LHN2hGa8mD5",
        "colab_type": "code",
        "colab": {
          "base_uri": "https://localhost:8080/",
          "height": 198
        },
        "outputId": "eeb9d997-8090-4a86-9a19-d0911f78a7fc"
      },
      "cell_type": "code",
      "source": [
        "combine_book_rating = pd.merge(ratingdf, bookdf, on='ISBN')\n",
        "columns = ['yearOfPublication', 'publisher', 'bookAuthor', 'imageUrlS', 'imageUrlM', 'imageUrlL']\n",
        "combine_book_rating = combine_book_rating.drop(columns, axis=1)\n",
        "combine_book_rating.head()"
      ],
      "execution_count": 0,
      "outputs": [
        {
          "output_type": "execute_result",
          "data": {
            "text/html": [
              "<div>\n",
              "<style scoped>\n",
              "    .dataframe tbody tr th:only-of-type {\n",
              "        vertical-align: middle;\n",
              "    }\n",
              "\n",
              "    .dataframe tbody tr th {\n",
              "        vertical-align: top;\n",
              "    }\n",
              "\n",
              "    .dataframe thead th {\n",
              "        text-align: right;\n",
              "    }\n",
              "</style>\n",
              "<table border=\"1\" class=\"dataframe\">\n",
              "  <thead>\n",
              "    <tr style=\"text-align: right;\">\n",
              "      <th></th>\n",
              "      <th>userID</th>\n",
              "      <th>ISBN</th>\n",
              "      <th>bookRating</th>\n",
              "      <th>bookTitle</th>\n",
              "    </tr>\n",
              "  </thead>\n",
              "  <tbody>\n",
              "    <tr>\n",
              "      <th>0</th>\n",
              "      <td>276725</td>\n",
              "      <td>034545104X</td>\n",
              "      <td>0</td>\n",
              "      <td>Flesh Tones: A Novel</td>\n",
              "    </tr>\n",
              "    <tr>\n",
              "      <th>1</th>\n",
              "      <td>2313</td>\n",
              "      <td>034545104X</td>\n",
              "      <td>5</td>\n",
              "      <td>Flesh Tones: A Novel</td>\n",
              "    </tr>\n",
              "    <tr>\n",
              "      <th>2</th>\n",
              "      <td>6543</td>\n",
              "      <td>034545104X</td>\n",
              "      <td>0</td>\n",
              "      <td>Flesh Tones: A Novel</td>\n",
              "    </tr>\n",
              "    <tr>\n",
              "      <th>3</th>\n",
              "      <td>8680</td>\n",
              "      <td>034545104X</td>\n",
              "      <td>5</td>\n",
              "      <td>Flesh Tones: A Novel</td>\n",
              "    </tr>\n",
              "    <tr>\n",
              "      <th>4</th>\n",
              "      <td>10314</td>\n",
              "      <td>034545104X</td>\n",
              "      <td>9</td>\n",
              "      <td>Flesh Tones: A Novel</td>\n",
              "    </tr>\n",
              "  </tbody>\n",
              "</table>\n",
              "</div>"
            ],
            "text/plain": [
              "   userID        ISBN  bookRating             bookTitle\n",
              "0  276725  034545104X           0  Flesh Tones: A Novel\n",
              "1    2313  034545104X           5  Flesh Tones: A Novel\n",
              "2    6543  034545104X           0  Flesh Tones: A Novel\n",
              "3    8680  034545104X           5  Flesh Tones: A Novel\n",
              "4   10314  034545104X           9  Flesh Tones: A Novel"
            ]
          },
          "metadata": {
            "tags": []
          },
          "execution_count": 21
        }
      ]
    },
    {
      "metadata": {
        "id": "Ah0Tjg0786Hk",
        "colab_type": "text"
      },
      "cell_type": "markdown",
      "source": [
        "We then group by book titles and create a new column for total rating count."
      ]
    },
    {
      "metadata": {
        "id": "da1yQ7jY8_TE",
        "colab_type": "code",
        "colab": {}
      },
      "cell_type": "code",
      "source": [
        "#remove books where title is missing\n",
        "combine_book_rating = combine_book_rating.dropna(axis = 0, subset = ['bookTitle'])"
      ],
      "execution_count": 0,
      "outputs": []
    },
    {
      "metadata": {
        "id": "7E9Oqzk387du",
        "colab_type": "code",
        "colab": {
          "base_uri": "https://localhost:8080/",
          "height": 198
        },
        "outputId": "e7855316-99b8-4be7-a698-4be6a158b5b7"
      },
      "cell_type": "code",
      "source": [
        "book_ratingCount = (combine_book_rating.\n",
        "     groupby(by = ['bookTitle'])['bookRating'].\n",
        "     count().\n",
        "     reset_index().\n",
        "     rename(columns = {'bookRating': 'totalRatingCount'})\n",
        "     [['bookTitle', 'totalRatingCount']]\n",
        "    )\n",
        "book_ratingCount.head()"
      ],
      "execution_count": 0,
      "outputs": [
        {
          "output_type": "execute_result",
          "data": {
            "text/html": [
              "<div>\n",
              "<style scoped>\n",
              "    .dataframe tbody tr th:only-of-type {\n",
              "        vertical-align: middle;\n",
              "    }\n",
              "\n",
              "    .dataframe tbody tr th {\n",
              "        vertical-align: top;\n",
              "    }\n",
              "\n",
              "    .dataframe thead th {\n",
              "        text-align: right;\n",
              "    }\n",
              "</style>\n",
              "<table border=\"1\" class=\"dataframe\">\n",
              "  <thead>\n",
              "    <tr style=\"text-align: right;\">\n",
              "      <th></th>\n",
              "      <th>bookTitle</th>\n",
              "      <th>totalRatingCount</th>\n",
              "    </tr>\n",
              "  </thead>\n",
              "  <tbody>\n",
              "    <tr>\n",
              "      <th>0</th>\n",
              "      <td>A Light in the Storm: The Civil War Diary of ...</td>\n",
              "      <td>4</td>\n",
              "    </tr>\n",
              "    <tr>\n",
              "      <th>1</th>\n",
              "      <td>Always Have Popsicles</td>\n",
              "      <td>1</td>\n",
              "    </tr>\n",
              "    <tr>\n",
              "      <th>2</th>\n",
              "      <td>Apple Magic (The Collector's series)</td>\n",
              "      <td>1</td>\n",
              "    </tr>\n",
              "    <tr>\n",
              "      <th>3</th>\n",
              "      <td>Ask Lily (Young Women of Faith: Lily Series, ...</td>\n",
              "      <td>1</td>\n",
              "    </tr>\n",
              "    <tr>\n",
              "      <th>4</th>\n",
              "      <td>Beyond IBM: Leadership Marketing and Finance ...</td>\n",
              "      <td>1</td>\n",
              "    </tr>\n",
              "  </tbody>\n",
              "</table>\n",
              "</div>"
            ],
            "text/plain": [
              "                                           bookTitle  totalRatingCount\n",
              "0   A Light in the Storm: The Civil War Diary of ...                 4\n",
              "1                              Always Have Popsicles                 1\n",
              "2               Apple Magic (The Collector's series)                 1\n",
              "3   Ask Lily (Young Women of Faith: Lily Series, ...                 1\n",
              "4   Beyond IBM: Leadership Marketing and Finance ...                 1"
            ]
          },
          "metadata": {
            "tags": []
          },
          "execution_count": 23
        }
      ]
    },
    {
      "metadata": {
        "id": "ZdkI7RoC9NF-",
        "colab_type": "text"
      },
      "cell_type": "markdown",
      "source": [
        "Combine the rating data with the total rating count data, this gives us exactly what we need to filter out the lesser known books."
      ]
    },
    {
      "metadata": {
        "id": "XsSu4g6O9Ois",
        "colab_type": "code",
        "colab": {
          "base_uri": "https://localhost:8080/",
          "height": 198
        },
        "outputId": "a260426c-bd5e-4dc2-958f-078280da3637"
      },
      "cell_type": "code",
      "source": [
        "rating_with_totalRatingCount = combine_book_rating.merge(book_ratingCount, left_on = 'bookTitle', right_on = 'bookTitle', how = 'left')\n",
        "rating_with_totalRatingCount.head()"
      ],
      "execution_count": 0,
      "outputs": [
        {
          "output_type": "execute_result",
          "data": {
            "text/html": [
              "<div>\n",
              "<style scoped>\n",
              "    .dataframe tbody tr th:only-of-type {\n",
              "        vertical-align: middle;\n",
              "    }\n",
              "\n",
              "    .dataframe tbody tr th {\n",
              "        vertical-align: top;\n",
              "    }\n",
              "\n",
              "    .dataframe thead th {\n",
              "        text-align: right;\n",
              "    }\n",
              "</style>\n",
              "<table border=\"1\" class=\"dataframe\">\n",
              "  <thead>\n",
              "    <tr style=\"text-align: right;\">\n",
              "      <th></th>\n",
              "      <th>userID</th>\n",
              "      <th>ISBN</th>\n",
              "      <th>bookRating</th>\n",
              "      <th>bookTitle</th>\n",
              "      <th>totalRatingCount</th>\n",
              "    </tr>\n",
              "  </thead>\n",
              "  <tbody>\n",
              "    <tr>\n",
              "      <th>0</th>\n",
              "      <td>276725</td>\n",
              "      <td>034545104X</td>\n",
              "      <td>0</td>\n",
              "      <td>Flesh Tones: A Novel</td>\n",
              "      <td>60</td>\n",
              "    </tr>\n",
              "    <tr>\n",
              "      <th>1</th>\n",
              "      <td>2313</td>\n",
              "      <td>034545104X</td>\n",
              "      <td>5</td>\n",
              "      <td>Flesh Tones: A Novel</td>\n",
              "      <td>60</td>\n",
              "    </tr>\n",
              "    <tr>\n",
              "      <th>2</th>\n",
              "      <td>6543</td>\n",
              "      <td>034545104X</td>\n",
              "      <td>0</td>\n",
              "      <td>Flesh Tones: A Novel</td>\n",
              "      <td>60</td>\n",
              "    </tr>\n",
              "    <tr>\n",
              "      <th>3</th>\n",
              "      <td>8680</td>\n",
              "      <td>034545104X</td>\n",
              "      <td>5</td>\n",
              "      <td>Flesh Tones: A Novel</td>\n",
              "      <td>60</td>\n",
              "    </tr>\n",
              "    <tr>\n",
              "      <th>4</th>\n",
              "      <td>10314</td>\n",
              "      <td>034545104X</td>\n",
              "      <td>9</td>\n",
              "      <td>Flesh Tones: A Novel</td>\n",
              "      <td>60</td>\n",
              "    </tr>\n",
              "  </tbody>\n",
              "</table>\n",
              "</div>"
            ],
            "text/plain": [
              "   userID        ISBN  bookRating             bookTitle  totalRatingCount\n",
              "0  276725  034545104X           0  Flesh Tones: A Novel                60\n",
              "1    2313  034545104X           5  Flesh Tones: A Novel                60\n",
              "2    6543  034545104X           0  Flesh Tones: A Novel                60\n",
              "3    8680  034545104X           5  Flesh Tones: A Novel                60\n",
              "4   10314  034545104X           9  Flesh Tones: A Novel                60"
            ]
          },
          "metadata": {
            "tags": []
          },
          "execution_count": 24
        }
      ]
    },
    {
      "metadata": {
        "id": "m7YwDozI9Yih",
        "colab_type": "text"
      },
      "cell_type": "markdown",
      "source": [
        "Statistics of total rating count"
      ]
    },
    {
      "metadata": {
        "id": "5G5xbOT09aD2",
        "colab_type": "code",
        "colab": {
          "base_uri": "https://localhost:8080/",
          "height": 181
        },
        "outputId": "5d36e5da-e909-48ad-8416-dcd8f54fd628"
      },
      "cell_type": "code",
      "source": [
        "pd.set_option('display.float_format', lambda x: '%.3f' % x)\n",
        "print(book_ratingCount['totalRatingCount'].describe())"
      ],
      "execution_count": 0,
      "outputs": [
        {
          "output_type": "stream",
          "text": [
            "count   241071.000\n",
            "mean         4.277\n",
            "std         16.739\n",
            "min          1.000\n",
            "25%          1.000\n",
            "50%          1.000\n",
            "75%          3.000\n",
            "max       2502.000\n",
            "Name: totalRatingCount, dtype: float64\n"
          ],
          "name": "stdout"
        }
      ]
    },
    {
      "metadata": {
        "id": "PAE90LtP9vsX",
        "colab_type": "code",
        "colab": {
          "base_uri": "https://localhost:8080/",
          "height": 217
        },
        "outputId": "f9d2c0c3-d80a-4b22-d9f4-bc035cd67948"
      },
      "cell_type": "code",
      "source": [
        "print(book_ratingCount['totalRatingCount'].quantile(np.arange(.9, 1, .01)))"
      ],
      "execution_count": 0,
      "outputs": [
        {
          "output_type": "stream",
          "text": [
            "0.900    7.000\n",
            "0.910    8.000\n",
            "0.920    9.000\n",
            "0.930   10.000\n",
            "0.940   11.000\n",
            "0.950   13.000\n",
            "0.960   16.000\n",
            "0.970   20.000\n",
            "0.980   29.000\n",
            "0.990   50.000\n",
            "Name: totalRatingCount, dtype: float64\n"
          ],
          "name": "stdout"
        }
      ]
    },
    {
      "metadata": {
        "id": "Y0dPxsL69xry",
        "colab_type": "text"
      },
      "cell_type": "markdown",
      "source": [
        "About 1% of books have 50 ratings, 2% have 29 ratings. Since we have so many books in our data, we’ll limit it to the top 1%, this will give us 2713 different books"
      ]
    },
    {
      "metadata": {
        "id": "ER0G_3bf920t",
        "colab_type": "code",
        "colab": {
          "base_uri": "https://localhost:8080/",
          "height": 198
        },
        "outputId": "0ca9aa26-1ba3-4a90-9c1f-9507a11d0163"
      },
      "cell_type": "code",
      "source": [
        "popularity_threshold = 50\n",
        "user_rating = rating_with_totalRatingCount.query('totalRatingCount >= @popularity_threshold')\n",
        "user_rating.head()"
      ],
      "execution_count": 0,
      "outputs": [
        {
          "output_type": "execute_result",
          "data": {
            "text/html": [
              "<div>\n",
              "<style scoped>\n",
              "    .dataframe tbody tr th:only-of-type {\n",
              "        vertical-align: middle;\n",
              "    }\n",
              "\n",
              "    .dataframe tbody tr th {\n",
              "        vertical-align: top;\n",
              "    }\n",
              "\n",
              "    .dataframe thead th {\n",
              "        text-align: right;\n",
              "    }\n",
              "</style>\n",
              "<table border=\"1\" class=\"dataframe\">\n",
              "  <thead>\n",
              "    <tr style=\"text-align: right;\">\n",
              "      <th></th>\n",
              "      <th>userID</th>\n",
              "      <th>ISBN</th>\n",
              "      <th>bookRating</th>\n",
              "      <th>bookTitle</th>\n",
              "      <th>totalRatingCount</th>\n",
              "    </tr>\n",
              "  </thead>\n",
              "  <tbody>\n",
              "    <tr>\n",
              "      <th>0</th>\n",
              "      <td>276725</td>\n",
              "      <td>034545104X</td>\n",
              "      <td>0</td>\n",
              "      <td>Flesh Tones: A Novel</td>\n",
              "      <td>60</td>\n",
              "    </tr>\n",
              "    <tr>\n",
              "      <th>1</th>\n",
              "      <td>2313</td>\n",
              "      <td>034545104X</td>\n",
              "      <td>5</td>\n",
              "      <td>Flesh Tones: A Novel</td>\n",
              "      <td>60</td>\n",
              "    </tr>\n",
              "    <tr>\n",
              "      <th>2</th>\n",
              "      <td>6543</td>\n",
              "      <td>034545104X</td>\n",
              "      <td>0</td>\n",
              "      <td>Flesh Tones: A Novel</td>\n",
              "      <td>60</td>\n",
              "    </tr>\n",
              "    <tr>\n",
              "      <th>3</th>\n",
              "      <td>8680</td>\n",
              "      <td>034545104X</td>\n",
              "      <td>5</td>\n",
              "      <td>Flesh Tones: A Novel</td>\n",
              "      <td>60</td>\n",
              "    </tr>\n",
              "    <tr>\n",
              "      <th>4</th>\n",
              "      <td>10314</td>\n",
              "      <td>034545104X</td>\n",
              "      <td>9</td>\n",
              "      <td>Flesh Tones: A Novel</td>\n",
              "      <td>60</td>\n",
              "    </tr>\n",
              "  </tbody>\n",
              "</table>\n",
              "</div>"
            ],
            "text/plain": [
              "   userID        ISBN  bookRating             bookTitle  totalRatingCount\n",
              "0  276725  034545104X           0  Flesh Tones: A Novel                60\n",
              "1    2313  034545104X           5  Flesh Tones: A Novel                60\n",
              "2    6543  034545104X           0  Flesh Tones: A Novel                60\n",
              "3    8680  034545104X           5  Flesh Tones: A Novel                60\n",
              "4   10314  034545104X           9  Flesh Tones: A Novel                60"
            ]
          },
          "metadata": {
            "tags": []
          },
          "execution_count": 27
        }
      ]
    },
    {
      "metadata": {
        "id": "s0Fk8wiv-EoT",
        "colab_type": "text"
      },
      "cell_type": "markdown",
      "source": [
        "**Implementing kNN**\n",
        "\n",
        "We convert our table to a 2D matrix, and fill the missing values with zeros (since we will calculate distances between rating vectors). We then transform the values(ratings) of the matrix dataframe into a scipy sparse matrix for more efficient calculations.\n",
        "\n",
        "**Finding the Nearest Neighbors**\n",
        "We use unsupervised algorithms with sklearn.neighbors. The algorithm we use to compute the nearest neighbors is “brute”, and we specify “metric=cosine” so that the algorithm will calculate the cosine similarity between rating vectors. Finally, we fit the model."
      ]
    },
    {
      "metadata": {
        "id": "ZgGmoMGs-l-y",
        "colab_type": "code",
        "colab": {
          "base_uri": "https://localhost:8080/",
          "height": 72
        },
        "outputId": "c7f037ca-1311-4915-da09-74b6d716762f"
      },
      "cell_type": "code",
      "source": [
        "#filter empty data\n",
        "if not user_rating[user_rating.duplicated(['userID', 'bookTitle'])].empty:\n",
        "    initial_rows = user_rating.shape[0]\n",
        "\n",
        "    print('Initial dataframe shape {0}'.format(user_rating.shape))\n",
        "    user_rating = user_rating.drop_duplicates(['userID', 'bookTitle'])\n",
        "    current_rows = user_rating.shape[0]\n",
        "    print('New dataframe shape {0}'.format(user_rating.shape))\n",
        "    print('Removed {0} rows'.format(initial_rows - current_rows))"
      ],
      "execution_count": 0,
      "outputs": [
        {
          "output_type": "stream",
          "text": [
            "Initial dataframe shape (288740, 5)\n",
            "New dataframe shape (285518, 5)\n",
            "Removed 3222 rows\n"
          ],
          "name": "stdout"
        }
      ]
    },
    {
      "metadata": {
        "id": "hgFBMh6u_WlX",
        "colab_type": "code",
        "colab": {}
      },
      "cell_type": "code",
      "source": [
        "from scipy.sparse import csr_matrix"
      ],
      "execution_count": 0,
      "outputs": []
    },
    {
      "metadata": {
        "id": "lOW4EDXQ_Hxx",
        "colab_type": "code",
        "colab": {}
      },
      "cell_type": "code",
      "source": [
        "#implementing Model\n",
        "user_rating_pivot = user_rating.pivot(index = 'bookTitle', columns = 'userID', values = 'bookRating').fillna(0)\n",
        "user_rating_matrix = csr_matrix(user_rating_pivot.values)"
      ],
      "execution_count": 0,
      "outputs": []
    },
    {
      "metadata": {
        "id": "9471jndQAPqM",
        "colab_type": "code",
        "colab": {
          "base_uri": "https://localhost:8080/",
          "height": 54
        },
        "outputId": "124ea2dc-63aa-4c18-e9af-0f871cee0b72"
      },
      "cell_type": "code",
      "source": [
        "from sklearn.neighbors import NearestNeighbors\n",
        "\n",
        "model_knn = NearestNeighbors(metric = 'cosine', algorithm = 'brute')\n",
        "model_knn.fit(user_rating_matrix)"
      ],
      "execution_count": 0,
      "outputs": [
        {
          "output_type": "execute_result",
          "data": {
            "text/plain": [
              "NearestNeighbors(algorithm='brute', leaf_size=30, metric='cosine',\n",
              "         metric_params=None, n_jobs=1, n_neighbors=5, p=2, radius=1.0)"
            ]
          },
          "metadata": {
            "tags": []
          },
          "execution_count": 31
        }
      ]
    },
    {
      "metadata": {
        "id": "1wL7Y9avAWL3",
        "colab_type": "text"
      },
      "cell_type": "markdown",
      "source": [
        "**Test model**\n",
        "\n",
        "Recommendations for Courting Trouble"
      ]
    },
    {
      "metadata": {
        "id": "CezT-dE_ArR2",
        "colab_type": "code",
        "colab": {
          "base_uri": "https://localhost:8080/",
          "height": 201
        },
        "outputId": "583d4cb7-27c8-47f5-cd6d-eba997b84f74"
      },
      "cell_type": "code",
      "source": [
        "query_index = np.random.choice(user_rating_pivot.shape[0])\n",
        "distances, indices = model_knn.kneighbors(user_rating_pivot.iloc[query_index, :].reshape(1, -1), n_neighbors = 6)\n",
        "\n",
        "for i in range(0, len(distances.flatten())):\n",
        "    if i == 0:\n",
        "        print('Recommendations for {0}:\\n'.format(user_rating_pivot.index[query_index]))\n",
        "    else:\n",
        "        print('{0}: {1}, with distance of {2}:'.format(i, user_rating_pivot.index[indices.flatten()[i]], distances.flatten()[i]))"
      ],
      "execution_count": 0,
      "outputs": [
        {
          "output_type": "stream",
          "text": [
            "Recommendations for Hemlock Bay:\n",
            "\n",
            "1: The Playboy, with distance of 0.8102760697971464:\n",
            "2: The Edge, with distance of 0.8339881799419402:\n",
            "3: Eleventh Hour: An FBI Thriller (FBI Thriller (Jove Paperback)), with distance of 0.8493591269759679:\n",
            "4: Black Water, with distance of 0.8521817014783144:\n",
            "5: The Maze, with distance of 0.8573068924310725:\n"
          ],
          "name": "stdout"
        },
        {
          "output_type": "stream",
          "text": [
            "/usr/local/lib/python3.6/dist-packages/ipykernel_launcher.py:2: FutureWarning: reshape is deprecated and will raise in a subsequent release. Please use .values.reshape(...) instead\n",
            "  \n"
          ],
          "name": "stderr"
        }
      ]
    },
    {
      "metadata": {
        "id": "ohm1k3CWBOeu",
        "colab_type": "text"
      },
      "cell_type": "markdown",
      "source": [
        "Recommendations for (Chicken Soup for the Soul Series)"
      ]
    },
    {
      "metadata": {
        "id": "9sSIgMCAOxEZ",
        "colab_type": "code",
        "colab": {
          "base_uri": "https://localhost:8080/",
          "height": 35
        },
        "outputId": "7352bb35-1125-47c2-bc28-8a69bc53852d"
      },
      "cell_type": "code",
      "source": [
        "#find index of a book in pivot table\n",
        "for i in range(0, user_rating_pivot.shape[0]):\n",
        "    if user_rating_pivot.index[i] == \"Chicken Soup for the Teenage Soul II (Chicken Soup for the Soul Series)\":\n",
        "        print(i)"
      ],
      "execution_count": 0,
      "outputs": [
        {
          "output_type": "stream",
          "text": [
            "375\n"
          ],
          "name": "stdout"
        }
      ]
    },
    {
      "metadata": {
        "id": "xcRP6QPaPTCx",
        "colab_type": "code",
        "colab": {
          "base_uri": "https://localhost:8080/",
          "height": 201
        },
        "outputId": "4a840ed4-1bb8-406b-9340-744da4d9a144"
      },
      "cell_type": "code",
      "source": [
        "query_index = 375\n",
        "distances, indices = model_knn.kneighbors(user_rating_pivot.iloc[query_index, :].reshape(1, -1), n_neighbors = 6)\n",
        "\n",
        "for i in range(0, len(distances.flatten())):\n",
        "    if i == 0:\n",
        "        print('Recommendations for {0}:\\n'.format(user_rating_pivot.index[query_index]))\n",
        "    else:\n",
        "        print('{0}: {1}, with distance of {2}:'.format(i, user_rating_pivot.index[indices.flatten()[i]], distances.flatten()[i]))"
      ],
      "execution_count": 0,
      "outputs": [
        {
          "output_type": "stream",
          "text": [
            "Recommendations for Chicken Soup for the Teenage Soul II (Chicken Soup for the Soul Series):\n",
            "\n",
            "1: Chicken Soup for the Teenage Soul (Chicken Soup for the Soul), with distance of 0.7346173666157656:\n",
            "2: A 2nd Helping of Chicken Soup for the Soul (Chicken Soup for the Soul Series (Paper)), with distance of 0.8417482167694994:\n",
            "3: Chicken Soup for the Woman's Soul (Chicken Soup for the Soul Series (Paper)), with distance of 0.8948525494728602:\n",
            "4: Chicken Soup for the Mother's Soul (Chicken Soup for the Soul Series (Paper)), with distance of 0.9128282688645795:\n",
            "5: Plain Jane, with distance of 0.9161924963264576:\n"
          ],
          "name": "stdout"
        },
        {
          "output_type": "stream",
          "text": [
            "/usr/local/lib/python3.6/dist-packages/ipykernel_launcher.py:2: FutureWarning: reshape is deprecated and will raise in a subsequent release. Please use .values.reshape(...) instead\n",
            "  \n"
          ],
          "name": "stderr"
        }
      ]
    },
    {
      "metadata": {
        "id": "UuYWMCnQnYQq",
        "colab_type": "text"
      },
      "cell_type": "markdown",
      "source": [
        "# Recommendation System with a Restricted Boltzmann Machine"
      ]
    },
    {
      "metadata": {
        "id": "P1siaiFSkLdj",
        "colab_type": "text"
      },
      "cell_type": "markdown",
      "source": [
        "About"
      ]
    },
    {
      "metadata": {
        "id": "nemM47L-Q2dk",
        "colab_type": "text"
      },
      "cell_type": "markdown",
      "source": [
        "Format Data"
      ]
    },
    {
      "metadata": {
        "id": "jEC69TweQ4pQ",
        "colab_type": "code",
        "colab": {
          "base_uri": "https://localhost:8080/",
          "height": 146
        },
        "outputId": "32700432-e4a1-453a-f382-1ca258f0f81e"
      },
      "cell_type": "code",
      "source": [
        "rbmbookdf = pd.read_csv('data/BX-Books.csv', sep=';', error_bad_lines=False, encoding=\"latin-1\")\n",
        "rbmbookdf.columns = ['ISBN', 'bookTitle', 'bookAuthor', 'yearOfPublication', 'publisher', 'imageUrlS', 'imageUrlM', 'imageUrlL']\n",
        "rbmuserdf = pd.read_csv('data/BX-Users.csv', sep=';', error_bad_lines=False, encoding=\"latin-1\")\n",
        "rbmuserdf.columns = ['userID', 'Location', 'Age']\n",
        "rbmratingdf = pd.read_csv('data/BX-Book-Ratings.csv', sep=';', error_bad_lines=False, encoding=\"latin-1\")\n",
        "rbmratingdf.columns = ['userID', 'ISBN', 'bookRating']"
      ],
      "execution_count": 0,
      "outputs": [
        {
          "output_type": "stream",
          "text": [
            "b'Skipping line 6452: expected 8 fields, saw 9\\nSkipping line 43667: expected 8 fields, saw 10\\nSkipping line 51751: expected 8 fields, saw 9\\n'\n",
            "b'Skipping line 92038: expected 8 fields, saw 9\\nSkipping line 104319: expected 8 fields, saw 9\\nSkipping line 121768: expected 8 fields, saw 9\\n'\n",
            "b'Skipping line 144058: expected 8 fields, saw 9\\nSkipping line 150789: expected 8 fields, saw 9\\nSkipping line 157128: expected 8 fields, saw 9\\nSkipping line 180189: expected 8 fields, saw 9\\nSkipping line 185738: expected 8 fields, saw 9\\n'\n",
            "b'Skipping line 209388: expected 8 fields, saw 9\\nSkipping line 220626: expected 8 fields, saw 9\\nSkipping line 227933: expected 8 fields, saw 11\\nSkipping line 228957: expected 8 fields, saw 10\\nSkipping line 245933: expected 8 fields, saw 9\\nSkipping line 251296: expected 8 fields, saw 9\\nSkipping line 259941: expected 8 fields, saw 9\\nSkipping line 261529: expected 8 fields, saw 9\\n'\n",
            "/usr/local/lib/python3.6/dist-packages/IPython/core/interactiveshell.py:2718: DtypeWarning: Columns (3) have mixed types. Specify dtype option on import or set low_memory=False.\n",
            "  interactivity=interactivity, compiler=compiler, result=result)\n"
          ],
          "name": "stderr"
        }
      ]
    },
    {
      "metadata": {
        "id": "rHcxlFw8lMBR",
        "colab_type": "code",
        "colab": {
          "base_uri": "https://localhost:8080/",
          "height": 72
        },
        "outputId": "0866547d-b983-42c5-f8cf-272980c95765"
      },
      "cell_type": "code",
      "source": [
        "print(len(rbmbookdf))\n",
        "print(len(rbmuserdf))\n",
        "print(len(rbmratingdf))"
      ],
      "execution_count": 0,
      "outputs": [
        {
          "output_type": "stream",
          "text": [
            "271360\n",
            "278858\n",
            "1149780\n"
          ],
          "name": "stdout"
        }
      ]
    },
    {
      "metadata": {
        "id": "kirxmyY4kVbz",
        "colab_type": "text"
      },
      "cell_type": "markdown",
      "source": [
        "Since the dataset is huge, we will filter the books with maximum number of rating and make the dataset with close to 100k ratings"
      ]
    },
    {
      "metadata": {
        "id": "BNZT0vPCi2s_",
        "colab_type": "code",
        "colab": {
          "base_uri": "https://localhost:8080/",
          "height": 198
        },
        "outputId": "a3aee7e2-a53c-44a2-af05-7e23757baaa4"
      },
      "cell_type": "code",
      "source": [
        "#filter books and ratings dataset for most rated books\n",
        "merged_df = pd.merge(rbmratingdf, rbmbookdf, on='ISBN')\n",
        "temp_Countdf = (merged_df.\n",
        "     groupby(by = ['ISBN'])['bookRating'].\n",
        "     count().\n",
        "     reset_index().\n",
        "     rename(columns = {'bookRating': 'totalRatingCount'})\n",
        "    \n",
        "    )\n",
        "temp_Countdf.head()\n"
      ],
      "execution_count": 0,
      "outputs": [
        {
          "output_type": "execute_result",
          "data": {
            "text/html": [
              "<div>\n",
              "<style scoped>\n",
              "    .dataframe tbody tr th:only-of-type {\n",
              "        vertical-align: middle;\n",
              "    }\n",
              "\n",
              "    .dataframe tbody tr th {\n",
              "        vertical-align: top;\n",
              "    }\n",
              "\n",
              "    .dataframe thead th {\n",
              "        text-align: right;\n",
              "    }\n",
              "</style>\n",
              "<table border=\"1\" class=\"dataframe\">\n",
              "  <thead>\n",
              "    <tr style=\"text-align: right;\">\n",
              "      <th></th>\n",
              "      <th>ISBN</th>\n",
              "      <th>totalRatingCount</th>\n",
              "    </tr>\n",
              "  </thead>\n",
              "  <tbody>\n",
              "    <tr>\n",
              "      <th>0</th>\n",
              "      <td>0000913154</td>\n",
              "      <td>1</td>\n",
              "    </tr>\n",
              "    <tr>\n",
              "      <th>1</th>\n",
              "      <td>0001010565</td>\n",
              "      <td>2</td>\n",
              "    </tr>\n",
              "    <tr>\n",
              "      <th>2</th>\n",
              "      <td>0001046438</td>\n",
              "      <td>1</td>\n",
              "    </tr>\n",
              "    <tr>\n",
              "      <th>3</th>\n",
              "      <td>0001046713</td>\n",
              "      <td>1</td>\n",
              "    </tr>\n",
              "    <tr>\n",
              "      <th>4</th>\n",
              "      <td>000104687X</td>\n",
              "      <td>1</td>\n",
              "    </tr>\n",
              "  </tbody>\n",
              "</table>\n",
              "</div>"
            ],
            "text/plain": [
              "         ISBN  totalRatingCount\n",
              "0  0000913154                 1\n",
              "1  0001010565                 2\n",
              "2  0001046438                 1\n",
              "3  0001046713                 1\n",
              "4  000104687X                 1"
            ]
          },
          "metadata": {
            "tags": []
          },
          "execution_count": 37
        }
      ]
    },
    {
      "metadata": {
        "id": "4NMYODM8jr5Q",
        "colab_type": "code",
        "colab": {
          "base_uri": "https://localhost:8080/",
          "height": 198
        },
        "outputId": "7972b7a0-616e-476c-bc40-19f0c7fd0f7c"
      },
      "cell_type": "code",
      "source": [
        "#from previous model set popularity threshhold\n",
        "#filter books with totalRatingCount >100\n",
        "popularity_threshold = 100\n",
        "temp_Countdf = temp_Countdf.query('totalRatingCount >= @popularity_threshold')\n",
        "temp_Countdf.head()"
      ],
      "execution_count": 0,
      "outputs": [
        {
          "output_type": "execute_result",
          "data": {
            "text/html": [
              "<div>\n",
              "<style scoped>\n",
              "    .dataframe tbody tr th:only-of-type {\n",
              "        vertical-align: middle;\n",
              "    }\n",
              "\n",
              "    .dataframe tbody tr th {\n",
              "        vertical-align: top;\n",
              "    }\n",
              "\n",
              "    .dataframe thead th {\n",
              "        text-align: right;\n",
              "    }\n",
              "</style>\n",
              "<table border=\"1\" class=\"dataframe\">\n",
              "  <thead>\n",
              "    <tr style=\"text-align: right;\">\n",
              "      <th></th>\n",
              "      <th>ISBN</th>\n",
              "      <th>totalRatingCount</th>\n",
              "    </tr>\n",
              "  </thead>\n",
              "  <tbody>\n",
              "    <tr>\n",
              "      <th>803</th>\n",
              "      <td>000649840X</td>\n",
              "      <td>89</td>\n",
              "    </tr>\n",
              "    <tr>\n",
              "      <th>1104</th>\n",
              "      <td>0007110928</td>\n",
              "      <td>50</td>\n",
              "    </tr>\n",
              "    <tr>\n",
              "      <th>1189</th>\n",
              "      <td>0007154615</td>\n",
              "      <td>46</td>\n",
              "    </tr>\n",
              "    <tr>\n",
              "      <th>1281</th>\n",
              "      <td>0020198906</td>\n",
              "      <td>44</td>\n",
              "    </tr>\n",
              "    <tr>\n",
              "      <th>1289</th>\n",
              "      <td>0020199600</td>\n",
              "      <td>42</td>\n",
              "    </tr>\n",
              "  </tbody>\n",
              "</table>\n",
              "</div>"
            ],
            "text/plain": [
              "            ISBN  totalRatingCount\n",
              "803   000649840X                89\n",
              "1104  0007110928                50\n",
              "1189  0007154615                46\n",
              "1281  0020198906                44\n",
              "1289  0020199600                42"
            ]
          },
          "metadata": {
            "tags": []
          },
          "execution_count": 38
        }
      ]
    },
    {
      "metadata": {
        "id": "EsuHb_NGRFB7",
        "colab_type": "code",
        "colab": {
          "base_uri": "https://localhost:8080/",
          "height": 54
        },
        "outputId": "99e3571f-a029-4814-9640-aa7a57bd6db2"
      },
      "cell_type": "code",
      "source": [
        "print(len(rbmbookdf))\n",
        "filteredbookdf = rbmbookdf.loc[rbmbookdf['ISBN'].isin(temp_Countdf.ISBN)]\n",
        "print(len(filteredbookdf))"
      ],
      "execution_count": 0,
      "outputs": [
        {
          "output_type": "stream",
          "text": [
            "271360\n",
            "2915\n"
          ],
          "name": "stdout"
        }
      ]
    },
    {
      "metadata": {
        "id": "cJ3U5B99kgE-",
        "colab_type": "code",
        "colab": {
          "base_uri": "https://localhost:8080/",
          "height": 54
        },
        "outputId": "55dcc0b3-ed7f-4d36-85f4-21cac500c13e"
      },
      "cell_type": "code",
      "source": [
        "print(len(rbmratingdf))\n",
        "filteredRatingDf = rbmratingdf.loc[rbmratingdf['ISBN'].isin(temp_Countdf.ISBN)]\n",
        "print(len(filteredRatingDf))"
      ],
      "execution_count": 0,
      "outputs": [
        {
          "output_type": "stream",
          "text": [
            "1149780\n",
            "268141\n"
          ],
          "name": "stdout"
        }
      ]
    },
    {
      "metadata": {
        "id": "f6XK3LYERKdI",
        "colab_type": "code",
        "colab": {
          "base_uri": "https://localhost:8080/",
          "height": 339
        },
        "outputId": "1fff3997-4880-4de1-b3e2-8890ce11b06c"
      },
      "cell_type": "code",
      "source": [
        "#index movies list\n",
        "filteredbookdf = filteredbookdf.reset_index(drop=True)\n",
        "filteredbookdf['BookIndex'] = filteredbookdf.index\n",
        "filteredbookdf.head()"
      ],
      "execution_count": 0,
      "outputs": [
        {
          "output_type": "execute_result",
          "data": {
            "text/html": [
              "<div>\n",
              "<style scoped>\n",
              "    .dataframe tbody tr th:only-of-type {\n",
              "        vertical-align: middle;\n",
              "    }\n",
              "\n",
              "    .dataframe tbody tr th {\n",
              "        vertical-align: top;\n",
              "    }\n",
              "\n",
              "    .dataframe thead th {\n",
              "        text-align: right;\n",
              "    }\n",
              "</style>\n",
              "<table border=\"1\" class=\"dataframe\">\n",
              "  <thead>\n",
              "    <tr style=\"text-align: right;\">\n",
              "      <th></th>\n",
              "      <th>ISBN</th>\n",
              "      <th>bookTitle</th>\n",
              "      <th>bookAuthor</th>\n",
              "      <th>yearOfPublication</th>\n",
              "      <th>publisher</th>\n",
              "      <th>imageUrlS</th>\n",
              "      <th>imageUrlM</th>\n",
              "      <th>imageUrlL</th>\n",
              "      <th>BookIndex</th>\n",
              "    </tr>\n",
              "  </thead>\n",
              "  <tbody>\n",
              "    <tr>\n",
              "      <th>0</th>\n",
              "      <td>0440234743</td>\n",
              "      <td>The Testament</td>\n",
              "      <td>John Grisham</td>\n",
              "      <td>1999</td>\n",
              "      <td>Dell</td>\n",
              "      <td>http://images.amazon.com/images/P/0440234743.0...</td>\n",
              "      <td>http://images.amazon.com/images/P/0440234743.0...</td>\n",
              "      <td>http://images.amazon.com/images/P/0440234743.0...</td>\n",
              "      <td>0</td>\n",
              "    </tr>\n",
              "    <tr>\n",
              "      <th>1</th>\n",
              "      <td>0452264464</td>\n",
              "      <td>Beloved (Plume Contemporary Fiction)</td>\n",
              "      <td>Toni Morrison</td>\n",
              "      <td>1994</td>\n",
              "      <td>Plume</td>\n",
              "      <td>http://images.amazon.com/images/P/0452264464.0...</td>\n",
              "      <td>http://images.amazon.com/images/P/0452264464.0...</td>\n",
              "      <td>http://images.amazon.com/images/P/0452264464.0...</td>\n",
              "      <td>1</td>\n",
              "    </tr>\n",
              "    <tr>\n",
              "      <th>2</th>\n",
              "      <td>0971880107</td>\n",
              "      <td>Wild Animus</td>\n",
              "      <td>Rich Shapero</td>\n",
              "      <td>2004</td>\n",
              "      <td>Too Far</td>\n",
              "      <td>http://images.amazon.com/images/P/0971880107.0...</td>\n",
              "      <td>http://images.amazon.com/images/P/0971880107.0...</td>\n",
              "      <td>http://images.amazon.com/images/P/0971880107.0...</td>\n",
              "      <td>2</td>\n",
              "    </tr>\n",
              "    <tr>\n",
              "      <th>3</th>\n",
              "      <td>0345402871</td>\n",
              "      <td>Airframe</td>\n",
              "      <td>Michael Crichton</td>\n",
              "      <td>1997</td>\n",
              "      <td>Ballantine Books</td>\n",
              "      <td>http://images.amazon.com/images/P/0345402871.0...</td>\n",
              "      <td>http://images.amazon.com/images/P/0345402871.0...</td>\n",
              "      <td>http://images.amazon.com/images/P/0345402871.0...</td>\n",
              "      <td>3</td>\n",
              "    </tr>\n",
              "    <tr>\n",
              "      <th>4</th>\n",
              "      <td>0345417623</td>\n",
              "      <td>Timeline</td>\n",
              "      <td>MICHAEL CRICHTON</td>\n",
              "      <td>2000</td>\n",
              "      <td>Ballantine Books</td>\n",
              "      <td>http://images.amazon.com/images/P/0345417623.0...</td>\n",
              "      <td>http://images.amazon.com/images/P/0345417623.0...</td>\n",
              "      <td>http://images.amazon.com/images/P/0345417623.0...</td>\n",
              "      <td>4</td>\n",
              "    </tr>\n",
              "  </tbody>\n",
              "</table>\n",
              "</div>"
            ],
            "text/plain": [
              "         ISBN                             bookTitle        bookAuthor  \\\n",
              "0  0440234743                         The Testament      John Grisham   \n",
              "1  0452264464  Beloved (Plume Contemporary Fiction)     Toni Morrison   \n",
              "2  0971880107                           Wild Animus      Rich Shapero   \n",
              "3  0345402871                              Airframe  Michael Crichton   \n",
              "4  0345417623                              Timeline  MICHAEL CRICHTON   \n",
              "\n",
              "  yearOfPublication         publisher  \\\n",
              "0              1999              Dell   \n",
              "1              1994             Plume   \n",
              "2              2004           Too Far   \n",
              "3              1997  Ballantine Books   \n",
              "4              2000  Ballantine Books   \n",
              "\n",
              "                                           imageUrlS  \\\n",
              "0  http://images.amazon.com/images/P/0440234743.0...   \n",
              "1  http://images.amazon.com/images/P/0452264464.0...   \n",
              "2  http://images.amazon.com/images/P/0971880107.0...   \n",
              "3  http://images.amazon.com/images/P/0345402871.0...   \n",
              "4  http://images.amazon.com/images/P/0345417623.0...   \n",
              "\n",
              "                                           imageUrlM  \\\n",
              "0  http://images.amazon.com/images/P/0440234743.0...   \n",
              "1  http://images.amazon.com/images/P/0452264464.0...   \n",
              "2  http://images.amazon.com/images/P/0971880107.0...   \n",
              "3  http://images.amazon.com/images/P/0345402871.0...   \n",
              "4  http://images.amazon.com/images/P/0345417623.0...   \n",
              "\n",
              "                                           imageUrlL  BookIndex  \n",
              "0  http://images.amazon.com/images/P/0440234743.0...          0  \n",
              "1  http://images.amazon.com/images/P/0452264464.0...          1  \n",
              "2  http://images.amazon.com/images/P/0971880107.0...          2  \n",
              "3  http://images.amazon.com/images/P/0345402871.0...          3  \n",
              "4  http://images.amazon.com/images/P/0345417623.0...          4  "
            ]
          },
          "metadata": {
            "tags": []
          },
          "execution_count": 41
        }
      ]
    },
    {
      "metadata": {
        "id": "umQXiAGVRcig",
        "colab_type": "code",
        "colab": {
          "base_uri": "https://localhost:8080/",
          "height": 391
        },
        "outputId": "50f3446a-6200-4f9b-c84b-56702aed658c"
      },
      "cell_type": "code",
      "source": [
        "#Merging rbmbookdf with ratings_df by ISBN\n",
        "merged_book_rating = pd.merge(filteredRatingDf, filteredbookdf, on='ISBN')\n",
        "\n",
        "merged_book_rating.head()"
      ],
      "execution_count": 0,
      "outputs": [
        {
          "output_type": "execute_result",
          "data": {
            "text/html": [
              "<div>\n",
              "<style scoped>\n",
              "    .dataframe tbody tr th:only-of-type {\n",
              "        vertical-align: middle;\n",
              "    }\n",
              "\n",
              "    .dataframe tbody tr th {\n",
              "        vertical-align: top;\n",
              "    }\n",
              "\n",
              "    .dataframe thead th {\n",
              "        text-align: right;\n",
              "    }\n",
              "</style>\n",
              "<table border=\"1\" class=\"dataframe\">\n",
              "  <thead>\n",
              "    <tr style=\"text-align: right;\">\n",
              "      <th></th>\n",
              "      <th>userID</th>\n",
              "      <th>ISBN</th>\n",
              "      <th>bookRating</th>\n",
              "      <th>bookTitle</th>\n",
              "      <th>bookAuthor</th>\n",
              "      <th>yearOfPublication</th>\n",
              "      <th>publisher</th>\n",
              "      <th>imageUrlS</th>\n",
              "      <th>imageUrlM</th>\n",
              "      <th>imageUrlL</th>\n",
              "      <th>BookIndex</th>\n",
              "    </tr>\n",
              "  </thead>\n",
              "  <tbody>\n",
              "    <tr>\n",
              "      <th>0</th>\n",
              "      <td>276725</td>\n",
              "      <td>034545104X</td>\n",
              "      <td>0</td>\n",
              "      <td>Flesh Tones: A Novel</td>\n",
              "      <td>M. J. Rose</td>\n",
              "      <td>2002</td>\n",
              "      <td>Ballantine Books</td>\n",
              "      <td>http://images.amazon.com/images/P/034545104X.0...</td>\n",
              "      <td>http://images.amazon.com/images/P/034545104X.0...</td>\n",
              "      <td>http://images.amazon.com/images/P/034545104X.0...</td>\n",
              "      <td>711</td>\n",
              "    </tr>\n",
              "    <tr>\n",
              "      <th>1</th>\n",
              "      <td>2313</td>\n",
              "      <td>034545104X</td>\n",
              "      <td>5</td>\n",
              "      <td>Flesh Tones: A Novel</td>\n",
              "      <td>M. J. Rose</td>\n",
              "      <td>2002</td>\n",
              "      <td>Ballantine Books</td>\n",
              "      <td>http://images.amazon.com/images/P/034545104X.0...</td>\n",
              "      <td>http://images.amazon.com/images/P/034545104X.0...</td>\n",
              "      <td>http://images.amazon.com/images/P/034545104X.0...</td>\n",
              "      <td>711</td>\n",
              "    </tr>\n",
              "    <tr>\n",
              "      <th>2</th>\n",
              "      <td>6543</td>\n",
              "      <td>034545104X</td>\n",
              "      <td>0</td>\n",
              "      <td>Flesh Tones: A Novel</td>\n",
              "      <td>M. J. Rose</td>\n",
              "      <td>2002</td>\n",
              "      <td>Ballantine Books</td>\n",
              "      <td>http://images.amazon.com/images/P/034545104X.0...</td>\n",
              "      <td>http://images.amazon.com/images/P/034545104X.0...</td>\n",
              "      <td>http://images.amazon.com/images/P/034545104X.0...</td>\n",
              "      <td>711</td>\n",
              "    </tr>\n",
              "    <tr>\n",
              "      <th>3</th>\n",
              "      <td>8680</td>\n",
              "      <td>034545104X</td>\n",
              "      <td>5</td>\n",
              "      <td>Flesh Tones: A Novel</td>\n",
              "      <td>M. J. Rose</td>\n",
              "      <td>2002</td>\n",
              "      <td>Ballantine Books</td>\n",
              "      <td>http://images.amazon.com/images/P/034545104X.0...</td>\n",
              "      <td>http://images.amazon.com/images/P/034545104X.0...</td>\n",
              "      <td>http://images.amazon.com/images/P/034545104X.0...</td>\n",
              "      <td>711</td>\n",
              "    </tr>\n",
              "    <tr>\n",
              "      <th>4</th>\n",
              "      <td>10314</td>\n",
              "      <td>034545104X</td>\n",
              "      <td>9</td>\n",
              "      <td>Flesh Tones: A Novel</td>\n",
              "      <td>M. J. Rose</td>\n",
              "      <td>2002</td>\n",
              "      <td>Ballantine Books</td>\n",
              "      <td>http://images.amazon.com/images/P/034545104X.0...</td>\n",
              "      <td>http://images.amazon.com/images/P/034545104X.0...</td>\n",
              "      <td>http://images.amazon.com/images/P/034545104X.0...</td>\n",
              "      <td>711</td>\n",
              "    </tr>\n",
              "  </tbody>\n",
              "</table>\n",
              "</div>"
            ],
            "text/plain": [
              "   userID        ISBN  bookRating             bookTitle  bookAuthor  \\\n",
              "0  276725  034545104X           0  Flesh Tones: A Novel  M. J. Rose   \n",
              "1    2313  034545104X           5  Flesh Tones: A Novel  M. J. Rose   \n",
              "2    6543  034545104X           0  Flesh Tones: A Novel  M. J. Rose   \n",
              "3    8680  034545104X           5  Flesh Tones: A Novel  M. J. Rose   \n",
              "4   10314  034545104X           9  Flesh Tones: A Novel  M. J. Rose   \n",
              "\n",
              "  yearOfPublication         publisher  \\\n",
              "0              2002  Ballantine Books   \n",
              "1              2002  Ballantine Books   \n",
              "2              2002  Ballantine Books   \n",
              "3              2002  Ballantine Books   \n",
              "4              2002  Ballantine Books   \n",
              "\n",
              "                                           imageUrlS  \\\n",
              "0  http://images.amazon.com/images/P/034545104X.0...   \n",
              "1  http://images.amazon.com/images/P/034545104X.0...   \n",
              "2  http://images.amazon.com/images/P/034545104X.0...   \n",
              "3  http://images.amazon.com/images/P/034545104X.0...   \n",
              "4  http://images.amazon.com/images/P/034545104X.0...   \n",
              "\n",
              "                                           imageUrlM  \\\n",
              "0  http://images.amazon.com/images/P/034545104X.0...   \n",
              "1  http://images.amazon.com/images/P/034545104X.0...   \n",
              "2  http://images.amazon.com/images/P/034545104X.0...   \n",
              "3  http://images.amazon.com/images/P/034545104X.0...   \n",
              "4  http://images.amazon.com/images/P/034545104X.0...   \n",
              "\n",
              "                                           imageUrlL  BookIndex  \n",
              "0  http://images.amazon.com/images/P/034545104X.0...        711  \n",
              "1  http://images.amazon.com/images/P/034545104X.0...        711  \n",
              "2  http://images.amazon.com/images/P/034545104X.0...        711  \n",
              "3  http://images.amazon.com/images/P/034545104X.0...        711  \n",
              "4  http://images.amazon.com/images/P/034545104X.0...        711  "
            ]
          },
          "metadata": {
            "tags": []
          },
          "execution_count": 42
        }
      ]
    },
    {
      "metadata": {
        "id": "n47Pp80fSRgs",
        "colab_type": "code",
        "colab": {
          "base_uri": "https://localhost:8080/",
          "height": 198
        },
        "outputId": "c5fa4a23-08f6-426c-85d9-dc9bab1be8da"
      },
      "cell_type": "code",
      "source": [
        "#Dropping unecessary columns\n",
        "merged_book_rating = merged_book_rating.drop('bookTitle', axis=1).drop('bookAuthor', axis=1).drop('yearOfPublication', axis=1).drop('publisher', axis=1)\n",
        "merged_book_rating = merged_book_rating.drop('imageUrlS', axis=1).drop('imageUrlM', axis=1).drop('imageUrlL', axis=1)\n",
        "#Displaying the result\n",
        "merged_book_rating.head()"
      ],
      "execution_count": 0,
      "outputs": [
        {
          "output_type": "execute_result",
          "data": {
            "text/html": [
              "<div>\n",
              "<style scoped>\n",
              "    .dataframe tbody tr th:only-of-type {\n",
              "        vertical-align: middle;\n",
              "    }\n",
              "\n",
              "    .dataframe tbody tr th {\n",
              "        vertical-align: top;\n",
              "    }\n",
              "\n",
              "    .dataframe thead th {\n",
              "        text-align: right;\n",
              "    }\n",
              "</style>\n",
              "<table border=\"1\" class=\"dataframe\">\n",
              "  <thead>\n",
              "    <tr style=\"text-align: right;\">\n",
              "      <th></th>\n",
              "      <th>userID</th>\n",
              "      <th>ISBN</th>\n",
              "      <th>bookRating</th>\n",
              "      <th>BookIndex</th>\n",
              "    </tr>\n",
              "  </thead>\n",
              "  <tbody>\n",
              "    <tr>\n",
              "      <th>0</th>\n",
              "      <td>276725</td>\n",
              "      <td>034545104X</td>\n",
              "      <td>0</td>\n",
              "      <td>711</td>\n",
              "    </tr>\n",
              "    <tr>\n",
              "      <th>1</th>\n",
              "      <td>2313</td>\n",
              "      <td>034545104X</td>\n",
              "      <td>5</td>\n",
              "      <td>711</td>\n",
              "    </tr>\n",
              "    <tr>\n",
              "      <th>2</th>\n",
              "      <td>6543</td>\n",
              "      <td>034545104X</td>\n",
              "      <td>0</td>\n",
              "      <td>711</td>\n",
              "    </tr>\n",
              "    <tr>\n",
              "      <th>3</th>\n",
              "      <td>8680</td>\n",
              "      <td>034545104X</td>\n",
              "      <td>5</td>\n",
              "      <td>711</td>\n",
              "    </tr>\n",
              "    <tr>\n",
              "      <th>4</th>\n",
              "      <td>10314</td>\n",
              "      <td>034545104X</td>\n",
              "      <td>9</td>\n",
              "      <td>711</td>\n",
              "    </tr>\n",
              "  </tbody>\n",
              "</table>\n",
              "</div>"
            ],
            "text/plain": [
              "   userID        ISBN  bookRating  BookIndex\n",
              "0  276725  034545104X           0        711\n",
              "1    2313  034545104X           5        711\n",
              "2    6543  034545104X           0        711\n",
              "3    8680  034545104X           5        711\n",
              "4   10314  034545104X           9        711"
            ]
          },
          "metadata": {
            "tags": []
          },
          "execution_count": 43
        }
      ]
    },
    {
      "metadata": {
        "id": "T5cpe0LOTGvC",
        "colab_type": "code",
        "colab": {
          "base_uri": "https://localhost:8080/",
          "height": 228
        },
        "outputId": "c1c48d7d-c7fa-4193-8fd3-c009f7189705"
      },
      "cell_type": "code",
      "source": [
        "#Group up by UserID\n",
        "userGroup = merged_book_rating.groupby('userID')\n",
        "userGroup.first().head()"
      ],
      "execution_count": 0,
      "outputs": [
        {
          "output_type": "execute_result",
          "data": {
            "text/html": [
              "<div>\n",
              "<style scoped>\n",
              "    .dataframe tbody tr th:only-of-type {\n",
              "        vertical-align: middle;\n",
              "    }\n",
              "\n",
              "    .dataframe tbody tr th {\n",
              "        vertical-align: top;\n",
              "    }\n",
              "\n",
              "    .dataframe thead th {\n",
              "        text-align: right;\n",
              "    }\n",
              "</style>\n",
              "<table border=\"1\" class=\"dataframe\">\n",
              "  <thead>\n",
              "    <tr style=\"text-align: right;\">\n",
              "      <th></th>\n",
              "      <th>ISBN</th>\n",
              "      <th>bookRating</th>\n",
              "      <th>BookIndex</th>\n",
              "    </tr>\n",
              "    <tr>\n",
              "      <th>userID</th>\n",
              "      <th></th>\n",
              "      <th></th>\n",
              "      <th></th>\n",
              "    </tr>\n",
              "  </thead>\n",
              "  <tbody>\n",
              "    <tr>\n",
              "      <th>9</th>\n",
              "      <td>0440234743</td>\n",
              "      <td>0</td>\n",
              "      <td>0</td>\n",
              "    </tr>\n",
              "    <tr>\n",
              "      <th>14</th>\n",
              "      <td>0971880107</td>\n",
              "      <td>0</td>\n",
              "      <td>2</td>\n",
              "    </tr>\n",
              "    <tr>\n",
              "      <th>16</th>\n",
              "      <td>0345402871</td>\n",
              "      <td>9</td>\n",
              "      <td>3</td>\n",
              "    </tr>\n",
              "    <tr>\n",
              "      <th>17</th>\n",
              "      <td>0891075275</td>\n",
              "      <td>6</td>\n",
              "      <td>2700</td>\n",
              "    </tr>\n",
              "    <tr>\n",
              "      <th>26</th>\n",
              "      <td>0446310786</td>\n",
              "      <td>10</td>\n",
              "      <td>5</td>\n",
              "    </tr>\n",
              "  </tbody>\n",
              "</table>\n",
              "</div>"
            ],
            "text/plain": [
              "              ISBN  bookRating  BookIndex\n",
              "userID                                   \n",
              "9       0440234743           0          0\n",
              "14      0971880107           0          2\n",
              "16      0345402871           9          3\n",
              "17      0891075275           6       2700\n",
              "26      0446310786          10          5"
            ]
          },
          "metadata": {
            "tags": []
          },
          "execution_count": 52
        }
      ]
    },
    {
      "metadata": {
        "id": "5RhdfSqRRJoG",
        "colab_type": "text"
      },
      "cell_type": "markdown",
      "source": [
        "Create training dataset"
      ]
    },
    {
      "metadata": {
        "id": "EUYksVi6Txll",
        "colab_type": "code",
        "colab": {}
      },
      "cell_type": "code",
      "source": [
        "#Amount of users used for training\n",
        "amountOfUsedUsers = 1000\n",
        "#Creating the training list\n",
        "trX = []\n",
        "#For each user in the group\n",
        "for userID, curUser in userGroup:\n",
        "    #Create a temp that stores every book's rating\n",
        "    temp = [0]*len(filteredbookdf)\n",
        "    #For each book in curUser's movie list\n",
        "    for num, book in curUser.iterrows():\n",
        "        #Divide the rating by 10 and store it\n",
        "        temp[book['BookIndex']] = book['bookRating']/10.0\n",
        "    #Now add the list of ratings into the training list\n",
        "    trX.append(temp)\n",
        "    #Check to see if we finished adding in the amount of users for training\n",
        "    if amountOfUsedUsers == 0:\n",
        "        break\n",
        "    amountOfUsedUsers -= 1"
      ],
      "execution_count": 0,
      "outputs": []
    },
    {
      "metadata": {
        "id": "ViI8XLrDUWaV",
        "colab_type": "text"
      },
      "cell_type": "markdown",
      "source": [
        "Set Model parameters"
      ]
    },
    {
      "metadata": {
        "id": "5lJHgS-3UZ0l",
        "colab_type": "code",
        "colab": {}
      },
      "cell_type": "code",
      "source": [
        "import tensorflow as tf\n",
        "\n",
        "hiddenUnits = 64\n",
        "visibleUnits = len(filteredbookdf)\n",
        "vb = tf.placeholder(\"float\", [visibleUnits]) #Number of unique books\n",
        "hb = tf.placeholder(\"float\", [hiddenUnits]) #Number of features we're going to learn\n",
        "W = tf.placeholder(\"float\", [visibleUnits, hiddenUnits])"
      ],
      "execution_count": 0,
      "outputs": []
    },
    {
      "metadata": {
        "id": "kaFnv9rTUiDi",
        "colab_type": "code",
        "colab": {}
      },
      "cell_type": "code",
      "source": [
        "#Phase 1: Input Processing\n",
        "v0 = tf.placeholder(\"float\", [None, visibleUnits])\n",
        "_h0= tf.nn.sigmoid(tf.matmul(v0, W) + hb)\n",
        "h0 = tf.nn.relu(tf.sign(_h0 - tf.random_uniform(tf.shape(_h0))))\n",
        "#Phase 2: Reconstruction\n",
        "_v1 = tf.nn.sigmoid(tf.matmul(h0, tf.transpose(W)) + vb) \n",
        "v1 = tf.nn.relu(tf.sign(_v1 - tf.random_uniform(tf.shape(_v1))))\n",
        "h1 = tf.nn.sigmoid(tf.matmul(v1, W) + hb)"
      ],
      "execution_count": 0,
      "outputs": []
    },
    {
      "metadata": {
        "id": "Jw50bUmlVXr_",
        "colab_type": "code",
        "colab": {}
      },
      "cell_type": "code",
      "source": [
        "#Learning rate\n",
        "alpha = 0.5\n",
        "#Create the gradients\n",
        "w_pos_grad = tf.matmul(tf.transpose(v0), h0)\n",
        "w_neg_grad = tf.matmul(tf.transpose(v1), h1)\n",
        "#Calculate the Contrastive Divergence to maximize\n",
        "CD = (w_pos_grad - w_neg_grad) / tf.to_float(tf.shape(v0)[0])\n",
        "#Create methods to update the weights and biases\n",
        "update_w = W + alpha * CD\n",
        "update_vb = vb + alpha * tf.reduce_mean(v0 - v1, 0)\n",
        "update_hb = hb + alpha * tf.reduce_mean(h0 - h1, 0)"
      ],
      "execution_count": 0,
      "outputs": []
    },
    {
      "metadata": {
        "id": "prQOUBk_U7NK",
        "colab_type": "code",
        "colab": {}
      },
      "cell_type": "code",
      "source": [
        "err = v0 - v1\n",
        "err_sum = tf.reduce_mean(err * err)"
      ],
      "execution_count": 0,
      "outputs": []
    },
    {
      "metadata": {
        "id": "VchRt1QtU-hf",
        "colab_type": "code",
        "colab": {}
      },
      "cell_type": "code",
      "source": [
        "#Current weight\n",
        "cur_w = np.zeros([visibleUnits, hiddenUnits], np.float32)\n",
        "#Current visible unit biases\n",
        "cur_vb = np.zeros([visibleUnits], np.float32)\n",
        "#Current hidden unit biases\n",
        "cur_hb = np.zeros([hiddenUnits], np.float32)\n",
        "#Previous weight\n",
        "prv_w = np.zeros([visibleUnits, hiddenUnits], np.float32)\n",
        "#Previous visible unit biases\n",
        "prv_vb = np.zeros([visibleUnits], np.float32)\n",
        "#Previous hidden unit biases\n",
        "prv_hb = np.zeros([hiddenUnits], np.float32)\n",
        "sess = tf.Session()\n",
        "sess.run(tf.global_variables_initializer())"
      ],
      "execution_count": 0,
      "outputs": []
    },
    {
      "metadata": {
        "id": "_eZi6x1RVB6U",
        "colab_type": "code",
        "colab": {
          "base_uri": "https://localhost:8080/",
          "height": 815
        },
        "outputId": "b4a4f766-9a5c-4c4f-abc7-80536ea595ce"
      },
      "cell_type": "code",
      "source": [
        "epochs = 25\n",
        "batchsize = 100\n",
        "errors = []\n",
        "for i in range(epochs):\n",
        "    for start, end in zip( range(0, len(trX), batchsize), range(batchsize, len(trX), batchsize)):\n",
        "        batch = trX[start:end]\n",
        "        cur_w = sess.run(update_w, feed_dict={v0: batch, W: prv_w, vb: prv_vb, hb: prv_hb})\n",
        "        cur_vb = sess.run(update_vb, feed_dict={v0: batch, W: prv_w, vb: prv_vb, hb: prv_hb})\n",
        "        cur_nb = sess.run(update_hb, feed_dict={v0: batch, W: prv_w, vb: prv_vb, hb: prv_hb})\n",
        "        prv_w = cur_w\n",
        "        prv_vb = cur_vb\n",
        "        prv_hb = cur_nb\n",
        "    err = sess.run(err_sum, feed_dict={v0: trX, W: cur_w, vb: cur_vb, hb: cur_nb})\n",
        "    print('Epoch {:.0f} :: Error={:.5f}'.format(i, err))\n",
        "    errors.append(err)\n",
        "plt.plot(errors)\n",
        "plt.ylabel('Error')\n",
        "plt.xlabel('Epoch')\n",
        "plt.show()"
      ],
      "execution_count": 0,
      "outputs": [
        {
          "output_type": "stream",
          "text": [
            "Epoch 0 :: Error=0.00551\n",
            "Epoch 1 :: Error=0.00440\n",
            "Epoch 2 :: Error=0.00388\n",
            "Epoch 3 :: Error=0.00354\n",
            "Epoch 4 :: Error=0.00340\n",
            "Epoch 5 :: Error=0.00318\n",
            "Epoch 6 :: Error=0.00319\n",
            "Epoch 7 :: Error=0.00332\n",
            "Epoch 8 :: Error=0.00306\n",
            "Epoch 9 :: Error=0.00310\n",
            "Epoch 10 :: Error=0.00281\n",
            "Epoch 11 :: Error=0.00255\n",
            "Epoch 12 :: Error=0.00279\n",
            "Epoch 13 :: Error=0.00285\n",
            "Epoch 14 :: Error=0.00279\n",
            "Epoch 15 :: Error=0.00298\n",
            "Epoch 16 :: Error=0.00272\n",
            "Epoch 17 :: Error=0.00303\n",
            "Epoch 18 :: Error=0.00255\n",
            "Epoch 19 :: Error=0.00266\n",
            "Epoch 20 :: Error=0.00270\n",
            "Epoch 21 :: Error=0.00265\n",
            "Epoch 22 :: Error=0.00261\n",
            "Epoch 23 :: Error=0.00283\n",
            "Epoch 24 :: Error=0.00249\n"
          ],
          "name": "stdout"
        },
        {
          "output_type": "display_data",
          "data": {
            "image/png": "[encoded data removed]",
            "text/plain": [
              "<matplotlib.figure.Figure at 0x7fd6542d50b8>"
            ]
          },
          "metadata": {
            "tags": []
          }
        }
      ]
    }
  ]
}