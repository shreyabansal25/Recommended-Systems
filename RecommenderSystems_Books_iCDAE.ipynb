{
  "nbformat": 4,
  "nbformat_minor": 0,
  "metadata": {
    "colab": {
      "name": "i-CDAE_recommender.ipynb",
      "version": "0.3.2",
      "provenance": [],
      "toc_visible": true
    },
    "kernelspec": {
      "display_name": "Python 3",
      "language": "python",
      "name": "python3"
    }
  },
  "cells": [
    {
      "metadata": {
        "id": "JBYfsU0VqhQ2",
        "colab_type": "text"
      },
      "cell_type": "markdown",
      "source": [
        "# Collaborative Denoising Auto-Encoder (CDAE)\n",
        "\n",
        "We present a new model-based collaborative filtering (CF) method for top-N recommendation called Collaborative Denoising Auto-Encoder (CDAE). CDAE assumes that whatever\n",
        "user-item interactions are observed are a corrupted version of the user’s full preference set. The model learns latent representations\n",
        "of corrupted user-item preferences that can best reconstruct the full\n",
        "input.\n",
        "In other words, during training, we feed the model a subset\n",
        "of a user’s item set and train the model to recover the whole\n",
        "item set; at prediction time, the model recommends new items to\n",
        "the user given the existing preference set as input. Training on corrupted\n",
        "data effectively recovers co-preference patterns. We show\n",
        "that this is an effective approach for collaborative filtering."
      ]
    },
    {
      "metadata": {
        "id": "DbcO6e2opJFY",
        "colab_type": "text"
      },
      "cell_type": "markdown",
      "source": [
        "# Acquire Data"
      ]
    },
    {
      "metadata": {
        "colab_type": "code",
        "id": "bIzJ8_II-hlC",
        "colab": {}
      },
      "cell_type": "code",
      "source": [
        "import matplotlib.pyplot as plt\n",
        "import argparse\n",
        "import tensorflow as tf\n",
        "import sys\n",
        "import os.path\n",
        "import tensorflow as tf\n",
        "import time\n",
        "import numpy as np\n",
        "import math\n",
        "import pandas as pd\n",
        "from sklearn.model_selection import train_test_split\n",
        "from scipy.sparse import csr_matrix"
      ],
      "execution_count": 0,
      "outputs": []
    },
    {
      "metadata": {
        "id": "ZnToJX9ypSeK",
        "colab_type": "code",
        "outputId": "dfaf3a8f-4c0b-4bc4-f33d-047e702cf462",
        "colab": {
          "base_uri": "https://localhost:8080/",
          "height": 310
        }
      },
      "cell_type": "code",
      "source": [
        "!wget -O BX-CSV_Dump.zip http://www2.informatik.uni-freiburg.de/~cziegler/BX/BX-CSV-Dump.zip\n",
        "!unzip -o BX-CSV_Dump.zip -d data"
      ],
      "execution_count": 3,
      "outputs": [
        {
          "output_type": "stream",
          "text": [
            "--2018-10-17 06:22:48--  http://www2.informatik.uni-freiburg.de/~cziegler/BX/BX-CSV-Dump.zip\n",
            "Resolving www2.informatik.uni-freiburg.de (www2.informatik.uni-freiburg.de)... 132.230.105.133\n",
            "Connecting to www2.informatik.uni-freiburg.de (www2.informatik.uni-freiburg.de)|132.230.105.133|:80... connected.\n",
            "HTTP request sent, awaiting response... 200 OK\n",
            "Length: 26085508 (25M) [application/zip]\n",
            "Saving to: ‘BX-CSV_Dump.zip’\n",
            "\n",
            "BX-CSV_Dump.zip     100%[===================>]  24.88M  10.6MB/s    in 2.4s    \n",
            "\n",
            "2018-10-17 06:22:51 (10.6 MB/s) - ‘BX-CSV_Dump.zip’ saved [26085508/26085508]\n",
            "\n",
            "Archive:  BX-CSV_Dump.zip\n",
            "  inflating: data/BX-Book-Ratings.csv  \n",
            "  inflating: data/BX-Books.csv       \n",
            "  inflating: data/BX-Users.csv       \n"
          ],
          "name": "stdout"
        }
      ]
    },
    {
      "metadata": {
        "id": "1B09MoEhpua8",
        "colab_type": "code",
        "outputId": "14fea97f-7bd3-403d-85b5-61f71d22071b",
        "colab": {
          "base_uri": "https://localhost:8080/",
          "height": 146
        }
      },
      "cell_type": "code",
      "source": [
        "bookdf = pd.read_csv('data/BX-Books.csv', sep=';', error_bad_lines=False, encoding=\"latin-1\")\n",
        "bookdf.columns = ['ISBN', 'bookTitle', 'bookAuthor', 'yearOfPublication', 'publisher', 'imageUrlS', 'imageUrlM', 'imageUrlL']\n",
        "userdf = pd.read_csv('data/BX-Users.csv', sep=';', error_bad_lines=False, encoding=\"latin-1\")\n",
        "userdf.columns = ['userID', 'Location', 'Age']\n",
        "ratingdf = pd.read_csv('data/BX-Book-Ratings.csv', sep=';', error_bad_lines=False, encoding=\"latin-1\")\n",
        "ratingdf.columns = ['userID', 'ISBN', 'bookRating']"
      ],
      "execution_count": 4,
      "outputs": [
        {
          "output_type": "stream",
          "text": [
            "b'Skipping line 6452: expected 8 fields, saw 9\\nSkipping line 43667: expected 8 fields, saw 10\\nSkipping line 51751: expected 8 fields, saw 9\\n'\n",
            "b'Skipping line 92038: expected 8 fields, saw 9\\nSkipping line 104319: expected 8 fields, saw 9\\nSkipping line 121768: expected 8 fields, saw 9\\n'\n",
            "b'Skipping line 144058: expected 8 fields, saw 9\\nSkipping line 150789: expected 8 fields, saw 9\\nSkipping line 157128: expected 8 fields, saw 9\\nSkipping line 180189: expected 8 fields, saw 9\\nSkipping line 185738: expected 8 fields, saw 9\\n'\n",
            "b'Skipping line 209388: expected 8 fields, saw 9\\nSkipping line 220626: expected 8 fields, saw 9\\nSkipping line 227933: expected 8 fields, saw 11\\nSkipping line 228957: expected 8 fields, saw 10\\nSkipping line 245933: expected 8 fields, saw 9\\nSkipping line 251296: expected 8 fields, saw 9\\nSkipping line 259941: expected 8 fields, saw 9\\nSkipping line 261529: expected 8 fields, saw 9\\n'\n",
            "/usr/local/lib/python3.6/dist-packages/IPython/core/interactiveshell.py:2718: DtypeWarning: Columns (3) have mixed types. Specify dtype option on import or set low_memory=False.\n",
            "  interactivity=interactivity, compiler=compiler, result=result)\n"
          ],
          "name": "stderr"
        }
      ]
    },
    {
      "metadata": {
        "id": "Qng92mvbpbqO",
        "colab_type": "text"
      },
      "cell_type": "markdown",
      "source": [
        "Since the dataset is huge, we will filter the books with maximum number of rating and make the dataset with close to 100k ratings"
      ]
    },
    {
      "metadata": {
        "id": "-1SE4GbvrK6p",
        "colab_type": "text"
      },
      "cell_type": "markdown",
      "source": [
        "# Filter Data"
      ]
    },
    {
      "metadata": {
        "id": "Sad0MWWspz4t",
        "colab_type": "code",
        "colab": {}
      },
      "cell_type": "code",
      "source": [
        "#filter books and ratings dataset for most rated books\n",
        "merged_df = pd.merge(ratingdf, bookdf, on='ISBN')\n",
        "temp_Countdf = (merged_df.\n",
        "     groupby(by = ['ISBN'])['bookRating'].\n",
        "     count().\n",
        "     reset_index().\n",
        "     rename(columns = {'bookRating': 'totalRatingCount'})\n",
        "    \n",
        "    )"
      ],
      "execution_count": 0,
      "outputs": []
    },
    {
      "metadata": {
        "id": "QBhJzom6qCHj",
        "colab_type": "code",
        "outputId": "e8dd56df-163c-487e-b339-3497a5350ea3",
        "colab": {
          "base_uri": "https://localhost:8080/",
          "height": 198
        }
      },
      "cell_type": "code",
      "source": [
        "#filter books with totalRatingCount >100\n",
        "popularity_threshold = 100\n",
        "temp_Countdf = temp_Countdf.query('totalRatingCount >= @popularity_threshold')\n",
        "temp_Countdf.head()"
      ],
      "execution_count": 6,
      "outputs": [
        {
          "output_type": "execute_result",
          "data": {
            "text/html": [
              "<div>\n",
              "<style scoped>\n",
              "    .dataframe tbody tr th:only-of-type {\n",
              "        vertical-align: middle;\n",
              "    }\n",
              "\n",
              "    .dataframe tbody tr th {\n",
              "        vertical-align: top;\n",
              "    }\n",
              "\n",
              "    .dataframe thead th {\n",
              "        text-align: right;\n",
              "    }\n",
              "</style>\n",
              "<table border=\"1\" class=\"dataframe\">\n",
              "  <thead>\n",
              "    <tr style=\"text-align: right;\">\n",
              "      <th></th>\n",
              "      <th>ISBN</th>\n",
              "      <th>totalRatingCount</th>\n",
              "    </tr>\n",
              "  </thead>\n",
              "  <tbody>\n",
              "    <tr>\n",
              "      <th>1759</th>\n",
              "      <td>002542730X</td>\n",
              "      <td>171</td>\n",
              "    </tr>\n",
              "    <tr>\n",
              "      <th>3219</th>\n",
              "      <td>0060008032</td>\n",
              "      <td>104</td>\n",
              "    </tr>\n",
              "    <tr>\n",
              "      <th>3484</th>\n",
              "      <td>0060096195</td>\n",
              "      <td>107</td>\n",
              "    </tr>\n",
              "    <tr>\n",
              "      <th>3989</th>\n",
              "      <td>006016848X</td>\n",
              "      <td>147</td>\n",
              "    </tr>\n",
              "    <tr>\n",
              "      <th>4122</th>\n",
              "      <td>0060173289</td>\n",
              "      <td>130</td>\n",
              "    </tr>\n",
              "  </tbody>\n",
              "</table>\n",
              "</div>"
            ],
            "text/plain": [
              "            ISBN  totalRatingCount\n",
              "1759  002542730X               171\n",
              "3219  0060008032               104\n",
              "3484  0060096195               107\n",
              "3989  006016848X               147\n",
              "4122  0060173289               130"
            ]
          },
          "metadata": {
            "tags": []
          },
          "execution_count": 6
        }
      ]
    },
    {
      "metadata": {
        "id": "VywD18n6qki_",
        "colab_type": "code",
        "outputId": "86c44b01-7133-4626-c23b-1d4fe03fad1a",
        "colab": {
          "base_uri": "https://localhost:8080/",
          "height": 54
        }
      },
      "cell_type": "code",
      "source": [
        "#filter book dataset\n",
        "print(len(bookdf))\n",
        "filteredbookdf = bookdf.loc[bookdf['ISBN'].isin(temp_Countdf.ISBN)]\n",
        "print(len(filteredbookdf))"
      ],
      "execution_count": 7,
      "outputs": [
        {
          "output_type": "stream",
          "text": [
            "271360\n",
            "727\n"
          ],
          "name": "stdout"
        }
      ]
    },
    {
      "metadata": {
        "id": "ELeGoMsuqqej",
        "colab_type": "code",
        "outputId": "00896cd8-ff20-49c8-d1f8-74c1b1a8d408",
        "colab": {
          "base_uri": "https://localhost:8080/",
          "height": 54
        }
      },
      "cell_type": "code",
      "source": [
        "#filter rating dataset\n",
        "print(len(ratingdf))\n",
        "filteredRatingDf = ratingdf.loc[ratingdf['ISBN'].isin(temp_Countdf.ISBN)]\n",
        "print(len(filteredRatingDf))"
      ],
      "execution_count": 8,
      "outputs": [
        {
          "output_type": "stream",
          "text": [
            "1149780\n",
            "137423\n"
          ],
          "name": "stdout"
        }
      ]
    },
    {
      "metadata": {
        "id": "P3jZGm75q0AP",
        "colab_type": "code",
        "outputId": "e7dd42e8-818d-47b0-fdcc-6be850cea73d",
        "colab": {
          "base_uri": "https://localhost:8080/",
          "height": 54
        }
      },
      "cell_type": "code",
      "source": [
        "#filter user dataset\n",
        "print(len(userdf))\n",
        "filteredUserDf = userdf.loc[userdf['userID'].isin(filteredRatingDf.userID)]\n",
        "print(len(filteredUserDf))"
      ],
      "execution_count": 9,
      "outputs": [
        {
          "output_type": "stream",
          "text": [
            "278858\n",
            "32426\n"
          ],
          "name": "stdout"
        }
      ]
    },
    {
      "metadata": {
        "id": "fkx0AJQarP5_",
        "colab_type": "code",
        "colab": {
          "base_uri": "https://localhost:8080/",
          "height": 339
        },
        "outputId": "9ec8c8dc-fdc4-4bc1-d460-a27c64796264"
      },
      "cell_type": "code",
      "source": [
        "#index book list\n",
        "filteredbookdf = filteredbookdf.reset_index(drop=True)\n",
        "filteredbookdf['BookIndex'] = filteredbookdf.index +1\n",
        "filteredbookdf.head()"
      ],
      "execution_count": 10,
      "outputs": [
        {
          "output_type": "execute_result",
          "data": {
            "text/html": [
              "<div>\n",
              "<style scoped>\n",
              "    .dataframe tbody tr th:only-of-type {\n",
              "        vertical-align: middle;\n",
              "    }\n",
              "\n",
              "    .dataframe tbody tr th {\n",
              "        vertical-align: top;\n",
              "    }\n",
              "\n",
              "    .dataframe thead th {\n",
              "        text-align: right;\n",
              "    }\n",
              "</style>\n",
              "<table border=\"1\" class=\"dataframe\">\n",
              "  <thead>\n",
              "    <tr style=\"text-align: right;\">\n",
              "      <th></th>\n",
              "      <th>ISBN</th>\n",
              "      <th>bookTitle</th>\n",
              "      <th>bookAuthor</th>\n",
              "      <th>yearOfPublication</th>\n",
              "      <th>publisher</th>\n",
              "      <th>imageUrlS</th>\n",
              "      <th>imageUrlM</th>\n",
              "      <th>imageUrlL</th>\n",
              "      <th>BookIndex</th>\n",
              "    </tr>\n",
              "  </thead>\n",
              "  <tbody>\n",
              "    <tr>\n",
              "      <th>0</th>\n",
              "      <td>0440234743</td>\n",
              "      <td>The Testament</td>\n",
              "      <td>John Grisham</td>\n",
              "      <td>1999</td>\n",
              "      <td>Dell</td>\n",
              "      <td>http://images.amazon.com/images/P/0440234743.0...</td>\n",
              "      <td>http://images.amazon.com/images/P/0440234743.0...</td>\n",
              "      <td>http://images.amazon.com/images/P/0440234743.0...</td>\n",
              "      <td>1</td>\n",
              "    </tr>\n",
              "    <tr>\n",
              "      <th>1</th>\n",
              "      <td>0452264464</td>\n",
              "      <td>Beloved (Plume Contemporary Fiction)</td>\n",
              "      <td>Toni Morrison</td>\n",
              "      <td>1994</td>\n",
              "      <td>Plume</td>\n",
              "      <td>http://images.amazon.com/images/P/0452264464.0...</td>\n",
              "      <td>http://images.amazon.com/images/P/0452264464.0...</td>\n",
              "      <td>http://images.amazon.com/images/P/0452264464.0...</td>\n",
              "      <td>2</td>\n",
              "    </tr>\n",
              "    <tr>\n",
              "      <th>2</th>\n",
              "      <td>0971880107</td>\n",
              "      <td>Wild Animus</td>\n",
              "      <td>Rich Shapero</td>\n",
              "      <td>2004</td>\n",
              "      <td>Too Far</td>\n",
              "      <td>http://images.amazon.com/images/P/0971880107.0...</td>\n",
              "      <td>http://images.amazon.com/images/P/0971880107.0...</td>\n",
              "      <td>http://images.amazon.com/images/P/0971880107.0...</td>\n",
              "      <td>3</td>\n",
              "    </tr>\n",
              "    <tr>\n",
              "      <th>3</th>\n",
              "      <td>0345402871</td>\n",
              "      <td>Airframe</td>\n",
              "      <td>Michael Crichton</td>\n",
              "      <td>1997</td>\n",
              "      <td>Ballantine Books</td>\n",
              "      <td>http://images.amazon.com/images/P/0345402871.0...</td>\n",
              "      <td>http://images.amazon.com/images/P/0345402871.0...</td>\n",
              "      <td>http://images.amazon.com/images/P/0345402871.0...</td>\n",
              "      <td>4</td>\n",
              "    </tr>\n",
              "    <tr>\n",
              "      <th>4</th>\n",
              "      <td>0345417623</td>\n",
              "      <td>Timeline</td>\n",
              "      <td>MICHAEL CRICHTON</td>\n",
              "      <td>2000</td>\n",
              "      <td>Ballantine Books</td>\n",
              "      <td>http://images.amazon.com/images/P/0345417623.0...</td>\n",
              "      <td>http://images.amazon.com/images/P/0345417623.0...</td>\n",
              "      <td>http://images.amazon.com/images/P/0345417623.0...</td>\n",
              "      <td>5</td>\n",
              "    </tr>\n",
              "  </tbody>\n",
              "</table>\n",
              "</div>"
            ],
            "text/plain": [
              "         ISBN                             bookTitle        bookAuthor  \\\n",
              "0  0440234743                         The Testament      John Grisham   \n",
              "1  0452264464  Beloved (Plume Contemporary Fiction)     Toni Morrison   \n",
              "2  0971880107                           Wild Animus      Rich Shapero   \n",
              "3  0345402871                              Airframe  Michael Crichton   \n",
              "4  0345417623                              Timeline  MICHAEL CRICHTON   \n",
              "\n",
              "  yearOfPublication         publisher  \\\n",
              "0              1999              Dell   \n",
              "1              1994             Plume   \n",
              "2              2004           Too Far   \n",
              "3              1997  Ballantine Books   \n",
              "4              2000  Ballantine Books   \n",
              "\n",
              "                                           imageUrlS  \\\n",
              "0  http://images.amazon.com/images/P/0440234743.0...   \n",
              "1  http://images.amazon.com/images/P/0452264464.0...   \n",
              "2  http://images.amazon.com/images/P/0971880107.0...   \n",
              "3  http://images.amazon.com/images/P/0345402871.0...   \n",
              "4  http://images.amazon.com/images/P/0345417623.0...   \n",
              "\n",
              "                                           imageUrlM  \\\n",
              "0  http://images.amazon.com/images/P/0440234743.0...   \n",
              "1  http://images.amazon.com/images/P/0452264464.0...   \n",
              "2  http://images.amazon.com/images/P/0971880107.0...   \n",
              "3  http://images.amazon.com/images/P/0345402871.0...   \n",
              "4  http://images.amazon.com/images/P/0345417623.0...   \n",
              "\n",
              "                                           imageUrlL  BookIndex  \n",
              "0  http://images.amazon.com/images/P/0440234743.0...          1  \n",
              "1  http://images.amazon.com/images/P/0452264464.0...          2  \n",
              "2  http://images.amazon.com/images/P/0971880107.0...          3  \n",
              "3  http://images.amazon.com/images/P/0345402871.0...          4  \n",
              "4  http://images.amazon.com/images/P/0345417623.0...          5  "
            ]
          },
          "metadata": {
            "tags": []
          },
          "execution_count": 10
        }
      ]
    },
    {
      "metadata": {
        "id": "O5p-Xm9crU0K",
        "colab_type": "code",
        "colab": {
          "base_uri": "https://localhost:8080/",
          "height": 198
        },
        "outputId": "09185f57-97fb-4d58-98c5-9eb7cd7ddcdd"
      },
      "cell_type": "code",
      "source": [
        "#index user list\n",
        "filteredUserDf = filteredUserDf.reset_index(drop=True)\n",
        "filteredUserDf['UserIndex'] = filteredUserDf.index +1\n",
        "filteredUserDf.head()"
      ],
      "execution_count": 11,
      "outputs": [
        {
          "output_type": "execute_result",
          "data": {
            "text/html": [
              "<div>\n",
              "<style scoped>\n",
              "    .dataframe tbody tr th:only-of-type {\n",
              "        vertical-align: middle;\n",
              "    }\n",
              "\n",
              "    .dataframe tbody tr th {\n",
              "        vertical-align: top;\n",
              "    }\n",
              "\n",
              "    .dataframe thead th {\n",
              "        text-align: right;\n",
              "    }\n",
              "</style>\n",
              "<table border=\"1\" class=\"dataframe\">\n",
              "  <thead>\n",
              "    <tr style=\"text-align: right;\">\n",
              "      <th></th>\n",
              "      <th>userID</th>\n",
              "      <th>Location</th>\n",
              "      <th>Age</th>\n",
              "      <th>UserIndex</th>\n",
              "    </tr>\n",
              "  </thead>\n",
              "  <tbody>\n",
              "    <tr>\n",
              "      <th>0</th>\n",
              "      <td>9</td>\n",
              "      <td>germantown, tennessee, usa</td>\n",
              "      <td>NaN</td>\n",
              "      <td>1</td>\n",
              "    </tr>\n",
              "    <tr>\n",
              "      <th>1</th>\n",
              "      <td>14</td>\n",
              "      <td>mediapolis, iowa, usa</td>\n",
              "      <td>NaN</td>\n",
              "      <td>2</td>\n",
              "    </tr>\n",
              "    <tr>\n",
              "      <th>2</th>\n",
              "      <td>16</td>\n",
              "      <td>albuquerque, new mexico, usa</td>\n",
              "      <td>NaN</td>\n",
              "      <td>3</td>\n",
              "    </tr>\n",
              "    <tr>\n",
              "      <th>3</th>\n",
              "      <td>26</td>\n",
              "      <td>bellevue, washington, usa</td>\n",
              "      <td>NaN</td>\n",
              "      <td>4</td>\n",
              "    </tr>\n",
              "    <tr>\n",
              "      <th>4</th>\n",
              "      <td>39</td>\n",
              "      <td>cary, north carolina, usa</td>\n",
              "      <td>NaN</td>\n",
              "      <td>5</td>\n",
              "    </tr>\n",
              "  </tbody>\n",
              "</table>\n",
              "</div>"
            ],
            "text/plain": [
              "   userID                      Location  Age  UserIndex\n",
              "0       9    germantown, tennessee, usa  NaN          1\n",
              "1      14         mediapolis, iowa, usa  NaN          2\n",
              "2      16  albuquerque, new mexico, usa  NaN          3\n",
              "3      26     bellevue, washington, usa  NaN          4\n",
              "4      39     cary, north carolina, usa  NaN          5"
            ]
          },
          "metadata": {
            "tags": []
          },
          "execution_count": 11
        }
      ]
    },
    {
      "metadata": {
        "id": "UyOV_2vprrbH",
        "colab_type": "code",
        "outputId": "64eb2454-9ac2-4515-fe92-195c7cee7d38",
        "colab": {
          "base_uri": "https://localhost:8080/",
          "height": 198
        }
      },
      "cell_type": "code",
      "source": [
        "\n",
        "#Merging bookdf with ratings_df by ISBN\n",
        "merged_book_rating = pd.merge(filteredRatingDf, filteredbookdf, on='ISBN')\n",
        "merged_book_rating = merged_book_rating.drop('ISBN', axis=1).drop('bookTitle', axis=1).drop('bookAuthor', axis=1).drop('yearOfPublication', axis=1).drop('publisher', axis=1)\n",
        "merged_book_rating = merged_book_rating.drop('imageUrlS', axis=1).drop('imageUrlM', axis=1).drop('imageUrlL', axis=1)\n",
        "merged_book_rating.head()"
      ],
      "execution_count": 12,
      "outputs": [
        {
          "output_type": "execute_result",
          "data": {
            "text/html": [
              "<div>\n",
              "<style scoped>\n",
              "    .dataframe tbody tr th:only-of-type {\n",
              "        vertical-align: middle;\n",
              "    }\n",
              "\n",
              "    .dataframe tbody tr th {\n",
              "        vertical-align: top;\n",
              "    }\n",
              "\n",
              "    .dataframe thead th {\n",
              "        text-align: right;\n",
              "    }\n",
              "</style>\n",
              "<table border=\"1\" class=\"dataframe\">\n",
              "  <thead>\n",
              "    <tr style=\"text-align: right;\">\n",
              "      <th></th>\n",
              "      <th>userID</th>\n",
              "      <th>bookRating</th>\n",
              "      <th>BookIndex</th>\n",
              "    </tr>\n",
              "  </thead>\n",
              "  <tbody>\n",
              "    <tr>\n",
              "      <th>0</th>\n",
              "      <td>276727</td>\n",
              "      <td>0</td>\n",
              "      <td>648</td>\n",
              "    </tr>\n",
              "    <tr>\n",
              "      <th>1</th>\n",
              "      <td>278418</td>\n",
              "      <td>0</td>\n",
              "      <td>648</td>\n",
              "    </tr>\n",
              "    <tr>\n",
              "      <th>2</th>\n",
              "      <td>638</td>\n",
              "      <td>0</td>\n",
              "      <td>648</td>\n",
              "    </tr>\n",
              "    <tr>\n",
              "      <th>3</th>\n",
              "      <td>3363</td>\n",
              "      <td>0</td>\n",
              "      <td>648</td>\n",
              "    </tr>\n",
              "    <tr>\n",
              "      <th>4</th>\n",
              "      <td>7158</td>\n",
              "      <td>10</td>\n",
              "      <td>648</td>\n",
              "    </tr>\n",
              "  </tbody>\n",
              "</table>\n",
              "</div>"
            ],
            "text/plain": [
              "   userID  bookRating  BookIndex\n",
              "0  276727           0        648\n",
              "1  278418           0        648\n",
              "2     638           0        648\n",
              "3    3363           0        648\n",
              "4    7158          10        648"
            ]
          },
          "metadata": {
            "tags": []
          },
          "execution_count": 12
        }
      ]
    },
    {
      "metadata": {
        "id": "offpG6ZcsN95",
        "colab_type": "code",
        "outputId": "a6c57846-8ec6-404a-86fd-6ba5a0a065df",
        "colab": {
          "base_uri": "https://localhost:8080/",
          "height": 198
        }
      },
      "cell_type": "code",
      "source": [
        "#Merging userDf with ratings_df by userID\n",
        "merged_book_rating = pd.merge(merged_book_rating, filteredUserDf, on='userID')\n",
        "merged_book_rating = merged_book_rating.drop('userID', axis=1).drop('Location', axis=1).drop('Age', axis=1)\n",
        "merged_book_rating.head()"
      ],
      "execution_count": 13,
      "outputs": [
        {
          "output_type": "execute_result",
          "data": {
            "text/html": [
              "<div>\n",
              "<style scoped>\n",
              "    .dataframe tbody tr th:only-of-type {\n",
              "        vertical-align: middle;\n",
              "    }\n",
              "\n",
              "    .dataframe tbody tr th {\n",
              "        vertical-align: top;\n",
              "    }\n",
              "\n",
              "    .dataframe thead th {\n",
              "        text-align: right;\n",
              "    }\n",
              "</style>\n",
              "<table border=\"1\" class=\"dataframe\">\n",
              "  <thead>\n",
              "    <tr style=\"text-align: right;\">\n",
              "      <th></th>\n",
              "      <th>bookRating</th>\n",
              "      <th>BookIndex</th>\n",
              "      <th>UserIndex</th>\n",
              "    </tr>\n",
              "  </thead>\n",
              "  <tbody>\n",
              "    <tr>\n",
              "      <th>0</th>\n",
              "      <td>0</td>\n",
              "      <td>648</td>\n",
              "      <td>32195</td>\n",
              "    </tr>\n",
              "    <tr>\n",
              "      <th>1</th>\n",
              "      <td>0</td>\n",
              "      <td>648</td>\n",
              "      <td>32375</td>\n",
              "    </tr>\n",
              "    <tr>\n",
              "      <th>2</th>\n",
              "      <td>0</td>\n",
              "      <td>617</td>\n",
              "      <td>32375</td>\n",
              "    </tr>\n",
              "    <tr>\n",
              "      <th>3</th>\n",
              "      <td>0</td>\n",
              "      <td>95</td>\n",
              "      <td>32375</td>\n",
              "    </tr>\n",
              "    <tr>\n",
              "      <th>4</th>\n",
              "      <td>0</td>\n",
              "      <td>687</td>\n",
              "      <td>32375</td>\n",
              "    </tr>\n",
              "  </tbody>\n",
              "</table>\n",
              "</div>"
            ],
            "text/plain": [
              "   bookRating  BookIndex  UserIndex\n",
              "0           0        648      32195\n",
              "1           0        648      32375\n",
              "2           0        617      32375\n",
              "3           0         95      32375\n",
              "4           0        687      32375"
            ]
          },
          "metadata": {
            "tags": []
          },
          "execution_count": 13
        }
      ]
    },
    {
      "metadata": {
        "id": "o4fSQT4OtUU9",
        "colab_type": "code",
        "outputId": "fe0b2292-19ed-4c17-e268-c57533c9a4c5",
        "colab": {
          "base_uri": "https://localhost:8080/",
          "height": 198
        }
      },
      "cell_type": "code",
      "source": [
        "merged_book_rating = merged_book_rating[['UserIndex', 'BookIndex', 'bookRating']]\n",
        "merged_book_rating.columns = ['user_id', 'item_id', 'rating']\n",
        "merged_book_rating.head()"
      ],
      "execution_count": 14,
      "outputs": [
        {
          "output_type": "execute_result",
          "data": {
            "text/html": [
              "<div>\n",
              "<style scoped>\n",
              "    .dataframe tbody tr th:only-of-type {\n",
              "        vertical-align: middle;\n",
              "    }\n",
              "\n",
              "    .dataframe tbody tr th {\n",
              "        vertical-align: top;\n",
              "    }\n",
              "\n",
              "    .dataframe thead th {\n",
              "        text-align: right;\n",
              "    }\n",
              "</style>\n",
              "<table border=\"1\" class=\"dataframe\">\n",
              "  <thead>\n",
              "    <tr style=\"text-align: right;\">\n",
              "      <th></th>\n",
              "      <th>user_id</th>\n",
              "      <th>item_id</th>\n",
              "      <th>rating</th>\n",
              "    </tr>\n",
              "  </thead>\n",
              "  <tbody>\n",
              "    <tr>\n",
              "      <th>0</th>\n",
              "      <td>32195</td>\n",
              "      <td>648</td>\n",
              "      <td>0</td>\n",
              "    </tr>\n",
              "    <tr>\n",
              "      <th>1</th>\n",
              "      <td>32375</td>\n",
              "      <td>648</td>\n",
              "      <td>0</td>\n",
              "    </tr>\n",
              "    <tr>\n",
              "      <th>2</th>\n",
              "      <td>32375</td>\n",
              "      <td>617</td>\n",
              "      <td>0</td>\n",
              "    </tr>\n",
              "    <tr>\n",
              "      <th>3</th>\n",
              "      <td>32375</td>\n",
              "      <td>95</td>\n",
              "      <td>0</td>\n",
              "    </tr>\n",
              "    <tr>\n",
              "      <th>4</th>\n",
              "      <td>32375</td>\n",
              "      <td>687</td>\n",
              "      <td>0</td>\n",
              "    </tr>\n",
              "  </tbody>\n",
              "</table>\n",
              "</div>"
            ],
            "text/plain": [
              "   user_id  item_id  rating\n",
              "0    32195      648       0\n",
              "1    32375      648       0\n",
              "2    32375      617       0\n",
              "3    32375       95       0\n",
              "4    32375      687       0"
            ]
          },
          "metadata": {
            "tags": []
          },
          "execution_count": 14
        }
      ]
    },
    {
      "metadata": {
        "id": "EKKdeQJ9vbwb",
        "colab_type": "text"
      },
      "cell_type": "markdown",
      "source": [
        "# Model"
      ]
    },
    {
      "metadata": {
        "id": "-9WCyUVsq-jq",
        "colab_type": "text"
      },
      "cell_type": "markdown",
      "source": [
        "\n",
        "Similar to the standard Denoising Auto-Encoder, CDAE is also\n",
        "represented as a one-hidden-layer neural network. The key difference\n",
        "is that the input also encodes a latent vector for the user, which\n",
        "allows CDAE to be a much better recommender model. Figure  shows a sample structure of CDAE. CDAE\n",
        "consists of 3 layers, including the input layer, the hidden layer and\n",
        "the output layer"
      ]
    },
    {
      "metadata": {
        "id": "aecq7F9qrQsl",
        "colab_type": "text"
      },
      "cell_type": "markdown",
      "source": [
        "![alt text](https://github.com/shreyabansal25/Recommended-Systems/blob/master/CDAE.PNG?raw=true)"
      ]
    },
    {
      "metadata": {
        "colab_type": "code",
        "id": "7TSo5WwM-hlW",
        "colab": {}
      },
      "cell_type": "code",
      "source": [
        "# efficient version\n",
        "def precision_recall_ndcg_at_k(k, rankedlist, test_matrix):\n",
        "    idcg_k = 0\n",
        "    dcg_k = 0\n",
        "    n_k = k if len(test_matrix) > k else len(test_matrix)\n",
        "    for i in range(n_k):\n",
        "        idcg_k += 1 / math.log(i + 2, 2)\n",
        "\n",
        "    b1 = rankedlist\n",
        "    b2 = test_matrix\n",
        "    s2 = set(b2)\n",
        "    hits = [(idx, val) for idx, val in enumerate(b1) if val in s2]\n",
        "    count = len(hits)\n",
        "\n",
        "    for c in range(count):\n",
        "        dcg_k += 1 / math.log(hits[c][0] + 2, 2)\n",
        "\n",
        "    return float(count / k), float(count / len(test_matrix)), float(dcg_k / idcg_k)\n",
        "\n",
        "\n",
        "def map_mrr_ndcg(rankedlist, test_matrix):\n",
        "    ap = 0\n",
        "    map = 0\n",
        "    dcg = 0\n",
        "    idcg = 0\n",
        "    mrr = 0\n",
        "    for i in range(len(test_matrix)):\n",
        "        idcg += 1 / math.log(i + 2, 2)\n",
        "\n",
        "    b1 = rankedlist\n",
        "    b2 = test_matrix\n",
        "    s2 = set(b2)\n",
        "    hits = [(idx, val) for idx, val in enumerate(b1) if val in s2]\n",
        "    count = len(hits)\n",
        "\n",
        "    for c in range(count):\n",
        "        ap += (c + 1) / (hits[c][0] + 1)\n",
        "        dcg += 1 / math.log(hits[c][0] + 2, 2)\n",
        "\n",
        "    if count != 0:\n",
        "        mrr = 1 / (hits[0][0] + 1)\n",
        "\n",
        "    if count != 0:\n",
        "        map = ap / count\n",
        "\n",
        "    return map, mrr, float(dcg / idcg)\n",
        "\n",
        "\n",
        "def evaluate(self):\n",
        "    \n",
        "    pred_ratings_10 = {}\n",
        "    pred_ratings_5 = {}\n",
        "    pred_ratings = {}\n",
        "    ranked_list = {}\n",
        "    p_at_5 = []\n",
        "    p_at_10 = []\n",
        "    r_at_5 = []\n",
        "    r_at_10 = []\n",
        "    map = []\n",
        "    mrr = []\n",
        "    ndcg = []\n",
        "    ndcg_at_5 = []\n",
        "    ndcg_at_10 = []\n",
        "    for u in self.test_users:\n",
        "        user_ids = []\n",
        "        user_neg_items = self.neg_items[u]\n",
        "        item_ids = []\n",
        "        # scores = []\n",
        "        for j in user_neg_items:\n",
        "            item_ids.append(j)\n",
        "            user_ids.append(u)\n",
        "\n",
        "        scores = self.predict(user_ids, item_ids)\n",
        "        # print(type(scores))\n",
        "        # print(scores)\n",
        "        # print(np.shape(scores))\n",
        "        # print(ratings)\n",
        "        neg_item_index = list(zip(item_ids, scores))\n",
        "\n",
        "        ranked_list[u] = sorted(neg_item_index, key=lambda tup: tup[1], reverse=True)\n",
        "        pred_ratings[u] = [r[0] for r in ranked_list[u]]\n",
        "        pred_ratings_5[u] = pred_ratings[u][:5]\n",
        "        pred_ratings_10[u] = pred_ratings[u][:10]\n",
        "\n",
        "        p_5, r_5, ndcg_5 = precision_recall_ndcg_at_k(5, pred_ratings_5[u], self.test_data[u])\n",
        "        p_at_5.append(p_5)\n",
        "        r_at_5.append(r_5)\n",
        "        ndcg_at_5.append(ndcg_5)\n",
        "        p_10, r_10, ndcg_10 = precision_recall_ndcg_at_k(10, pred_ratings_10[u], self.test_data[u])\n",
        "        p_at_10.append(p_10)\n",
        "        r_at_10.append(r_10)\n",
        "        ndcg_at_10.append(ndcg_10)\n",
        "        map_u, mrr_u, ndcg_u = map_mrr_ndcg(pred_ratings[u], self.test_data[u])\n",
        "        map.append(map_u)\n",
        "        mrr.append(mrr_u)\n",
        "        ndcg.append(ndcg_u)\n",
        "\n",
        "    print(\"-----------------------------------------------------\")\n",
        "    #print(\"precision@10: \" + str(np.mean(p_at_10)))\n",
        "    #print(\"recall@10: \" + str(np.mean(r_at_10)))\n",
        "    #print(\"precision@5: \" + str(np.mean(p_at_5)))\n",
        "    #print(\"recall@5: \" + str(np.mean(r_at_5)))\n",
        "    #print(\"map: \" + str(np.mean(map)))\n",
        "    #print(\"mrr: \" + str(np.mean(mrr)))\n",
        "    #print(\"ndcg: \" + str(np.mean(ndcg)))\n",
        "    #print(\"ndcg@5: \" + str(np.mean(ndcg_at_5)))\n",
        "    #print(\"ndcg@10: \" + str(np.mean(ndcg_at_10)))\n",
        "    \n",
        "    return np.mean(p_at_5), np.mean(r_at_5)"
      ],
      "execution_count": 0,
      "outputs": []
    },
    {
      "metadata": {
        "colab_type": "code",
        "id": "4yUEfuGY-hla",
        "colab": {}
      },
      "cell_type": "code",
      "source": [
        "class ICDAE():\n",
        "    '''\n",
        "    Based on CDAE and I-AutoRec, I designed the following item based CDAE, it seems to perform better than CDAE slightly.\n",
        "    '''\n",
        "\n",
        "    def __init__(self, sess, num_user, num_item, learning_rate=1e-3, reg_rate=0.1, epoch=25, batch_size=100,\n",
        "                 verbose=False, T=1, display_step=10):\n",
        "        self.learning_rate = learning_rate\n",
        "        self.epochs = epoch\n",
        "        self.batch_size = batch_size\n",
        "        self.reg_rate = reg_rate\n",
        "        self.sess = sess\n",
        "        self.num_user = num_user\n",
        "        self.num_item = num_item\n",
        "        self.verbose = verbose\n",
        "        self.T = T\n",
        "        self.display_step = display_step\n",
        "        print(\"Item based CDAE.\")\n",
        "\n",
        "    def build_network(self, hidden_neuron=500, corruption_level=0):\n",
        "        self.corrupted_interact_matrix = tf.placeholder(dtype=tf.float32, shape=[None, self.num_user])\n",
        "        self.interact_matrix = tf.placeholder(dtype=tf.float32, shape=[None, self.num_user])\n",
        "        self.item_id = tf.placeholder(dtype=tf.int32, shape=[None])\n",
        "        self.corruption_level = corruption_level\n",
        "\n",
        "        W = tf.Variable(tf.random_normal([self.num_user, hidden_neuron], stddev=0.01))\n",
        "        W_prime = tf.Variable(tf.random_normal([hidden_neuron, self.num_user], stddev=0.01))\n",
        "        V = tf.Variable(tf.random_normal([self.num_item, hidden_neuron], stddev=0.01))\n",
        "\n",
        "        b = tf.Variable(tf.random_normal([hidden_neuron], stddev=0.01))\n",
        "        b_prime = tf.Variable(tf.random_normal([self.num_user], stddev=0.01))\n",
        "        # print(np.shape(tf.matmul(self.corrupted_interact_matrix, W)))\n",
        "        # print(np.shape( tf.nn.embedding_lookup(V, self.item_id)))\n",
        "        layer_1 = tf.sigmoid(tf.matmul(self.corrupted_interact_matrix, W) + b)\n",
        "        self.layer_2 = tf.sigmoid(tf.matmul(layer_1, W_prime) + b_prime)\n",
        "\n",
        "        self.loss = - tf.reduce_sum(\n",
        "            self.interact_matrix * tf.log(self.layer_2) + (1 - self.interact_matrix) * tf.log(1 - self.layer_2)) \\\n",
        "                    + self.reg_rate * (\n",
        "        tf.nn.l2_loss(W) + tf.nn.l2_loss(W_prime) + tf.nn.l2_loss(b) + tf.nn.l2_loss(b_prime))\n",
        "\n",
        "        self.optimizer = tf.train.AdamOptimizer(learning_rate=self.learning_rate).minimize(self.loss)\n",
        "\n",
        "    def prepare_data(self, train_data, test_data):\n",
        "        self.train_data = self._data_process(train_data).transpose()\n",
        "        self.neg_items = self._get_neg_items(train_data)\n",
        "        self.num_training = self.num_item\n",
        "        self.total_batch = int(self.num_training / self.batch_size)\n",
        "        self.test_data = test_data\n",
        "        self.test_users = set([u for u in self.test_data.keys() if len(self.test_data[u]) > 0])\n",
        "        print(\"data preparation finished.\")\n",
        "\n",
        "    def train(self):\n",
        "\n",
        "        idxs = np.random.permutation(self.num_training)  # shuffled ordering\n",
        "\n",
        "        for i in range(self.total_batch):\n",
        "            start_time = time.time()\n",
        "            if i == self.total_batch - 1:\n",
        "                batch_set_idx = idxs[i * self.batch_size:]\n",
        "            elif i < self.total_batch - 1:\n",
        "                batch_set_idx = idxs[i * self.batch_size: (i + 1) * self.batch_size]\n",
        "\n",
        "            _, loss = self.sess.run([self.optimizer, self.loss], feed_dict={\n",
        "                self.corrupted_interact_matrix: self._get_corrupted_input(self.train_data[batch_set_idx, :],\n",
        "                                                                          self.corruption_level),\n",
        "                self.interact_matrix: self.train_data[batch_set_idx, :],\n",
        "                self.item_id: batch_set_idx\n",
        "                })\n",
        "            if self.verbose and i % self.display_step == 0:\n",
        "                print(\"Index: %04d; cost= %.9f\" % (i + 1, np.mean(loss)))\n",
        "                if self.verbose:\n",
        "                    print(\"one iteration: %s seconds.\" % (time.time() - start_time))\n",
        "\n",
        "    def test(self):\n",
        "        self.reconstruction = self.sess.run(self.layer_2, feed_dict={self.corrupted_interact_matrix: self.train_data,\n",
        "                                                                     self.item_id: range(self.num_item)}).transpose()\n",
        "        \n",
        "        precision, recall = evaluate(self)\n",
        "        return precision, recall, self.reconstruction\n",
        "\n",
        "    def execute(self, train_data, test_data):\n",
        "        self.prepare_data(train_data, test_data)\n",
        "        init = tf.global_variables_initializer()\n",
        "        self.sess.run(init)\n",
        "        precision =[]\n",
        "        recall =[]\n",
        "        error =[]\n",
        "        for epoch in range(self.epochs):\n",
        "            self.train()\n",
        "            if (epoch) % self.T == 0:\n",
        "                prec, rec , err= self.test()\n",
        "                print(\"Epoch: %04d; \" % (epoch), end='')\n",
        "                precision.append(prec)\n",
        "                recall.append(rec)\n",
        "                error.append(np.mean(err))\n",
        "        return precision, recall, error\n",
        "\n",
        "    def save(self, path):\n",
        "        saver = tf.train.Saver()\n",
        "        saver.save(self.sess, path)\n",
        "\n",
        "    def predict(self, user_id, item_id):\n",
        "        return np.array(self.reconstruction[np.array(user_id), np.array(item_id)])\n",
        "\n",
        "    def _data_process(self, data):\n",
        "        return np.asmatrix(data)\n",
        "\n",
        "    def _get_neg_items(self, data):\n",
        "        neg_items = {}\n",
        "        for u in range(self.num_user):\n",
        "            neg_items[u] = [k for k, i in enumerate(data[u]) if data[u][k] == 0]\n",
        "            # print(neg_items[u])\n",
        "\n",
        "        return neg_items\n",
        "\n",
        "    def _get_corrupted_input(self, input, corruption_level):\n",
        "        return np.random.binomial(n=1, p=1 - corruption_level) * input\n"
      ],
      "execution_count": 0,
      "outputs": []
    },
    {
      "metadata": {
        "colab_type": "code",
        "id": "kLWYzJZp-hlg",
        "colab": {}
      },
      "cell_type": "code",
      "source": [
        "def load_data_all(path=\"https://raw.githubusercontent.com/cheungdaven/DeepRec/master/data/ml100k/movielens_100k.dat\", header=['user_id', 'item_id', 'rating', 'time'],\n",
        "                  test_size=0.2, sep=\"\\t\"):\n",
        "    df = merged_book_rating\n",
        "\n",
        "    n_users = df.user_id.unique().shape[0]\n",
        "    n_items = df.item_id.unique().shape[0]\n",
        "\n",
        "    train_data, test_data = train_test_split(df, test_size=test_size)\n",
        "    train_data = pd.DataFrame(train_data)\n",
        "    test_data = pd.DataFrame(test_data)\n",
        "    \n",
        "    \n",
        "    train_row = []\n",
        "    train_col = []\n",
        "    train_rating = []\n",
        "\n",
        "    train_dict = {}\n",
        "    for line in train_data.itertuples():\n",
        "        u = line[1] - 1\n",
        "        i = line[2] - 1\n",
        "        train_dict[(u, i)] = 1\n",
        "\n",
        "    for u in range(n_users):\n",
        "        for i in range(n_items):\n",
        "            train_row.append(u)\n",
        "            train_col.append(i)\n",
        "            if (u, i) in train_dict.keys():\n",
        "                train_rating.append(1)\n",
        "            else:\n",
        "                train_rating.append(0)\n",
        "    train_matrix = csr_matrix((train_rating, (train_row, train_col)), shape=(n_users, n_items))\n",
        "    all_items = set(np.arange(n_items))\n",
        "\n",
        "    neg_items = {}\n",
        "    train_interaction_matrix = []\n",
        "    for u in range(n_users):\n",
        "        neg_items[u] = list(all_items - set(train_matrix.getrow(u).nonzero()[1]))\n",
        "        train_interaction_matrix.append(list(train_matrix.getrow(u).toarray()[0]))\n",
        "\n",
        "    test_row = []\n",
        "    test_col = []\n",
        "    test_rating = []\n",
        "    for line in test_data.itertuples():\n",
        "        test_row.append(line[1] - 1)\n",
        "        test_col.append(line[2] - 1)\n",
        "        test_rating.append(1)\n",
        "    test_matrix = csr_matrix((test_rating, (test_row, test_col)), shape=(n_users, n_items))\n",
        "\n",
        "    test_dict = {}\n",
        "    for u in range(n_users):\n",
        "        test_dict[u] = test_matrix.getrow(u).nonzero()[1]\n",
        "\n",
        "    print(\"Load data finished. Number of users:\", n_users, \"Number of items:\", n_items)\n",
        "\n",
        "    return train_interaction_matrix, test_dict, n_users, n_items\n",
        "\n"
      ],
      "execution_count": 0,
      "outputs": []
    },
    {
      "metadata": {
        "colab_type": "code",
        "id": "fVwZSkUt-hll",
        "outputId": "a1c3972a-fe60-4fc9-bd49-032229c14407",
        "colab": {
          "base_uri": "https://localhost:8080/",
          "height": 545
        }
      },
      "cell_type": "code",
      "source": [
        "import matplotlib.pyplot as plt\n",
        "\n",
        "model ='CDAE'\n",
        "epochs = 25\n",
        "num_factors = 10\n",
        "display_step = 10\n",
        "batch_size = 100  # 128 for unlimpair\n",
        "learning_rate = 1e-3  # 1e-4 for unlimpair\n",
        "reg_rate = 0.1  # 0.01 for unlimpair\n",
        "train_data, test_data, n_user, n_item = load_data_all(test_size=0.2, sep=\"\\t\")\n",
        "\n",
        "config = tf.ConfigProto()\n",
        "config.gpu_options.allow_growth = True\n",
        "\n",
        "with tf.Session(config=config) as sess:\n",
        "    model = ICDAE(sess, n_user, n_item)\n",
        "    model.build_network()\n",
        "    precision, recall, error = model.execute(train_data, test_data)\n",
        "    \n",
        "print('Done!!!')\n",
        "    \n",
        "    \n"
      ],
      "execution_count": 18,
      "outputs": [
        {
          "output_type": "stream",
          "text": [
            "Load data finished. Number of users: 32426 Number of items: 727\n",
            "Item based CDAE.\n",
            "data preparation finished.\n",
            "-----------------------------------------------------\n",
            "Epoch: 0000; -----------------------------------------------------\n",
            "Epoch: 0001; -----------------------------------------------------\n",
            "Epoch: 0002; -----------------------------------------------------\n",
            "Epoch: 0003; -----------------------------------------------------\n",
            "Epoch: 0004; -----------------------------------------------------\n",
            "Epoch: 0005; -----------------------------------------------------\n",
            "Epoch: 0006; -----------------------------------------------------\n",
            "Epoch: 0007; -----------------------------------------------------\n",
            "Epoch: 0008; -----------------------------------------------------\n",
            "Epoch: 0009; -----------------------------------------------------\n",
            "Epoch: 0010; -----------------------------------------------------\n",
            "Epoch: 0011; -----------------------------------------------------\n",
            "Epoch: 0012; -----------------------------------------------------\n",
            "Epoch: 0013; -----------------------------------------------------\n",
            "Epoch: 0014; -----------------------------------------------------\n",
            "Epoch: 0015; -----------------------------------------------------\n",
            "Epoch: 0016; -----------------------------------------------------\n",
            "Epoch: 0017; -----------------------------------------------------\n",
            "Epoch: 0018; -----------------------------------------------------\n",
            "Epoch: 0019; -----------------------------------------------------\n",
            "Epoch: 0020; -----------------------------------------------------\n",
            "Epoch: 0021; -----------------------------------------------------\n",
            "Epoch: 0022; -----------------------------------------------------\n",
            "Epoch: 0023; -----------------------------------------------------\n",
            "Epoch: 0024; Done!!!\n"
          ],
          "name": "stdout"
        }
      ]
    },
    {
      "metadata": {
        "colab_type": "text",
        "id": "SwKY-Q0PXKob"
      },
      "cell_type": "markdown",
      "source": [
        "**Precision**"
      ]
    },
    {
      "metadata": {
        "colab_type": "code",
        "id": "Q64gaxNnXMp6",
        "outputId": "dc5aa174-016e-4f72-b794-16a0754a8c1e",
        "colab": {
          "base_uri": "https://localhost:8080/",
          "height": 361
        }
      },
      "cell_type": "code",
      "source": [
        "plt.plot(precision)\n",
        "plt.ylabel('precision')\n",
        "plt.xlabel('Epoch')\n",
        "plt.show()\n",
        "    "
      ],
      "execution_count": 19,
      "outputs": [
        {
          "output_type": "display_data",
          "data": {
            "image/png": "[encoded data removed]",
            "text/plain": [
              "<matplotlib.figure.Figure at 0x7fde488af7b8>"
            ]
          },
          "metadata": {
            "tags": []
          }
        }
      ]
    },
    {
      "metadata": {
        "colab_type": "text",
        "id": "QHV8ydQ0XYvp"
      },
      "cell_type": "markdown",
      "source": [
        "**Error**"
      ]
    },
    {
      "metadata": {
        "colab_type": "code",
        "id": "HV7ijM8-XZ9y",
        "outputId": "3f73d0d3-50b4-457d-b0fc-7f62f8e9d994",
        "colab": {
          "base_uri": "https://localhost:8080/",
          "height": 361
        }
      },
      "cell_type": "code",
      "source": [
        "plt.plot(error)\n",
        "plt.ylabel('Error')\n",
        "plt.xlabel('Epoch')\n",
        "plt.show()"
      ],
      "execution_count": 20,
      "outputs": [
        {
          "output_type": "display_data",
          "data": {
            "image/png": "[encoded data removed]",
            "text/plain": [
              "<matplotlib.figure.Figure at 0x7fde488af160>"
            ]
          },
          "metadata": {
            "tags": []
          }
        }
      ]
    }
  ]
}