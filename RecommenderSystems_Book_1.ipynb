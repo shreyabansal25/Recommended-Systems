{
  "nbformat": 4,
  "nbformat_minor": 0,
  "metadata": {
    "colab": {
      "name": "ML0120EN-4.2-Review-CollaborativeFilteringwithRBM.ipynb",
      "version": "0.3.2",
      "provenance": [],
      "toc_visible": true
    },
    "kernelspec": {
      "display_name": "Python 3",
      "language": "python",
      "name": "python3"
    }
  },
  "cells": [
    {
      "metadata": {
        "id": "E7HQniy0UCjW",
        "colab_type": "text"
      },
      "cell_type": "markdown",
      "source": [
        "# Book Recommender System"
      ]
    },
    {
      "metadata": {
        "id": "aIyxCUO3VeG8",
        "colab_type": "text"
      },
      "cell_type": "markdown",
      "source": [
        "Book-Crossings is a book ratings dataset compiled by Cai-Nicolas Ziegler. It contains 1.1 million ratings of 270,000 books by 90,000 users. The ratings are on a scale from 1 to 10.\n",
        "\n",
        "The data consists of three tables: ratings, books info, and users info."
      ]
    },
    {
      "metadata": {
        "id": "VoYrRIgSWaBT",
        "colab_type": "text"
      },
      "cell_type": "markdown",
      "source": [
        "# Acquiring Data"
      ]
    },
    {
      "metadata": {
        "id": "6u9PzxPaUGtb",
        "colab_type": "code",
        "outputId": "ebecc619-ecf0-416c-bcd8-46577f8d1eaf",
        "colab": {
          "base_uri": "https://localhost:8080/",
          "height": 310
        }
      },
      "cell_type": "code",
      "source": [
        "!wget -O BX-CSV_Dump.zip http://www2.informatik.uni-freiburg.de/~cziegler/BX/BX-CSV-Dump.zip\n",
        "!unzip -o BX-CSV_Dump.zip -d data"
      ],
      "execution_count": 0,
      "outputs": [
        {
          "output_type": "stream",
          "text": [
            "--2018-10-16 04:52:50--  http://www2.informatik.uni-freiburg.de/~cziegler/BX/BX-CSV-Dump.zip\n",
            "Resolving www2.informatik.uni-freiburg.de (www2.informatik.uni-freiburg.de)... 132.230.105.133\n",
            "Connecting to www2.informatik.uni-freiburg.de (www2.informatik.uni-freiburg.de)|132.230.105.133|:80... connected.\n",
            "HTTP request sent, awaiting response... 200 OK\n",
            "Length: 26085508 (25M) [application/zip]\n",
            "Saving to: ‘BX-CSV_Dump.zip’\n",
            "\n",
            "BX-CSV_Dump.zip     100%[===================>]  24.88M  10.1MB/s    in 2.5s    \n",
            "\n",
            "2018-10-16 04:52:53 (10.1 MB/s) - ‘BX-CSV_Dump.zip’ saved [26085508/26085508]\n",
            "\n",
            "Archive:  BX-CSV_Dump.zip\n",
            "  inflating: data/BX-Book-Ratings.csv  \n",
            "  inflating: data/BX-Books.csv       \n",
            "  inflating: data/BX-Users.csv       \n"
          ],
          "name": "stdout"
        }
      ]
    },
    {
      "metadata": {
        "id": "NccN9i8EV9tX",
        "colab_type": "code",
        "colab": {}
      },
      "cell_type": "code",
      "source": [
        "import pandas as pd\n",
        "import numpy as np\n",
        "import matplotlib.pyplot as plt"
      ],
      "execution_count": 0,
      "outputs": []
    },
    {
      "metadata": {
        "id": "-imGNRXvVslY",
        "colab_type": "code",
        "outputId": "40288fbd-7626-4076-bbc9-8bd64c49ff79",
        "colab": {
          "base_uri": "https://localhost:8080/",
          "height": 146
        }
      },
      "cell_type": "code",
      "source": [
        "books = pd.read_csv('data/BX-Books.csv', sep=';', error_bad_lines=False, encoding=\"latin-1\")\n",
        "books.columns = ['ISBN', 'bookTitle', 'bookAuthor', 'yearOfPublication', 'publisher', 'imageUrlS', 'imageUrlM', 'imageUrlL']\n",
        "users = pd.read_csv('data/BX-Users.csv', sep=';', error_bad_lines=False, encoding=\"latin-1\")\n",
        "users.columns = ['userID', 'Location', 'Age']\n",
        "ratings = pd.read_csv('data/BX-Book-Ratings.csv', sep=';', error_bad_lines=False, encoding=\"latin-1\")\n",
        "ratings.columns = ['userID', 'ISBN', 'bookRating']"
      ],
      "execution_count": 0,
      "outputs": [
        {
          "output_type": "stream",
          "text": [
            "b'Skipping line 6452: expected 8 fields, saw 9\\nSkipping line 43667: expected 8 fields, saw 10\\nSkipping line 51751: expected 8 fields, saw 9\\n'\n",
            "b'Skipping line 92038: expected 8 fields, saw 9\\nSkipping line 104319: expected 8 fields, saw 9\\nSkipping line 121768: expected 8 fields, saw 9\\n'\n",
            "b'Skipping line 144058: expected 8 fields, saw 9\\nSkipping line 150789: expected 8 fields, saw 9\\nSkipping line 157128: expected 8 fields, saw 9\\nSkipping line 180189: expected 8 fields, saw 9\\nSkipping line 185738: expected 8 fields, saw 9\\n'\n",
            "b'Skipping line 209388: expected 8 fields, saw 9\\nSkipping line 220626: expected 8 fields, saw 9\\nSkipping line 227933: expected 8 fields, saw 11\\nSkipping line 228957: expected 8 fields, saw 10\\nSkipping line 245933: expected 8 fields, saw 9\\nSkipping line 251296: expected 8 fields, saw 9\\nSkipping line 259941: expected 8 fields, saw 9\\nSkipping line 261529: expected 8 fields, saw 9\\n'\n",
            "/usr/local/lib/python3.6/dist-packages/IPython/core/interactiveshell.py:2718: DtypeWarning: Columns (3) have mixed types. Specify dtype option on import or set low_memory=False.\n",
            "  interactivity=interactivity, compiler=compiler, result=result)\n"
          ],
          "name": "stderr"
        }
      ]
    },
    {
      "metadata": {
        "id": "hqW781CqWisl",
        "colab_type": "text"
      },
      "cell_type": "markdown",
      "source": [
        "# Analyzing Data"
      ]
    },
    {
      "metadata": {
        "id": "uPhxbMt6Wm8H",
        "colab_type": "text"
      },
      "cell_type": "markdown",
      "source": [
        "**Ratings Dataset**\n",
        "The ratings data set provides a list of ratings that users have given to books. It includes 1,149,780 records and 3 fields: userID, ISBN, and bookRating."
      ]
    },
    {
      "metadata": {
        "id": "YOwo5Z4nWER_",
        "colab_type": "code",
        "outputId": "ad559613-ae3b-4966-8f0c-7ed00e3943a0",
        "colab": {
          "base_uri": "https://localhost:8080/",
          "height": 54
        }
      },
      "cell_type": "code",
      "source": [
        "print(ratings.shape)\n",
        "print(list(ratings.columns))"
      ],
      "execution_count": 0,
      "outputs": [
        {
          "output_type": "stream",
          "text": [
            "(1149780, 3)\n",
            "['userID', 'ISBN', 'bookRating']\n"
          ],
          "name": "stdout"
        }
      ]
    },
    {
      "metadata": {
        "id": "nWTVT2SeWHf_",
        "colab_type": "code",
        "outputId": "dc8fbb95-c4ae-4c30-f57f-dcbee4799181",
        "colab": {
          "base_uri": "https://localhost:8080/",
          "height": 198
        }
      },
      "cell_type": "code",
      "source": [
        "ratings.head()"
      ],
      "execution_count": 0,
      "outputs": [
        {
          "output_type": "execute_result",
          "data": {
            "text/html": [
              "<div>\n",
              "<style scoped>\n",
              "    .dataframe tbody tr th:only-of-type {\n",
              "        vertical-align: middle;\n",
              "    }\n",
              "\n",
              "    .dataframe tbody tr th {\n",
              "        vertical-align: top;\n",
              "    }\n",
              "\n",
              "    .dataframe thead th {\n",
              "        text-align: right;\n",
              "    }\n",
              "</style>\n",
              "<table border=\"1\" class=\"dataframe\">\n",
              "  <thead>\n",
              "    <tr style=\"text-align: right;\">\n",
              "      <th></th>\n",
              "      <th>userID</th>\n",
              "      <th>ISBN</th>\n",
              "      <th>bookRating</th>\n",
              "    </tr>\n",
              "  </thead>\n",
              "  <tbody>\n",
              "    <tr>\n",
              "      <th>0</th>\n",
              "      <td>276725</td>\n",
              "      <td>034545104X</td>\n",
              "      <td>0</td>\n",
              "    </tr>\n",
              "    <tr>\n",
              "      <th>1</th>\n",
              "      <td>276726</td>\n",
              "      <td>0155061224</td>\n",
              "      <td>5</td>\n",
              "    </tr>\n",
              "    <tr>\n",
              "      <th>2</th>\n",
              "      <td>276727</td>\n",
              "      <td>0446520802</td>\n",
              "      <td>0</td>\n",
              "    </tr>\n",
              "    <tr>\n",
              "      <th>3</th>\n",
              "      <td>276729</td>\n",
              "      <td>052165615X</td>\n",
              "      <td>3</td>\n",
              "    </tr>\n",
              "    <tr>\n",
              "      <th>4</th>\n",
              "      <td>276729</td>\n",
              "      <td>0521795028</td>\n",
              "      <td>6</td>\n",
              "    </tr>\n",
              "  </tbody>\n",
              "</table>\n",
              "</div>"
            ],
            "text/plain": [
              "   userID        ISBN  bookRating\n",
              "0  276725  034545104X           0\n",
              "1  276726  0155061224           5\n",
              "2  276727  0446520802           0\n",
              "3  276729  052165615X           3\n",
              "4  276729  0521795028           6"
            ]
          },
          "metadata": {
            "tags": []
          },
          "execution_count": 5
        }
      ]
    },
    {
      "metadata": {
        "id": "8Ag1j66KWNYT",
        "colab_type": "code",
        "outputId": "ba96b000-40ea-4f44-92b5-74c1aff6f7da",
        "colab": {
          "base_uri": "https://localhost:8080/",
          "height": 391
        }
      },
      "cell_type": "code",
      "source": [
        "plt.rc(\"font\", size=15)\n",
        "ratings.bookRating.value_counts(sort=False).plot(kind='bar')\n",
        "plt.title('Rating Distribution\\n')\n",
        "plt.xlabel('Rating')\n",
        "plt.ylabel('Count')\n",
        "plt.show()"
      ],
      "execution_count": 0,
      "outputs": [
        {
          "output_type": "display_data",
          "data": {
            "image/png": "[encoded data removed]",
            "text/plain": [
              "<matplotlib.figure.Figure at 0x7fd68a9e0f28>"
            ]
          },
          "metadata": {
            "tags": []
          }
        }
      ]
    },
    {
      "metadata": {
        "id": "aL18ylTLWyzo",
        "colab_type": "text"
      },
      "cell_type": "markdown",
      "source": [
        "**Books Data**\n",
        "The books data set provides book details. It includes 271,360 records and 8 fields: ISBN, book title, book author, publisher and so on."
      ]
    },
    {
      "metadata": {
        "id": "hRp86hPVW9Y3",
        "colab_type": "code",
        "outputId": "c60ffd23-f8f7-42cf-bd7d-f12207c0b21b",
        "colab": {
          "base_uri": "https://localhost:8080/",
          "height": 74
        }
      },
      "cell_type": "code",
      "source": [
        "print(books.shape)\n",
        "print(list(books.columns))"
      ],
      "execution_count": 0,
      "outputs": [
        {
          "output_type": "stream",
          "text": [
            "(271360, 8)\n",
            "['ISBN', 'bookTitle', 'bookAuthor', 'yearOfPublication', 'publisher', 'imageUrlS', 'imageUrlM', 'imageUrlL']\n"
          ],
          "name": "stdout"
        }
      ]
    },
    {
      "metadata": {
        "id": "2gai-WbIXB0A",
        "colab_type": "code",
        "outputId": "838d3782-b871-449a-f69b-56a5bb044c7f",
        "colab": {
          "base_uri": "https://localhost:8080/",
          "height": 391
        }
      },
      "cell_type": "code",
      "source": [
        "books.head()"
      ],
      "execution_count": 0,
      "outputs": [
        {
          "output_type": "execute_result",
          "data": {
            "text/html": [
              "<div>\n",
              "<style scoped>\n",
              "    .dataframe tbody tr th:only-of-type {\n",
              "        vertical-align: middle;\n",
              "    }\n",
              "\n",
              "    .dataframe tbody tr th {\n",
              "        vertical-align: top;\n",
              "    }\n",
              "\n",
              "    .dataframe thead th {\n",
              "        text-align: right;\n",
              "    }\n",
              "</style>\n",
              "<table border=\"1\" class=\"dataframe\">\n",
              "  <thead>\n",
              "    <tr style=\"text-align: right;\">\n",
              "      <th></th>\n",
              "      <th>ISBN</th>\n",
              "      <th>bookTitle</th>\n",
              "      <th>bookAuthor</th>\n",
              "      <th>yearOfPublication</th>\n",
              "      <th>publisher</th>\n",
              "      <th>imageUrlS</th>\n",
              "      <th>imageUrlM</th>\n",
              "      <th>imageUrlL</th>\n",
              "    </tr>\n",
              "  </thead>\n",
              "  <tbody>\n",
              "    <tr>\n",
              "      <th>0</th>\n",
              "      <td>0195153448</td>\n",
              "      <td>Classical Mythology</td>\n",
              "      <td>Mark P. O. Morford</td>\n",
              "      <td>2002</td>\n",
              "      <td>Oxford University Press</td>\n",
              "      <td>http://images.amazon.com/images/P/0195153448.0...</td>\n",
              "      <td>http://images.amazon.com/images/P/0195153448.0...</td>\n",
              "      <td>http://images.amazon.com/images/P/0195153448.0...</td>\n",
              "    </tr>\n",
              "    <tr>\n",
              "      <th>1</th>\n",
              "      <td>0002005018</td>\n",
              "      <td>Clara Callan</td>\n",
              "      <td>Richard Bruce Wright</td>\n",
              "      <td>2001</td>\n",
              "      <td>HarperFlamingo Canada</td>\n",
              "      <td>http://images.amazon.com/images/P/0002005018.0...</td>\n",
              "      <td>http://images.amazon.com/images/P/0002005018.0...</td>\n",
              "      <td>http://images.amazon.com/images/P/0002005018.0...</td>\n",
              "    </tr>\n",
              "    <tr>\n",
              "      <th>2</th>\n",
              "      <td>0060973129</td>\n",
              "      <td>Decision in Normandy</td>\n",
              "      <td>Carlo D'Este</td>\n",
              "      <td>1991</td>\n",
              "      <td>HarperPerennial</td>\n",
              "      <td>http://images.amazon.com/images/P/0060973129.0...</td>\n",
              "      <td>http://images.amazon.com/images/P/0060973129.0...</td>\n",
              "      <td>http://images.amazon.com/images/P/0060973129.0...</td>\n",
              "    </tr>\n",
              "    <tr>\n",
              "      <th>3</th>\n",
              "      <td>0374157065</td>\n",
              "      <td>Flu: The Story of the Great Influenza Pandemic...</td>\n",
              "      <td>Gina Bari Kolata</td>\n",
              "      <td>1999</td>\n",
              "      <td>Farrar Straus Giroux</td>\n",
              "      <td>http://images.amazon.com/images/P/0374157065.0...</td>\n",
              "      <td>http://images.amazon.com/images/P/0374157065.0...</td>\n",
              "      <td>http://images.amazon.com/images/P/0374157065.0...</td>\n",
              "    </tr>\n",
              "    <tr>\n",
              "      <th>4</th>\n",
              "      <td>0393045218</td>\n",
              "      <td>The Mummies of Urumchi</td>\n",
              "      <td>E. J. W. Barber</td>\n",
              "      <td>1999</td>\n",
              "      <td>W. W. Norton &amp;amp; Company</td>\n",
              "      <td>http://images.amazon.com/images/P/0393045218.0...</td>\n",
              "      <td>http://images.amazon.com/images/P/0393045218.0...</td>\n",
              "      <td>http://images.amazon.com/images/P/0393045218.0...</td>\n",
              "    </tr>\n",
              "  </tbody>\n",
              "</table>\n",
              "</div>"
            ],
            "text/plain": [
              "         ISBN                                          bookTitle  \\\n",
              "0  0195153448                                Classical Mythology   \n",
              "1  0002005018                                       Clara Callan   \n",
              "2  0060973129                               Decision in Normandy   \n",
              "3  0374157065  Flu: The Story of the Great Influenza Pandemic...   \n",
              "4  0393045218                             The Mummies of Urumchi   \n",
              "\n",
              "             bookAuthor yearOfPublication                   publisher  \\\n",
              "0    Mark P. O. Morford              2002     Oxford University Press   \n",
              "1  Richard Bruce Wright              2001       HarperFlamingo Canada   \n",
              "2          Carlo D'Este              1991             HarperPerennial   \n",
              "3      Gina Bari Kolata              1999        Farrar Straus Giroux   \n",
              "4       E. J. W. Barber              1999  W. W. Norton &amp; Company   \n",
              "\n",
              "                                           imageUrlS  \\\n",
              "0  http://images.amazon.com/images/P/0195153448.0...   \n",
              "1  http://images.amazon.com/images/P/0002005018.0...   \n",
              "2  http://images.amazon.com/images/P/0060973129.0...   \n",
              "3  http://images.amazon.com/images/P/0374157065.0...   \n",
              "4  http://images.amazon.com/images/P/0393045218.0...   \n",
              "\n",
              "                                           imageUrlM  \\\n",
              "0  http://images.amazon.com/images/P/0195153448.0...   \n",
              "1  http://images.amazon.com/images/P/0002005018.0...   \n",
              "2  http://images.amazon.com/images/P/0060973129.0...   \n",
              "3  http://images.amazon.com/images/P/0374157065.0...   \n",
              "4  http://images.amazon.com/images/P/0393045218.0...   \n",
              "\n",
              "                                           imageUrlL  \n",
              "0  http://images.amazon.com/images/P/0195153448.0...  \n",
              "1  http://images.amazon.com/images/P/0002005018.0...  \n",
              "2  http://images.amazon.com/images/P/0060973129.0...  \n",
              "3  http://images.amazon.com/images/P/0374157065.0...  \n",
              "4  http://images.amazon.com/images/P/0393045218.0...  "
            ]
          },
          "metadata": {
            "tags": []
          },
          "execution_count": 8
        }
      ]
    },
    {
      "metadata": {
        "id": "wrnOmJ7dXNE-",
        "colab_type": "text"
      },
      "cell_type": "markdown",
      "source": [
        "**Users Data** This dataset provides the user demographic information. It includes 278,858 records and 3 fields: user id, location and age."
      ]
    },
    {
      "metadata": {
        "id": "ucgwQ8TGXQ1o",
        "colab_type": "code",
        "outputId": "48b99d55-ce17-4c9c-da4d-d9b2849bd769",
        "colab": {
          "base_uri": "https://localhost:8080/",
          "height": 54
        }
      },
      "cell_type": "code",
      "source": [
        "print(users.shape)\n",
        "print(list(users.columns))"
      ],
      "execution_count": 0,
      "outputs": [
        {
          "output_type": "stream",
          "text": [
            "(278858, 3)\n",
            "['userID', 'Location', 'Age']\n"
          ],
          "name": "stdout"
        }
      ]
    },
    {
      "metadata": {
        "id": "gYwdIWraXUWT",
        "colab_type": "code",
        "outputId": "7083859f-04fa-459f-91fc-cfe68cf8c088",
        "colab": {
          "base_uri": "https://localhost:8080/",
          "height": 198
        }
      },
      "cell_type": "code",
      "source": [
        "users.head()"
      ],
      "execution_count": 0,
      "outputs": [
        {
          "output_type": "execute_result",
          "data": {
            "text/html": [
              "<div>\n",
              "<style scoped>\n",
              "    .dataframe tbody tr th:only-of-type {\n",
              "        vertical-align: middle;\n",
              "    }\n",
              "\n",
              "    .dataframe tbody tr th {\n",
              "        vertical-align: top;\n",
              "    }\n",
              "\n",
              "    .dataframe thead th {\n",
              "        text-align: right;\n",
              "    }\n",
              "</style>\n",
              "<table border=\"1\" class=\"dataframe\">\n",
              "  <thead>\n",
              "    <tr style=\"text-align: right;\">\n",
              "      <th></th>\n",
              "      <th>userID</th>\n",
              "      <th>Location</th>\n",
              "      <th>Age</th>\n",
              "    </tr>\n",
              "  </thead>\n",
              "  <tbody>\n",
              "    <tr>\n",
              "      <th>0</th>\n",
              "      <td>1</td>\n",
              "      <td>nyc, new york, usa</td>\n",
              "      <td>NaN</td>\n",
              "    </tr>\n",
              "    <tr>\n",
              "      <th>1</th>\n",
              "      <td>2</td>\n",
              "      <td>stockton, california, usa</td>\n",
              "      <td>18.0</td>\n",
              "    </tr>\n",
              "    <tr>\n",
              "      <th>2</th>\n",
              "      <td>3</td>\n",
              "      <td>moscow, yukon territory, russia</td>\n",
              "      <td>NaN</td>\n",
              "    </tr>\n",
              "    <tr>\n",
              "      <th>3</th>\n",
              "      <td>4</td>\n",
              "      <td>porto, v.n.gaia, portugal</td>\n",
              "      <td>17.0</td>\n",
              "    </tr>\n",
              "    <tr>\n",
              "      <th>4</th>\n",
              "      <td>5</td>\n",
              "      <td>farnborough, hants, united kingdom</td>\n",
              "      <td>NaN</td>\n",
              "    </tr>\n",
              "  </tbody>\n",
              "</table>\n",
              "</div>"
            ],
            "text/plain": [
              "   userID                            Location   Age\n",
              "0       1                  nyc, new york, usa   NaN\n",
              "1       2           stockton, california, usa  18.0\n",
              "2       3     moscow, yukon territory, russia   NaN\n",
              "3       4           porto, v.n.gaia, portugal  17.0\n",
              "4       5  farnborough, hants, united kingdom   NaN"
            ]
          },
          "metadata": {
            "tags": []
          },
          "execution_count": 10
        }
      ]
    },
    {
      "metadata": {
        "id": "-BueqRSiXYJW",
        "colab_type": "code",
        "outputId": "da3a9ef8-cc0e-4846-b894-811c3bd5af9f",
        "colab": {
          "base_uri": "https://localhost:8080/",
          "height": 390
        }
      },
      "cell_type": "code",
      "source": [
        "users.Age.hist(bins=[0, 10, 20, 30, 40, 50, 100])\n",
        "plt.title('Age Distribution\\n')\n",
        "plt.xlabel('Age')\n",
        "plt.ylabel('Count')\n",
        "plt.show()"
      ],
      "execution_count": 0,
      "outputs": [
        {
          "output_type": "display_data",
          "data": {
            "image/png": "[encoded data removed]",
            "text/plain": [
              "<matplotlib.figure.Figure at 0x7fd68a9e0438>"
            ]
          },
          "metadata": {
            "tags": []
          }
        }
      ]
    },
    {
      "metadata": {
        "id": "nYdVcCe7XnGe",
        "colab_type": "text"
      },
      "cell_type": "markdown",
      "source": [
        "# Recommendation Models"
      ]
    },
    {
      "metadata": {
        "id": "-twcCSdVmpfd",
        "colab_type": "text"
      },
      "cell_type": "markdown",
      "source": [
        "#  Recommendations based on rating counts"
      ]
    },
    {
      "metadata": {
        "id": "suk984wiX7i4",
        "colab_type": "code",
        "outputId": "754b7505-ba11-4ec6-ef6b-0c5889d82384",
        "colab": {
          "base_uri": "https://localhost:8080/",
          "height": 228
        }
      },
      "cell_type": "code",
      "source": [
        "rating_count = pd.DataFrame(ratings.groupby('ISBN')['bookRating'].count())\n",
        "rating_count.sort_values('bookRating', ascending=False).head()"
      ],
      "execution_count": 0,
      "outputs": [
        {
          "output_type": "execute_result",
          "data": {
            "text/html": [
              "<div>\n",
              "<style scoped>\n",
              "    .dataframe tbody tr th:only-of-type {\n",
              "        vertical-align: middle;\n",
              "    }\n",
              "\n",
              "    .dataframe tbody tr th {\n",
              "        vertical-align: top;\n",
              "    }\n",
              "\n",
              "    .dataframe thead th {\n",
              "        text-align: right;\n",
              "    }\n",
              "</style>\n",
              "<table border=\"1\" class=\"dataframe\">\n",
              "  <thead>\n",
              "    <tr style=\"text-align: right;\">\n",
              "      <th></th>\n",
              "      <th>bookRating</th>\n",
              "    </tr>\n",
              "    <tr>\n",
              "      <th>ISBN</th>\n",
              "      <th></th>\n",
              "    </tr>\n",
              "  </thead>\n",
              "  <tbody>\n",
              "    <tr>\n",
              "      <th>0971880107</th>\n",
              "      <td>2502</td>\n",
              "    </tr>\n",
              "    <tr>\n",
              "      <th>0316666343</th>\n",
              "      <td>1295</td>\n",
              "    </tr>\n",
              "    <tr>\n",
              "      <th>0385504209</th>\n",
              "      <td>883</td>\n",
              "    </tr>\n",
              "    <tr>\n",
              "      <th>0060928336</th>\n",
              "      <td>732</td>\n",
              "    </tr>\n",
              "    <tr>\n",
              "      <th>0312195516</th>\n",
              "      <td>723</td>\n",
              "    </tr>\n",
              "  </tbody>\n",
              "</table>\n",
              "</div>"
            ],
            "text/plain": [
              "            bookRating\n",
              "ISBN                  \n",
              "0971880107        2502\n",
              "0316666343        1295\n",
              "0385504209         883\n",
              "0060928336         732\n",
              "0312195516         723"
            ]
          },
          "metadata": {
            "tags": []
          },
          "execution_count": 12
        }
      ]
    },
    {
      "metadata": {
        "id": "cGDl_2DyYJvJ",
        "colab_type": "code",
        "outputId": "b2301c3a-961d-41b3-d7f5-955beb7b1f9a",
        "colab": {
          "base_uri": "https://localhost:8080/",
          "height": 408
        }
      },
      "cell_type": "code",
      "source": [
        "most_rated_books = pd.DataFrame(['0971880107', '0316666343', '0385504209', '0060928336', '0312195516'], index=np.arange(5), columns = ['ISBN'])\n",
        "most_rated_books_summary = pd.merge(most_rated_books, books, on='ISBN')\n",
        "most_rated_books_summary"
      ],
      "execution_count": 0,
      "outputs": [
        {
          "output_type": "execute_result",
          "data": {
            "text/html": [
              "<div>\n",
              "<style scoped>\n",
              "    .dataframe tbody tr th:only-of-type {\n",
              "        vertical-align: middle;\n",
              "    }\n",
              "\n",
              "    .dataframe tbody tr th {\n",
              "        vertical-align: top;\n",
              "    }\n",
              "\n",
              "    .dataframe thead th {\n",
              "        text-align: right;\n",
              "    }\n",
              "</style>\n",
              "<table border=\"1\" class=\"dataframe\">\n",
              "  <thead>\n",
              "    <tr style=\"text-align: right;\">\n",
              "      <th></th>\n",
              "      <th>ISBN</th>\n",
              "      <th>bookTitle</th>\n",
              "      <th>bookAuthor</th>\n",
              "      <th>yearOfPublication</th>\n",
              "      <th>publisher</th>\n",
              "      <th>imageUrlS</th>\n",
              "      <th>imageUrlM</th>\n",
              "      <th>imageUrlL</th>\n",
              "    </tr>\n",
              "  </thead>\n",
              "  <tbody>\n",
              "    <tr>\n",
              "      <th>0</th>\n",
              "      <td>0971880107</td>\n",
              "      <td>Wild Animus</td>\n",
              "      <td>Rich Shapero</td>\n",
              "      <td>2004</td>\n",
              "      <td>Too Far</td>\n",
              "      <td>http://images.amazon.com/images/P/0971880107.0...</td>\n",
              "      <td>http://images.amazon.com/images/P/0971880107.0...</td>\n",
              "      <td>http://images.amazon.com/images/P/0971880107.0...</td>\n",
              "    </tr>\n",
              "    <tr>\n",
              "      <th>1</th>\n",
              "      <td>0316666343</td>\n",
              "      <td>The Lovely Bones: A Novel</td>\n",
              "      <td>Alice Sebold</td>\n",
              "      <td>2002</td>\n",
              "      <td>Little, Brown</td>\n",
              "      <td>http://images.amazon.com/images/P/0316666343.0...</td>\n",
              "      <td>http://images.amazon.com/images/P/0316666343.0...</td>\n",
              "      <td>http://images.amazon.com/images/P/0316666343.0...</td>\n",
              "    </tr>\n",
              "    <tr>\n",
              "      <th>2</th>\n",
              "      <td>0385504209</td>\n",
              "      <td>The Da Vinci Code</td>\n",
              "      <td>Dan Brown</td>\n",
              "      <td>2003</td>\n",
              "      <td>Doubleday</td>\n",
              "      <td>http://images.amazon.com/images/P/0385504209.0...</td>\n",
              "      <td>http://images.amazon.com/images/P/0385504209.0...</td>\n",
              "      <td>http://images.amazon.com/images/P/0385504209.0...</td>\n",
              "    </tr>\n",
              "    <tr>\n",
              "      <th>3</th>\n",
              "      <td>0060928336</td>\n",
              "      <td>Divine Secrets of the Ya-Ya Sisterhood: A Novel</td>\n",
              "      <td>Rebecca Wells</td>\n",
              "      <td>1997</td>\n",
              "      <td>Perennial</td>\n",
              "      <td>http://images.amazon.com/images/P/0060928336.0...</td>\n",
              "      <td>http://images.amazon.com/images/P/0060928336.0...</td>\n",
              "      <td>http://images.amazon.com/images/P/0060928336.0...</td>\n",
              "    </tr>\n",
              "    <tr>\n",
              "      <th>4</th>\n",
              "      <td>0312195516</td>\n",
              "      <td>The Red Tent (Bestselling Backlist)</td>\n",
              "      <td>Anita Diamant</td>\n",
              "      <td>1998</td>\n",
              "      <td>Picador USA</td>\n",
              "      <td>http://images.amazon.com/images/P/0312195516.0...</td>\n",
              "      <td>http://images.amazon.com/images/P/0312195516.0...</td>\n",
              "      <td>http://images.amazon.com/images/P/0312195516.0...</td>\n",
              "    </tr>\n",
              "  </tbody>\n",
              "</table>\n",
              "</div>"
            ],
            "text/plain": [
              "         ISBN                                        bookTitle     bookAuthor  \\\n",
              "0  0971880107                                      Wild Animus   Rich Shapero   \n",
              "1  0316666343                        The Lovely Bones: A Novel   Alice Sebold   \n",
              "2  0385504209                                The Da Vinci Code      Dan Brown   \n",
              "3  0060928336  Divine Secrets of the Ya-Ya Sisterhood: A Novel  Rebecca Wells   \n",
              "4  0312195516              The Red Tent (Bestselling Backlist)  Anita Diamant   \n",
              "\n",
              "  yearOfPublication      publisher  \\\n",
              "0              2004        Too Far   \n",
              "1              2002  Little, Brown   \n",
              "2              2003      Doubleday   \n",
              "3              1997      Perennial   \n",
              "4              1998    Picador USA   \n",
              "\n",
              "                                           imageUrlS  \\\n",
              "0  http://images.amazon.com/images/P/0971880107.0...   \n",
              "1  http://images.amazon.com/images/P/0316666343.0...   \n",
              "2  http://images.amazon.com/images/P/0385504209.0...   \n",
              "3  http://images.amazon.com/images/P/0060928336.0...   \n",
              "4  http://images.amazon.com/images/P/0312195516.0...   \n",
              "\n",
              "                                           imageUrlM  \\\n",
              "0  http://images.amazon.com/images/P/0971880107.0...   \n",
              "1  http://images.amazon.com/images/P/0316666343.0...   \n",
              "2  http://images.amazon.com/images/P/0385504209.0...   \n",
              "3  http://images.amazon.com/images/P/0060928336.0...   \n",
              "4  http://images.amazon.com/images/P/0312195516.0...   \n",
              "\n",
              "                                           imageUrlL  \n",
              "0  http://images.amazon.com/images/P/0971880107.0...  \n",
              "1  http://images.amazon.com/images/P/0316666343.0...  \n",
              "2  http://images.amazon.com/images/P/0385504209.0...  \n",
              "3  http://images.amazon.com/images/P/0060928336.0...  \n",
              "4  http://images.amazon.com/images/P/0312195516.0...  "
            ]
          },
          "metadata": {
            "tags": []
          },
          "execution_count": 13
        }
      ]
    },
    {
      "metadata": {
        "id": "mCzBwiFTYaRc",
        "colab_type": "text"
      },
      "cell_type": "markdown",
      "source": [
        "This gives us the top 5 rated books. Based on user ratings books can be recommended to the users. If some user likes Wild Animus, the the recommender system suggests that we can recommend 'The Lovely Bones' to the same user. "
      ]
    },
    {
      "metadata": {
        "id": "SQoIF_BCmzvR",
        "colab_type": "text"
      },
      "cell_type": "markdown",
      "source": [
        "# Recommendations based on correlations"
      ]
    },
    {
      "metadata": {
        "id": "FX-ZH6rIYzTP",
        "colab_type": "text"
      },
      "cell_type": "markdown",
      "source": [
        "**Recommendations based on correlations**\n",
        "\n",
        "We use Pearsons’R correlation coefficient to measure linear correlation between two variables, in our case, the ratings for two books."
      ]
    },
    {
      "metadata": {
        "id": "_F66_ULYY-3H",
        "colab_type": "text"
      },
      "cell_type": "markdown",
      "source": [
        "Find out the average rating and the number of ratings each book received"
      ]
    },
    {
      "metadata": {
        "id": "PwRf3YgZZC1J",
        "colab_type": "code",
        "outputId": "6e924e56-8d83-46cc-8585-4976c1212a66",
        "colab": {
          "base_uri": "https://localhost:8080/",
          "height": 228
        }
      },
      "cell_type": "code",
      "source": [
        "average_rating = pd.DataFrame(ratings.groupby('ISBN')['bookRating'].mean())\n",
        "average_rating['ratingCount'] = pd.DataFrame(ratings.groupby('ISBN')['bookRating'].count())\n",
        "average_rating.sort_values('ratingCount', ascending=False).head()"
      ],
      "execution_count": 0,
      "outputs": [
        {
          "output_type": "execute_result",
          "data": {
            "text/html": [
              "<div>\n",
              "<style scoped>\n",
              "    .dataframe tbody tr th:only-of-type {\n",
              "        vertical-align: middle;\n",
              "    }\n",
              "\n",
              "    .dataframe tbody tr th {\n",
              "        vertical-align: top;\n",
              "    }\n",
              "\n",
              "    .dataframe thead th {\n",
              "        text-align: right;\n",
              "    }\n",
              "</style>\n",
              "<table border=\"1\" class=\"dataframe\">\n",
              "  <thead>\n",
              "    <tr style=\"text-align: right;\">\n",
              "      <th></th>\n",
              "      <th>bookRating</th>\n",
              "      <th>ratingCount</th>\n",
              "    </tr>\n",
              "    <tr>\n",
              "      <th>ISBN</th>\n",
              "      <th></th>\n",
              "      <th></th>\n",
              "    </tr>\n",
              "  </thead>\n",
              "  <tbody>\n",
              "    <tr>\n",
              "      <th>0971880107</th>\n",
              "      <td>1.019584</td>\n",
              "      <td>2502</td>\n",
              "    </tr>\n",
              "    <tr>\n",
              "      <th>0316666343</th>\n",
              "      <td>4.468726</td>\n",
              "      <td>1295</td>\n",
              "    </tr>\n",
              "    <tr>\n",
              "      <th>0385504209</th>\n",
              "      <td>4.652322</td>\n",
              "      <td>883</td>\n",
              "    </tr>\n",
              "    <tr>\n",
              "      <th>0060928336</th>\n",
              "      <td>3.448087</td>\n",
              "      <td>732</td>\n",
              "    </tr>\n",
              "    <tr>\n",
              "      <th>0312195516</th>\n",
              "      <td>4.334716</td>\n",
              "      <td>723</td>\n",
              "    </tr>\n",
              "  </tbody>\n",
              "</table>\n",
              "</div>"
            ],
            "text/plain": [
              "            bookRating  ratingCount\n",
              "ISBN                               \n",
              "0971880107    1.019584         2502\n",
              "0316666343    4.468726         1295\n",
              "0385504209    4.652322          883\n",
              "0060928336    3.448087          732\n",
              "0312195516    4.334716          723"
            ]
          },
          "metadata": {
            "tags": []
          },
          "execution_count": 14
        }
      ]
    },
    {
      "metadata": {
        "id": "2gthZX96ZOeU",
        "colab_type": "text"
      },
      "cell_type": "markdown",
      "source": [
        "**Observation**\n",
        "In this data set, the book that received the most rating counts was not highly rated at all. As a result, if we were to use recommendations based on rating counts, we would definitely make mistakes here. So, we need to have a better system.\n",
        "\n",
        "To ensure statistical significance, users with less than 200 ratings, and books with less than 100 ratings are excluded."
      ]
    },
    {
      "metadata": {
        "id": "bMLh0e7dZfQM",
        "colab_type": "code",
        "colab": {}
      },
      "cell_type": "code",
      "source": [
        "counts1 = ratings['userID'].value_counts()\n",
        "ratings = ratings[ratings['userID'].isin(counts1[counts1 >= 200].index)]\n",
        "counts = ratings['bookRating'].value_counts()\n",
        "ratings = ratings[ratings['bookRating'].isin(counts[counts >= 100].index)]"
      ],
      "execution_count": 0,
      "outputs": []
    },
    {
      "metadata": {
        "id": "2TTFKvcKZu8B",
        "colab_type": "text"
      },
      "cell_type": "markdown",
      "source": [
        "**Rating matrix**\n",
        "\n",
        "We convert the ratings table to a 2D matrix. The matrix will be sparse because not every user rated every book."
      ]
    },
    {
      "metadata": {
        "id": "_ZnEokr-ZxuI",
        "colab_type": "code",
        "outputId": "37deb7f5-121f-4230-e654-dace6abc6ffc",
        "colab": {
          "base_uri": "https://localhost:8080/",
          "height": 295
        }
      },
      "cell_type": "code",
      "source": [
        "ratings_pivot = ratings.pivot(index='userID', columns='ISBN').bookRating\n",
        "userID = ratings_pivot.index\n",
        "ISBN = ratings_pivot.columns\n",
        "print(ratings_pivot.shape)\n",
        "ratings_pivot.head()"
      ],
      "execution_count": 0,
      "outputs": [
        {
          "output_type": "stream",
          "text": [
            "(905, 207699)\n"
          ],
          "name": "stdout"
        },
        {
          "output_type": "execute_result",
          "data": {
            "text/html": [
              "<div>\n",
              "<style scoped>\n",
              "    .dataframe tbody tr th:only-of-type {\n",
              "        vertical-align: middle;\n",
              "    }\n",
              "\n",
              "    .dataframe tbody tr th {\n",
              "        vertical-align: top;\n",
              "    }\n",
              "\n",
              "    .dataframe thead th {\n",
              "        text-align: right;\n",
              "    }\n",
              "</style>\n",
              "<table border=\"1\" class=\"dataframe\">\n",
              "  <thead>\n",
              "    <tr style=\"text-align: right;\">\n",
              "      <th>ISBN</th>\n",
              "      <th>0330299891</th>\n",
              "      <th>0375404120</th>\n",
              "      <th>0586045007</th>\n",
              "      <th>9022906116</th>\n",
              "      <th>9032803328</th>\n",
              "      <th>9044922564</th>\n",
              "      <th>9044922572</th>\n",
              "      <th>9044922718</th>\n",
              "      <th>9044923161</th>\n",
              "      <th>904492401X</th>\n",
              "      <th>...</th>\n",
              "      <th>UNGRANDHOMMED</th>\n",
              "      <th>X000000000</th>\n",
              "      <th>YOUTELLEM,AND</th>\n",
              "      <th>ZR903CX0003</th>\n",
              "      <th>\\0432534220\\\"\"</th>\n",
              "      <th>\\2842053052\\\"\"</th>\n",
              "      <th>b00005wz75</th>\n",
              "      <th>cn108465</th>\n",
              "      <th>cn113107</th>\n",
              "      <th>Ô½crosoft</th>\n",
              "    </tr>\n",
              "    <tr>\n",
              "      <th>userID</th>\n",
              "      <th></th>\n",
              "      <th></th>\n",
              "      <th></th>\n",
              "      <th></th>\n",
              "      <th></th>\n",
              "      <th></th>\n",
              "      <th></th>\n",
              "      <th></th>\n",
              "      <th></th>\n",
              "      <th></th>\n",
              "      <th></th>\n",
              "      <th></th>\n",
              "      <th></th>\n",
              "      <th></th>\n",
              "      <th></th>\n",
              "      <th></th>\n",
              "      <th></th>\n",
              "      <th></th>\n",
              "      <th></th>\n",
              "      <th></th>\n",
              "      <th></th>\n",
              "    </tr>\n",
              "  </thead>\n",
              "  <tbody>\n",
              "    <tr>\n",
              "      <th>254</th>\n",
              "      <td>NaN</td>\n",
              "      <td>NaN</td>\n",
              "      <td>NaN</td>\n",
              "      <td>NaN</td>\n",
              "      <td>NaN</td>\n",
              "      <td>NaN</td>\n",
              "      <td>NaN</td>\n",
              "      <td>NaN</td>\n",
              "      <td>NaN</td>\n",
              "      <td>NaN</td>\n",
              "      <td>...</td>\n",
              "      <td>NaN</td>\n",
              "      <td>NaN</td>\n",
              "      <td>NaN</td>\n",
              "      <td>NaN</td>\n",
              "      <td>NaN</td>\n",
              "      <td>NaN</td>\n",
              "      <td>NaN</td>\n",
              "      <td>NaN</td>\n",
              "      <td>NaN</td>\n",
              "      <td>NaN</td>\n",
              "    </tr>\n",
              "    <tr>\n",
              "      <th>2276</th>\n",
              "      <td>NaN</td>\n",
              "      <td>NaN</td>\n",
              "      <td>NaN</td>\n",
              "      <td>NaN</td>\n",
              "      <td>NaN</td>\n",
              "      <td>NaN</td>\n",
              "      <td>NaN</td>\n",
              "      <td>NaN</td>\n",
              "      <td>NaN</td>\n",
              "      <td>NaN</td>\n",
              "      <td>...</td>\n",
              "      <td>NaN</td>\n",
              "      <td>NaN</td>\n",
              "      <td>NaN</td>\n",
              "      <td>NaN</td>\n",
              "      <td>NaN</td>\n",
              "      <td>NaN</td>\n",
              "      <td>NaN</td>\n",
              "      <td>NaN</td>\n",
              "      <td>NaN</td>\n",
              "      <td>NaN</td>\n",
              "    </tr>\n",
              "    <tr>\n",
              "      <th>2766</th>\n",
              "      <td>NaN</td>\n",
              "      <td>NaN</td>\n",
              "      <td>NaN</td>\n",
              "      <td>NaN</td>\n",
              "      <td>NaN</td>\n",
              "      <td>NaN</td>\n",
              "      <td>NaN</td>\n",
              "      <td>NaN</td>\n",
              "      <td>NaN</td>\n",
              "      <td>NaN</td>\n",
              "      <td>...</td>\n",
              "      <td>NaN</td>\n",
              "      <td>NaN</td>\n",
              "      <td>NaN</td>\n",
              "      <td>NaN</td>\n",
              "      <td>NaN</td>\n",
              "      <td>NaN</td>\n",
              "      <td>NaN</td>\n",
              "      <td>NaN</td>\n",
              "      <td>NaN</td>\n",
              "      <td>NaN</td>\n",
              "    </tr>\n",
              "    <tr>\n",
              "      <th>2977</th>\n",
              "      <td>NaN</td>\n",
              "      <td>NaN</td>\n",
              "      <td>NaN</td>\n",
              "      <td>NaN</td>\n",
              "      <td>NaN</td>\n",
              "      <td>NaN</td>\n",
              "      <td>NaN</td>\n",
              "      <td>NaN</td>\n",
              "      <td>NaN</td>\n",
              "      <td>NaN</td>\n",
              "      <td>...</td>\n",
              "      <td>NaN</td>\n",
              "      <td>NaN</td>\n",
              "      <td>NaN</td>\n",
              "      <td>NaN</td>\n",
              "      <td>NaN</td>\n",
              "      <td>NaN</td>\n",
              "      <td>NaN</td>\n",
              "      <td>NaN</td>\n",
              "      <td>NaN</td>\n",
              "      <td>NaN</td>\n",
              "    </tr>\n",
              "    <tr>\n",
              "      <th>3363</th>\n",
              "      <td>NaN</td>\n",
              "      <td>NaN</td>\n",
              "      <td>NaN</td>\n",
              "      <td>NaN</td>\n",
              "      <td>NaN</td>\n",
              "      <td>NaN</td>\n",
              "      <td>NaN</td>\n",
              "      <td>NaN</td>\n",
              "      <td>NaN</td>\n",
              "      <td>NaN</td>\n",
              "      <td>...</td>\n",
              "      <td>NaN</td>\n",
              "      <td>NaN</td>\n",
              "      <td>NaN</td>\n",
              "      <td>NaN</td>\n",
              "      <td>NaN</td>\n",
              "      <td>NaN</td>\n",
              "      <td>NaN</td>\n",
              "      <td>NaN</td>\n",
              "      <td>NaN</td>\n",
              "      <td>NaN</td>\n",
              "    </tr>\n",
              "  </tbody>\n",
              "</table>\n",
              "<p>5 rows × 207699 columns</p>\n",
              "</div>"
            ],
            "text/plain": [
              "ISBN     0330299891   0375404120   0586045007   9022906116   9032803328  \\\n",
              "userID                                                                    \n",
              "254             NaN          NaN          NaN          NaN          NaN   \n",
              "2276            NaN          NaN          NaN          NaN          NaN   \n",
              "2766            NaN          NaN          NaN          NaN          NaN   \n",
              "2977            NaN          NaN          NaN          NaN          NaN   \n",
              "3363            NaN          NaN          NaN          NaN          NaN   \n",
              "\n",
              "ISBN     9044922564   9044922572   9044922718   9044923161   904492401X  \\\n",
              "userID                                                                    \n",
              "254             NaN          NaN          NaN          NaN          NaN   \n",
              "2276            NaN          NaN          NaN          NaN          NaN   \n",
              "2766            NaN          NaN          NaN          NaN          NaN   \n",
              "2977            NaN          NaN          NaN          NaN          NaN   \n",
              "3363            NaN          NaN          NaN          NaN          NaN   \n",
              "\n",
              "ISBN      ...      UNGRANDHOMMED  X000000000  YOUTELLEM,AND  ZR903CX0003  \\\n",
              "userID    ...                                                              \n",
              "254       ...                NaN         NaN            NaN          NaN   \n",
              "2276      ...                NaN         NaN            NaN          NaN   \n",
              "2766      ...                NaN         NaN            NaN          NaN   \n",
              "2977      ...                NaN         NaN            NaN          NaN   \n",
              "3363      ...                NaN         NaN            NaN          NaN   \n",
              "\n",
              "ISBN    \\0432534220\\\"\"  \\2842053052\\\"\"  b00005wz75  cn108465  cn113107  \\\n",
              "userID                                                                   \n",
              "254                NaN             NaN         NaN       NaN       NaN   \n",
              "2276               NaN             NaN         NaN       NaN       NaN   \n",
              "2766               NaN             NaN         NaN       NaN       NaN   \n",
              "2977               NaN             NaN         NaN       NaN       NaN   \n",
              "3363               NaN             NaN         NaN       NaN       NaN   \n",
              "\n",
              "ISBN    Ô½crosoft  \n",
              "userID             \n",
              "254           NaN  \n",
              "2276          NaN  \n",
              "2766          NaN  \n",
              "2977          NaN  \n",
              "3363          NaN  \n",
              "\n",
              "[5 rows x 207699 columns]"
            ]
          },
          "metadata": {
            "tags": []
          },
          "execution_count": 16
        }
      ]
    },
    {
      "metadata": {
        "id": "7LM08VFNaG8L",
        "colab_type": "text"
      },
      "cell_type": "markdown",
      "source": [
        "Find out which books are correlated with the 2nd most rated book “The Lovely Bones: A Novel”."
      ]
    },
    {
      "metadata": {
        "id": "cfmQMcpwaIoP",
        "colab_type": "code",
        "outputId": "0d22add9-cb34-46c1-e039-1b687b126ab8",
        "colab": {
          "base_uri": "https://localhost:8080/",
          "height": 471
        }
      },
      "cell_type": "code",
      "source": [
        "bones_ratings = ratings_pivot['0385504209']\n",
        "similar_to_bones = ratings_pivot.corrwith(bones_ratings)\n",
        "corr_bones = pd.DataFrame(similar_to_bones, columns=['pearsonR'])\n",
        "corr_bones.dropna(inplace=True)\n",
        "corr_summary = corr_bones.join(average_rating['ratingCount'])\n",
        "corr_summary[corr_summary['ratingCount']>=300].sort_values('pearsonR', ascending=False).head(10)"
      ],
      "execution_count": 0,
      "outputs": [
        {
          "output_type": "stream",
          "text": [
            "/usr/local/lib/python3.6/dist-packages/numpy/lib/function_base.py:3175: RuntimeWarning: Degrees of freedom <= 0 for slice\n",
            "  c = cov(x, y, rowvar)\n",
            "/usr/local/lib/python3.6/dist-packages/numpy/lib/function_base.py:3109: RuntimeWarning: divide by zero encountered in double_scalars\n",
            "  c *= 1. / np.float64(fact)\n"
          ],
          "name": "stderr"
        },
        {
          "output_type": "execute_result",
          "data": {
            "text/html": [
              "<div>\n",
              "<style scoped>\n",
              "    .dataframe tbody tr th:only-of-type {\n",
              "        vertical-align: middle;\n",
              "    }\n",
              "\n",
              "    .dataframe tbody tr th {\n",
              "        vertical-align: top;\n",
              "    }\n",
              "\n",
              "    .dataframe thead th {\n",
              "        text-align: right;\n",
              "    }\n",
              "</style>\n",
              "<table border=\"1\" class=\"dataframe\">\n",
              "  <thead>\n",
              "    <tr style=\"text-align: right;\">\n",
              "      <th></th>\n",
              "      <th>pearsonR</th>\n",
              "      <th>ratingCount</th>\n",
              "    </tr>\n",
              "    <tr>\n",
              "      <th>ISBN</th>\n",
              "      <th></th>\n",
              "      <th></th>\n",
              "    </tr>\n",
              "  </thead>\n",
              "  <tbody>\n",
              "    <tr>\n",
              "      <th>0385504209</th>\n",
              "      <td>1.000000</td>\n",
              "      <td>883</td>\n",
              "    </tr>\n",
              "    <tr>\n",
              "      <th>044651652X</th>\n",
              "      <td>0.524773</td>\n",
              "      <td>368</td>\n",
              "    </tr>\n",
              "    <tr>\n",
              "      <th>044022165X</th>\n",
              "      <td>0.434780</td>\n",
              "      <td>386</td>\n",
              "    </tr>\n",
              "    <tr>\n",
              "      <th>006101351X</th>\n",
              "      <td>0.368629</td>\n",
              "      <td>364</td>\n",
              "    </tr>\n",
              "    <tr>\n",
              "      <th>0312278586</th>\n",
              "      <td>0.367703</td>\n",
              "      <td>474</td>\n",
              "    </tr>\n",
              "    <tr>\n",
              "      <th>0440222656</th>\n",
              "      <td>0.350079</td>\n",
              "      <td>420</td>\n",
              "    </tr>\n",
              "    <tr>\n",
              "      <th>0060987103</th>\n",
              "      <td>0.349445</td>\n",
              "      <td>326</td>\n",
              "    </tr>\n",
              "    <tr>\n",
              "      <th>0439064872</th>\n",
              "      <td>0.346980</td>\n",
              "      <td>351</td>\n",
              "    </tr>\n",
              "    <tr>\n",
              "      <th>0671021001</th>\n",
              "      <td>0.329035</td>\n",
              "      <td>468</td>\n",
              "    </tr>\n",
              "    <tr>\n",
              "      <th>0345370775</th>\n",
              "      <td>0.320799</td>\n",
              "      <td>466</td>\n",
              "    </tr>\n",
              "  </tbody>\n",
              "</table>\n",
              "</div>"
            ],
            "text/plain": [
              "            pearsonR  ratingCount\n",
              "ISBN                             \n",
              "0385504209  1.000000          883\n",
              "044651652X  0.524773          368\n",
              "044022165X  0.434780          386\n",
              "006101351X  0.368629          364\n",
              "0312278586  0.367703          474\n",
              "0440222656  0.350079          420\n",
              "0060987103  0.349445          326\n",
              "0439064872  0.346980          351\n",
              "0671021001  0.329035          468\n",
              "0345370775  0.320799          466"
            ]
          },
          "metadata": {
            "tags": []
          },
          "execution_count": 17
        }
      ]
    },
    {
      "metadata": {
        "id": "_W9F0kVSaaoj",
        "colab_type": "text"
      },
      "cell_type": "markdown",
      "source": [
        "Find out the names of the books"
      ]
    },
    {
      "metadata": {
        "id": "ekeYtwiOacmE",
        "colab_type": "code",
        "outputId": "eee02512-b4de-4773-dd73-2f979929bd2f",
        "colab": {
          "base_uri": "https://localhost:8080/",
          "height": 805
        }
      },
      "cell_type": "code",
      "source": [
        "books_corr_to_bones = pd.DataFrame(['0385504209', '044651652X', '044022165X', '006101351X', '0312278586', '0440222656', '0060987103', '0439064872', '0671021001'], \n",
        "                                  index=np.arange(9), columns=['ISBN'])\n",
        "corr_books = pd.merge(books_corr_to_bones, books, on='ISBN')\n",
        "corr_books"
      ],
      "execution_count": 0,
      "outputs": [
        {
          "output_type": "execute_result",
          "data": {
            "text/html": [
              "<div>\n",
              "<style scoped>\n",
              "    .dataframe tbody tr th:only-of-type {\n",
              "        vertical-align: middle;\n",
              "    }\n",
              "\n",
              "    .dataframe tbody tr th {\n",
              "        vertical-align: top;\n",
              "    }\n",
              "\n",
              "    .dataframe thead th {\n",
              "        text-align: right;\n",
              "    }\n",
              "</style>\n",
              "<table border=\"1\" class=\"dataframe\">\n",
              "  <thead>\n",
              "    <tr style=\"text-align: right;\">\n",
              "      <th></th>\n",
              "      <th>ISBN</th>\n",
              "      <th>bookTitle</th>\n",
              "      <th>bookAuthor</th>\n",
              "      <th>yearOfPublication</th>\n",
              "      <th>publisher</th>\n",
              "      <th>imageUrlS</th>\n",
              "      <th>imageUrlM</th>\n",
              "      <th>imageUrlL</th>\n",
              "    </tr>\n",
              "  </thead>\n",
              "  <tbody>\n",
              "    <tr>\n",
              "      <th>0</th>\n",
              "      <td>0385504209</td>\n",
              "      <td>The Da Vinci Code</td>\n",
              "      <td>Dan Brown</td>\n",
              "      <td>2003</td>\n",
              "      <td>Doubleday</td>\n",
              "      <td>http://images.amazon.com/images/P/0385504209.0...</td>\n",
              "      <td>http://images.amazon.com/images/P/0385504209.0...</td>\n",
              "      <td>http://images.amazon.com/images/P/0385504209.0...</td>\n",
              "    </tr>\n",
              "    <tr>\n",
              "      <th>1</th>\n",
              "      <td>044651652X</td>\n",
              "      <td>The Bridges of Madison County</td>\n",
              "      <td>Robert James Waller</td>\n",
              "      <td>1992</td>\n",
              "      <td>Warner Books</td>\n",
              "      <td>http://images.amazon.com/images/P/044651652X.0...</td>\n",
              "      <td>http://images.amazon.com/images/P/044651652X.0...</td>\n",
              "      <td>http://images.amazon.com/images/P/044651652X.0...</td>\n",
              "    </tr>\n",
              "    <tr>\n",
              "      <th>2</th>\n",
              "      <td>044022165X</td>\n",
              "      <td>The Rainmaker</td>\n",
              "      <td>JOHN GRISHAM</td>\n",
              "      <td>1996</td>\n",
              "      <td>Dell</td>\n",
              "      <td>http://images.amazon.com/images/P/044022165X.0...</td>\n",
              "      <td>http://images.amazon.com/images/P/044022165X.0...</td>\n",
              "      <td>http://images.amazon.com/images/P/044022165X.0...</td>\n",
              "    </tr>\n",
              "    <tr>\n",
              "      <th>3</th>\n",
              "      <td>006101351X</td>\n",
              "      <td>The Perfect Storm : A True Story of Men Agains...</td>\n",
              "      <td>Sebastian Junger</td>\n",
              "      <td>1998</td>\n",
              "      <td>HarperTorch</td>\n",
              "      <td>http://images.amazon.com/images/P/006101351X.0...</td>\n",
              "      <td>http://images.amazon.com/images/P/006101351X.0...</td>\n",
              "      <td>http://images.amazon.com/images/P/006101351X.0...</td>\n",
              "    </tr>\n",
              "    <tr>\n",
              "      <th>4</th>\n",
              "      <td>0312278586</td>\n",
              "      <td>The Nanny Diaries: A Novel</td>\n",
              "      <td>Emma McLaughlin</td>\n",
              "      <td>2002</td>\n",
              "      <td>St. Martin's Press</td>\n",
              "      <td>http://images.amazon.com/images/P/0312278586.0...</td>\n",
              "      <td>http://images.amazon.com/images/P/0312278586.0...</td>\n",
              "      <td>http://images.amazon.com/images/P/0312278586.0...</td>\n",
              "    </tr>\n",
              "    <tr>\n",
              "      <th>5</th>\n",
              "      <td>0440222656</td>\n",
              "      <td>The Horse Whisperer</td>\n",
              "      <td>Nicholas Evans</td>\n",
              "      <td>1996</td>\n",
              "      <td>Dell</td>\n",
              "      <td>http://images.amazon.com/images/P/0440222656.0...</td>\n",
              "      <td>http://images.amazon.com/images/P/0440222656.0...</td>\n",
              "      <td>http://images.amazon.com/images/P/0440222656.0...</td>\n",
              "    </tr>\n",
              "    <tr>\n",
              "      <th>6</th>\n",
              "      <td>0060987103</td>\n",
              "      <td>Wicked: The Life and Times of the Wicked Witch...</td>\n",
              "      <td>Gregory Maguire</td>\n",
              "      <td>1996</td>\n",
              "      <td>Regan Books</td>\n",
              "      <td>http://images.amazon.com/images/P/0060987103.0...</td>\n",
              "      <td>http://images.amazon.com/images/P/0060987103.0...</td>\n",
              "      <td>http://images.amazon.com/images/P/0060987103.0...</td>\n",
              "    </tr>\n",
              "    <tr>\n",
              "      <th>7</th>\n",
              "      <td>0439064872</td>\n",
              "      <td>Harry Potter and the Chamber of Secrets (Book 2)</td>\n",
              "      <td>J. K. Rowling</td>\n",
              "      <td>2000</td>\n",
              "      <td>Scholastic</td>\n",
              "      <td>http://images.amazon.com/images/P/0439064872.0...</td>\n",
              "      <td>http://images.amazon.com/images/P/0439064872.0...</td>\n",
              "      <td>http://images.amazon.com/images/P/0439064872.0...</td>\n",
              "    </tr>\n",
              "    <tr>\n",
              "      <th>8</th>\n",
              "      <td>0671021001</td>\n",
              "      <td>She's Come Undone (Oprah's Book Club)</td>\n",
              "      <td>Wally Lamb</td>\n",
              "      <td>1998</td>\n",
              "      <td>Pocket</td>\n",
              "      <td>http://images.amazon.com/images/P/0671021001.0...</td>\n",
              "      <td>http://images.amazon.com/images/P/0671021001.0...</td>\n",
              "      <td>http://images.amazon.com/images/P/0671021001.0...</td>\n",
              "    </tr>\n",
              "  </tbody>\n",
              "</table>\n",
              "</div>"
            ],
            "text/plain": [
              "         ISBN                                          bookTitle  \\\n",
              "0  0385504209                                  The Da Vinci Code   \n",
              "1  044651652X                      The Bridges of Madison County   \n",
              "2  044022165X                                      The Rainmaker   \n",
              "3  006101351X  The Perfect Storm : A True Story of Men Agains...   \n",
              "4  0312278586                         The Nanny Diaries: A Novel   \n",
              "5  0440222656                                The Horse Whisperer   \n",
              "6  0060987103  Wicked: The Life and Times of the Wicked Witch...   \n",
              "7  0439064872   Harry Potter and the Chamber of Secrets (Book 2)   \n",
              "8  0671021001              She's Come Undone (Oprah's Book Club)   \n",
              "\n",
              "            bookAuthor yearOfPublication           publisher  \\\n",
              "0            Dan Brown              2003           Doubleday   \n",
              "1  Robert James Waller              1992        Warner Books   \n",
              "2         JOHN GRISHAM              1996                Dell   \n",
              "3     Sebastian Junger              1998         HarperTorch   \n",
              "4      Emma McLaughlin              2002  St. Martin's Press   \n",
              "5       Nicholas Evans              1996                Dell   \n",
              "6      Gregory Maguire              1996         Regan Books   \n",
              "7        J. K. Rowling              2000          Scholastic   \n",
              "8           Wally Lamb              1998              Pocket   \n",
              "\n",
              "                                           imageUrlS  \\\n",
              "0  http://images.amazon.com/images/P/0385504209.0...   \n",
              "1  http://images.amazon.com/images/P/044651652X.0...   \n",
              "2  http://images.amazon.com/images/P/044022165X.0...   \n",
              "3  http://images.amazon.com/images/P/006101351X.0...   \n",
              "4  http://images.amazon.com/images/P/0312278586.0...   \n",
              "5  http://images.amazon.com/images/P/0440222656.0...   \n",
              "6  http://images.amazon.com/images/P/0060987103.0...   \n",
              "7  http://images.amazon.com/images/P/0439064872.0...   \n",
              "8  http://images.amazon.com/images/P/0671021001.0...   \n",
              "\n",
              "                                           imageUrlM  \\\n",
              "0  http://images.amazon.com/images/P/0385504209.0...   \n",
              "1  http://images.amazon.com/images/P/044651652X.0...   \n",
              "2  http://images.amazon.com/images/P/044022165X.0...   \n",
              "3  http://images.amazon.com/images/P/006101351X.0...   \n",
              "4  http://images.amazon.com/images/P/0312278586.0...   \n",
              "5  http://images.amazon.com/images/P/0440222656.0...   \n",
              "6  http://images.amazon.com/images/P/0060987103.0...   \n",
              "7  http://images.amazon.com/images/P/0439064872.0...   \n",
              "8  http://images.amazon.com/images/P/0671021001.0...   \n",
              "\n",
              "                                           imageUrlL  \n",
              "0  http://images.amazon.com/images/P/0385504209.0...  \n",
              "1  http://images.amazon.com/images/P/044651652X.0...  \n",
              "2  http://images.amazon.com/images/P/044022165X.0...  \n",
              "3  http://images.amazon.com/images/P/006101351X.0...  \n",
              "4  http://images.amazon.com/images/P/0312278586.0...  \n",
              "5  http://images.amazon.com/images/P/0440222656.0...  \n",
              "6  http://images.amazon.com/images/P/0060987103.0...  \n",
              "7  http://images.amazon.com/images/P/0439064872.0...  \n",
              "8  http://images.amazon.com/images/P/0671021001.0...  "
            ]
          },
          "metadata": {
            "tags": []
          },
          "execution_count": 19
        }
      ]
    }
  ]
}