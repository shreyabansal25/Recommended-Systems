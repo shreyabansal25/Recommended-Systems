{
  "nbformat": 4,
  "nbformat_minor": 0,
  "metadata": {
    "colab": {
      "name": "i-CDAE_recommender.ipynb",
      "version": "0.3.2",
      "provenance": [],
      "toc_visible": true
    },
    "kernelspec": {
      "display_name": "Python 3",
      "language": "python",
      "name": "python3"
    }
  },
  "cells": [
    {
      "metadata": {
        "id": "JBYfsU0VqhQ2",
        "colab_type": "text"
      },
      "cell_type": "markdown",
      "source": [
        "# Generalized Matrix Factorization (GMF)\n",
        "\n",
        "."
      ]
    },
    {
      "metadata": {
        "id": "Lbz_QhlocsxH",
        "colab_type": "text"
      },
      "cell_type": "markdown",
      "source": [
        ""
      ]
    },
    {
      "metadata": {
        "colab_type": "code",
        "id": "bIzJ8_II-hlC",
        "colab": {}
      },
      "cell_type": "code",
      "source": [
        "import matplotlib.pyplot as plt\n",
        "import argparse\n",
        "import tensorflow as tf\n",
        "import sys\n",
        "import os.path\n",
        "import tensorflow as tf\n",
        "import time\n",
        "import numpy as np\n",
        "import math\n",
        "import pandas as pd\n",
        "from sklearn.model_selection import train_test_split\n",
        "from scipy.sparse import csr_matrix\n",
        "import random"
      ],
      "execution_count": 0,
      "outputs": []
    },
    {
      "metadata": {
        "id": "DbcO6e2opJFY",
        "colab_type": "text"
      },
      "cell_type": "markdown",
      "source": [
        "# Load Data"
      ]
    },
    {
      "metadata": {
        "id": "1B09MoEhpua8",
        "colab_type": "code",
        "colab": {}
      },
      "cell_type": "code",
      "source": [
        "df = pd.read_csv('train.csv', sep=',', error_bad_lines=False, encoding=\"latin-1\")"
      ],
      "execution_count": 0,
      "outputs": []
    },
    {
      "metadata": {
        "id": "Qpe_1DNd8w38",
        "colab_type": "code",
        "outputId": "7a58596d-dca0-4f79-b858-54df49f54656",
        "colab": {
          "base_uri": "https://localhost:8080/",
          "height": 285
        }
      },
      "cell_type": "code",
      "source": [
        "df.head()"
      ],
      "execution_count": 47,
      "outputs": [
        {
          "output_type": "execute_result",
          "data": {
            "text/html": [
              "<div>\n",
              "<style scoped>\n",
              "    .dataframe tbody tr th:only-of-type {\n",
              "        vertical-align: middle;\n",
              "    }\n",
              "\n",
              "    .dataframe tbody tr th {\n",
              "        vertical-align: top;\n",
              "    }\n",
              "\n",
              "    .dataframe thead th {\n",
              "        text-align: right;\n",
              "    }\n",
              "</style>\n",
              "<table border=\"1\" class=\"dataframe\">\n",
              "  <thead>\n",
              "    <tr style=\"text-align: right;\">\n",
              "      <th></th>\n",
              "      <th>user</th>\n",
              "      <th>event</th>\n",
              "      <th>invited</th>\n",
              "      <th>timestamp</th>\n",
              "      <th>interested</th>\n",
              "      <th>not_interested</th>\n",
              "    </tr>\n",
              "  </thead>\n",
              "  <tbody>\n",
              "    <tr>\n",
              "      <th>0</th>\n",
              "      <td>3044012</td>\n",
              "      <td>1918771225</td>\n",
              "      <td>0</td>\n",
              "      <td>2012-10-02 15:53:05.754000+00:00</td>\n",
              "      <td>0</td>\n",
              "      <td>0</td>\n",
              "    </tr>\n",
              "    <tr>\n",
              "      <th>1</th>\n",
              "      <td>3044012</td>\n",
              "      <td>1502284248</td>\n",
              "      <td>0</td>\n",
              "      <td>2012-10-02 15:53:05.754000+00:00</td>\n",
              "      <td>0</td>\n",
              "      <td>0</td>\n",
              "    </tr>\n",
              "    <tr>\n",
              "      <th>2</th>\n",
              "      <td>3044012</td>\n",
              "      <td>2529072432</td>\n",
              "      <td>0</td>\n",
              "      <td>2012-10-02 15:53:05.754000+00:00</td>\n",
              "      <td>1</td>\n",
              "      <td>0</td>\n",
              "    </tr>\n",
              "    <tr>\n",
              "      <th>3</th>\n",
              "      <td>3044012</td>\n",
              "      <td>3072478280</td>\n",
              "      <td>0</td>\n",
              "      <td>2012-10-02 15:53:05.754000+00:00</td>\n",
              "      <td>0</td>\n",
              "      <td>0</td>\n",
              "    </tr>\n",
              "    <tr>\n",
              "      <th>4</th>\n",
              "      <td>3044012</td>\n",
              "      <td>1390707377</td>\n",
              "      <td>0</td>\n",
              "      <td>2012-10-02 15:53:05.754000+00:00</td>\n",
              "      <td>0</td>\n",
              "      <td>0</td>\n",
              "    </tr>\n",
              "  </tbody>\n",
              "</table>\n",
              "</div>"
            ],
            "text/plain": [
              "      user       event  invited                         timestamp  interested  \\\n",
              "0  3044012  1918771225        0  2012-10-02 15:53:05.754000+00:00           0   \n",
              "1  3044012  1502284248        0  2012-10-02 15:53:05.754000+00:00           0   \n",
              "2  3044012  2529072432        0  2012-10-02 15:53:05.754000+00:00           1   \n",
              "3  3044012  3072478280        0  2012-10-02 15:53:05.754000+00:00           0   \n",
              "4  3044012  1390707377        0  2012-10-02 15:53:05.754000+00:00           0   \n",
              "\n",
              "   not_interested  \n",
              "0               0  \n",
              "1               0  \n",
              "2               0  \n",
              "3               0  \n",
              "4               0  "
            ]
          },
          "metadata": {
            "tags": []
          },
          "execution_count": 47
        }
      ]
    },
    {
      "metadata": {
        "id": "OBfovoyEcaaL",
        "colab_type": "text"
      },
      "cell_type": "markdown",
      "source": [
        "#Prepare Data"
      ]
    },
    {
      "metadata": {
        "id": "BtRD_EGW9LGu",
        "colab_type": "code",
        "outputId": "5c1fe9fe-eeeb-4f35-aaec-213f36363e70",
        "colab": {
          "base_uri": "https://localhost:8080/",
          "height": 35
        }
      },
      "cell_type": "code",
      "source": [
        "df = df.drop('invited', axis=1).drop('timestamp', axis=1).drop('not_interested', axis=1)\n",
        "df.shape"
      ],
      "execution_count": 48,
      "outputs": [
        {
          "output_type": "execute_result",
          "data": {
            "text/plain": [
              "(15398, 3)"
            ]
          },
          "metadata": {
            "tags": []
          },
          "execution_count": 48
        }
      ]
    },
    {
      "metadata": {
        "id": "vZ6kFt89-isJ",
        "colab_type": "code",
        "outputId": "fe440dbe-a5c1-431c-d975-978ce41bd563",
        "colab": {
          "base_uri": "https://localhost:8080/",
          "height": 198
        }
      },
      "cell_type": "code",
      "source": [
        "#index users\n",
        "users = df.user.unique()\n",
        "usersdf = pd.DataFrame(users)\n",
        "usersdf.head()"
      ],
      "execution_count": 49,
      "outputs": [
        {
          "output_type": "execute_result",
          "data": {
            "text/html": [
              "<div>\n",
              "<style scoped>\n",
              "    .dataframe tbody tr th:only-of-type {\n",
              "        vertical-align: middle;\n",
              "    }\n",
              "\n",
              "    .dataframe tbody tr th {\n",
              "        vertical-align: top;\n",
              "    }\n",
              "\n",
              "    .dataframe thead th {\n",
              "        text-align: right;\n",
              "    }\n",
              "</style>\n",
              "<table border=\"1\" class=\"dataframe\">\n",
              "  <thead>\n",
              "    <tr style=\"text-align: right;\">\n",
              "      <th></th>\n",
              "      <th>0</th>\n",
              "    </tr>\n",
              "  </thead>\n",
              "  <tbody>\n",
              "    <tr>\n",
              "      <th>0</th>\n",
              "      <td>3044012</td>\n",
              "    </tr>\n",
              "    <tr>\n",
              "      <th>1</th>\n",
              "      <td>4236494</td>\n",
              "    </tr>\n",
              "    <tr>\n",
              "      <th>2</th>\n",
              "      <td>5574997</td>\n",
              "    </tr>\n",
              "    <tr>\n",
              "      <th>3</th>\n",
              "      <td>7547671</td>\n",
              "    </tr>\n",
              "    <tr>\n",
              "      <th>4</th>\n",
              "      <td>10329108</td>\n",
              "    </tr>\n",
              "  </tbody>\n",
              "</table>\n",
              "</div>"
            ],
            "text/plain": [
              "          0\n",
              "0   3044012\n",
              "1   4236494\n",
              "2   5574997\n",
              "3   7547671\n",
              "4  10329108"
            ]
          },
          "metadata": {
            "tags": []
          },
          "execution_count": 49
        }
      ]
    },
    {
      "metadata": {
        "id": "9FWB7WEh-_fW",
        "colab_type": "code",
        "outputId": "94fe38d7-040d-4ff0-b086-6788aa19a07d",
        "colab": {
          "base_uri": "https://localhost:8080/",
          "height": 198
        }
      },
      "cell_type": "code",
      "source": [
        "usersdf['user_id'] = usersdf.index +1\n",
        "usersdf.columns = [\"user\",\"user_id\"]\n",
        "usersdf.head()\n"
      ],
      "execution_count": 50,
      "outputs": [
        {
          "output_type": "execute_result",
          "data": {
            "text/html": [
              "<div>\n",
              "<style scoped>\n",
              "    .dataframe tbody tr th:only-of-type {\n",
              "        vertical-align: middle;\n",
              "    }\n",
              "\n",
              "    .dataframe tbody tr th {\n",
              "        vertical-align: top;\n",
              "    }\n",
              "\n",
              "    .dataframe thead th {\n",
              "        text-align: right;\n",
              "    }\n",
              "</style>\n",
              "<table border=\"1\" class=\"dataframe\">\n",
              "  <thead>\n",
              "    <tr style=\"text-align: right;\">\n",
              "      <th></th>\n",
              "      <th>user</th>\n",
              "      <th>user_id</th>\n",
              "    </tr>\n",
              "  </thead>\n",
              "  <tbody>\n",
              "    <tr>\n",
              "      <th>0</th>\n",
              "      <td>3044012</td>\n",
              "      <td>1</td>\n",
              "    </tr>\n",
              "    <tr>\n",
              "      <th>1</th>\n",
              "      <td>4236494</td>\n",
              "      <td>2</td>\n",
              "    </tr>\n",
              "    <tr>\n",
              "      <th>2</th>\n",
              "      <td>5574997</td>\n",
              "      <td>3</td>\n",
              "    </tr>\n",
              "    <tr>\n",
              "      <th>3</th>\n",
              "      <td>7547671</td>\n",
              "      <td>4</td>\n",
              "    </tr>\n",
              "    <tr>\n",
              "      <th>4</th>\n",
              "      <td>10329108</td>\n",
              "      <td>5</td>\n",
              "    </tr>\n",
              "  </tbody>\n",
              "</table>\n",
              "</div>"
            ],
            "text/plain": [
              "       user  user_id\n",
              "0   3044012        1\n",
              "1   4236494        2\n",
              "2   5574997        3\n",
              "3   7547671        4\n",
              "4  10329108        5"
            ]
          },
          "metadata": {
            "tags": []
          },
          "execution_count": 50
        }
      ]
    },
    {
      "metadata": {
        "id": "LPq6y8BLCZJ7",
        "colab_type": "code",
        "outputId": "75c85053-569d-4bdc-9460-8efc2aaa7f90",
        "colab": {
          "base_uri": "https://localhost:8080/",
          "height": 198
        }
      },
      "cell_type": "code",
      "source": [
        "#index events\n",
        "events = df.event.unique()\n",
        "eventsdf = pd.DataFrame(events)\n",
        "eventsdf['eventid'] = eventsdf.index +1\n",
        "eventsdf.columns = [\"event\",\"eventid\"]\n",
        "eventsdf.head()"
      ],
      "execution_count": 51,
      "outputs": [
        {
          "output_type": "execute_result",
          "data": {
            "text/html": [
              "<div>\n",
              "<style scoped>\n",
              "    .dataframe tbody tr th:only-of-type {\n",
              "        vertical-align: middle;\n",
              "    }\n",
              "\n",
              "    .dataframe tbody tr th {\n",
              "        vertical-align: top;\n",
              "    }\n",
              "\n",
              "    .dataframe thead th {\n",
              "        text-align: right;\n",
              "    }\n",
              "</style>\n",
              "<table border=\"1\" class=\"dataframe\">\n",
              "  <thead>\n",
              "    <tr style=\"text-align: right;\">\n",
              "      <th></th>\n",
              "      <th>event</th>\n",
              "      <th>eventid</th>\n",
              "    </tr>\n",
              "  </thead>\n",
              "  <tbody>\n",
              "    <tr>\n",
              "      <th>0</th>\n",
              "      <td>1918771225</td>\n",
              "      <td>1</td>\n",
              "    </tr>\n",
              "    <tr>\n",
              "      <th>1</th>\n",
              "      <td>1502284248</td>\n",
              "      <td>2</td>\n",
              "    </tr>\n",
              "    <tr>\n",
              "      <th>2</th>\n",
              "      <td>2529072432</td>\n",
              "      <td>3</td>\n",
              "    </tr>\n",
              "    <tr>\n",
              "      <th>3</th>\n",
              "      <td>3072478280</td>\n",
              "      <td>4</td>\n",
              "    </tr>\n",
              "    <tr>\n",
              "      <th>4</th>\n",
              "      <td>1390707377</td>\n",
              "      <td>5</td>\n",
              "    </tr>\n",
              "  </tbody>\n",
              "</table>\n",
              "</div>"
            ],
            "text/plain": [
              "        event  eventid\n",
              "0  1918771225        1\n",
              "1  1502284248        2\n",
              "2  2529072432        3\n",
              "3  3072478280        4\n",
              "4  1390707377        5"
            ]
          },
          "metadata": {
            "tags": []
          },
          "execution_count": 51
        }
      ]
    },
    {
      "metadata": {
        "id": "ladvQbgMCljl",
        "colab_type": "code",
        "outputId": "936c1d55-3761-48ab-8410-721eb6ee2915",
        "colab": {
          "base_uri": "https://localhost:8080/",
          "height": 198
        }
      },
      "cell_type": "code",
      "source": [
        "df = pd.merge(df, usersdf, on='user')\n",
        "df = pd.merge(df, eventsdf, on='event')\n",
        "df.head()"
      ],
      "execution_count": 52,
      "outputs": [
        {
          "output_type": "execute_result",
          "data": {
            "text/html": [
              "<div>\n",
              "<style scoped>\n",
              "    .dataframe tbody tr th:only-of-type {\n",
              "        vertical-align: middle;\n",
              "    }\n",
              "\n",
              "    .dataframe tbody tr th {\n",
              "        vertical-align: top;\n",
              "    }\n",
              "\n",
              "    .dataframe thead th {\n",
              "        text-align: right;\n",
              "    }\n",
              "</style>\n",
              "<table border=\"1\" class=\"dataframe\">\n",
              "  <thead>\n",
              "    <tr style=\"text-align: right;\">\n",
              "      <th></th>\n",
              "      <th>user</th>\n",
              "      <th>event</th>\n",
              "      <th>interested</th>\n",
              "      <th>user_id</th>\n",
              "      <th>eventid</th>\n",
              "    </tr>\n",
              "  </thead>\n",
              "  <tbody>\n",
              "    <tr>\n",
              "      <th>0</th>\n",
              "      <td>3044012</td>\n",
              "      <td>1918771225</td>\n",
              "      <td>0</td>\n",
              "      <td>1</td>\n",
              "      <td>1</td>\n",
              "    </tr>\n",
              "    <tr>\n",
              "      <th>1</th>\n",
              "      <td>1906220044</td>\n",
              "      <td>1918771225</td>\n",
              "      <td>0</td>\n",
              "      <td>884</td>\n",
              "      <td>1</td>\n",
              "    </tr>\n",
              "    <tr>\n",
              "      <th>2</th>\n",
              "      <td>3044012</td>\n",
              "      <td>1502284248</td>\n",
              "      <td>0</td>\n",
              "      <td>1</td>\n",
              "      <td>2</td>\n",
              "    </tr>\n",
              "    <tr>\n",
              "      <th>3</th>\n",
              "      <td>1302145719</td>\n",
              "      <td>1502284248</td>\n",
              "      <td>0</td>\n",
              "      <td>633</td>\n",
              "      <td>2</td>\n",
              "    </tr>\n",
              "    <tr>\n",
              "      <th>4</th>\n",
              "      <td>3194014105</td>\n",
              "      <td>1502284248</td>\n",
              "      <td>0</td>\n",
              "      <td>1500</td>\n",
              "      <td>2</td>\n",
              "    </tr>\n",
              "  </tbody>\n",
              "</table>\n",
              "</div>"
            ],
            "text/plain": [
              "         user       event  interested  user_id  eventid\n",
              "0     3044012  1918771225           0        1        1\n",
              "1  1906220044  1918771225           0      884        1\n",
              "2     3044012  1502284248           0        1        2\n",
              "3  1302145719  1502284248           0      633        2\n",
              "4  3194014105  1502284248           0     1500        2"
            ]
          },
          "metadata": {
            "tags": []
          },
          "execution_count": 52
        }
      ]
    },
    {
      "metadata": {
        "id": "e5-C5NocDQL1",
        "colab_type": "code",
        "outputId": "b7ccaa13-e3dd-4903-ddfa-882705493d0b",
        "colab": {
          "base_uri": "https://localhost:8080/",
          "height": 198
        }
      },
      "cell_type": "code",
      "source": [
        "df = df.drop(\"user\", axis=1).drop(\"event\", axis=1)\n",
        "df.head()"
      ],
      "execution_count": 53,
      "outputs": [
        {
          "output_type": "execute_result",
          "data": {
            "text/html": [
              "<div>\n",
              "<style scoped>\n",
              "    .dataframe tbody tr th:only-of-type {\n",
              "        vertical-align: middle;\n",
              "    }\n",
              "\n",
              "    .dataframe tbody tr th {\n",
              "        vertical-align: top;\n",
              "    }\n",
              "\n",
              "    .dataframe thead th {\n",
              "        text-align: right;\n",
              "    }\n",
              "</style>\n",
              "<table border=\"1\" class=\"dataframe\">\n",
              "  <thead>\n",
              "    <tr style=\"text-align: right;\">\n",
              "      <th></th>\n",
              "      <th>interested</th>\n",
              "      <th>user_id</th>\n",
              "      <th>eventid</th>\n",
              "    </tr>\n",
              "  </thead>\n",
              "  <tbody>\n",
              "    <tr>\n",
              "      <th>0</th>\n",
              "      <td>0</td>\n",
              "      <td>1</td>\n",
              "      <td>1</td>\n",
              "    </tr>\n",
              "    <tr>\n",
              "      <th>1</th>\n",
              "      <td>0</td>\n",
              "      <td>884</td>\n",
              "      <td>1</td>\n",
              "    </tr>\n",
              "    <tr>\n",
              "      <th>2</th>\n",
              "      <td>0</td>\n",
              "      <td>1</td>\n",
              "      <td>2</td>\n",
              "    </tr>\n",
              "    <tr>\n",
              "      <th>3</th>\n",
              "      <td>0</td>\n",
              "      <td>633</td>\n",
              "      <td>2</td>\n",
              "    </tr>\n",
              "    <tr>\n",
              "      <th>4</th>\n",
              "      <td>0</td>\n",
              "      <td>1500</td>\n",
              "      <td>2</td>\n",
              "    </tr>\n",
              "  </tbody>\n",
              "</table>\n",
              "</div>"
            ],
            "text/plain": [
              "   interested  user_id  eventid\n",
              "0           0        1        1\n",
              "1           0      884        1\n",
              "2           0        1        2\n",
              "3           0      633        2\n",
              "4           0     1500        2"
            ]
          },
          "metadata": {
            "tags": []
          },
          "execution_count": 53
        }
      ]
    },
    {
      "metadata": {
        "id": "RkWCxSL4DnFk",
        "colab_type": "code",
        "outputId": "333792d4-27c2-4519-d542-d91f9eba0ef1",
        "colab": {
          "base_uri": "https://localhost:8080/",
          "height": 198
        }
      },
      "cell_type": "code",
      "source": [
        "df = df[['user_id', 'eventid', 'interested']]\n",
        "df.head()"
      ],
      "execution_count": 54,
      "outputs": [
        {
          "output_type": "execute_result",
          "data": {
            "text/html": [
              "<div>\n",
              "<style scoped>\n",
              "    .dataframe tbody tr th:only-of-type {\n",
              "        vertical-align: middle;\n",
              "    }\n",
              "\n",
              "    .dataframe tbody tr th {\n",
              "        vertical-align: top;\n",
              "    }\n",
              "\n",
              "    .dataframe thead th {\n",
              "        text-align: right;\n",
              "    }\n",
              "</style>\n",
              "<table border=\"1\" class=\"dataframe\">\n",
              "  <thead>\n",
              "    <tr style=\"text-align: right;\">\n",
              "      <th></th>\n",
              "      <th>user_id</th>\n",
              "      <th>eventid</th>\n",
              "      <th>interested</th>\n",
              "    </tr>\n",
              "  </thead>\n",
              "  <tbody>\n",
              "    <tr>\n",
              "      <th>0</th>\n",
              "      <td>1</td>\n",
              "      <td>1</td>\n",
              "      <td>0</td>\n",
              "    </tr>\n",
              "    <tr>\n",
              "      <th>1</th>\n",
              "      <td>884</td>\n",
              "      <td>1</td>\n",
              "      <td>0</td>\n",
              "    </tr>\n",
              "    <tr>\n",
              "      <th>2</th>\n",
              "      <td>1</td>\n",
              "      <td>2</td>\n",
              "      <td>0</td>\n",
              "    </tr>\n",
              "    <tr>\n",
              "      <th>3</th>\n",
              "      <td>633</td>\n",
              "      <td>2</td>\n",
              "      <td>0</td>\n",
              "    </tr>\n",
              "    <tr>\n",
              "      <th>4</th>\n",
              "      <td>1500</td>\n",
              "      <td>2</td>\n",
              "      <td>0</td>\n",
              "    </tr>\n",
              "  </tbody>\n",
              "</table>\n",
              "</div>"
            ],
            "text/plain": [
              "   user_id  eventid  interested\n",
              "0        1        1           0\n",
              "1      884        1           0\n",
              "2        1        2           0\n",
              "3      633        2           0\n",
              "4     1500        2           0"
            ]
          },
          "metadata": {
            "tags": []
          },
          "execution_count": 54
        }
      ]
    },
    {
      "metadata": {
        "id": "aqkFeDcUPu_R",
        "colab_type": "code",
        "outputId": "be4d28eb-899f-42d7-cc3a-77b02a8ba51d",
        "colab": {
          "base_uri": "https://localhost:8080/",
          "height": 35
        }
      },
      "cell_type": "code",
      "source": [
        "df.shape"
      ],
      "execution_count": 55,
      "outputs": [
        {
          "output_type": "execute_result",
          "data": {
            "text/plain": [
              "(15398, 3)"
            ]
          },
          "metadata": {
            "tags": []
          },
          "execution_count": 55
        }
      ]
    },
    {
      "metadata": {
        "id": "EKKdeQJ9vbwb",
        "colab_type": "text"
      },
      "cell_type": "markdown",
      "source": [
        "# Model"
      ]
    },
    {
      "metadata": {
        "id": "zKzxb_Tg-gbn",
        "colab_type": "code",
        "colab": {}
      },
      "cell_type": "code",
      "source": [
        "import math\n",
        "\n",
        "\n",
        "# efficient version\n",
        "def precision_recall_ndcg_at_k(k, rankedlist, test_matrix):\n",
        "    idcg_k = 0\n",
        "    dcg_k = 0\n",
        "    n_k = k if len(test_matrix) > k else len(test_matrix)\n",
        "    for i in range(n_k):\n",
        "        idcg_k += 1 / math.log(i + 2, 2)\n",
        "\n",
        "    b1 = rankedlist\n",
        "    b2 = test_matrix\n",
        "    s2 = set(b2)\n",
        "    hits = [(idx, val) for idx, val in enumerate(b1) if val in s2]\n",
        "    count = len(hits)\n",
        "\n",
        "    for c in range(count):\n",
        "        dcg_k += 1 / math.log(hits[c][0] + 2, 2)\n",
        "\n",
        "    return float(count / k), float(count / len(test_matrix)), float(dcg_k / idcg_k)\n",
        "\n",
        "\n",
        "def map_mrr_ndcg(rankedlist, test_matrix):\n",
        "    ap = 0\n",
        "    map = 0\n",
        "    dcg = 0\n",
        "    idcg = 0\n",
        "    mrr = 0\n",
        "    for i in range(len(test_matrix)):\n",
        "        idcg += 1 / math.log(i + 2, 2)\n",
        "\n",
        "    b1 = rankedlist\n",
        "    b2 = test_matrix\n",
        "    s2 = set(b2)\n",
        "    hits = [(idx, val) for idx, val in enumerate(b1) if val in s2]\n",
        "    count = len(hits)\n",
        "\n",
        "    for c in range(count):\n",
        "        ap += (c + 1) / (hits[c][0] + 1)\n",
        "        dcg += 1 / math.log(hits[c][0] + 2, 2)\n",
        "\n",
        "    if count != 0:\n",
        "        mrr = 1 / (hits[0][0] + 1)\n",
        "\n",
        "    if count != 0:\n",
        "        map = ap / count\n",
        "\n",
        "    return map, mrr, float(dcg / idcg)\n",
        "\n",
        "\n",
        "def evaluate(self):\n",
        "    pred_ratings_10 = {}\n",
        "    pred_ratings_5 = {}\n",
        "    pred_ratings = {}\n",
        "    ranked_list = {}\n",
        "    p_at_5 = []\n",
        "    p_at_10 = []\n",
        "    r_at_5 = []\n",
        "    r_at_10 = []\n",
        "    map = []\n",
        "    mrr = []\n",
        "    ndcg = []\n",
        "    ndcg_at_5 = []\n",
        "    ndcg_at_10 = []\n",
        "    for u in self.test_users:\n",
        "        user_ids = []\n",
        "        user_neg_items = self.neg_items[u]\n",
        "        item_ids = []\n",
        "        # scores = []\n",
        "        for j in user_neg_items:\n",
        "            item_ids.append(j)\n",
        "            user_ids.append(u)\n",
        "\n",
        "        scores = self.predict(user_ids, item_ids)\n",
        "        # print(type(scores))\n",
        "        # print(scores)\n",
        "        # print(np.shape(scores))\n",
        "        # print(ratings)\n",
        "        neg_item_index = list(zip(item_ids, scores))\n",
        "\n",
        "        ranked_list[u] = sorted(neg_item_index, key=lambda tup: tup[1], reverse=True)\n",
        "        pred_ratings[u] = [r[0] for r in ranked_list[u]]\n",
        "        pred_ratings_5[u] = pred_ratings[u][:5]\n",
        "        pred_ratings_10[u] = pred_ratings[u][:10]\n",
        "\n",
        "        p_5, r_5, ndcg_5 = precision_recall_ndcg_at_k(5, pred_ratings_5[u], self.test_data[u])\n",
        "        p_at_5.append(p_5)\n",
        "        r_at_5.append(r_5)\n",
        "        ndcg_at_5.append(ndcg_5)\n",
        "        p_10, r_10, ndcg_10 = precision_recall_ndcg_at_k(10, pred_ratings_10[u], self.test_data[u])\n",
        "        p_at_10.append(p_10)\n",
        "        r_at_10.append(r_10)\n",
        "        ndcg_at_10.append(ndcg_10)\n",
        "        map_u, mrr_u, ndcg_u = map_mrr_ndcg(pred_ratings[u], self.test_data[u])\n",
        "        map.append(map_u)\n",
        "        mrr.append(mrr_u)\n",
        "        ndcg.append(ndcg_u)\n",
        "    print(\"-----------------------------------------------------\")\n",
        "    print(\"precision@5: \" + str(np.mean(p_at_5)))\n",
        "    print(\"recall@5: \" + str(np.mean(r_at_5)))\n",
        "    return np.mean(p_at_5), np.mean(r_at_5)"
      ],
      "execution_count": 0,
      "outputs": []
    },
    {
      "metadata": {
        "colab_type": "code",
        "id": "3H7Q3vDWyaav",
        "colab": {}
      },
      "cell_type": "code",
      "source": [
        "class GMF():\n",
        "    def __init__(self, sess, num_user, num_item, learning_rate=0.5, reg_rate=0.01, epoch=25, batch_size=256,\n",
        "                 verbose=False, T=1, display_step=1):\n",
        "        self.learning_rate = learning_rate\n",
        "        self.epochs = epoch\n",
        "        self.batch_size = batch_size\n",
        "        self.reg_rate = reg_rate\n",
        "        self.sess = sess\n",
        "        self.num_user = num_user\n",
        "        self.num_item = num_item\n",
        "        self.verbose = verbose\n",
        "        self.T = T\n",
        "        self.display_step = display_step\n",
        "        print(\"NeuMF.\")\n",
        "\n",
        "    def build_network(self, num_factor=10, num_neg_sample=20):\n",
        "        self.num_neg_sample = num_neg_sample\n",
        "        self.user_id = tf.placeholder(dtype=tf.int32, shape=[None], name='user_id')\n",
        "        self.item_id = tf.placeholder(dtype=tf.int32, shape=[None], name='item_id')\n",
        "        self.y = tf.placeholder(dtype=tf.float32, shape=[None], name='y')\n",
        "\n",
        "        self.P = tf.Variable(tf.random_normal([self.num_user, num_factor]), dtype=tf.float32)\n",
        "        self.Q = tf.Variable(tf.random_normal([self.num_item, num_factor]), dtype=tf.float32)\n",
        "\n",
        "        user_latent_factor = tf.nn.embedding_lookup(self.P, self.user_id)\n",
        "        item_latent_factor = tf.nn.embedding_lookup(self.Q, self.item_id)\n",
        "        GMF = tf.multiply(user_latent_factor, item_latent_factor)\n",
        "\n",
        "        self.pred_y = tf.nn.sigmoid(tf.reduce_sum(GMF, axis=1))\n",
        "\n",
        "        self.loss = - tf.reduce_sum(\n",
        "            self.y * tf.log(self.pred_y + 1e-10) + (1 - self.y) * tf.log(1 - self.pred_y + 1e-10)) \\\n",
        "                    + self.reg_rate * (tf.nn.l2_loss(self.P) + tf.nn.l2_loss(self.Q))\n",
        "\n",
        "        self.optimizer = tf.train.AdagradOptimizer(self.learning_rate).minimize(self.loss)\n",
        "\n",
        "        return self\n",
        "\n",
        "    def prepare_data(self, train_data, test_data):\n",
        "        '''\n",
        "        You must prepare the data before train and test the model\n",
        "        :param train_data:\n",
        "        :param test_data:\n",
        "        :return:\n",
        "        '''\n",
        "        t = train_data.tocoo()\n",
        "        self.user = list(t.row.reshape(-1))\n",
        "        self.item = list(t.col.reshape(-1))\n",
        "        self.label = list(t.data)\n",
        "        self.test_data = test_data\n",
        "\n",
        "        self.neg_items = self._get_neg_items(train_data.tocsr())\n",
        "        self.test_users = set([u for u in self.test_data.keys() if len(self.test_data[u]) > 0])\n",
        "\n",
        "        print(\"data preparation finished.\")\n",
        "        return self\n",
        "\n",
        "    def train(self):\n",
        "\n",
        "        item_temp = self.item[:]\n",
        "        user_temp = self.user[:]\n",
        "        labels_temp = self.label[:]\n",
        "\n",
        "        user_append = []\n",
        "        item_append = []\n",
        "        values_append = []\n",
        "        for u in self.user:\n",
        "            list_of_random_items = random.sample(self.neg_items[u], self.num_neg_sample)\n",
        "            user_append += [u] * self.num_neg_sample\n",
        "            item_append += list_of_random_items\n",
        "            values_append += [0] * self.num_neg_sample\n",
        "\n",
        "        item_temp += item_append\n",
        "        user_temp += user_append\n",
        "        labels_temp += values_append\n",
        "\n",
        "        self.num_training = len(item_temp)\n",
        "        self.total_batch = int(self.num_training / self.batch_size)\n",
        "        # print(self.total_batch)\n",
        "        idxs = np.random.permutation(self.num_training)  # shuffled ordering\n",
        "        user_random = list(np.array(user_temp)[idxs])\n",
        "        item_random = list(np.array(item_temp)[idxs])\n",
        "        labels_random = list(np.array(labels_temp)[idxs])\n",
        "\n",
        "        # train\n",
        "        for i in range(self.total_batch):\n",
        "            start_time = time.time()\n",
        "            batch_user = user_random[i * self.batch_size:(i + 1) * self.batch_size]\n",
        "            batch_item = item_random[i * self.batch_size:(i + 1) * self.batch_size]\n",
        "            batch_label = labels_random[i * self.batch_size:(i + 1) * self.batch_size]\n",
        "\n",
        "            _, loss = self.sess.run((self.optimizer, self.loss),\n",
        "                                    feed_dict={self.user_id: batch_user, self.item_id: batch_item, self.y: batch_label})\n",
        "\n",
        "            if i % self.display_step == 0:\n",
        "                if self.verbose:\n",
        "                    print(\"Index: %04d; cost= %.9f\" % (i + 1, np.mean(loss)))\n",
        "                    print(\"one iteration: %s seconds.\" % (time.time() - start_time))\n",
        "\n",
        "    def test(self):\n",
        "         precision, recall = evaluate(self)\n",
        "         return precision, recall\n",
        "\n",
        "    def execute(self, train_data, test_data):\n",
        "\n",
        "        self.prepare_data(train_data, test_data)\n",
        "\n",
        "        init = tf.global_variables_initializer()\n",
        "        self.sess.run(init)\n",
        "        precision =[]\n",
        "        recall = []\n",
        "        for epoch in range(self.epochs):\n",
        "            self.train()\n",
        "            if (epoch) % self.T == 0:\n",
        "                print(\"Epoch: %04d; \" % (epoch), end='')\n",
        "                prec, rec = self.test()\n",
        "                precision.append(prec)\n",
        "                recall.append(rec)\n",
        "        return precision, recall\n",
        "\n",
        "    def save(self, path):\n",
        "        saver = tf.train.Saver()\n",
        "        saver.save(self.sess, path)\n",
        "\n",
        "    def predict(self, user_id, item_id):\n",
        "        return self.sess.run([self.pred_y], feed_dict={self.user_id: user_id, self.item_id: item_id})[0]\n",
        "\n",
        "    def _get_neg_items(self, data):\n",
        "        all_items = set(np.arange(self.num_item))\n",
        "        neg_items = {}\n",
        "        for u in range(self.num_user):\n",
        "            neg_items[u] = list(all_items - set(data.getrow(u).nonzero()[1]))\n",
        "\n",
        "        return neg_items"
      ],
      "execution_count": 0,
      "outputs": []
    },
    {
      "metadata": {
        "colab_type": "code",
        "id": "risgt_1vyaFJ",
        "colab": {}
      },
      "cell_type": "code",
      "source": [
        "def load_data_neg(test_size=0.2, sep=\"\\t\"):\n",
        "   \n",
        "    n_users = df.user_id.unique().shape[0]\n",
        "    n_items = df.eventid.unique().shape[0]\n",
        "\n",
        "    train_data, test_data = train_test_split(df, test_size=test_size)\n",
        "    train_data = pd.DataFrame(train_data)\n",
        "    test_data = pd.DataFrame(test_data)\n",
        "\n",
        "    train_row = []\n",
        "    train_col = []\n",
        "    train_rating = []\n",
        "\n",
        "    for line in train_data.itertuples():\n",
        "        u = line[1] - 1\n",
        "        i = line[2] - 1\n",
        "        train_row.append(u)\n",
        "        train_col.append(i)\n",
        "        train_rating.append(line[3])\n",
        "    train_matrix = csr_matrix((train_rating, (train_row, train_col)), shape=(n_users, n_items))\n",
        "\n",
        "    # all_items = set(np.arange(n_items))\n",
        "    # neg_items = {}\n",
        "    # for u in range(n_users):\n",
        "    #     neg_items[u] = list(all_items - set(train_matrix.getrow(u).nonzero()[1]))\n",
        "\n",
        "    test_row = []\n",
        "    test_col = []\n",
        "    test_rating = []\n",
        "    for line in test_data.itertuples():\n",
        "        test_row.append(line[1] - 1)\n",
        "        test_col.append(line[2] - 1)\n",
        "        test_rating.append(line[3])\n",
        "    test_matrix = csr_matrix((test_rating, (test_row, test_col)), shape=(n_users, n_items))\n",
        "\n",
        "    test_dict = {}\n",
        "    for u in range(n_users):\n",
        "        test_dict[u] = test_matrix.getrow(u).nonzero()[1]\n",
        "\n",
        "    print(\"Load data finished. Number of users:\", n_users, \"Number of items:\", n_items)\n",
        "    return train_matrix.todok(), test_dict, n_users, n_items\n",
        "\n",
        "\n",
        "\n"
      ],
      "execution_count": 0,
      "outputs": []
    },
    {
      "metadata": {
        "id": "OYK6iYelckmB",
        "colab_type": "text"
      },
      "cell_type": "markdown",
      "source": [
        "#Evaluate"
      ]
    },
    {
      "metadata": {
        "colab_type": "code",
        "id": "fVwZSkUt-hll",
        "outputId": "e86b1ef8-4df8-4229-bcb7-025b8f54c96a",
        "colab": {
          "base_uri": "https://localhost:8080/",
          "height": 1454
        }
      },
      "cell_type": "code",
      "source": [
        "import matplotlib.pyplot as plt\n",
        "\n",
        "model ='GMF'\n",
        "epochs = 25\n",
        "num_factors = 10\n",
        "display_step = 10\n",
        "batch_size = 100  # 128 for unlimpair\n",
        "learning_rate = 1e-3  # 1e-4 for unlimpair\n",
        "reg_rate = 0.1  # 0.01 for unlimpair\n",
        "train_data, test_data, n_user, n_item = load_data_neg(test_size=0.2, sep=\"\\t\")\n",
        "\n",
        "config = tf.ConfigProto()\n",
        "config.gpu_options.allow_growth = True\n",
        "\n",
        "with tf.Session(config=config) as sess:\n",
        "    model = GMF(sess, n_user, n_item)\n",
        "    model.build_network()\n",
        "    precision, recall=model.execute(train_data, test_data)\n",
        "    \n",
        "print('Done!!')\n",
        "    \n",
        "    \n"
      ],
      "execution_count": 68,
      "outputs": [
        {
          "output_type": "stream",
          "text": [
            "Load data finished. Number of users: 2034 Number of items: 8846\n",
            "NeuMF.\n",
            "data preparation finished.\n",
            "Epoch: 0000; -----------------------------------------------------\n",
            "precision@5: 0.007598784194528876\n",
            "recall@5: 0.03242147922998987\n",
            "Epoch: 0001; -----------------------------------------------------\n",
            "precision@5: 0.007598784194528876\n",
            "recall@5: 0.034954407294832825\n",
            "Epoch: 0002; -----------------------------------------------------\n",
            "precision@5: 0.016717325227963525\n",
            "recall@5: 0.0707193515704154\n",
            "Epoch: 0003; -----------------------------------------------------\n",
            "precision@5: 0.01762917933130699\n",
            "recall@5: 0.0733789260385005\n",
            "Epoch: 0004; -----------------------------------------------------\n",
            "precision@5: 0.013677811550151978\n",
            "recall@5: 0.05965045592705167\n",
            "Epoch: 0005; -----------------------------------------------------\n",
            "precision@5: 0.015197568389057751\n",
            "recall@5: 0.06426038500506585\n",
            "Epoch: 0006; -----------------------------------------------------\n",
            "precision@5: 0.02218844984802432\n",
            "recall@5: 0.09040020263424518\n",
            "Epoch: 0007; -----------------------------------------------------\n",
            "precision@5: 0.017933130699088147\n",
            "recall@5: 0.07451874366767984\n",
            "Epoch: 0008; -----------------------------------------------------\n",
            "precision@5: 0.010030395136778116\n",
            "recall@5: 0.04609929078014184\n",
            "Epoch: 0009; -----------------------------------------------------\n",
            "precision@5: 0.018237082066869303\n",
            "recall@5: 0.07515197568389058\n",
            "Epoch: 0010; -----------------------------------------------------\n",
            "precision@5: 0.01702127659574468\n",
            "recall@5: 0.07033941236068895\n",
            "Epoch: 0011; -----------------------------------------------------\n",
            "precision@5: 0.02066869300911854\n",
            "recall@5: 0.08806990881458968\n",
            "Epoch: 0012; -----------------------------------------------------\n",
            "precision@5: 0.0182370820668693\n",
            "recall@5: 0.07603850050658562\n",
            "Epoch: 0013; -----------------------------------------------------\n",
            "precision@5: 0.023100303951367782\n",
            "recall@5: 0.09343971631205673\n",
            "Epoch: 0014; -----------------------------------------------------\n",
            "precision@5: 0.019148936170212766\n",
            "recall@5: 0.08059777102330294\n",
            "Epoch: 0015; -----------------------------------------------------\n",
            "precision@5: 0.019148936170212766\n",
            "recall@5: 0.08059777102330294\n",
            "Epoch: 0016; -----------------------------------------------------\n",
            "precision@5: 0.01702127659574468\n",
            "recall@5: 0.07033941236068895\n",
            "Epoch: 0017; -----------------------------------------------------\n",
            "precision@5: 0.01641337386018237\n",
            "recall@5: 0.0672998986828774\n",
            "Epoch: 0018; -----------------------------------------------------\n",
            "precision@5: 0.017933130699088147\n",
            "recall@5: 0.07413880445795339\n",
            "Epoch: 0019; -----------------------------------------------------\n",
            "precision@5: 0.016717325227963525\n",
            "recall@5: 0.07033941236068895\n",
            "Epoch: 0020; -----------------------------------------------------\n",
            "precision@5: 0.017933130699088147\n",
            "recall@5: 0.07413880445795339\n",
            "Epoch: 0021; -----------------------------------------------------\n",
            "precision@5: 0.017933130699088147\n",
            "recall@5: 0.07413880445795339\n",
            "Epoch: 0022; -----------------------------------------------------\n",
            "precision@5: 0.02401215805471125\n",
            "recall@5: 0.09723910840932116\n",
            "Epoch: 0023; -----------------------------------------------------\n",
            "precision@5: 0.019452887537993922\n",
            "recall@5: 0.08059777102330294\n",
            "Epoch: 0024; -----------------------------------------------------\n",
            "precision@5: 0.022796352583586626\n",
            "recall@5: 0.09275582573454913\n",
            "Done!!\n"
          ],
          "name": "stdout"
        }
      ]
    },
    {
      "metadata": {
        "colab_type": "text",
        "id": "QHV8ydQ0XYvp"
      },
      "cell_type": "markdown",
      "source": [
        "**Precision**"
      ]
    },
    {
      "metadata": {
        "colab_type": "code",
        "id": "HV7ijM8-XZ9y",
        "outputId": "345a054f-a010-4886-d644-4eef8112f46d",
        "colab": {
          "base_uri": "https://localhost:8080/",
          "height": 361
        }
      },
      "cell_type": "code",
      "source": [
        "plt.plot(precision)\n",
        "plt.ylabel('Precision')\n",
        "plt.xlabel('Epoch')\n",
        "plt.show()"
      ],
      "execution_count": 69,
      "outputs": [
        {
          "output_type": "display_data",
          "data": {
            "image/png": "[encoded data removed]",
            "text/plain": [
              "<matplotlib.figure.Figure at 0x7f5117463358>"
            ]
          },
          "metadata": {
            "tags": []
          }
        }
      ]
    },
    {
      "metadata": {
        "id": "b1Xy04w6bBNI",
        "colab_type": "text"
      },
      "cell_type": "markdown",
      "source": [
        "**Recall**"
      ]
    },
    {
      "metadata": {
        "id": "Mrq1NeCfbC5l",
        "colab_type": "code",
        "colab": {
          "base_uri": "https://localhost:8080/",
          "height": 364
        },
        "outputId": "ba384f40-6921-43f8-9d30-50a54ef1850a"
      },
      "cell_type": "code",
      "source": [
        "plt.plot(recall)\n",
        "plt.ylabel('Recall')\n",
        "plt.xlabel('Epoch')\n",
        "plt.show()"
      ],
      "execution_count": 70,
      "outputs": [
        {
          "output_type": "display_data",
          "data": {
            "image/png": "[encoded data removed]",
            "text/plain": [
              "<matplotlib.figure.Figure at 0x7f50f56e28d0>"
            ]
          },
          "metadata": {
            "tags": []
          }
        }
      ]
    },
    {
      "metadata": {
        "id": "EMjH6ZqQd2tb",
        "colab_type": "text"
      },
      "cell_type": "markdown",
      "source": [
        "# References"
      ]
    },
    {
      "metadata": {
        "id": "SBikiGUhd8i8",
        "colab_type": "text"
      },
      "cell_type": "markdown",
      "source": [
        "https://www.comp.nus.edu.sg/~xiangnan/papers/ncf.pdf"
      ]
    }
  ]
}